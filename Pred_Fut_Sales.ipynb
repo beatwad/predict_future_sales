{
 "cells": [
  {
   "cell_type": "markdown",
   "metadata": {},
   "source": [
    "# Import libraries"
   ]
  },
  {
   "cell_type": "code",
   "execution_count": 1,
   "metadata": {
    "execution": {
     "iopub.execute_input": "2021-07-14T19:58:28.528143Z",
     "iopub.status.busy": "2021-07-14T19:58:28.527848Z",
     "iopub.status.idle": "2021-07-14T19:58:28.532249Z",
     "shell.execute_reply": "2021-07-14T19:58:28.53151Z",
     "shell.execute_reply.started": "2021-07-14T19:58:28.52812Z"
    }
   },
   "outputs": [],
   "source": [
    "# for Kaggle\n",
    "# !pip install -U lightautoml"
   ]
  },
  {
   "cell_type": "code",
   "execution_count": 1,
   "metadata": {
    "execution": {
     "iopub.execute_input": "2021-07-14T19:58:28.545748Z",
     "iopub.status.busy": "2021-07-14T19:58:28.545248Z",
     "iopub.status.idle": "2021-07-14T19:58:28.634573Z",
     "shell.execute_reply": "2021-07-14T19:58:28.633411Z",
     "shell.execute_reply.started": "2021-07-14T19:58:28.545713Z"
    }
   },
   "outputs": [],
   "source": [
    "# This Python 3 environment comes with many helpful analytics libraries installed\n",
    "# It is defined by the kaggle/python Docker image: https://github.com/kaggle/docker-python\n",
    "# For example, here's several helpful packages to load\n",
    "# edited by Mayur\n",
    "\n",
    "import os\n",
    "import re\n",
    "import gc\n",
    "import scipy\n",
    "import numpy as np\n",
    "import pandas as pd\n",
    "import matplotlib.pyplot as plt\n",
    "import seaborn as sns\n",
    "from fuzzywuzzy import fuzz\n",
    "from tqdm.notebook import tqdm as tqdm_notebook\n",
    "\n",
    "pd.set_option('display.max_rows', 200)\n",
    "pd.set_option('display.max_columns', 200)\n",
    "\n",
    "def reduce_mem_usage(df, silent=True, allow_categorical=True, float_dtype=\"float32\"):\n",
    "    \"\"\" \n",
    "    Iterates through all the columns of a dataframe and downcasts the data type\n",
    "     to reduce memory usage. Can also factorize categorical columns to integer dtype.\n",
    "    \"\"\"\n",
    "    def _downcast_numeric(series, allow_categorical=allow_categorical):\n",
    "        \"\"\"\n",
    "        Downcast a numeric series into either the smallest possible int dtype or a specified float dtype.\n",
    "        \"\"\"\n",
    "        if pd.api.types.is_sparse(series.dtype) is True:\n",
    "            return series\n",
    "        elif pd.api.types.is_numeric_dtype(series.dtype) is False:\n",
    "            if pd.api.types.is_datetime64_any_dtype(series.dtype):\n",
    "                return series\n",
    "            else:\n",
    "                if allow_categorical:\n",
    "                    return series\n",
    "                else:\n",
    "                    codes, uniques = series.factorize()\n",
    "                    series = pd.Series(data=codes, index=series.index)\n",
    "                    series = _downcast_numeric(series)\n",
    "                    return series\n",
    "        else:\n",
    "            series = pd.to_numeric(series, downcast=\"integer\")\n",
    "        if pd.api.types.is_float_dtype(series.dtype):\n",
    "            series = series.astype(float_dtype)\n",
    "        return series\n",
    "\n",
    "    if silent is False:\n",
    "        start_mem = np.sum(df.memory_usage()) / 1024 ** 2\n",
    "        print(\"Memory usage of dataframe is {:.2f} MB\".format(start_mem))\n",
    "    if df.ndim == 1:\n",
    "        df = _downcast_numeric(df)\n",
    "    else:\n",
    "        for col in df.columns:\n",
    "            df.loc[:, col] = _downcast_numeric(df.loc[:,col])\n",
    "    if silent is False:\n",
    "        end_mem = np.sum(df.memory_usage()) / 1024 ** 2\n",
    "        print(\"Memory usage after optimization is: {:.2f} MB\".format(end_mem))\n",
    "        print(\"Decreased by {:.1f}%\".format(100 * (start_mem - end_mem) / start_mem))\n",
    "\n",
    "    return df"
   ]
  },
  {
   "cell_type": "markdown",
   "metadata": {},
   "source": [
    "# Load necessary files"
   ]
  },
  {
   "cell_type": "code",
   "execution_count": 2,
   "metadata": {
    "execution": {
     "iopub.execute_input": "2021-07-14T19:58:28.635962Z",
     "iopub.status.busy": "2021-07-14T19:58:28.635715Z",
     "iopub.status.idle": "2021-07-14T19:58:32.866468Z",
     "shell.execute_reply": "2021-07-14T19:58:32.86538Z",
     "shell.execute_reply.started": "2021-07-14T19:58:28.635934Z"
    }
   },
   "outputs": [],
   "source": [
    "items = pd.read_csv(\"items.csv.zip\")\n",
    "item_categories = pd.read_csv(\"item_categories.csv\")\n",
    "sales_train = pd.read_csv(\"sales_train.csv.zip\", parse_dates=['date'])\n",
    "shops = pd.read_csv(\"shops.csv\")\n",
    "sales_test = pd.read_csv(\"test.csv.zip\")\n",
    "submission = pd.read_csv(\"sample_submission.csv.zip\")\n",
    "\n",
    "# for Kaggle\n",
    "\n",
    "# PATH = '../input/competitive-data-science-predict-future-sales'\n",
    "\n",
    "# items           = pd.read_csv(os.path.join(PATH,'items.csv'))\n",
    "# item_categories = pd.read_csv(os.path.join(PATH,'item_categories.csv'))\n",
    "# sales_train     = pd.read_csv(os.path.join(PATH,'sales_train.csv'), parse_dates=['date'])\n",
    "# shops           = pd.read_csv(os.path.join(PATH,'shops.csv'))\n",
    "# sales_test      = pd.read_csv(os.path.join(PATH,'test.csv'))\n",
    "# submission      = pd.read_csv(os.path.join(PATH,'sample_submission.csv'))\n",
    "\n",
    "# drop duplicates\n",
    "sales_train.drop_duplicates(inplace=True)\n",
    "\n",
    "# add date_block_num feature to test df, set it value to 34\n",
    "sales_test['date_block_num'] = 34\n",
    "sales_test.drop('ID', axis=1, inplace=True)\n",
    "sales_test.date_block_num = sales_test.date_block_num.astype(np.int8)"
   ]
  },
  {
   "cell_type": "markdown",
   "metadata": {},
   "source": [
    "# Research dataset"
   ]
  },
  {
   "cell_type": "code",
   "execution_count": 3,
   "metadata": {
    "execution": {
     "iopub.execute_input": "2021-07-14T19:58:32.86997Z",
     "iopub.status.busy": "2021-07-14T19:58:32.869503Z",
     "iopub.status.idle": "2021-07-14T19:58:32.889225Z",
     "shell.execute_reply": "2021-07-14T19:58:32.888104Z",
     "shell.execute_reply.started": "2021-07-14T19:58:32.869934Z"
    },
    "scrolled": true
   },
   "outputs": [
    {
     "data": {
      "text/html": [
       "<div>\n",
       "<style scoped>\n",
       "    .dataframe tbody tr th:only-of-type {\n",
       "        vertical-align: middle;\n",
       "    }\n",
       "\n",
       "    .dataframe tbody tr th {\n",
       "        vertical-align: top;\n",
       "    }\n",
       "\n",
       "    .dataframe thead th {\n",
       "        text-align: right;\n",
       "    }\n",
       "</style>\n",
       "<table border=\"1\" class=\"dataframe\">\n",
       "  <thead>\n",
       "    <tr style=\"text-align: right;\">\n",
       "      <th></th>\n",
       "      <th>date</th>\n",
       "      <th>date_block_num</th>\n",
       "      <th>shop_id</th>\n",
       "      <th>item_id</th>\n",
       "      <th>item_price</th>\n",
       "      <th>item_cnt_day</th>\n",
       "    </tr>\n",
       "  </thead>\n",
       "  <tbody>\n",
       "    <tr>\n",
       "      <th>0</th>\n",
       "      <td>2013-02-01</td>\n",
       "      <td>0</td>\n",
       "      <td>59</td>\n",
       "      <td>22154</td>\n",
       "      <td>999.00</td>\n",
       "      <td>1.0</td>\n",
       "    </tr>\n",
       "    <tr>\n",
       "      <th>1</th>\n",
       "      <td>2013-03-01</td>\n",
       "      <td>0</td>\n",
       "      <td>25</td>\n",
       "      <td>2552</td>\n",
       "      <td>899.00</td>\n",
       "      <td>1.0</td>\n",
       "    </tr>\n",
       "    <tr>\n",
       "      <th>2</th>\n",
       "      <td>2013-05-01</td>\n",
       "      <td>0</td>\n",
       "      <td>25</td>\n",
       "      <td>2552</td>\n",
       "      <td>899.00</td>\n",
       "      <td>-1.0</td>\n",
       "    </tr>\n",
       "    <tr>\n",
       "      <th>3</th>\n",
       "      <td>2013-06-01</td>\n",
       "      <td>0</td>\n",
       "      <td>25</td>\n",
       "      <td>2554</td>\n",
       "      <td>1709.05</td>\n",
       "      <td>1.0</td>\n",
       "    </tr>\n",
       "    <tr>\n",
       "      <th>4</th>\n",
       "      <td>2013-01-15</td>\n",
       "      <td>0</td>\n",
       "      <td>25</td>\n",
       "      <td>2555</td>\n",
       "      <td>1099.00</td>\n",
       "      <td>1.0</td>\n",
       "    </tr>\n",
       "  </tbody>\n",
       "</table>\n",
       "</div>"
      ],
      "text/plain": [
       "        date  date_block_num  shop_id  item_id  item_price  item_cnt_day\n",
       "0 2013-02-01               0       59    22154      999.00           1.0\n",
       "1 2013-03-01               0       25     2552      899.00           1.0\n",
       "2 2013-05-01               0       25     2552      899.00          -1.0\n",
       "3 2013-06-01               0       25     2554     1709.05           1.0\n",
       "4 2013-01-15               0       25     2555     1099.00           1.0"
      ]
     },
     "execution_count": 3,
     "metadata": {},
     "output_type": "execute_result"
    }
   ],
   "source": [
    "sales_train.head()"
   ]
  },
  {
   "cell_type": "markdown",
   "metadata": {},
   "source": [
    "Does train dataset contains zeros?"
   ]
  },
  {
   "cell_type": "code",
   "execution_count": 4,
   "metadata": {
    "execution": {
     "iopub.execute_input": "2021-07-14T19:58:32.890931Z",
     "iopub.status.busy": "2021-07-14T19:58:32.890688Z",
     "iopub.status.idle": "2021-07-14T19:58:32.9172Z",
     "shell.execute_reply": "2021-07-14T19:58:32.916023Z",
     "shell.execute_reply.started": "2021-07-14T19:58:32.890907Z"
    },
    "scrolled": true
   },
   "outputs": [
    {
     "data": {
      "text/plain": [
       "date              0\n",
       "date_block_num    0\n",
       "shop_id           0\n",
       "item_id           0\n",
       "item_price        0\n",
       "item_cnt_day      0\n",
       "dtype: int64"
      ]
     },
     "execution_count": 4,
     "metadata": {},
     "output_type": "execute_result"
    }
   ],
   "source": [
    "sales_train.isnull().sum()"
   ]
  },
  {
   "cell_type": "markdown",
   "metadata": {},
   "source": [
    "Research features\n",
    "\n",
    "### item_cnt_day"
   ]
  },
  {
   "cell_type": "code",
   "execution_count": 5,
   "metadata": {},
   "outputs": [
    {
     "data": {
      "text/plain": [
       "<AxesSubplot:xlabel='item_cnt_day'>"
      ]
     },
     "execution_count": 5,
     "metadata": {},
     "output_type": "execute_result"
    },
    {
     "data": {
      "image/png": "[encoded data removed]",
      "text/plain": [
       "<Figure size 432x288 with 1 Axes>"
      ]
     },
     "metadata": {
      "needs_background": "light"
     },
     "output_type": "display_data"
    }
   ],
   "source": [
    "sns.boxplot(x='item_cnt_day', data=sales_train)"
   ]
  },
  {
   "cell_type": "code",
   "execution_count": 6,
   "metadata": {
    "execution": {
     "iopub.execute_input": "2021-07-14T19:58:32.918675Z",
     "iopub.status.busy": "2021-07-14T19:58:32.91842Z",
     "iopub.status.idle": "2021-07-14T19:58:33.636037Z",
     "shell.execute_reply": "2021-07-14T19:58:33.634872Z",
     "shell.execute_reply.started": "2021-07-14T19:58:32.918653Z"
    }
   },
   "outputs": [
    {
     "data": {
      "text/plain": [
       "(array([2.934458e+06, 1.204000e+03, 1.110000e+02, 3.100000e+01,\n",
       "        1.100000e+01, 5.000000e+00, 4.000000e+00, 4.000000e+00,\n",
       "        0.000000e+00, 8.000000e+00, 2.000000e+00, 1.000000e+00,\n",
       "        2.000000e+00, 0.000000e+00, 0.000000e+00, 0.000000e+00,\n",
       "        0.000000e+00, 0.000000e+00, 1.000000e+00, 0.000000e+00,\n",
       "        0.000000e+00, 0.000000e+00, 0.000000e+00, 0.000000e+00,\n",
       "        0.000000e+00, 0.000000e+00, 0.000000e+00, 0.000000e+00,\n",
       "        0.000000e+00, 0.000000e+00, 0.000000e+00, 0.000000e+00,\n",
       "        0.000000e+00, 0.000000e+00, 0.000000e+00, 0.000000e+00,\n",
       "        0.000000e+00, 0.000000e+00, 0.000000e+00, 1.000000e+00]),\n",
       " array([ -22.   ,   32.775,   87.55 ,  142.325,  197.1  ,  251.875,\n",
       "         306.65 ,  361.425,  416.2  ,  470.975,  525.75 ,  580.525,\n",
       "         635.3  ,  690.075,  744.85 ,  799.625,  854.4  ,  909.175,\n",
       "         963.95 , 1018.725, 1073.5  , 1128.275, 1183.05 , 1237.825,\n",
       "        1292.6  , 1347.375, 1402.15 , 1456.925, 1511.7  , 1566.475,\n",
       "        1621.25 , 1676.025, 1730.8  , 1785.575, 1840.35 , 1895.125,\n",
       "        1949.9  , 2004.675, 2059.45 , 2114.225, 2169.   ]),\n",
       " <BarContainer object of 40 artists>)"
      ]
     },
     "execution_count": 6,
     "metadata": {},
     "output_type": "execute_result"
    },
    {
     "data": {
      "image/png": "[encoded data removed]",
      "text/plain": [
       "<Figure size 864x432 with 1 Axes>"
      ]
     },
     "metadata": {
      "needs_background": "light"
     },
     "output_type": "display_data"
    }
   ],
   "source": [
    "plt.figure(figsize=(12,6))\n",
    "plt.xlabel('Number of sold items for a day')\n",
    "plt.ylabel('Number of occurencies in dataset')\n",
    "plt.yscale('log')\n",
    "plt.hist(sales_train.item_cnt_day, bins=40)"
   ]
  },
  {
   "cell_type": "code",
   "execution_count": 7,
   "metadata": {
    "execution": {
     "iopub.execute_input": "2021-07-14T19:58:33.637403Z",
     "iopub.status.busy": "2021-07-14T19:58:33.637204Z",
     "iopub.status.idle": "2021-07-14T19:58:33.715219Z",
     "shell.execute_reply": "2021-07-14T19:58:33.714074Z",
     "shell.execute_reply.started": "2021-07-14T19:58:33.63738Z"
    },
    "scrolled": true
   },
   "outputs": [
    {
     "data": {
      "text/plain": [
       "count    2.935843e+06\n",
       "mean     1.242641e+00\n",
       "std      2.618837e+00\n",
       "min     -2.200000e+01\n",
       "25%      1.000000e+00\n",
       "50%      1.000000e+00\n",
       "75%      1.000000e+00\n",
       "max      2.169000e+03\n",
       "Name: item_cnt_day, dtype: float64"
      ]
     },
     "execution_count": 7,
     "metadata": {},
     "output_type": "execute_result"
    }
   ],
   "source": [
    "sales_train.item_cnt_day.describe()"
   ]
  },
  {
   "cell_type": "markdown",
   "metadata": {},
   "source": [
    "Group number of sold items by date_block and plot."
   ]
  },
  {
   "cell_type": "code",
   "execution_count": 8,
   "metadata": {
    "execution": {
     "iopub.execute_input": "2021-07-14T19:58:33.717278Z",
     "iopub.status.busy": "2021-07-14T19:58:33.717017Z",
     "iopub.status.idle": "2021-07-14T19:58:33.909008Z",
     "shell.execute_reply": "2021-07-14T19:58:33.908138Z",
     "shell.execute_reply.started": "2021-07-14T19:58:33.717252Z"
    }
   },
   "outputs": [
    {
     "data": {
      "text/plain": [
       "[<matplotlib.lines.Line2D at 0x7f1a75ac7e20>]"
      ]
     },
     "execution_count": 8,
     "metadata": {},
     "output_type": "execute_result"
    },
    {
     "data": {
      "image/png": "[encoded data removed]",
      "text/plain": [
       "<Figure size 864x432 with 1 Axes>"
      ]
     },
     "metadata": {
      "needs_background": "light"
     },
     "output_type": "display_data"
    }
   ],
   "source": [
    "plt.figure(figsize=(12,6))\n",
    "plt.xlabel('date_block_num (month)')\n",
    "plt.ylabel('Total number of sold items for a month')\n",
    "plt.plot(sales_train.groupby(['date_block_num']).agg({'item_cnt_day': 'sum'}).reset_index()['item_cnt_day'])"
   ]
  },
  {
   "cell_type": "markdown",
   "metadata": {},
   "source": [
    "There is an obvious trend with peaks at New Year holidays.\n",
    "\n",
    "### item_price\n",
    "\n",
    "Distribution of items price and outliers"
   ]
  },
  {
   "cell_type": "code",
   "execution_count": 9,
   "metadata": {
    "execution": {
     "iopub.execute_input": "2021-07-14T19:58:33.911006Z",
     "iopub.status.busy": "2021-07-14T19:58:33.910689Z",
     "iopub.status.idle": "2021-07-14T19:58:34.005525Z",
     "shell.execute_reply": "2021-07-14T19:58:34.004143Z",
     "shell.execute_reply.started": "2021-07-14T19:58:33.910974Z"
    },
    "scrolled": true
   },
   "outputs": [
    {
     "data": {
      "text/plain": [
       "count    2.935843e+06\n",
       "mean     8.908535e+02\n",
       "std      1.729801e+03\n",
       "min     -1.000000e+00\n",
       "25%      2.490000e+02\n",
       "50%      3.990000e+02\n",
       "75%      9.990000e+02\n",
       "max      3.079800e+05\n",
       "Name: item_price, dtype: float64"
      ]
     },
     "execution_count": 9,
     "metadata": {},
     "output_type": "execute_result"
    }
   ],
   "source": [
    "sales_train.item_price.describe()"
   ]
  },
  {
   "cell_type": "code",
   "execution_count": 10,
   "metadata": {
    "execution": {
     "iopub.execute_input": "2021-07-14T19:58:34.007916Z",
     "iopub.status.busy": "2021-07-14T19:58:34.007454Z",
     "iopub.status.idle": "2021-07-14T19:58:34.819776Z",
     "shell.execute_reply": "2021-07-14T19:58:34.818948Z",
     "shell.execute_reply.started": "2021-07-14T19:58:34.007863Z"
    },
    "scrolled": true
   },
   "outputs": [
    {
     "data": {
      "text/plain": [
       "<AxesSubplot:xlabel='item_price'>"
      ]
     },
     "execution_count": 10,
     "metadata": {},
     "output_type": "execute_result"
    },
    {
     "data": {
      "image/png": "[encoded data removed]",
      "text/plain": [
       "<Figure size 432x288 with 1 Axes>"
      ]
     },
     "metadata": {
      "needs_background": "light"
     },
     "output_type": "display_data"
    }
   ],
   "source": [
    "sns.boxplot(x='item_price', data=sales_train)"
   ]
  },
  {
   "cell_type": "markdown",
   "metadata": {},
   "source": [
    "### date_block_num"
   ]
  },
  {
   "cell_type": "code",
   "execution_count": 11,
   "metadata": {
    "execution": {
     "iopub.execute_input": "2021-07-14T19:58:34.823445Z",
     "iopub.status.busy": "2021-07-14T19:58:34.823027Z",
     "iopub.status.idle": "2021-07-14T19:58:34.881171Z",
     "shell.execute_reply": "2021-07-14T19:58:34.879931Z",
     "shell.execute_reply.started": "2021-07-14T19:58:34.82341Z"
    },
    "scrolled": true
   },
   "outputs": [
    {
     "data": {
      "text/plain": [
       "count    2.935843e+06\n",
       "mean     1.456991e+01\n",
       "std      9.422992e+00\n",
       "min      0.000000e+00\n",
       "25%      7.000000e+00\n",
       "50%      1.400000e+01\n",
       "75%      2.300000e+01\n",
       "max      3.300000e+01\n",
       "Name: date_block_num, dtype: float64"
      ]
     },
     "execution_count": 11,
     "metadata": {},
     "output_type": "execute_result"
    }
   ],
   "source": [
    "sales_train.date_block_num.describe()"
   ]
  },
  {
   "cell_type": "code",
   "execution_count": 12,
   "metadata": {
    "execution": {
     "iopub.execute_input": "2021-07-14T19:58:34.882672Z",
     "iopub.status.busy": "2021-07-14T19:58:34.882382Z",
     "iopub.status.idle": "2021-07-14T19:58:38.348315Z",
     "shell.execute_reply": "2021-07-14T19:58:38.34723Z",
     "shell.execute_reply.started": "2021-07-14T19:58:34.882643Z"
    }
   },
   "outputs": [
    {
     "data": {
      "text/plain": [
       "[<matplotlib.lines.Line2D at 0x7f1a75a261f0>]"
      ]
     },
     "execution_count": 12,
     "metadata": {},
     "output_type": "execute_result"
    },
    {
     "data": {
      "image/png": "[encoded data removed]",
      "text/plain": [
       "<Figure size 864x432 with 1 Axes>"
      ]
     },
     "metadata": {
      "needs_background": "light"
     },
     "output_type": "display_data"
    }
   ],
   "source": [
    "plt.figure(figsize=(12,6))\n",
    "plt.xlabel('Index')\n",
    "plt.ylabel('date_block_num')\n",
    "plt.plot(sales_train.date_block_num, '.')"
   ]
  },
  {
   "cell_type": "markdown",
   "metadata": {},
   "source": [
    "We can suppose, that dataset was built by concatenating of smaller datasets for each date block"
   ]
  },
  {
   "cell_type": "code",
   "execution_count": 13,
   "metadata": {
    "execution": {
     "iopub.execute_input": "2021-07-14T19:58:38.350096Z",
     "iopub.status.busy": "2021-07-14T19:58:38.349721Z",
     "iopub.status.idle": "2021-07-14T19:58:44.761524Z",
     "shell.execute_reply": "2021-07-14T19:58:44.760254Z",
     "shell.execute_reply.started": "2021-07-14T19:58:38.350054Z"
    }
   },
   "outputs": [
    {
     "data": {
      "text/plain": [
       "<matplotlib.collections.PathCollection at 0x7f1acc43d430>"
      ]
     },
     "execution_count": 13,
     "metadata": {},
     "output_type": "execute_result"
    },
    {
     "data": {
      "image/png": "[encoded data removed]",
      "text/plain": [
       "<Figure size 1152x432 with 1 Axes>"
      ]
     },
     "metadata": {
      "needs_background": "light"
     },
     "output_type": "display_data"
    }
   ],
   "source": [
    "plt.figure(figsize=(16, 6))\n",
    "plt.xlabel('date_block_num')\n",
    "plt.ylabel('shop_id')\n",
    "plt.scatter(sales_train.date_block_num, sales_train.shop_id)"
   ]
  },
  {
   "cell_type": "markdown",
   "metadata": {},
   "source": [
    "### shop_id\n",
    "\n",
    "What shops are presented in train set but aren't presented in the test set?"
   ]
  },
  {
   "cell_type": "code",
   "execution_count": 14,
   "metadata": {
    "execution": {
     "iopub.execute_input": "2021-07-14T19:58:44.764713Z",
     "iopub.status.busy": "2021-07-14T19:58:44.764224Z",
     "iopub.status.idle": "2021-07-14T19:58:45.092907Z",
     "shell.execute_reply": "2021-07-14T19:58:45.091767Z",
     "shell.execute_reply.started": "2021-07-14T19:58:44.764674Z"
    }
   },
   "outputs": [
    {
     "data": {
      "text/plain": [
       "<AxesSubplot:>"
      ]
     },
     "execution_count": 14,
     "metadata": {},
     "output_type": "execute_result"
    },
    {
     "data": {
      "image/png": "[encoded data removed]",
      "text/plain": [
       "<Figure size 864x576 with 1 Axes>"
      ]
     },
     "metadata": {
      "needs_background": "light"
     },
     "output_type": "display_data"
    }
   ],
   "source": [
    "missed_ind = sorted([c for c in sales_train.shop_id.unique() if c not in sales_test.shop_id.unique()])\n",
    "sales_train.shop_id.value_counts().sort_index().iloc[missed_ind].plot.bar(figsize=(12, 8))"
   ]
  },
  {
   "cell_type": "markdown",
   "metadata": {},
   "source": [
    "Me may don't need shops with id's 8, 9, 11, 20 and 40. \n",
    "\n",
    "We can see strong vertical pattern. This means that data wasn't shaffled for shops. We also can see, that data for some shops and date blocks are missing."
   ]
  },
  {
   "cell_type": "markdown",
   "metadata": {},
   "source": [
    "# Fix errors in dataset\n",
    "\n",
    "## Fix wrong shops id's\n",
    "\n",
    "Some shop names look similar"
   ]
  },
  {
   "cell_type": "code",
   "execution_count": 15,
   "metadata": {
    "execution": {
     "iopub.execute_input": "2021-07-14T19:58:45.095522Z",
     "iopub.status.busy": "2021-07-14T19:58:45.09517Z",
     "iopub.status.idle": "2021-07-14T19:58:45.107121Z",
     "shell.execute_reply": "2021-07-14T19:58:45.10554Z",
     "shell.execute_reply.started": "2021-07-14T19:58:45.095497Z"
    }
   },
   "outputs": [
    {
     "name": "stdout",
     "output_type": "stream",
     "text": [
      "0     !Якутск Орджоникидзе, 56 фран\n",
      "57          Якутск Орджоникидзе, 56\n",
      "Name: shop_name, dtype: object\n",
      "1     !Якутск ТЦ \"Центральный\" фран\n",
      "58          Якутск ТЦ \"Центральный\"\n",
      "Name: shop_name, dtype: object\n",
      "10    Жуковский ул. Чкалова 39м?\n",
      "11    Жуковский ул. Чкалова 39м²\n",
      "Name: shop_name, dtype: object\n",
      "39              РостовНаДону ТРК \"Мегацентр Горизонт\"\n",
      "40    РостовНаДону ТРК \"Мегацентр Горизонт\" Островной\n",
      "Name: shop_name, dtype: object\n"
     ]
    }
   ],
   "source": [
    "print(shops.loc[shops.shop_id.isin([0, 57]), 'shop_name'])\n",
    "print(shops.loc[shops.shop_id.isin([1, 58]), 'shop_name'])\n",
    "print(shops.loc[shops.shop_id.isin([10, 11]), 'shop_name'])\n",
    "print(shops.loc[shops.shop_id.isin([39, 40]), 'shop_name'])"
   ]
  },
  {
   "cell_type": "markdown",
   "metadata": {},
   "source": [
    "Let's correct this"
   ]
  },
  {
   "cell_type": "code",
   "execution_count": 3,
   "metadata": {
    "execution": {
     "iopub.execute_input": "2021-07-14T19:58:45.109548Z",
     "iopub.status.busy": "2021-07-14T19:58:45.109136Z",
     "iopub.status.idle": "2021-07-14T19:58:45.188467Z",
     "shell.execute_reply": "2021-07-14T19:58:45.18735Z",
     "shell.execute_reply.started": "2021-07-14T19:58:45.109509Z"
    }
   },
   "outputs": [],
   "source": [
    "sales_train.loc[sales_train.shop_id == 0, 'shop_id'] = 57\n",
    "sales_test.loc[sales_test.shop_id == 0, 'shop_id'] = 57\n",
    "\n",
    "sales_train.loc[sales_train.shop_id == 1, 'shop_id'] = 58\n",
    "sales_test.loc[sales_test.shop_id == 1, 'shop_id'] = 58\n",
    "\n",
    "sales_train.loc[sales_train.shop_id == 11, 'shop_id'] = 10 # shop_id 11 isn't presented in the test set\n",
    "sales_test.loc[sales_test.shop_id == 11, 'shop_id'] = 10\n",
    "\n",
    "sales_train.loc[sales_train.shop_id == 40, 'shop_id'] = 39\n",
    "sales_test.loc[sales_test.shop_id == 40, 'shop_id'] = 39"
   ]
  },
  {
   "cell_type": "markdown",
   "metadata": {},
   "source": [
    "### Fix wrong prices\n",
    "\n",
    "Some of prices may be wrong. Let's find them. At first we look for prices with big difference between min and max price for each item and find the most frequent normal prices for them."
   ]
  },
  {
   "cell_type": "code",
   "execution_count": 4,
   "metadata": {
    "execution": {
     "iopub.execute_input": "2021-07-14T19:58:45.190547Z",
     "iopub.status.busy": "2021-07-14T19:58:45.19018Z",
     "iopub.status.idle": "2021-07-14T19:58:52.565144Z",
     "shell.execute_reply": "2021-07-14T19:58:52.564042Z",
     "shell.execute_reply.started": "2021-07-14T19:58:45.190509Z"
    }
   },
   "outputs": [
    {
     "data": {
      "text/html": [
       "<div>\n",
       "<style scoped>\n",
       "    .dataframe tbody tr th:only-of-type {\n",
       "        vertical-align: middle;\n",
       "    }\n",
       "\n",
       "    .dataframe tbody tr th {\n",
       "        vertical-align: top;\n",
       "    }\n",
       "\n",
       "    .dataframe thead tr th {\n",
       "        text-align: left;\n",
       "    }\n",
       "\n",
       "    .dataframe thead tr:last-of-type th {\n",
       "        text-align: right;\n",
       "    }\n",
       "</style>\n",
       "<table border=\"1\" class=\"dataframe\">\n",
       "  <thead>\n",
       "    <tr>\n",
       "      <th></th>\n",
       "      <th colspan=\"3\" halign=\"left\">item_price</th>\n",
       "      <th>price_diff</th>\n",
       "    </tr>\n",
       "    <tr>\n",
       "      <th></th>\n",
       "      <th>amin</th>\n",
       "      <th>amax</th>\n",
       "      <th>amode</th>\n",
       "      <th></th>\n",
       "    </tr>\n",
       "    <tr>\n",
       "      <th>item_id</th>\n",
       "      <th></th>\n",
       "      <th></th>\n",
       "      <th></th>\n",
       "      <th></th>\n",
       "    </tr>\n",
       "  </thead>\n",
       "  <tbody>\n",
       "    <tr>\n",
       "      <th>11865</th>\n",
       "      <td>0.07</td>\n",
       "      <td>729.0</td>\n",
       "      <td>329.0</td>\n",
       "      <td>10414.285714</td>\n",
       "    </tr>\n",
       "    <tr>\n",
       "      <th>11857</th>\n",
       "      <td>0.10</td>\n",
       "      <td>729.0</td>\n",
       "      <td>319.0</td>\n",
       "      <td>7290.000000</td>\n",
       "    </tr>\n",
       "    <tr>\n",
       "      <th>11864</th>\n",
       "      <td>0.07</td>\n",
       "      <td>469.0</td>\n",
       "      <td>269.0</td>\n",
       "      <td>6700.000000</td>\n",
       "    </tr>\n",
       "    <tr>\n",
       "      <th>1836</th>\n",
       "      <td>0.50</td>\n",
       "      <td>2599.0</td>\n",
       "      <td>1999.0</td>\n",
       "      <td>5198.000000</td>\n",
       "    </tr>\n",
       "    <tr>\n",
       "      <th>1837</th>\n",
       "      <td>0.50</td>\n",
       "      <td>2599.0</td>\n",
       "      <td>1999.0</td>\n",
       "      <td>5198.000000</td>\n",
       "    </tr>\n",
       "  </tbody>\n",
       "</table>\n",
       "</div>"
      ],
      "text/plain": [
       "        item_price                    price_diff\n",
       "              amin    amax   amode              \n",
       "item_id                                         \n",
       "11865         0.07   729.0   329.0  10414.285714\n",
       "11857         0.10   729.0   319.0   7290.000000\n",
       "11864         0.07   469.0   269.0   6700.000000\n",
       "1836          0.50  2599.0  1999.0   5198.000000\n",
       "1837          0.50  2599.0  1999.0   5198.000000"
      ]
     },
     "execution_count": 4,
     "metadata": {},
     "output_type": "execute_result"
    }
   ],
   "source": [
    "sales_train = sales_train[(sales_train.item_price > 0) & (sales_train.item_price < 50000)]\n",
    "\n",
    "# for each item get price with mode value > 5\n",
    "def amode(col):\n",
    "    i = 0\n",
    "    res = 0\n",
    "    count = col.value_counts().index\n",
    "    while res <= 5 and i < len(count):\n",
    "        res = count[i]\n",
    "        i += 1\n",
    "    return res\n",
    "\n",
    "def alast(col):\n",
    "    return res\n",
    "    \n",
    "# group train dataset by prices, aggregate by price mode\n",
    "item_prices = sales_train[['item_id', 'item_price']].groupby('item_id').agg({'item_price': [np.min, \n",
    "                                                                                            np.max, \n",
    "                                                                                            amode]})\n",
    "# add feature for difference between min and max prices\n",
    "item_prices['price_diff'] = abs(item_prices.item_price.amax/item_prices.item_price.amin)\n",
    "\n",
    "# get all prices with the difference between min and max prices more than 15 and min price less than 5\n",
    "# save indexes of these prices\n",
    "wrong_prices = item_prices[(item_prices.item_price.amin <= 5) & \n",
    "                           (item_prices.price_diff >= 15)].sort_values('price_diff', ascending=False)\n",
    "\n",
    "wrong_prices.head()"
   ]
  },
  {
   "cell_type": "markdown",
   "metadata": {},
   "source": [
    "Fix wrong prices"
   ]
  },
  {
   "cell_type": "code",
   "execution_count": 5,
   "metadata": {
    "execution": {
     "iopub.execute_input": "2021-07-14T19:58:52.566926Z",
     "iopub.status.busy": "2021-07-14T19:58:52.566519Z",
     "iopub.status.idle": "2021-07-14T19:58:53.805616Z",
     "shell.execute_reply": "2021-07-14T19:58:53.804167Z",
     "shell.execute_reply.started": "2021-07-14T19:58:52.566861Z"
    }
   },
   "outputs": [
    {
     "data": {
      "text/plain": [
       "0"
      ]
     },
     "execution_count": 5,
     "metadata": {},
     "output_type": "execute_result"
    }
   ],
   "source": [
    "for i_id in list(wrong_prices.index):\n",
    "    sales_train.loc[(sales_train.item_id == i_id) & \n",
    "                    (sales_train.item_price <= 5), 'item_price'] = wrong_prices.loc[i_id, 'item_price'].amode\n",
    "    \n",
    "del wrong_prices\n",
    "gc.collect()"
   ]
  },
  {
   "cell_type": "markdown",
   "metadata": {},
   "source": [
    "### Fix wrong dates\n",
    "\n",
    "Let's add year, month and day features and check if they are correct."
   ]
  },
  {
   "cell_type": "code",
   "execution_count": 7,
   "metadata": {
    "execution": {
     "iopub.execute_input": "2021-07-14T19:58:53.807578Z",
     "iopub.status.busy": "2021-07-14T19:58:53.807202Z",
     "iopub.status.idle": "2021-07-14T19:58:54.961476Z",
     "shell.execute_reply": "2021-07-14T19:58:54.960182Z",
     "shell.execute_reply.started": "2021-07-14T19:58:53.807542Z"
    },
    "scrolled": true
   },
   "outputs": [
    {
     "data": {
      "text/html": [
       "<div>\n",
       "<style scoped>\n",
       "    .dataframe tbody tr th:only-of-type {\n",
       "        vertical-align: middle;\n",
       "    }\n",
       "\n",
       "    .dataframe tbody tr th {\n",
       "        vertical-align: top;\n",
       "    }\n",
       "\n",
       "    .dataframe thead th {\n",
       "        text-align: right;\n",
       "    }\n",
       "</style>\n",
       "<table border=\"1\" class=\"dataframe\">\n",
       "  <thead>\n",
       "    <tr style=\"text-align: right;\">\n",
       "      <th></th>\n",
       "      <th>date</th>\n",
       "      <th>date_block_num</th>\n",
       "      <th>shop_id</th>\n",
       "      <th>item_id</th>\n",
       "      <th>item_price</th>\n",
       "      <th>item_cnt_day</th>\n",
       "      <th>month_from_date_block</th>\n",
       "      <th>year</th>\n",
       "      <th>month</th>\n",
       "      <th>day</th>\n",
       "    </tr>\n",
       "  </thead>\n",
       "  <tbody>\n",
       "    <tr>\n",
       "      <th>115846</th>\n",
       "      <td>2013-01-02</td>\n",
       "      <td>1</td>\n",
       "      <td>50</td>\n",
       "      <td>3705</td>\n",
       "      <td>1499.00</td>\n",
       "      <td>2.0</td>\n",
       "      <td>2</td>\n",
       "      <td>2013</td>\n",
       "      <td>1</td>\n",
       "      <td>2</td>\n",
       "    </tr>\n",
       "    <tr>\n",
       "      <th>115861</th>\n",
       "      <td>2013-01-02</td>\n",
       "      <td>1</td>\n",
       "      <td>50</td>\n",
       "      <td>3745</td>\n",
       "      <td>799.00</td>\n",
       "      <td>1.0</td>\n",
       "      <td>2</td>\n",
       "      <td>2013</td>\n",
       "      <td>1</td>\n",
       "      <td>2</td>\n",
       "    </tr>\n",
       "    <tr>\n",
       "      <th>115946</th>\n",
       "      <td>2013-01-02</td>\n",
       "      <td>1</td>\n",
       "      <td>50</td>\n",
       "      <td>5262</td>\n",
       "      <td>719.52</td>\n",
       "      <td>1.0</td>\n",
       "      <td>2</td>\n",
       "      <td>2013</td>\n",
       "      <td>1</td>\n",
       "      <td>2</td>\n",
       "    </tr>\n",
       "    <tr>\n",
       "      <th>115979</th>\n",
       "      <td>2013-01-02</td>\n",
       "      <td>1</td>\n",
       "      <td>50</td>\n",
       "      <td>5272</td>\n",
       "      <td>399.56</td>\n",
       "      <td>1.0</td>\n",
       "      <td>2</td>\n",
       "      <td>2013</td>\n",
       "      <td>1</td>\n",
       "      <td>2</td>\n",
       "    </tr>\n",
       "    <tr>\n",
       "      <th>116070</th>\n",
       "      <td>2013-01-02</td>\n",
       "      <td>1</td>\n",
       "      <td>50</td>\n",
       "      <td>4886</td>\n",
       "      <td>899.00</td>\n",
       "      <td>1.0</td>\n",
       "      <td>2</td>\n",
       "      <td>2013</td>\n",
       "      <td>1</td>\n",
       "      <td>2</td>\n",
       "    </tr>\n",
       "    <tr>\n",
       "      <th>...</th>\n",
       "      <td>...</td>\n",
       "      <td>...</td>\n",
       "      <td>...</td>\n",
       "      <td>...</td>\n",
       "      <td>...</td>\n",
       "      <td>...</td>\n",
       "      <td>...</td>\n",
       "      <td>...</td>\n",
       "      <td>...</td>\n",
       "      <td>...</td>\n",
       "    </tr>\n",
       "    <tr>\n",
       "      <th>1267281</th>\n",
       "      <td>2013-01-12</td>\n",
       "      <td>11</td>\n",
       "      <td>46</td>\n",
       "      <td>4477</td>\n",
       "      <td>899.00</td>\n",
       "      <td>1.0</td>\n",
       "      <td>12</td>\n",
       "      <td>2013</td>\n",
       "      <td>1</td>\n",
       "      <td>12</td>\n",
       "    </tr>\n",
       "    <tr>\n",
       "      <th>1267430</th>\n",
       "      <td>2013-01-12</td>\n",
       "      <td>11</td>\n",
       "      <td>46</td>\n",
       "      <td>5620</td>\n",
       "      <td>590.00</td>\n",
       "      <td>1.0</td>\n",
       "      <td>12</td>\n",
       "      <td>2013</td>\n",
       "      <td>1</td>\n",
       "      <td>12</td>\n",
       "    </tr>\n",
       "    <tr>\n",
       "      <th>1267455</th>\n",
       "      <td>2013-01-12</td>\n",
       "      <td>11</td>\n",
       "      <td>46</td>\n",
       "      <td>5643</td>\n",
       "      <td>2490.00</td>\n",
       "      <td>1.0</td>\n",
       "      <td>12</td>\n",
       "      <td>2013</td>\n",
       "      <td>1</td>\n",
       "      <td>12</td>\n",
       "    </tr>\n",
       "    <tr>\n",
       "      <th>1267552</th>\n",
       "      <td>2013-01-12</td>\n",
       "      <td>11</td>\n",
       "      <td>46</td>\n",
       "      <td>5672</td>\n",
       "      <td>2590.00</td>\n",
       "      <td>1.0</td>\n",
       "      <td>12</td>\n",
       "      <td>2013</td>\n",
       "      <td>1</td>\n",
       "      <td>12</td>\n",
       "    </tr>\n",
       "    <tr>\n",
       "      <th>1267558</th>\n",
       "      <td>2013-01-12</td>\n",
       "      <td>11</td>\n",
       "      <td>46</td>\n",
       "      <td>5671</td>\n",
       "      <td>2590.00</td>\n",
       "      <td>3.0</td>\n",
       "      <td>12</td>\n",
       "      <td>2013</td>\n",
       "      <td>1</td>\n",
       "      <td>12</td>\n",
       "    </tr>\n",
       "  </tbody>\n",
       "</table>\n",
       "<p>19346 rows × 10 columns</p>\n",
       "</div>"
      ],
      "text/plain": [
       "              date  date_block_num  shop_id  item_id  item_price  \\\n",
       "115846  2013-01-02               1       50     3705     1499.00   \n",
       "115861  2013-01-02               1       50     3745      799.00   \n",
       "115946  2013-01-02               1       50     5262      719.52   \n",
       "115979  2013-01-02               1       50     5272      399.56   \n",
       "116070  2013-01-02               1       50     4886      899.00   \n",
       "...            ...             ...      ...      ...         ...   \n",
       "1267281 2013-01-12              11       46     4477      899.00   \n",
       "1267430 2013-01-12              11       46     5620      590.00   \n",
       "1267455 2013-01-12              11       46     5643     2490.00   \n",
       "1267552 2013-01-12              11       46     5672     2590.00   \n",
       "1267558 2013-01-12              11       46     5671     2590.00   \n",
       "\n",
       "         item_cnt_day  month_from_date_block  year  month  day  \n",
       "115846            2.0                      2  2013      1    2  \n",
       "115861            1.0                      2  2013      1    2  \n",
       "115946            1.0                      2  2013      1    2  \n",
       "115979            1.0                      2  2013      1    2  \n",
       "116070            1.0                      2  2013      1    2  \n",
       "...               ...                    ...   ...    ...  ...  \n",
       "1267281           1.0                     12  2013      1   12  \n",
       "1267430           1.0                     12  2013      1   12  \n",
       "1267455           1.0                     12  2013      1   12  \n",
       "1267552           1.0                     12  2013      1   12  \n",
       "1267558           3.0                     12  2013      1   12  \n",
       "\n",
       "[19346 rows x 10 columns]"
      ]
     },
     "execution_count": 7,
     "metadata": {},
     "output_type": "execute_result"
    }
   ],
   "source": [
    "sales_train.date = pd.to_datetime(sales_train.date, format='%Y-%m-%d')\n",
    "sales_train['year'] = sales_train.date.dt.year\n",
    "sales_train['month'] = sales_train.date.dt.month\n",
    "sales_train['day'] = sales_train.date.dt.day\n",
    "sales_train[(sales_train.month == 1) & (sales_train.year == 2013) & sales_train.date_block_num > 0]"
   ]
  },
  {
   "cell_type": "markdown",
   "metadata": {},
   "source": [
    "As we can see, some date values do not correspond to date_block_num values. Further investigation lead to conclusion, that this is because date values are wrong: day and month are confused with each other. Let's fix that."
   ]
  },
  {
   "cell_type": "code",
   "execution_count": 8,
   "metadata": {
    "execution": {
     "iopub.execute_input": "2021-07-14T19:58:54.966963Z",
     "iopub.status.busy": "2021-07-14T19:58:54.96664Z",
     "iopub.status.idle": "2021-07-14T19:59:11.347797Z",
     "shell.execute_reply": "2021-07-14T19:59:11.346411Z",
     "shell.execute_reply.started": "2021-07-14T19:58:54.966927Z"
    }
   },
   "outputs": [],
   "source": [
    "def add_month(col):\n",
    "    return int(divmod(col, 12)[1] + 1)\n",
    "\n",
    "sales_train['month_from_date_block'] = sales_train.date_block_num.apply(add_month)\n",
    "\n",
    "date_index = sales_train.loc[sales_train.month != sales_train.month_from_date_block].index\n",
    "\n",
    "day = sales_train.loc[date_index, 'day']\n",
    "month = sales_train.loc[date_index, 'month']\n",
    "\n",
    "sales_train.loc[date_index, 'day'] = month\n",
    "sales_train.loc[date_index, 'month'] = day\n",
    "\n",
    "# fix date with correct month and year values\n",
    "sales_train.date = sales_train.year.astype(str) + '-' + sales_train.month.astype(str) + '-' + sales_train.day.astype(str)\n",
    "sales_train.date = pd.to_datetime(sales_train.date, format='%Y-%m-%d')\n",
    "\n",
    "sales_train.drop(['month_from_date_block'], axis=1, inplace=True)"
   ]
  },
  {
   "cell_type": "markdown",
   "metadata": {},
   "source": [
    "### Clip outliers for item_cnt_day"
   ]
  },
  {
   "cell_type": "code",
   "execution_count": 9,
   "metadata": {},
   "outputs": [],
   "source": [
    "sales_train = sales_train[(sales_train['item_cnt_day'] > 0) & (sales_train['item_cnt_day'] < 1000)]"
   ]
  },
  {
   "cell_type": "markdown",
   "metadata": {},
   "source": [
    "# Investigate data distribution for train and test datasets."
   ]
  },
  {
   "cell_type": "code",
   "execution_count": 10,
   "metadata": {
    "execution": {
     "iopub.execute_input": "2021-07-14T19:59:11.351841Z",
     "iopub.status.busy": "2021-07-14T19:59:11.351476Z",
     "iopub.status.idle": "2021-07-14T19:59:12.073768Z",
     "shell.execute_reply": "2021-07-14T19:59:12.072605Z",
     "shell.execute_reply.started": "2021-07-14T19:59:11.35181Z"
    },
    "scrolled": true
   },
   "outputs": [],
   "source": [
    "sales_train_gr = sales_train.groupby(['date_block_num', \n",
    "                                      'shop_id', 'item_id'], as_index=False).agg({'item_price': 'mean', \n",
    "                                                                                  'item_cnt_day': 'sum'})\n",
    "\n",
    "sales_train_gr.rename({'item_cnt_day': 'item_cnt_month'}, axis=1, inplace=True)"
   ]
  },
  {
   "cell_type": "markdown",
   "metadata": {},
   "source": [
    "Let's investigate distribution of items and shops according to mean date block number.\n",
    "\n",
    "Train dataset."
   ]
  },
  {
   "cell_type": "code",
   "execution_count": 11,
   "metadata": {
    "execution": {
     "iopub.execute_input": "2021-07-14T19:59:12.075379Z",
     "iopub.status.busy": "2021-07-14T19:59:12.075159Z",
     "iopub.status.idle": "2021-07-14T19:59:14.07894Z",
     "shell.execute_reply": "2021-07-14T19:59:14.077743Z",
     "shell.execute_reply.started": "2021-07-14T19:59:12.075355Z"
    }
   },
   "outputs": [
    {
     "data": {
      "text/plain": [
       "5"
      ]
     },
     "execution_count": 11,
     "metadata": {},
     "output_type": "execute_result"
    },
    {
     "data": {
      "image/png": "[encoded data removed]",
      "text/plain": [
       "<Figure size 864x1008 with 1 Axes>"
      ]
     },
     "metadata": {
      "needs_background": "light"
     },
     "output_type": "display_data"
    }
   ],
   "source": [
    "from matplotlib import pyplot as plt\n",
    "\n",
    "g = sales_train_gr.groupby(['shop_id', 'item_id'])\n",
    "\n",
    "plt.figure(figsize=(12,14))\n",
    "plt.scatter(g.date_block_num.mean(), g.size(), edgecolor = 'none', alpha = 0.2, s=20, c='b')\n",
    "plt.xlabel('Group mean date')\n",
    "plt.ylabel('Group size')\n",
    "plt.ylim(-2, 37)\n",
    "plt.xlim(-5, 40)\n",
    "plt.title('Train');\n",
    "\n",
    "del sales_train_gr\n",
    "gc.collect()"
   ]
  },
  {
   "cell_type": "markdown",
   "metadata": {},
   "source": [
    "Test dataset"
   ]
  },
  {
   "cell_type": "code",
   "execution_count": 23,
   "metadata": {
    "execution": {
     "iopub.execute_input": "2021-07-14T19:59:14.080541Z",
     "iopub.status.busy": "2021-07-14T19:59:14.080254Z",
     "iopub.status.idle": "2021-07-14T19:59:15.132659Z",
     "shell.execute_reply": "2021-07-14T19:59:15.132015Z",
     "shell.execute_reply.started": "2021-07-14T19:59:14.080508Z"
    }
   },
   "outputs": [
    {
     "data": {
      "text/plain": [
       "3323"
      ]
     },
     "execution_count": 23,
     "metadata": {},
     "output_type": "execute_result"
    },
    {
     "data": {
      "image/png": "[encoded data removed]",
      "text/plain": [
       "<Figure size 864x576 with 1 Axes>"
      ]
     },
     "metadata": {
      "needs_background": "light"
     },
     "output_type": "display_data"
    }
   ],
   "source": [
    "g = sales_test.groupby(['shop_id', 'item_id'])\n",
    "\n",
    "plt.figure(figsize=(12,8))\n",
    "plt.scatter(g.date_block_num.mean(),g.size(),edgecolor = 'none',alpha = 0.2, s=20, c='b')\n",
    "plt.xlabel('Group mean relative date')\n",
    "plt.ylabel('Group size')\n",
    "plt.ylim(-2, 5)\n",
    "plt.title('Test');\n",
    "\n",
    "del g\n",
    "gc.collect()"
   ]
  },
  {
   "cell_type": "markdown",
   "metadata": {},
   "source": [
    "What does that mean? That mean that all groups in test dataset have size of one and labeled by 34th date block num, but that's not surprise for us.\n",
    "\n",
    "But train dataset has groups with completely different sizes and completely different data. For groups in the top of our triangle we have information about all days, so, that's why their mean date is 16.5. For other groups we don't have full information, that's why their mean date becomes volatile.\n",
    "\n",
    "Why does this happen? Let's investigate item_cnt_day feature in our dataset. "
   ]
  },
  {
   "cell_type": "code",
   "execution_count": 12,
   "metadata": {
    "execution": {
     "iopub.execute_input": "2021-07-14T19:59:15.134176Z",
     "iopub.status.busy": "2021-07-14T19:59:15.133519Z",
     "iopub.status.idle": "2021-07-14T19:59:15.190679Z",
     "shell.execute_reply": "2021-07-14T19:59:15.190014Z",
     "shell.execute_reply.started": "2021-07-14T19:59:15.134115Z"
    },
    "scrolled": true
   },
   "outputs": [
    {
     "data": {
      "text/plain": [
       "1.0     2629362\n",
       "2.0      194201\n",
       "3.0       47350\n",
       "4.0       19685\n",
       "5.0       10474\n",
       "6.0        6338\n",
       "7.0        4057\n",
       "8.0        2903\n",
       "9.0        2177\n",
       "10.0       1820\n",
       "Name: item_cnt_day, dtype: int64"
      ]
     },
     "execution_count": 12,
     "metadata": {},
     "output_type": "execute_result"
    }
   ],
   "source": [
    "sales_train.item_cnt_day.value_counts().sort_index().head(10)"
   ]
  },
  {
   "cell_type": "markdown",
   "metadata": {},
   "source": [
    "So, in the train dataset we find positive and negative values, but don't find zero. Our train dataset just doesn't include data with item_cnt_day equals to zero. So, we most add this combinations to our dataset and set item_cnt_month value for them to zero."
   ]
  },
  {
   "cell_type": "markdown",
   "metadata": {},
   "source": [
    "# Create all unique combinations of shop_id, item_id and date_block_num"
   ]
  },
  {
   "cell_type": "code",
   "execution_count": 15,
   "metadata": {
    "execution": {
     "iopub.execute_input": "2021-07-14T19:59:15.191824Z",
     "iopub.status.busy": "2021-07-14T19:59:15.191603Z",
     "iopub.status.idle": "2021-07-14T19:59:39.673779Z",
     "shell.execute_reply": "2021-07-14T19:59:39.672315Z",
     "shell.execute_reply.started": "2021-07-14T19:59:15.191801Z"
    },
    "scrolled": false
   },
   "outputs": [
    {
     "name": "stdout",
     "output_type": "stream",
     "text": [
      "CPU times: user 18.5 s, sys: 2.39 s, total: 20.9 s\n",
      "Wall time: 21 s\n"
     ]
    },
    {
     "data": {
      "text/html": [
       "<div>\n",
       "<style scoped>\n",
       "    .dataframe tbody tr th:only-of-type {\n",
       "        vertical-align: middle;\n",
       "    }\n",
       "\n",
       "    .dataframe tbody tr th {\n",
       "        vertical-align: top;\n",
       "    }\n",
       "\n",
       "    .dataframe thead th {\n",
       "        text-align: right;\n",
       "    }\n",
       "</style>\n",
       "<table border=\"1\" class=\"dataframe\">\n",
       "  <thead>\n",
       "    <tr style=\"text-align: right;\">\n",
       "      <th></th>\n",
       "      <th>date_block_num</th>\n",
       "      <th>shop_id</th>\n",
       "      <th>item_id</th>\n",
       "      <th>item_cnt_month</th>\n",
       "      <th>sale_days_in_month</th>\n",
       "      <th>item_deals_month</th>\n",
       "      <th>item_revenue_day</th>\n",
       "      <th>item_price</th>\n",
       "      <th>first_day</th>\n",
       "      <th>last_day</th>\n",
       "    </tr>\n",
       "  </thead>\n",
       "  <tbody>\n",
       "    <tr>\n",
       "      <th>0</th>\n",
       "      <td>0</td>\n",
       "      <td>2</td>\n",
       "      <td>19</td>\n",
       "      <td>0.0</td>\n",
       "      <td>0.0</td>\n",
       "      <td>0.0</td>\n",
       "      <td>0.0</td>\n",
       "      <td>0.0</td>\n",
       "      <td>0.0</td>\n",
       "      <td>0.0</td>\n",
       "    </tr>\n",
       "    <tr>\n",
       "      <th>1</th>\n",
       "      <td>0</td>\n",
       "      <td>2</td>\n",
       "      <td>27</td>\n",
       "      <td>1.0</td>\n",
       "      <td>1.0</td>\n",
       "      <td>1.0</td>\n",
       "      <td>2499.0</td>\n",
       "      <td>2499.0</td>\n",
       "      <td>11.0</td>\n",
       "      <td>11.0</td>\n",
       "    </tr>\n",
       "    <tr>\n",
       "      <th>2</th>\n",
       "      <td>0</td>\n",
       "      <td>2</td>\n",
       "      <td>28</td>\n",
       "      <td>0.0</td>\n",
       "      <td>0.0</td>\n",
       "      <td>0.0</td>\n",
       "      <td>0.0</td>\n",
       "      <td>0.0</td>\n",
       "      <td>0.0</td>\n",
       "      <td>0.0</td>\n",
       "    </tr>\n",
       "    <tr>\n",
       "      <th>3</th>\n",
       "      <td>0</td>\n",
       "      <td>2</td>\n",
       "      <td>29</td>\n",
       "      <td>0.0</td>\n",
       "      <td>0.0</td>\n",
       "      <td>0.0</td>\n",
       "      <td>0.0</td>\n",
       "      <td>0.0</td>\n",
       "      <td>0.0</td>\n",
       "      <td>0.0</td>\n",
       "    </tr>\n",
       "    <tr>\n",
       "      <th>4</th>\n",
       "      <td>0</td>\n",
       "      <td>2</td>\n",
       "      <td>32</td>\n",
       "      <td>0.0</td>\n",
       "      <td>0.0</td>\n",
       "      <td>0.0</td>\n",
       "      <td>0.0</td>\n",
       "      <td>0.0</td>\n",
       "      <td>0.0</td>\n",
       "      <td>0.0</td>\n",
       "    </tr>\n",
       "  </tbody>\n",
       "</table>\n",
       "</div>"
      ],
      "text/plain": [
       "   date_block_num  shop_id  item_id  item_cnt_month  sale_days_in_month  \\\n",
       "0               0        2       19             0.0                 0.0   \n",
       "1               0        2       27             1.0                 1.0   \n",
       "2               0        2       28             0.0                 0.0   \n",
       "3               0        2       29             0.0                 0.0   \n",
       "4               0        2       32             0.0                 0.0   \n",
       "\n",
       "   item_deals_month  item_revenue_day  item_price  first_day  last_day  \n",
       "0               0.0               0.0         0.0        0.0       0.0  \n",
       "1               1.0            2499.0      2499.0       11.0      11.0  \n",
       "2               0.0               0.0         0.0        0.0       0.0  \n",
       "3               0.0               0.0         0.0        0.0       0.0  \n",
       "4               0.0               0.0         0.0        0.0       0.0  "
      ]
     },
     "execution_count": 15,
     "metadata": {},
     "output_type": "execute_result"
    }
   ],
   "source": [
    "%%time\n",
    "\n",
    "from itertools import product\n",
    "\n",
    "index_cols = ['date_block_num', 'shop_id', 'item_id']\n",
    "\n",
    "# For every month we create a grid from all shops/items combinations from that month\n",
    "grid = [] \n",
    "for block_num in sales_train['date_block_num'].unique():\n",
    "    cur_shops = sales_train[sales_train['date_block_num']==block_num]['shop_id'].unique()\n",
    "    cur_items = sales_train[sales_train['date_block_num']==block_num]['item_id'].unique()\n",
    "    grid.append(np.array(list(product(*[[block_num], cur_shops, cur_items])),dtype='int32'))\n",
    "\n",
    "# turn the grid into pandas dataframe\n",
    "grid = pd.DataFrame(np.vstack(grid), columns = index_cols, dtype=np.int32)\n",
    "\n",
    "# add revenue column to sales_train\n",
    "sales_train['item_revenue_day'] = sales_train.item_price.copy() * sales_train.item_cnt_day.copy()\n",
    "\n",
    "# get aggregated values for (shop_id, item_id, month)\n",
    "gb = sales_train.groupby(index_cols, as_index=False).agg({'item_cnt_day': ['sum', 'nunique', 'count'], \n",
    "                                                          'item_revenue_day': 'sum',\n",
    "                                                          'item_price': 'mean', \n",
    "                                                          'day': ['first', 'last']\n",
    "                                                         })\n",
    "\n",
    "first_shop_item_date = sales_train.groupby(['shop_id', 'item_id'], \n",
    "                                          as_index=False).agg({'date': 'min'}).rename('first_shop_item_date')\n",
    "first_shop_date = sales_train.groupby(['shop_id'], \n",
    "                                     as_index=False).agg({'date': 'min'}).rename('first_shop_date')\n",
    "first_item_date = sales_train.groupby(['item_id'], \n",
    "                                     as_index=False).agg({'date': 'min'}).rename('first_item_date')\n",
    "\n",
    "# rename columns in gb df\n",
    "cols = list()\n",
    "for c in gb.columns: \n",
    "    if c[0] == 'day':\n",
    "        cols.append(c[1] + '_' + c[0])\n",
    "    elif c[0] == 'item_cnt_day' and c[1] == 'sum':\n",
    "        cols.append('item_cnt_month')\n",
    "    elif c[0] == 'item_cnt_day' and c[1] == 'count':\n",
    "        cols.append('item_deals_month')    \n",
    "    elif c[0] == 'item_cnt_day' and c[1] == 'nunique':\n",
    "        cols.append('sale_days_in_month')    \n",
    "    else:\n",
    "        cols.append(c[0])\n",
    "        \n",
    "gb.columns = cols\n",
    "\n",
    "#join aggregated data to the grid\n",
    "all_data = pd.merge(grid, gb, how='left', on=index_cols)\n",
    "\n",
    "#sort the data\n",
    "all_data.sort_values(index_cols, inplace=True)\n",
    "\n",
    "# add test data\n",
    "all_data = all_data.append(pd.merge(sales_test, gb, how='left', on=index_cols))\n",
    "\n",
    "# reset index for the new dataset\n",
    "all_data.reset_index(inplace=True, drop=True)\n",
    "\n",
    "# flll NaN values\n",
    "all_data.fillna(0, inplace=True)\n",
    "\n",
    "# downcast some dataset columns\n",
    "all_data['date_block_num'] = all_data['date_block_num']\n",
    "all_data['shop_id'] = all_data['shop_id']\n",
    "all_data['item_id'] = all_data['item_id']\n",
    "\n",
    "# clean memory\n",
    "del sales_test, grid, gb\n",
    "gc.collect()\n",
    "\n",
    "all_data.head()"
   ]
  },
  {
   "cell_type": "code",
   "execution_count": 16,
   "metadata": {
    "scrolled": false
   },
   "outputs": [
    {
     "name": "stdout",
     "output_type": "stream",
     "text": [
      "Memory usage of dataframe is 630.97 MB\n",
      "Memory usage after optimization is: 189.29 MB\n",
      "Decreased by 70.0%\n"
     ]
    }
   ],
   "source": [
    "all_data = reduce_mem_usage(all_data, silent=False)\n",
    "oldcols = all_data.columns"
   ]
  },
  {
   "cell_type": "markdown",
   "metadata": {},
   "source": [
    "Distribution of items for each shop"
   ]
  },
  {
   "cell_type": "markdown",
   "metadata": {},
   "source": [
    "# Add new features"
   ]
  },
  {
   "cell_type": "markdown",
   "metadata": {},
   "source": [
    "### Add calendar features"
   ]
  },
  {
   "cell_type": "code",
   "execution_count": 59,
   "metadata": {
    "execution": {
     "iopub.execute_input": "2021-07-14T19:59:40.563525Z",
     "iopub.status.busy": "2021-07-14T19:59:40.563221Z",
     "iopub.status.idle": "2021-07-14T19:59:40.83527Z",
     "shell.execute_reply": "2021-07-14T19:59:40.834273Z",
     "shell.execute_reply.started": "2021-07-14T19:59:40.563496Z"
    },
    "scrolled": true
   },
   "outputs": [
    {
     "data": {
      "text/html": [
       "<div>\n",
       "<style scoped>\n",
       "    .dataframe tbody tr th:only-of-type {\n",
       "        vertical-align: middle;\n",
       "    }\n",
       "\n",
       "    .dataframe tbody tr th {\n",
       "        vertical-align: top;\n",
       "    }\n",
       "\n",
       "    .dataframe thead th {\n",
       "        text-align: right;\n",
       "    }\n",
       "</style>\n",
       "<table border=\"1\" class=\"dataframe\">\n",
       "  <thead>\n",
       "    <tr style=\"text-align: right;\">\n",
       "      <th></th>\n",
       "      <th>date_block_num</th>\n",
       "      <th>days_in_month</th>\n",
       "      <th>season</th>\n",
       "      <th>holidays_and_weekends_in_month</th>\n",
       "    </tr>\n",
       "  </thead>\n",
       "  <tbody>\n",
       "    <tr>\n",
       "      <th>0</th>\n",
       "      <td>0</td>\n",
       "      <td>31</td>\n",
       "      <td>winter</td>\n",
       "      <td>14</td>\n",
       "    </tr>\n",
       "    <tr>\n",
       "      <th>364950</th>\n",
       "      <td>1</td>\n",
       "      <td>28</td>\n",
       "      <td>winter</td>\n",
       "      <td>8</td>\n",
       "    </tr>\n",
       "    <tr>\n",
       "      <th>740586</th>\n",
       "      <td>2</td>\n",
       "      <td>31</td>\n",
       "      <td>spring</td>\n",
       "      <td>11</td>\n",
       "    </tr>\n",
       "    <tr>\n",
       "      <th>1122386</th>\n",
       "      <td>3</td>\n",
       "      <td>30</td>\n",
       "      <td>spring</td>\n",
       "      <td>8</td>\n",
       "    </tr>\n",
       "    <tr>\n",
       "      <th>1488686</th>\n",
       "      <td>4</td>\n",
       "      <td>31</td>\n",
       "      <td>spring</td>\n",
       "      <td>10</td>\n",
       "    </tr>\n",
       "  </tbody>\n",
       "</table>\n",
       "</div>"
      ],
      "text/plain": [
       "         date_block_num  days_in_month  season  holidays_and_weekends_in_month\n",
       "0                     0             31  winter                              14\n",
       "364950                1             28  winter                               8\n",
       "740586                2             31  spring                              11\n",
       "1122386               3             30  spring                               8\n",
       "1488686               4             31  spring                              10"
      ]
     },
     "execution_count": 59,
     "metadata": {},
     "output_type": "execute_result"
    }
   ],
   "source": [
    "import math\n",
    "import calendar\n",
    "import holidays\n",
    "import datetime\n",
    "\n",
    "date_blocks = pd.DataFrame(all_data.date_block_num.drop_duplicates())\n",
    "\n",
    "def add_month(col):\n",
    "    return int(divmod(col, 12)[1] + 1)\n",
    "\n",
    "def add_year(col):\n",
    "    return int(2013 + divmod(col+1, 12)[0])\n",
    "\n",
    "def add_year_month(row):\n",
    "    return f'{row.year}-{row.month}'\n",
    "\n",
    "def add_season(col):\n",
    "    if 0 < col <= 2 or col == 12:\n",
    "        return 'winter'\n",
    "    if 3 <= col < 6:\n",
    "        return 'spring'\n",
    "    if 6 <= col < 9:\n",
    "        return 'summer'\n",
    "    if 9 <= col < 12:\n",
    "        return 'autumn'\n",
    "    return np.nan\n",
    "\n",
    "# get number of holidays + weekend in each month    \n",
    "ru_holidays = []\n",
    "\n",
    "for date, name in sorted(holidays.RU(years=[2013, 2014, 2015]).items()):\n",
    "    ru_holidays.append(date)\n",
    "    \n",
    "def add_holidays_and_weekends(row):\n",
    "    busines_dates = pd.bdate_range(f\"{row.year}-{row.month}-01\", f\"{row.year}-{row.month}-{row.days_in_month}\")\n",
    "    busines_dates = [b for b in busines_dates if b not in ru_holidays]\n",
    "    return row.days_in_month - len(busines_dates)\n",
    "    \n",
    "def create_calendar_features(data):\n",
    "    data['month'] = data.date_block_num.apply(add_month).astype(np.int8) \n",
    "    data['year'] = data.date_block_num.apply(add_year).astype(np.int16) \n",
    "    data['year_month'] = data.apply(add_year_month, axis=1)\n",
    "    data.year_month = pd.to_datetime(data.year_month, format='%Y-%m')\n",
    "    data['days_in_month'] = data.year_month.dt.daysinmonth.astype(np.int8) \n",
    "    data['season'] = data.month.apply(add_season) \n",
    "    data['holidays_and_weekends_in_month'] = data.apply(add_holidays_and_weekends, axis=1).astype(np.int8)\n",
    "    data.drop(['year_month', 'year', 'month'], axis=1, inplace=True)\n",
    "\n",
    "\n",
    "create_calendar_features(date_blocks)\n",
    "date_blocks.head()"
   ]
  },
  {
   "cell_type": "markdown",
   "metadata": {},
   "source": [
    "### Add geographical features"
   ]
  },
  {
   "cell_type": "code",
   "execution_count": 60,
   "metadata": {
    "execution": {
     "iopub.execute_input": "2021-07-14T19:59:40.83664Z",
     "iopub.status.busy": "2021-07-14T19:59:40.836426Z",
     "iopub.status.idle": "2021-07-14T19:59:40.855495Z",
     "shell.execute_reply": "2021-07-14T19:59:40.854424Z",
     "shell.execute_reply.started": "2021-07-14T19:59:40.836617Z"
    },
    "scrolled": true
   },
   "outputs": [
    {
     "data": {
      "text/html": [
       "<div>\n",
       "<style scoped>\n",
       "    .dataframe tbody tr th:only-of-type {\n",
       "        vertical-align: middle;\n",
       "    }\n",
       "\n",
       "    .dataframe tbody tr th {\n",
       "        vertical-align: top;\n",
       "    }\n",
       "\n",
       "    .dataframe thead th {\n",
       "        text-align: right;\n",
       "    }\n",
       "</style>\n",
       "<table border=\"1\" class=\"dataframe\">\n",
       "  <thead>\n",
       "    <tr style=\"text-align: right;\">\n",
       "      <th></th>\n",
       "      <th>shop_name</th>\n",
       "      <th>shop_id</th>\n",
       "      <th>city</th>\n",
       "      <th>shop_type</th>\n",
       "    </tr>\n",
       "  </thead>\n",
       "  <tbody>\n",
       "    <tr>\n",
       "      <th>0</th>\n",
       "      <td>!Якутск Орджоникидзе, 56 фран</td>\n",
       "      <td>0</td>\n",
       "      <td>Якутск</td>\n",
       "      <td>5</td>\n",
       "    </tr>\n",
       "    <tr>\n",
       "      <th>1</th>\n",
       "      <td>!Якутск ТЦ \"Центральный\" фран</td>\n",
       "      <td>1</td>\n",
       "      <td>Якутск</td>\n",
       "      <td>1</td>\n",
       "    </tr>\n",
       "    <tr>\n",
       "      <th>2</th>\n",
       "      <td>Адыгея ТЦ \"Мега\"</td>\n",
       "      <td>2</td>\n",
       "      <td>Краснодар</td>\n",
       "      <td>1</td>\n",
       "    </tr>\n",
       "    <tr>\n",
       "      <th>3</th>\n",
       "      <td>Балашиха ТРК \"Октябрь-Киномир\"</td>\n",
       "      <td>3</td>\n",
       "      <td>Балашиха</td>\n",
       "      <td>4</td>\n",
       "    </tr>\n",
       "    <tr>\n",
       "      <th>4</th>\n",
       "      <td>Волжский ТЦ \"Волга Молл\"</td>\n",
       "      <td>4</td>\n",
       "      <td>Волжский</td>\n",
       "      <td>1</td>\n",
       "    </tr>\n",
       "  </tbody>\n",
       "</table>\n",
       "</div>"
      ],
      "text/plain": [
       "                        shop_name  shop_id       city  shop_type\n",
       "0   !Якутск Орджоникидзе, 56 фран        0     Якутск          5\n",
       "1   !Якутск ТЦ \"Центральный\" фран        1     Якутск          1\n",
       "2                Адыгея ТЦ \"Мега\"        2  Краснодар          1\n",
       "3  Балашиха ТРК \"Октябрь-Киномир\"        3   Балашиха          4\n",
       "4        Волжский ТЦ \"Волга Молл\"        4   Волжский          1"
      ]
     },
     "execution_count": 60,
     "metadata": {},
     "output_type": "execute_result"
    }
   ],
   "source": [
    "def add_city(col):\n",
    "    city = col.split(' ')\n",
    "    if city[0][0] == '!':\n",
    "        return city[0][1:]\n",
    "    if city[0] == 'Адыгея':\n",
    "        return 'Краснодар'\n",
    "    return city[0]\n",
    "\n",
    "\n",
    "def add_shop_type(col):\n",
    "    if 'ТЦ' in col:\n",
    "        return 1\n",
    "    if 'ТРЦ' in col or 'МТРЦ' in col:\n",
    "        return 2\n",
    "    if 'ТК' in col:\n",
    "        return 3\n",
    "    if 'ТРК' in col:\n",
    "        return 4\n",
    "    for c in ['Якутск Орджоникидзе', 'Жуковский', 'Воронеж (Плехановская, 13)', 'Магазин С21']:\n",
    "        if c in col:\n",
    "            return 5\n",
    "    return 0\n",
    "\n",
    "\n",
    "# add features\n",
    "shops['city'] = shops.shop_name.apply(add_city)\n",
    "shops['shop_type'] = shops.shop_name.apply(add_shop_type)\n",
    "\n",
    "shops.head()"
   ]
  },
  {
   "cell_type": "markdown",
   "metadata": {},
   "source": [
    "### Add expert features for items and shops"
   ]
  },
  {
   "cell_type": "code",
   "execution_count": 62,
   "metadata": {
    "execution": {
     "iopub.execute_input": "2021-07-14T19:59:40.857313Z",
     "iopub.status.busy": "2021-07-14T19:59:40.857039Z",
     "iopub.status.idle": "2021-07-14T19:59:41.113676Z",
     "shell.execute_reply": "2021-07-14T19:59:41.110516Z",
     "shell.execute_reply.started": "2021-07-14T19:59:40.857285Z"
    },
    "scrolled": true
   },
   "outputs": [
    {
     "data": {
      "text/html": [
       "<div>\n",
       "<style scoped>\n",
       "    .dataframe tbody tr th:only-of-type {\n",
       "        vertical-align: middle;\n",
       "    }\n",
       "\n",
       "    .dataframe tbody tr th {\n",
       "        vertical-align: top;\n",
       "    }\n",
       "\n",
       "    .dataframe thead th {\n",
       "        text-align: right;\n",
       "    }\n",
       "</style>\n",
       "<table border=\"1\" class=\"dataframe\">\n",
       "  <thead>\n",
       "    <tr style=\"text-align: right;\">\n",
       "      <th></th>\n",
       "      <th>item_name</th>\n",
       "      <th>item_id</th>\n",
       "      <th>item_category_id</th>\n",
       "      <th>item_name_group</th>\n",
       "      <th>item_name_cleaned_length</th>\n",
       "      <th>item_name_length</th>\n",
       "    </tr>\n",
       "  </thead>\n",
       "  <tbody>\n",
       "    <tr>\n",
       "      <th>0</th>\n",
       "      <td>! ВО ВЛАСТИ НАВАЖДЕНИЯ (ПЛАСТ.)         D</td>\n",
       "      <td>0</td>\n",
       "      <td>40</td>\n",
       "      <td>0</td>\n",
       "      <td>29</td>\n",
       "      <td>41</td>\n",
       "    </tr>\n",
       "    <tr>\n",
       "      <th>1</th>\n",
       "      <td>!ABBYY FineReader 12 Professional Edition Full...</td>\n",
       "      <td>1</td>\n",
       "      <td>76</td>\n",
       "      <td>1</td>\n",
       "      <td>64</td>\n",
       "      <td>68</td>\n",
       "    </tr>\n",
       "    <tr>\n",
       "      <th>2</th>\n",
       "      <td>***В ЛУЧАХ СЛАВЫ   (UNV)                    D</td>\n",
       "      <td>2</td>\n",
       "      <td>40</td>\n",
       "      <td>2</td>\n",
       "      <td>19</td>\n",
       "      <td>45</td>\n",
       "    </tr>\n",
       "    <tr>\n",
       "      <th>3</th>\n",
       "      <td>***ГОЛУБАЯ ВОЛНА  (Univ)                      D</td>\n",
       "      <td>3</td>\n",
       "      <td>40</td>\n",
       "      <td>2</td>\n",
       "      <td>20</td>\n",
       "      <td>47</td>\n",
       "    </tr>\n",
       "    <tr>\n",
       "      <th>4</th>\n",
       "      <td>***КОРОБКА (СТЕКЛО)                       D</td>\n",
       "      <td>4</td>\n",
       "      <td>40</td>\n",
       "      <td>2</td>\n",
       "      <td>16</td>\n",
       "      <td>43</td>\n",
       "    </tr>\n",
       "  </tbody>\n",
       "</table>\n",
       "</div>"
      ],
      "text/plain": [
       "                                           item_name  item_id  \\\n",
       "0          ! ВО ВЛАСТИ НАВАЖДЕНИЯ (ПЛАСТ.)         D        0   \n",
       "1  !ABBYY FineReader 12 Professional Edition Full...        1   \n",
       "2      ***В ЛУЧАХ СЛАВЫ   (UNV)                    D        2   \n",
       "3    ***ГОЛУБАЯ ВОЛНА  (Univ)                      D        3   \n",
       "4        ***КОРОБКА (СТЕКЛО)                       D        4   \n",
       "\n",
       "   item_category_id  item_name_group  item_name_cleaned_length  \\\n",
       "0                40                0                        29   \n",
       "1                76                1                        64   \n",
       "2                40                2                        19   \n",
       "3                40                2                        20   \n",
       "4                40                2                        16   \n",
       "\n",
       "   item_name_length  \n",
       "0                41  \n",
       "1                68  \n",
       "2                45  \n",
       "3                47  \n",
       "4                43  "
      ]
     },
     "execution_count": 62,
     "metadata": {},
     "output_type": "execute_result"
    }
   ],
   "source": [
    "def add_global_category(col):\n",
    "    cat = col.split(' ')\n",
    "    if cat[0] == 'Игровые':\n",
    "        return 'Игровые консоли'\n",
    "    if cat[0] == 'Карты':\n",
    "        return 'Карты оплаты'\n",
    "    if cat[0] == 'Чистые':\n",
    "        return 'Чистые носители'\n",
    "    if cat[0] == 'Элементы':\n",
    "        return 'Элементы питания'\n",
    "    if cat[0] == 'Доставка':\n",
    "        return 'Доставка товара'\n",
    "    return cat[0]\n",
    "\n",
    "def add_platform(col):\n",
    "    platform_list = ['PS', 'XBOX', 'PC', 'Android', 'MAC', 'Windows', '1С', 'Blu-Ray',\n",
    "                    'CD', 'DVD', 'MP3']\n",
    "    for platform in platform_list:\n",
    "        if platform in col:\n",
    "            return platform\n",
    "    return 'None'\n",
    "\n",
    "def add_digital(col):\n",
    "    if 'Цифра' in col:\n",
    "        return 1\n",
    "    return 0\n",
    "\n",
    "def clean_item_name(string):\n",
    "    # Removes bracketed terms, special characters and extra whitespace\n",
    "    string = re.sub(r\"[^A-ZА-Яa-zа-я0-9 ]\", \"\", string)\n",
    "    string = re.sub(r\"\\s{2,}\", \" \", string)\n",
    "    string = string.lower()\n",
    "    return string\n",
    "\n",
    "def add_item_name_groups(items, thresh=70):\n",
    "    def strip_brackets(string):\n",
    "        string = re.sub(r\"\\(.*?\\)\", \"\", string)\n",
    "        string = re.sub(r\"регион\", \"\", string)\n",
    "        return string\n",
    "\n",
    "    items = items.copy()\n",
    "    items['nc'] = items.item_name.apply(strip_brackets)\n",
    "    items['ncnext'] = np.concatenate((items.nc.to_numpy()[1:], np.array([\"\"])))\n",
    "\n",
    "    def partialcompare(row):\n",
    "        return fuzz.partial_ratio(row.nc, row.ncnext)\n",
    "\n",
    "    items['partialmatch'] = items.apply(partialcompare, axis=1)\n",
    "        \n",
    "    # Assign groups\n",
    "    grp = 0\n",
    "    for i in range(items.shape[0]):\n",
    "        items.loc[i, 'item_name_group'] = grp\n",
    "        if items.loc[i, 'partialmatch'] < thresh:\n",
    "            grp += 1\n",
    "    items = items.drop(['nc', 'ncnext', 'partialmatch'], axis=1)\n",
    "    \n",
    "    items.item_name_group = items.item_name_group.astype(np.int16)\n",
    "    \n",
    "    return items\n",
    "\n",
    "# add items\n",
    "items['item_name_cleaned_length'] = items.item_name.apply(clean_item_name).apply(len)\n",
    "items['item_name_length'] = items.item_name.apply(len)\n",
    "\n",
    "item_categories['global_category'] = item_categories.item_category_name.apply(add_global_category)\n",
    "item_categories['platform'] = item_categories.item_category_name.apply(add_platform)\n",
    "\n",
    "# downcast types\n",
    "items.item_category_id = items.item_category_id\n",
    "items.item_name_cleaned_length = items.item_name_cleaned_length\n",
    "items.item_name_length = items.item_name_length\n",
    "items = add_item_name_groups(items)\n",
    "\n",
    "item_categories.item_category_id = item_categories.item_category_id\n",
    "\n",
    "items.head()"
   ]
  },
  {
   "cell_type": "code",
   "execution_count": 63,
   "metadata": {
    "execution": {
     "iopub.execute_input": "2021-07-14T19:59:41.115724Z",
     "iopub.status.busy": "2021-07-14T19:59:41.115369Z",
     "iopub.status.idle": "2021-07-14T19:59:41.127286Z",
     "shell.execute_reply": "2021-07-14T19:59:41.126137Z",
     "shell.execute_reply.started": "2021-07-14T19:59:41.115682Z"
    },
    "scrolled": true
   },
   "outputs": [
    {
     "data": {
      "text/html": [
       "<div>\n",
       "<style scoped>\n",
       "    .dataframe tbody tr th:only-of-type {\n",
       "        vertical-align: middle;\n",
       "    }\n",
       "\n",
       "    .dataframe tbody tr th {\n",
       "        vertical-align: top;\n",
       "    }\n",
       "\n",
       "    .dataframe thead th {\n",
       "        text-align: right;\n",
       "    }\n",
       "</style>\n",
       "<table border=\"1\" class=\"dataframe\">\n",
       "  <thead>\n",
       "    <tr style=\"text-align: right;\">\n",
       "      <th></th>\n",
       "      <th>item_category_name</th>\n",
       "      <th>item_category_id</th>\n",
       "      <th>global_category</th>\n",
       "      <th>platform</th>\n",
       "    </tr>\n",
       "  </thead>\n",
       "  <tbody>\n",
       "    <tr>\n",
       "      <th>0</th>\n",
       "      <td>PC - Гарнитуры/Наушники</td>\n",
       "      <td>0</td>\n",
       "      <td>PC</td>\n",
       "      <td>PC</td>\n",
       "    </tr>\n",
       "    <tr>\n",
       "      <th>1</th>\n",
       "      <td>Аксессуары - PS2</td>\n",
       "      <td>1</td>\n",
       "      <td>Аксессуары</td>\n",
       "      <td>PS</td>\n",
       "    </tr>\n",
       "    <tr>\n",
       "      <th>2</th>\n",
       "      <td>Аксессуары - PS3</td>\n",
       "      <td>2</td>\n",
       "      <td>Аксессуары</td>\n",
       "      <td>PS</td>\n",
       "    </tr>\n",
       "    <tr>\n",
       "      <th>3</th>\n",
       "      <td>Аксессуары - PS4</td>\n",
       "      <td>3</td>\n",
       "      <td>Аксессуары</td>\n",
       "      <td>PS</td>\n",
       "    </tr>\n",
       "    <tr>\n",
       "      <th>4</th>\n",
       "      <td>Аксессуары - PSP</td>\n",
       "      <td>4</td>\n",
       "      <td>Аксессуары</td>\n",
       "      <td>PS</td>\n",
       "    </tr>\n",
       "  </tbody>\n",
       "</table>\n",
       "</div>"
      ],
      "text/plain": [
       "        item_category_name  item_category_id global_category platform\n",
       "0  PC - Гарнитуры/Наушники                 0              PC       PC\n",
       "1         Аксессуары - PS2                 1      Аксессуары       PS\n",
       "2         Аксессуары - PS3                 2      Аксессуары       PS\n",
       "3         Аксессуары - PS4                 3      Аксессуары       PS\n",
       "4         Аксессуары - PSP                 4      Аксессуары       PS"
      ]
     },
     "execution_count": 63,
     "metadata": {},
     "output_type": "execute_result"
    }
   ],
   "source": [
    "item_categories.head()"
   ]
  },
  {
   "cell_type": "markdown",
   "metadata": {},
   "source": [
    "### Add data from other datasets to train and test datasets"
   ]
  },
  {
   "cell_type": "markdown",
   "metadata": {},
   "source": [
    "Train dataset"
   ]
  },
  {
   "cell_type": "code",
   "execution_count": 30,
   "metadata": {
    "execution": {
     "iopub.execute_input": "2021-07-14T19:59:41.128786Z",
     "iopub.status.busy": "2021-07-14T19:59:41.128413Z",
     "iopub.status.idle": "2021-07-14T19:59:48.176056Z",
     "shell.execute_reply": "2021-07-14T19:59:48.174703Z",
     "shell.execute_reply.started": "2021-07-14T19:59:41.128756Z"
    }
   },
   "outputs": [
    {
     "data": {
      "text/html": [
       "<div>\n",
       "<style scoped>\n",
       "    .dataframe tbody tr th:only-of-type {\n",
       "        vertical-align: middle;\n",
       "    }\n",
       "\n",
       "    .dataframe tbody tr th {\n",
       "        vertical-align: top;\n",
       "    }\n",
       "\n",
       "    .dataframe thead th {\n",
       "        text-align: right;\n",
       "    }\n",
       "</style>\n",
       "<table border=\"1\" class=\"dataframe\">\n",
       "  <thead>\n",
       "    <tr style=\"text-align: right;\">\n",
       "      <th></th>\n",
       "      <th>date_block_num</th>\n",
       "      <th>shop_id</th>\n",
       "      <th>item_id</th>\n",
       "      <th>item_cnt_month</th>\n",
       "      <th>sale_days_in_month</th>\n",
       "      <th>item_deals_month</th>\n",
       "      <th>item_price</th>\n",
       "      <th>first_day</th>\n",
       "      <th>last_day</th>\n",
       "      <th>item_name</th>\n",
       "      <th>item_category_id</th>\n",
       "      <th>item_name_cleaned_length</th>\n",
       "      <th>item_name_length</th>\n",
       "      <th>item_category_name</th>\n",
       "      <th>global_category</th>\n",
       "      <th>shop_name</th>\n",
       "      <th>city</th>\n",
       "      <th>shop_type</th>\n",
       "      <th>days_in_month</th>\n",
       "      <th>season</th>\n",
       "      <th>holidays_and_weekends_in_month</th>\n",
       "    </tr>\n",
       "  </thead>\n",
       "  <tbody>\n",
       "    <tr>\n",
       "      <th>0</th>\n",
       "      <td>0</td>\n",
       "      <td>2</td>\n",
       "      <td>19</td>\n",
       "      <td>0.0</td>\n",
       "      <td>0.0</td>\n",
       "      <td>0.0</td>\n",
       "      <td>0.0</td>\n",
       "      <td>0.0</td>\n",
       "      <td>0.0</td>\n",
       "      <td>/ЗОЛОТАЯ КОЛЛЕКЦИЯ м/ф-72</td>\n",
       "      <td>40</td>\n",
       "      <td>22</td>\n",
       "      <td>25</td>\n",
       "      <td>Кино - DVD</td>\n",
       "      <td>Кино</td>\n",
       "      <td>Адыгея ТЦ \"Мега\"</td>\n",
       "      <td>Краснодар</td>\n",
       "      <td>1</td>\n",
       "      <td>31</td>\n",
       "      <td>winter</td>\n",
       "      <td>14</td>\n",
       "    </tr>\n",
       "    <tr>\n",
       "      <th>1</th>\n",
       "      <td>0</td>\n",
       "      <td>2</td>\n",
       "      <td>27</td>\n",
       "      <td>1.0</td>\n",
       "      <td>1.0</td>\n",
       "      <td>1.0</td>\n",
       "      <td>2499.0</td>\n",
       "      <td>11.0</td>\n",
       "      <td>11.0</td>\n",
       "      <td>007 Legends [PS3, русская версия]</td>\n",
       "      <td>19</td>\n",
       "      <td>30</td>\n",
       "      <td>33</td>\n",
       "      <td>Игры - PS3</td>\n",
       "      <td>Игры</td>\n",
       "      <td>Адыгея ТЦ \"Мега\"</td>\n",
       "      <td>Краснодар</td>\n",
       "      <td>1</td>\n",
       "      <td>31</td>\n",
       "      <td>winter</td>\n",
       "      <td>14</td>\n",
       "    </tr>\n",
       "    <tr>\n",
       "      <th>2</th>\n",
       "      <td>0</td>\n",
       "      <td>2</td>\n",
       "      <td>28</td>\n",
       "      <td>0.0</td>\n",
       "      <td>0.0</td>\n",
       "      <td>0.0</td>\n",
       "      <td>0.0</td>\n",
       "      <td>0.0</td>\n",
       "      <td>0.0</td>\n",
       "      <td>007 Legends [PС, Jewel, русская версия]</td>\n",
       "      <td>30</td>\n",
       "      <td>35</td>\n",
       "      <td>39</td>\n",
       "      <td>Игры PC - Стандартные издания</td>\n",
       "      <td>Игры</td>\n",
       "      <td>Адыгея ТЦ \"Мега\"</td>\n",
       "      <td>Краснодар</td>\n",
       "      <td>1</td>\n",
       "      <td>31</td>\n",
       "      <td>winter</td>\n",
       "      <td>14</td>\n",
       "    </tr>\n",
       "    <tr>\n",
       "      <th>3</th>\n",
       "      <td>0</td>\n",
       "      <td>2</td>\n",
       "      <td>29</td>\n",
       "      <td>0.0</td>\n",
       "      <td>0.0</td>\n",
       "      <td>0.0</td>\n",
       "      <td>0.0</td>\n",
       "      <td>0.0</td>\n",
       "      <td>0.0</td>\n",
       "      <td>007 Legends [Xbox 360, русская версия]</td>\n",
       "      <td>23</td>\n",
       "      <td>35</td>\n",
       "      <td>38</td>\n",
       "      <td>Игры - XBOX 360</td>\n",
       "      <td>Игры</td>\n",
       "      <td>Адыгея ТЦ \"Мега\"</td>\n",
       "      <td>Краснодар</td>\n",
       "      <td>1</td>\n",
       "      <td>31</td>\n",
       "      <td>winter</td>\n",
       "      <td>14</td>\n",
       "    </tr>\n",
       "    <tr>\n",
       "      <th>4</th>\n",
       "      <td>0</td>\n",
       "      <td>2</td>\n",
       "      <td>32</td>\n",
       "      <td>0.0</td>\n",
       "      <td>0.0</td>\n",
       "      <td>0.0</td>\n",
       "      <td>0.0</td>\n",
       "      <td>0.0</td>\n",
       "      <td>0.0</td>\n",
       "      <td>1+1</td>\n",
       "      <td>40</td>\n",
       "      <td>2</td>\n",
       "      <td>3</td>\n",
       "      <td>Кино - DVD</td>\n",
       "      <td>Кино</td>\n",
       "      <td>Адыгея ТЦ \"Мега\"</td>\n",
       "      <td>Краснодар</td>\n",
       "      <td>1</td>\n",
       "      <td>31</td>\n",
       "      <td>winter</td>\n",
       "      <td>14</td>\n",
       "    </tr>\n",
       "  </tbody>\n",
       "</table>\n",
       "</div>"
      ],
      "text/plain": [
       "   date_block_num  shop_id  item_id  item_cnt_month  sale_days_in_month  \\\n",
       "0               0        2       19             0.0                 0.0   \n",
       "1               0        2       27             1.0                 1.0   \n",
       "2               0        2       28             0.0                 0.0   \n",
       "3               0        2       29             0.0                 0.0   \n",
       "4               0        2       32             0.0                 0.0   \n",
       "\n",
       "   item_deals_month  item_price  first_day  last_day  \\\n",
       "0               0.0         0.0        0.0       0.0   \n",
       "1               1.0      2499.0       11.0      11.0   \n",
       "2               0.0         0.0        0.0       0.0   \n",
       "3               0.0         0.0        0.0       0.0   \n",
       "4               0.0         0.0        0.0       0.0   \n",
       "\n",
       "                                 item_name  item_category_id  \\\n",
       "0                /ЗОЛОТАЯ КОЛЛЕКЦИЯ м/ф-72                40   \n",
       "1        007 Legends [PS3, русская версия]                19   \n",
       "2  007 Legends [PС, Jewel, русская версия]                30   \n",
       "3   007 Legends [Xbox 360, русская версия]                23   \n",
       "4                                      1+1                40   \n",
       "\n",
       "   item_name_cleaned_length  item_name_length             item_category_name  \\\n",
       "0                        22                25                     Кино - DVD   \n",
       "1                        30                33                     Игры - PS3   \n",
       "2                        35                39  Игры PC - Стандартные издания   \n",
       "3                        35                38                Игры - XBOX 360   \n",
       "4                         2                 3                     Кино - DVD   \n",
       "\n",
       "  global_category         shop_name       city  shop_type  days_in_month  \\\n",
       "0            Кино  Адыгея ТЦ \"Мега\"  Краснодар          1             31   \n",
       "1            Игры  Адыгея ТЦ \"Мега\"  Краснодар          1             31   \n",
       "2            Игры  Адыгея ТЦ \"Мега\"  Краснодар          1             31   \n",
       "3            Игры  Адыгея ТЦ \"Мега\"  Краснодар          1             31   \n",
       "4            Кино  Адыгея ТЦ \"Мега\"  Краснодар          1             31   \n",
       "\n",
       "   season  holidays_and_weekends_in_month  \n",
       "0  winter                              14  \n",
       "1  winter                              14  \n",
       "2  winter                              14  \n",
       "3  winter                              14  \n",
       "4  winter                              14  "
      ]
     },
     "execution_count": 30,
     "metadata": {},
     "output_type": "execute_result"
    }
   ],
   "source": [
    "all_data = all_data.join(items.set_index('item_id'), on='item_id')\n",
    "all_data = all_data.join(item_categories.set_index('item_category_id'), on='item_category_id')\n",
    "all_data = all_data.join(shops.set_index('shop_id'), on='shop_id')\n",
    "all_data = all_data.join(date_blocks.set_index('date_block_num'), on='date_block_num')\n",
    "\n",
    "all_data.head()"
   ]
  },
  {
   "cell_type": "code",
   "execution_count": 31,
   "metadata": {
    "execution": {
     "iopub.execute_input": "2021-07-14T19:59:48.177436Z",
     "iopub.status.busy": "2021-07-14T19:59:48.177177Z",
     "iopub.status.idle": "2021-07-14T19:59:48.206914Z",
     "shell.execute_reply": "2021-07-14T19:59:48.205692Z",
     "shell.execute_reply.started": "2021-07-14T19:59:48.177409Z"
    },
    "scrolled": true
   },
   "outputs": [
    {
     "data": {
      "text/html": [
       "<div>\n",
       "<style scoped>\n",
       "    .dataframe tbody tr th:only-of-type {\n",
       "        vertical-align: middle;\n",
       "    }\n",
       "\n",
       "    .dataframe tbody tr th {\n",
       "        vertical-align: top;\n",
       "    }\n",
       "\n",
       "    .dataframe thead th {\n",
       "        text-align: right;\n",
       "    }\n",
       "</style>\n",
       "<table border=\"1\" class=\"dataframe\">\n",
       "  <thead>\n",
       "    <tr style=\"text-align: right;\">\n",
       "      <th></th>\n",
       "      <th>date_block_num</th>\n",
       "      <th>shop_id</th>\n",
       "      <th>item_id</th>\n",
       "      <th>item_cnt_month</th>\n",
       "      <th>sale_days_in_month</th>\n",
       "      <th>item_deals_month</th>\n",
       "      <th>item_price</th>\n",
       "      <th>first_day</th>\n",
       "      <th>last_day</th>\n",
       "      <th>item_name</th>\n",
       "      <th>item_category_id</th>\n",
       "      <th>item_name_cleaned_length</th>\n",
       "      <th>item_name_length</th>\n",
       "      <th>item_category_name</th>\n",
       "      <th>global_category</th>\n",
       "      <th>shop_name</th>\n",
       "      <th>city</th>\n",
       "      <th>shop_type</th>\n",
       "      <th>days_in_month</th>\n",
       "      <th>season</th>\n",
       "      <th>holidays_and_weekends_in_month</th>\n",
       "    </tr>\n",
       "  </thead>\n",
       "  <tbody>\n",
       "    <tr>\n",
       "      <th>0</th>\n",
       "      <td>0</td>\n",
       "      <td>2</td>\n",
       "      <td>19</td>\n",
       "      <td>0.0</td>\n",
       "      <td>0.0</td>\n",
       "      <td>0.0</td>\n",
       "      <td>0.0</td>\n",
       "      <td>0.0</td>\n",
       "      <td>0.0</td>\n",
       "      <td>/ЗОЛОТАЯ КОЛЛЕКЦИЯ м/ф-72</td>\n",
       "      <td>40</td>\n",
       "      <td>22</td>\n",
       "      <td>25</td>\n",
       "      <td>Кино - DVD</td>\n",
       "      <td>Кино</td>\n",
       "      <td>Адыгея ТЦ \"Мега\"</td>\n",
       "      <td>Краснодар</td>\n",
       "      <td>1</td>\n",
       "      <td>31</td>\n",
       "      <td>winter</td>\n",
       "      <td>14</td>\n",
       "    </tr>\n",
       "    <tr>\n",
       "      <th>1</th>\n",
       "      <td>0</td>\n",
       "      <td>2</td>\n",
       "      <td>27</td>\n",
       "      <td>1.0</td>\n",
       "      <td>1.0</td>\n",
       "      <td>1.0</td>\n",
       "      <td>2499.0</td>\n",
       "      <td>11.0</td>\n",
       "      <td>11.0</td>\n",
       "      <td>007 Legends [PS3, русская версия]</td>\n",
       "      <td>19</td>\n",
       "      <td>30</td>\n",
       "      <td>33</td>\n",
       "      <td>Игры - PS3</td>\n",
       "      <td>Игры</td>\n",
       "      <td>Адыгея ТЦ \"Мега\"</td>\n",
       "      <td>Краснодар</td>\n",
       "      <td>1</td>\n",
       "      <td>31</td>\n",
       "      <td>winter</td>\n",
       "      <td>14</td>\n",
       "    </tr>\n",
       "    <tr>\n",
       "      <th>2</th>\n",
       "      <td>0</td>\n",
       "      <td>2</td>\n",
       "      <td>28</td>\n",
       "      <td>0.0</td>\n",
       "      <td>0.0</td>\n",
       "      <td>0.0</td>\n",
       "      <td>0.0</td>\n",
       "      <td>0.0</td>\n",
       "      <td>0.0</td>\n",
       "      <td>007 Legends [PС, Jewel, русская версия]</td>\n",
       "      <td>30</td>\n",
       "      <td>35</td>\n",
       "      <td>39</td>\n",
       "      <td>Игры PC - Стандартные издания</td>\n",
       "      <td>Игры</td>\n",
       "      <td>Адыгея ТЦ \"Мега\"</td>\n",
       "      <td>Краснодар</td>\n",
       "      <td>1</td>\n",
       "      <td>31</td>\n",
       "      <td>winter</td>\n",
       "      <td>14</td>\n",
       "    </tr>\n",
       "    <tr>\n",
       "      <th>3</th>\n",
       "      <td>0</td>\n",
       "      <td>2</td>\n",
       "      <td>29</td>\n",
       "      <td>0.0</td>\n",
       "      <td>0.0</td>\n",
       "      <td>0.0</td>\n",
       "      <td>0.0</td>\n",
       "      <td>0.0</td>\n",
       "      <td>0.0</td>\n",
       "      <td>007 Legends [Xbox 360, русская версия]</td>\n",
       "      <td>23</td>\n",
       "      <td>35</td>\n",
       "      <td>38</td>\n",
       "      <td>Игры - XBOX 360</td>\n",
       "      <td>Игры</td>\n",
       "      <td>Адыгея ТЦ \"Мега\"</td>\n",
       "      <td>Краснодар</td>\n",
       "      <td>1</td>\n",
       "      <td>31</td>\n",
       "      <td>winter</td>\n",
       "      <td>14</td>\n",
       "    </tr>\n",
       "    <tr>\n",
       "      <th>4</th>\n",
       "      <td>0</td>\n",
       "      <td>2</td>\n",
       "      <td>32</td>\n",
       "      <td>0.0</td>\n",
       "      <td>0.0</td>\n",
       "      <td>0.0</td>\n",
       "      <td>0.0</td>\n",
       "      <td>0.0</td>\n",
       "      <td>0.0</td>\n",
       "      <td>1+1</td>\n",
       "      <td>40</td>\n",
       "      <td>2</td>\n",
       "      <td>3</td>\n",
       "      <td>Кино - DVD</td>\n",
       "      <td>Кино</td>\n",
       "      <td>Адыгея ТЦ \"Мега\"</td>\n",
       "      <td>Краснодар</td>\n",
       "      <td>1</td>\n",
       "      <td>31</td>\n",
       "      <td>winter</td>\n",
       "      <td>14</td>\n",
       "    </tr>\n",
       "  </tbody>\n",
       "</table>\n",
       "</div>"
      ],
      "text/plain": [
       "   date_block_num  shop_id  item_id  item_cnt_month  sale_days_in_month  \\\n",
       "0               0        2       19             0.0                 0.0   \n",
       "1               0        2       27             1.0                 1.0   \n",
       "2               0        2       28             0.0                 0.0   \n",
       "3               0        2       29             0.0                 0.0   \n",
       "4               0        2       32             0.0                 0.0   \n",
       "\n",
       "   item_deals_month  item_price  first_day  last_day  \\\n",
       "0               0.0         0.0        0.0       0.0   \n",
       "1               1.0      2499.0       11.0      11.0   \n",
       "2               0.0         0.0        0.0       0.0   \n",
       "3               0.0         0.0        0.0       0.0   \n",
       "4               0.0         0.0        0.0       0.0   \n",
       "\n",
       "                                 item_name  item_category_id  \\\n",
       "0                /ЗОЛОТАЯ КОЛЛЕКЦИЯ м/ф-72                40   \n",
       "1        007 Legends [PS3, русская версия]                19   \n",
       "2  007 Legends [PС, Jewel, русская версия]                30   \n",
       "3   007 Legends [Xbox 360, русская версия]                23   \n",
       "4                                      1+1                40   \n",
       "\n",
       "   item_name_cleaned_length  item_name_length             item_category_name  \\\n",
       "0                        22                25                     Кино - DVD   \n",
       "1                        30                33                     Игры - PS3   \n",
       "2                        35                39  Игры PC - Стандартные издания   \n",
       "3                        35                38                Игры - XBOX 360   \n",
       "4                         2                 3                     Кино - DVD   \n",
       "\n",
       "  global_category         shop_name       city  shop_type  days_in_month  \\\n",
       "0            Кино  Адыгея ТЦ \"Мега\"  Краснодар          1             31   \n",
       "1            Игры  Адыгея ТЦ \"Мега\"  Краснодар          1             31   \n",
       "2            Игры  Адыгея ТЦ \"Мега\"  Краснодар          1             31   \n",
       "3            Игры  Адыгея ТЦ \"Мега\"  Краснодар          1             31   \n",
       "4            Кино  Адыгея ТЦ \"Мега\"  Краснодар          1             31   \n",
       "\n",
       "   season  holidays_and_weekends_in_month  \n",
       "0  winter                              14  \n",
       "1  winter                              14  \n",
       "2  winter                              14  \n",
       "3  winter                              14  \n",
       "4  winter                              14  "
      ]
     },
     "execution_count": 31,
     "metadata": {},
     "output_type": "execute_result"
    }
   ],
   "source": [
    "all_data.head()"
   ]
  },
  {
   "cell_type": "markdown",
   "metadata": {},
   "source": [
    "### Add feature that shows how many days ago item was sold before by current shop"
   ]
  },
  {
   "cell_type": "code",
   "execution_count": 32,
   "metadata": {
    "execution": {
     "iopub.execute_input": "2021-07-14T19:59:48.209352Z",
     "iopub.status.busy": "2021-07-14T19:59:48.20888Z",
     "iopub.status.idle": "2021-07-14T20:09:59.778235Z",
     "shell.execute_reply": "2021-07-14T20:09:59.777163Z",
     "shell.execute_reply.started": "2021-07-14T19:59:48.209311Z"
    },
    "scrolled": true
   },
   "outputs": [
    {
     "data": {
      "application/vnd.jupyter.widget-view+json": {
       "model_id": "b70ce418469340bdbac9175aa8109fac",
       "version_major": 2,
       "version_minor": 0
      },
      "text/plain": [
       "  0%|          | 0/11056323 [00:00<?, ?it/s]"
      ]
     },
     "metadata": {},
     "output_type": "display_data"
    },
    {
     "name": "stdout",
     "output_type": "stream",
     "text": [
      "CPU times: user 4min 17s, sys: 3.05 s, total: 4min 20s\n",
      "Wall time: 4min 19s\n"
     ]
    },
    {
     "data": {
      "text/html": [
       "<div>\n",
       "<style scoped>\n",
       "    .dataframe tbody tr th:only-of-type {\n",
       "        vertical-align: middle;\n",
       "    }\n",
       "\n",
       "    .dataframe tbody tr th {\n",
       "        vertical-align: top;\n",
       "    }\n",
       "\n",
       "    .dataframe thead th {\n",
       "        text-align: right;\n",
       "    }\n",
       "</style>\n",
       "<table border=\"1\" class=\"dataframe\">\n",
       "  <thead>\n",
       "    <tr style=\"text-align: right;\">\n",
       "      <th></th>\n",
       "      <th>date_block_num</th>\n",
       "      <th>shop_id</th>\n",
       "      <th>item_id</th>\n",
       "      <th>item_cnt_month</th>\n",
       "      <th>sale_days_in_month</th>\n",
       "      <th>item_deals_month</th>\n",
       "      <th>item_price</th>\n",
       "      <th>item_name</th>\n",
       "      <th>item_category_id</th>\n",
       "      <th>item_name_cleaned_length</th>\n",
       "      <th>item_name_length</th>\n",
       "      <th>item_category_name</th>\n",
       "      <th>global_category</th>\n",
       "      <th>shop_name</th>\n",
       "      <th>city</th>\n",
       "      <th>shop_type</th>\n",
       "      <th>days_in_month</th>\n",
       "      <th>season</th>\n",
       "      <th>holidays_and_weekends_in_month</th>\n",
       "      <th>last_saled_days_ago</th>\n",
       "    </tr>\n",
       "  </thead>\n",
       "  <tbody>\n",
       "    <tr>\n",
       "      <th>0</th>\n",
       "      <td>0</td>\n",
       "      <td>2</td>\n",
       "      <td>19</td>\n",
       "      <td>0.0</td>\n",
       "      <td>0.0</td>\n",
       "      <td>0.0</td>\n",
       "      <td>0.0</td>\n",
       "      <td>/ЗОЛОТАЯ КОЛЛЕКЦИЯ м/ф-72</td>\n",
       "      <td>40</td>\n",
       "      <td>22</td>\n",
       "      <td>25</td>\n",
       "      <td>Кино - DVD</td>\n",
       "      <td>Кино</td>\n",
       "      <td>Адыгея ТЦ \"Мега\"</td>\n",
       "      <td>Краснодар</td>\n",
       "      <td>1</td>\n",
       "      <td>31</td>\n",
       "      <td>winter</td>\n",
       "      <td>14</td>\n",
       "      <td>0.0</td>\n",
       "    </tr>\n",
       "    <tr>\n",
       "      <th>1</th>\n",
       "      <td>0</td>\n",
       "      <td>2</td>\n",
       "      <td>27</td>\n",
       "      <td>1.0</td>\n",
       "      <td>1.0</td>\n",
       "      <td>1.0</td>\n",
       "      <td>2499.0</td>\n",
       "      <td>007 Legends [PS3, русская версия]</td>\n",
       "      <td>19</td>\n",
       "      <td>30</td>\n",
       "      <td>33</td>\n",
       "      <td>Игры - PS3</td>\n",
       "      <td>Игры</td>\n",
       "      <td>Адыгея ТЦ \"Мега\"</td>\n",
       "      <td>Краснодар</td>\n",
       "      <td>1</td>\n",
       "      <td>31</td>\n",
       "      <td>winter</td>\n",
       "      <td>14</td>\n",
       "      <td>0.0</td>\n",
       "    </tr>\n",
       "    <tr>\n",
       "      <th>2</th>\n",
       "      <td>0</td>\n",
       "      <td>2</td>\n",
       "      <td>28</td>\n",
       "      <td>0.0</td>\n",
       "      <td>0.0</td>\n",
       "      <td>0.0</td>\n",
       "      <td>0.0</td>\n",
       "      <td>007 Legends [PС, Jewel, русская версия]</td>\n",
       "      <td>30</td>\n",
       "      <td>35</td>\n",
       "      <td>39</td>\n",
       "      <td>Игры PC - Стандартные издания</td>\n",
       "      <td>Игры</td>\n",
       "      <td>Адыгея ТЦ \"Мега\"</td>\n",
       "      <td>Краснодар</td>\n",
       "      <td>1</td>\n",
       "      <td>31</td>\n",
       "      <td>winter</td>\n",
       "      <td>14</td>\n",
       "      <td>0.0</td>\n",
       "    </tr>\n",
       "    <tr>\n",
       "      <th>3</th>\n",
       "      <td>0</td>\n",
       "      <td>2</td>\n",
       "      <td>29</td>\n",
       "      <td>0.0</td>\n",
       "      <td>0.0</td>\n",
       "      <td>0.0</td>\n",
       "      <td>0.0</td>\n",
       "      <td>007 Legends [Xbox 360, русская версия]</td>\n",
       "      <td>23</td>\n",
       "      <td>35</td>\n",
       "      <td>38</td>\n",
       "      <td>Игры - XBOX 360</td>\n",
       "      <td>Игры</td>\n",
       "      <td>Адыгея ТЦ \"Мега\"</td>\n",
       "      <td>Краснодар</td>\n",
       "      <td>1</td>\n",
       "      <td>31</td>\n",
       "      <td>winter</td>\n",
       "      <td>14</td>\n",
       "      <td>0.0</td>\n",
       "    </tr>\n",
       "    <tr>\n",
       "      <th>4</th>\n",
       "      <td>0</td>\n",
       "      <td>2</td>\n",
       "      <td>32</td>\n",
       "      <td>0.0</td>\n",
       "      <td>0.0</td>\n",
       "      <td>0.0</td>\n",
       "      <td>0.0</td>\n",
       "      <td>1+1</td>\n",
       "      <td>40</td>\n",
       "      <td>2</td>\n",
       "      <td>3</td>\n",
       "      <td>Кино - DVD</td>\n",
       "      <td>Кино</td>\n",
       "      <td>Адыгея ТЦ \"Мега\"</td>\n",
       "      <td>Краснодар</td>\n",
       "      <td>1</td>\n",
       "      <td>31</td>\n",
       "      <td>winter</td>\n",
       "      <td>14</td>\n",
       "      <td>0.0</td>\n",
       "    </tr>\n",
       "  </tbody>\n",
       "</table>\n",
       "</div>"
      ],
      "text/plain": [
       "   date_block_num  shop_id  item_id  item_cnt_month  sale_days_in_month  \\\n",
       "0               0        2       19             0.0                 0.0   \n",
       "1               0        2       27             1.0                 1.0   \n",
       "2               0        2       28             0.0                 0.0   \n",
       "3               0        2       29             0.0                 0.0   \n",
       "4               0        2       32             0.0                 0.0   \n",
       "\n",
       "   item_deals_month  item_price                                item_name  \\\n",
       "0               0.0         0.0                /ЗОЛОТАЯ КОЛЛЕКЦИЯ м/ф-72   \n",
       "1               1.0      2499.0        007 Legends [PS3, русская версия]   \n",
       "2               0.0         0.0  007 Legends [PС, Jewel, русская версия]   \n",
       "3               0.0         0.0   007 Legends [Xbox 360, русская версия]   \n",
       "4               0.0         0.0                                      1+1   \n",
       "\n",
       "   item_category_id  item_name_cleaned_length  item_name_length  \\\n",
       "0                40                        22                25   \n",
       "1                19                        30                33   \n",
       "2                30                        35                39   \n",
       "3                23                        35                38   \n",
       "4                40                         2                 3   \n",
       "\n",
       "              item_category_name global_category         shop_name       city  \\\n",
       "0                     Кино - DVD            Кино  Адыгея ТЦ \"Мега\"  Краснодар   \n",
       "1                     Игры - PS3            Игры  Адыгея ТЦ \"Мега\"  Краснодар   \n",
       "2  Игры PC - Стандартные издания            Игры  Адыгея ТЦ \"Мега\"  Краснодар   \n",
       "3                Игры - XBOX 360            Игры  Адыгея ТЦ \"Мега\"  Краснодар   \n",
       "4                     Кино - DVD            Кино  Адыгея ТЦ \"Мега\"  Краснодар   \n",
       "\n",
       "   shop_type  days_in_month  season  holidays_and_weekends_in_month  \\\n",
       "0          1             31  winter                              14   \n",
       "1          1             31  winter                              14   \n",
       "2          1             31  winter                              14   \n",
       "3          1             31  winter                              14   \n",
       "4          1             31  winter                              14   \n",
       "\n",
       "   last_saled_days_ago  \n",
       "0                  0.0  \n",
       "1                  0.0  \n",
       "2                  0.0  \n",
       "3                  0.0  \n",
       "4                  0.0  "
      ]
     },
     "execution_count": 32,
     "metadata": {},
     "output_type": "execute_result"
    }
   ],
   "source": [
    "%%time\n",
    "from tqdm.auto import tqdm\n",
    "\n",
    "# Create new `pandas` methods which use `tqdm` progress\n",
    "# (can use tqdm_gui, optional kwargs, etc.)\n",
    "tqdm.pandas()\n",
    "\n",
    "# dictionary for storing of the last date_block for current item in current shop\n",
    "ids_dict = dict()\n",
    "\n",
    "def get_prev_sales(row):\n",
    "    shop_id, item_id, item_cnt_month, last_day, days_in_month = row.shop_id, row.item_id, row.item_cnt_month, row.last_day, row.days_in_month\n",
    "    if (shop_id, item_id) in ids_dict:\n",
    "        res = ids_dict[(shop_id, item_id)]\n",
    "        if item_cnt_month != 0:\n",
    "            ids_dict[(shop_id, item_id)] = days_in_month - last_day + 1\n",
    "        else:\n",
    "            ids_dict[(shop_id, item_id)] += days_in_month\n",
    "    else:\n",
    "        res = 0\n",
    "        ids_dict[(shop_id, item_id)] = days_in_month - last_day + 1\n",
    "    return res\n",
    "\n",
    "   \n",
    "all_data['last_saled_days_ago'] = all_data.progress_apply(get_prev_sales, axis=1).astype(np.float32)\n",
    "all_data.drop(['first_day', 'last_day'], axis=1, inplace=True)\n",
    "\n",
    "del ids_dict\n",
    "gc.collect()\n",
    "\n",
    "all_data.head()"
   ]
  },
  {
   "cell_type": "markdown",
   "metadata": {},
   "source": [
    "### Add sum/mean encoded features"
   ]
  },
  {
   "cell_type": "code",
   "execution_count": 33,
   "metadata": {
    "execution": {
     "iopub.execute_input": "2021-07-14T20:09:59.780667Z",
     "iopub.status.busy": "2021-07-14T20:09:59.780177Z",
     "iopub.status.idle": "2021-07-14T20:10:06.989792Z",
     "shell.execute_reply": "2021-07-14T20:10:06.988451Z",
     "shell.execute_reply.started": "2021-07-14T20:09:59.78063Z"
    },
    "scrolled": true
   },
   "outputs": [
    {
     "data": {
      "text/html": [
       "<div>\n",
       "<style scoped>\n",
       "    .dataframe tbody tr th:only-of-type {\n",
       "        vertical-align: middle;\n",
       "    }\n",
       "\n",
       "    .dataframe tbody tr th {\n",
       "        vertical-align: top;\n",
       "    }\n",
       "\n",
       "    .dataframe thead th {\n",
       "        text-align: right;\n",
       "    }\n",
       "</style>\n",
       "<table border=\"1\" class=\"dataframe\">\n",
       "  <thead>\n",
       "    <tr style=\"text-align: right;\">\n",
       "      <th></th>\n",
       "      <th>date_block_num</th>\n",
       "      <th>shop_id</th>\n",
       "      <th>item_id</th>\n",
       "      <th>item_cnt_month</th>\n",
       "      <th>sale_days_in_month</th>\n",
       "      <th>item_deals_month</th>\n",
       "      <th>item_price</th>\n",
       "      <th>item_name</th>\n",
       "      <th>item_category_id</th>\n",
       "      <th>item_name_cleaned_length</th>\n",
       "      <th>item_name_length</th>\n",
       "      <th>item_category_name</th>\n",
       "      <th>global_category</th>\n",
       "      <th>shop_name</th>\n",
       "      <th>city</th>\n",
       "      <th>shop_type</th>\n",
       "      <th>days_in_month</th>\n",
       "      <th>season</th>\n",
       "      <th>holidays_and_weekends_in_month</th>\n",
       "      <th>last_saled_days_ago</th>\n",
       "      <th>sum_item_cnt_month_by_shop_id</th>\n",
       "      <th>mean_item_price_by_shop_id</th>\n",
       "      <th>sum_item_cnt_month_by_item_category_id</th>\n",
       "      <th>mean_item_price_by_item_category_id</th>\n",
       "      <th>sum_item_cnt_month_by_item_id</th>\n",
       "      <th>mean_item_price_by_item_id</th>\n",
       "      <th>sum_item_cnt_month_by_global_category</th>\n",
       "      <th>mean_item_price_by_global_category</th>\n",
       "    </tr>\n",
       "  </thead>\n",
       "  <tbody>\n",
       "    <tr>\n",
       "      <th>0</th>\n",
       "      <td>0</td>\n",
       "      <td>2</td>\n",
       "      <td>19</td>\n",
       "      <td>0.0</td>\n",
       "      <td>0.0</td>\n",
       "      <td>0.0</td>\n",
       "      <td>0.0</td>\n",
       "      <td>/ЗОЛОТАЯ КОЛЛЕКЦИЯ м/ф-72</td>\n",
       "      <td>40</td>\n",
       "      <td>22</td>\n",
       "      <td>25</td>\n",
       "      <td>Кино - DVD</td>\n",
       "      <td>Кино</td>\n",
       "      <td>Адыгея ТЦ \"Мега\"</td>\n",
       "      <td>Краснодар</td>\n",
       "      <td>1</td>\n",
       "      <td>31</td>\n",
       "      <td>winter</td>\n",
       "      <td>14</td>\n",
       "      <td>0.0</td>\n",
       "      <td>1146.0</td>\n",
       "      <td>80.15345</td>\n",
       "      <td>33488.0</td>\n",
       "      <td>35.657887</td>\n",
       "      <td>1.0</td>\n",
       "      <td>0.622222</td>\n",
       "      <td>43001.0</td>\n",
       "      <td>54.498623</td>\n",
       "    </tr>\n",
       "    <tr>\n",
       "      <th>1</th>\n",
       "      <td>0</td>\n",
       "      <td>2</td>\n",
       "      <td>27</td>\n",
       "      <td>1.0</td>\n",
       "      <td>1.0</td>\n",
       "      <td>1.0</td>\n",
       "      <td>2499.0</td>\n",
       "      <td>007 Legends [PS3, русская версия]</td>\n",
       "      <td>19</td>\n",
       "      <td>30</td>\n",
       "      <td>33</td>\n",
       "      <td>Игры - PS3</td>\n",
       "      <td>Игры</td>\n",
       "      <td>Адыгея ТЦ \"Мега\"</td>\n",
       "      <td>Краснодар</td>\n",
       "      <td>1</td>\n",
       "      <td>31</td>\n",
       "      <td>winter</td>\n",
       "      <td>14</td>\n",
       "      <td>0.0</td>\n",
       "      <td>1146.0</td>\n",
       "      <td>80.15345</td>\n",
       "      <td>8983.0</td>\n",
       "      <td>471.525421</td>\n",
       "      <td>7.0</td>\n",
       "      <td>361.666656</td>\n",
       "      <td>46514.0</td>\n",
       "      <td>292.597900</td>\n",
       "    </tr>\n",
       "    <tr>\n",
       "      <th>2</th>\n",
       "      <td>0</td>\n",
       "      <td>2</td>\n",
       "      <td>28</td>\n",
       "      <td>0.0</td>\n",
       "      <td>0.0</td>\n",
       "      <td>0.0</td>\n",
       "      <td>0.0</td>\n",
       "      <td>007 Legends [PС, Jewel, русская версия]</td>\n",
       "      <td>30</td>\n",
       "      <td>35</td>\n",
       "      <td>39</td>\n",
       "      <td>Игры PC - Стандартные издания</td>\n",
       "      <td>Игры</td>\n",
       "      <td>Адыгея ТЦ \"Мега\"</td>\n",
       "      <td>Краснодар</td>\n",
       "      <td>1</td>\n",
       "      <td>31</td>\n",
       "      <td>winter</td>\n",
       "      <td>14</td>\n",
       "      <td>0.0</td>\n",
       "      <td>1146.0</td>\n",
       "      <td>80.15345</td>\n",
       "      <td>22216.0</td>\n",
       "      <td>127.125778</td>\n",
       "      <td>8.0</td>\n",
       "      <td>61.000000</td>\n",
       "      <td>46514.0</td>\n",
       "      <td>292.597900</td>\n",
       "    </tr>\n",
       "    <tr>\n",
       "      <th>3</th>\n",
       "      <td>0</td>\n",
       "      <td>2</td>\n",
       "      <td>29</td>\n",
       "      <td>0.0</td>\n",
       "      <td>0.0</td>\n",
       "      <td>0.0</td>\n",
       "      <td>0.0</td>\n",
       "      <td>007 Legends [Xbox 360, русская версия]</td>\n",
       "      <td>23</td>\n",
       "      <td>35</td>\n",
       "      <td>38</td>\n",
       "      <td>Игры - XBOX 360</td>\n",
       "      <td>Игры</td>\n",
       "      <td>Адыгея ТЦ \"Мега\"</td>\n",
       "      <td>Краснодар</td>\n",
       "      <td>1</td>\n",
       "      <td>31</td>\n",
       "      <td>winter</td>\n",
       "      <td>14</td>\n",
       "      <td>0.0</td>\n",
       "      <td>1146.0</td>\n",
       "      <td>80.15345</td>\n",
       "      <td>4150.0</td>\n",
       "      <td>465.084625</td>\n",
       "      <td>4.0</td>\n",
       "      <td>208.600006</td>\n",
       "      <td>46514.0</td>\n",
       "      <td>292.597900</td>\n",
       "    </tr>\n",
       "    <tr>\n",
       "      <th>4</th>\n",
       "      <td>0</td>\n",
       "      <td>2</td>\n",
       "      <td>32</td>\n",
       "      <td>0.0</td>\n",
       "      <td>0.0</td>\n",
       "      <td>0.0</td>\n",
       "      <td>0.0</td>\n",
       "      <td>1+1</td>\n",
       "      <td>40</td>\n",
       "      <td>2</td>\n",
       "      <td>3</td>\n",
       "      <td>Кино - DVD</td>\n",
       "      <td>Кино</td>\n",
       "      <td>Адыгея ТЦ \"Мега\"</td>\n",
       "      <td>Краснодар</td>\n",
       "      <td>1</td>\n",
       "      <td>31</td>\n",
       "      <td>winter</td>\n",
       "      <td>14</td>\n",
       "      <td>0.0</td>\n",
       "      <td>1146.0</td>\n",
       "      <td>80.15345</td>\n",
       "      <td>33488.0</td>\n",
       "      <td>35.657887</td>\n",
       "      <td>299.0</td>\n",
       "      <td>275.479248</td>\n",
       "      <td>43001.0</td>\n",
       "      <td>54.498623</td>\n",
       "    </tr>\n",
       "  </tbody>\n",
       "</table>\n",
       "</div>"
      ],
      "text/plain": [
       "   date_block_num  shop_id  item_id  item_cnt_month  sale_days_in_month  \\\n",
       "0               0        2       19             0.0                 0.0   \n",
       "1               0        2       27             1.0                 1.0   \n",
       "2               0        2       28             0.0                 0.0   \n",
       "3               0        2       29             0.0                 0.0   \n",
       "4               0        2       32             0.0                 0.0   \n",
       "\n",
       "   item_deals_month  item_price                                item_name  \\\n",
       "0               0.0         0.0                /ЗОЛОТАЯ КОЛЛЕКЦИЯ м/ф-72   \n",
       "1               1.0      2499.0        007 Legends [PS3, русская версия]   \n",
       "2               0.0         0.0  007 Legends [PС, Jewel, русская версия]   \n",
       "3               0.0         0.0   007 Legends [Xbox 360, русская версия]   \n",
       "4               0.0         0.0                                      1+1   \n",
       "\n",
       "   item_category_id  item_name_cleaned_length  item_name_length  \\\n",
       "0                40                        22                25   \n",
       "1                19                        30                33   \n",
       "2                30                        35                39   \n",
       "3                23                        35                38   \n",
       "4                40                         2                 3   \n",
       "\n",
       "              item_category_name global_category         shop_name       city  \\\n",
       "0                     Кино - DVD            Кино  Адыгея ТЦ \"Мега\"  Краснодар   \n",
       "1                     Игры - PS3            Игры  Адыгея ТЦ \"Мега\"  Краснодар   \n",
       "2  Игры PC - Стандартные издания            Игры  Адыгея ТЦ \"Мега\"  Краснодар   \n",
       "3                Игры - XBOX 360            Игры  Адыгея ТЦ \"Мега\"  Краснодар   \n",
       "4                     Кино - DVD            Кино  Адыгея ТЦ \"Мега\"  Краснодар   \n",
       "\n",
       "   shop_type  days_in_month  season  holidays_and_weekends_in_month  \\\n",
       "0          1             31  winter                              14   \n",
       "1          1             31  winter                              14   \n",
       "2          1             31  winter                              14   \n",
       "3          1             31  winter                              14   \n",
       "4          1             31  winter                              14   \n",
       "\n",
       "   last_saled_days_ago  sum_item_cnt_month_by_shop_id  \\\n",
       "0                  0.0                         1146.0   \n",
       "1                  0.0                         1146.0   \n",
       "2                  0.0                         1146.0   \n",
       "3                  0.0                         1146.0   \n",
       "4                  0.0                         1146.0   \n",
       "\n",
       "   mean_item_price_by_shop_id  sum_item_cnt_month_by_item_category_id  \\\n",
       "0                    80.15345                                 33488.0   \n",
       "1                    80.15345                                  8983.0   \n",
       "2                    80.15345                                 22216.0   \n",
       "3                    80.15345                                  4150.0   \n",
       "4                    80.15345                                 33488.0   \n",
       "\n",
       "   mean_item_price_by_item_category_id  sum_item_cnt_month_by_item_id  \\\n",
       "0                            35.657887                            1.0   \n",
       "1                           471.525421                            7.0   \n",
       "2                           127.125778                            8.0   \n",
       "3                           465.084625                            4.0   \n",
       "4                            35.657887                          299.0   \n",
       "\n",
       "   mean_item_price_by_item_id  sum_item_cnt_month_by_global_category  \\\n",
       "0                    0.622222                                43001.0   \n",
       "1                  361.666656                                46514.0   \n",
       "2                   61.000000                                46514.0   \n",
       "3                  208.600006                                46514.0   \n",
       "4                  275.479248                                43001.0   \n",
       "\n",
       "   mean_item_price_by_global_category  \n",
       "0                           54.498623  \n",
       "1                          292.597900  \n",
       "2                          292.597900  \n",
       "3                          292.597900  \n",
       "4                           54.498623  "
      ]
     },
     "execution_count": 33,
     "metadata": {},
     "output_type": "execute_result"
    }
   ],
   "source": [
    "def create_gr_feats(data):\n",
    "    # create aggregation feats for numeric features based on categorical ones\n",
    "    for cat_col in ['shop_id', 'item_category_id', 'item_id', 'global_category']:\n",
    "        # create_col_with_min_freq(data, cat_col, 15,)\n",
    "        data['sum_' + 'item_cnt_month' + \n",
    "             '_by_' + cat_col] = all_data.groupby(['date_block_num', \n",
    "                                                   cat_col])['item_cnt_month'].transform(np.sum).astype(np.float32)\n",
    "        data['mean_' + 'item_price' + \n",
    "             '_by_' + cat_col] = all_data.groupby(['date_block_num', \n",
    "                                                   cat_col])['item_price'].transform(np.mean).astype(np.float32)\n",
    "\n",
    "create_gr_feats(all_data)\n",
    "\n",
    "all_data.head()"
   ]
  },
  {
   "cell_type": "markdown",
   "metadata": {},
   "source": [
    "### Add lagged item_cnt features"
   ]
  },
  {
   "cell_type": "code",
   "execution_count": 35,
   "metadata": {
    "execution": {
     "iopub.execute_input": "2021-07-14T20:10:07.028252Z",
     "iopub.status.busy": "2021-07-14T20:10:07.02784Z",
     "iopub.status.idle": "2021-07-14T20:10:52.317615Z",
     "shell.execute_reply": "2021-07-14T20:10:52.316165Z",
     "shell.execute_reply.started": "2021-07-14T20:10:07.028224Z"
    },
    "scrolled": true
   },
   "outputs": [
    {
     "data": {
      "application/vnd.jupyter.widget-view+json": {
       "model_id": "27a7d6cd95234ea5afe7f3659713b623",
       "version_major": 2,
       "version_minor": 0
      },
      "text/plain": [
       "  0%|          | 0/7 [00:00<?, ?it/s]"
      ]
     },
     "metadata": {},
     "output_type": "display_data"
    },
    {
     "name": "stdout",
     "output_type": "stream",
     "text": [
      "CPU times: user 35.9 s, sys: 11.4 s, total: 47.3 s\n",
      "Wall time: 47.3 s\n"
     ]
    }
   ],
   "source": [
    "%%time\n",
    "\n",
    "index_cols = ['date_block_num', 'shop_id', 'item_id']\n",
    "\n",
    "# add feature that shows how many days in month item was sold\n",
    "all_data['sale_days_ratio'] = all_data.sale_days_in_month/all_data.days_in_month\n",
    "all_data.drop('sale_days_in_month', axis=1, inplace=True)\n",
    "\n",
    "target_cols = [c for c in all_data.columns if c.startswith('sum_item_cnt', 0, 13)] + ['item_cnt_month', \n",
    "                                                                                      'sale_days_ratio', \n",
    "                                                                                      'item_deals_month']\n",
    "\n",
    "def create_item_cnt_lagged_features():\n",
    "    global all_data\n",
    "    win = [1, 2, 3, 4, 5, 6, 12]\n",
    "    for w in tqdm_notebook(win):\n",
    "        \n",
    "        tmp = all_data[index_cols + target_cols].copy()\n",
    "        \n",
    "        tmp.date_block_num = tmp.date_block_num + w\n",
    "        \n",
    "        foo = lambda x: f'{x}_lag_{w}' if x in target_cols else x\n",
    "        tmp.rename(columns=foo, inplace=True)\n",
    "\n",
    "        all_data = all_data.join(tmp.set_index(index_cols), on=index_cols)\n",
    "        \n",
    "        del tmp\n",
    "        gc.collect()\n",
    "\n",
    "        \n",
    "create_item_cnt_lagged_features()\n",
    "\n",
    "# drop all mean encoded columns, except item_cnt_month\n",
    "target_cols.remove('item_cnt_month')\n",
    "all_data.drop(target_cols, axis=1, inplace=True)"
   ]
  },
  {
   "cell_type": "code",
   "execution_count": 36,
   "metadata": {
    "execution": {
     "iopub.execute_input": "2021-07-14T20:10:52.319735Z",
     "iopub.status.busy": "2021-07-14T20:10:52.319341Z",
     "iopub.status.idle": "2021-07-14T20:10:52.35608Z",
     "shell.execute_reply": "2021-07-14T20:10:52.355146Z",
     "shell.execute_reply.started": "2021-07-14T20:10:52.319696Z"
    }
   },
   "outputs": [
    {
     "data": {
      "text/html": [
       "<div>\n",
       "<style scoped>\n",
       "    .dataframe tbody tr th:only-of-type {\n",
       "        vertical-align: middle;\n",
       "    }\n",
       "\n",
       "    .dataframe tbody tr th {\n",
       "        vertical-align: top;\n",
       "    }\n",
       "\n",
       "    .dataframe thead th {\n",
       "        text-align: right;\n",
       "    }\n",
       "</style>\n",
       "<table border=\"1\" class=\"dataframe\">\n",
       "  <thead>\n",
       "    <tr style=\"text-align: right;\">\n",
       "      <th></th>\n",
       "      <th>date_block_num</th>\n",
       "      <th>shop_id</th>\n",
       "      <th>item_id</th>\n",
       "      <th>item_cnt_month</th>\n",
       "      <th>item_price</th>\n",
       "      <th>item_name</th>\n",
       "      <th>item_category_id</th>\n",
       "      <th>item_name_cleaned_length</th>\n",
       "      <th>item_name_length</th>\n",
       "      <th>item_category_name</th>\n",
       "      <th>global_category</th>\n",
       "      <th>shop_name</th>\n",
       "      <th>city</th>\n",
       "      <th>shop_type</th>\n",
       "      <th>days_in_month</th>\n",
       "      <th>season</th>\n",
       "      <th>holidays_and_weekends_in_month</th>\n",
       "      <th>last_saled_days_ago</th>\n",
       "      <th>mean_item_price_by_shop_id</th>\n",
       "      <th>mean_item_price_by_item_category_id</th>\n",
       "      <th>mean_item_price_by_item_id</th>\n",
       "      <th>mean_item_price_by_global_category</th>\n",
       "      <th>sum_item_cnt_month_by_shop_id_lag_1</th>\n",
       "      <th>sum_item_cnt_month_by_item_category_id_lag_1</th>\n",
       "      <th>sum_item_cnt_month_by_item_id_lag_1</th>\n",
       "      <th>sum_item_cnt_month_by_global_category_lag_1</th>\n",
       "      <th>item_cnt_month_lag_1</th>\n",
       "      <th>sale_days_ratio_lag_1</th>\n",
       "      <th>item_deals_month_lag_1</th>\n",
       "      <th>sum_item_cnt_month_by_shop_id_lag_2</th>\n",
       "      <th>sum_item_cnt_month_by_item_category_id_lag_2</th>\n",
       "      <th>sum_item_cnt_month_by_item_id_lag_2</th>\n",
       "      <th>sum_item_cnt_month_by_global_category_lag_2</th>\n",
       "      <th>item_cnt_month_lag_2</th>\n",
       "      <th>sale_days_ratio_lag_2</th>\n",
       "      <th>item_deals_month_lag_2</th>\n",
       "      <th>sum_item_cnt_month_by_shop_id_lag_3</th>\n",
       "      <th>sum_item_cnt_month_by_item_category_id_lag_3</th>\n",
       "      <th>sum_item_cnt_month_by_item_id_lag_3</th>\n",
       "      <th>sum_item_cnt_month_by_global_category_lag_3</th>\n",
       "      <th>item_cnt_month_lag_3</th>\n",
       "      <th>sale_days_ratio_lag_3</th>\n",
       "      <th>item_deals_month_lag_3</th>\n",
       "      <th>sum_item_cnt_month_by_shop_id_lag_4</th>\n",
       "      <th>sum_item_cnt_month_by_item_category_id_lag_4</th>\n",
       "      <th>sum_item_cnt_month_by_item_id_lag_4</th>\n",
       "      <th>sum_item_cnt_month_by_global_category_lag_4</th>\n",
       "      <th>item_cnt_month_lag_4</th>\n",
       "      <th>sale_days_ratio_lag_4</th>\n",
       "      <th>item_deals_month_lag_4</th>\n",
       "      <th>sum_item_cnt_month_by_shop_id_lag_5</th>\n",
       "      <th>sum_item_cnt_month_by_item_category_id_lag_5</th>\n",
       "      <th>sum_item_cnt_month_by_item_id_lag_5</th>\n",
       "      <th>sum_item_cnt_month_by_global_category_lag_5</th>\n",
       "      <th>item_cnt_month_lag_5</th>\n",
       "      <th>sale_days_ratio_lag_5</th>\n",
       "      <th>item_deals_month_lag_5</th>\n",
       "      <th>sum_item_cnt_month_by_shop_id_lag_6</th>\n",
       "      <th>sum_item_cnt_month_by_item_category_id_lag_6</th>\n",
       "      <th>sum_item_cnt_month_by_item_id_lag_6</th>\n",
       "      <th>sum_item_cnt_month_by_global_category_lag_6</th>\n",
       "      <th>item_cnt_month_lag_6</th>\n",
       "      <th>sale_days_ratio_lag_6</th>\n",
       "      <th>item_deals_month_lag_6</th>\n",
       "      <th>sum_item_cnt_month_by_shop_id_lag_12</th>\n",
       "      <th>sum_item_cnt_month_by_item_category_id_lag_12</th>\n",
       "      <th>sum_item_cnt_month_by_item_id_lag_12</th>\n",
       "      <th>sum_item_cnt_month_by_global_category_lag_12</th>\n",
       "      <th>item_cnt_month_lag_12</th>\n",
       "      <th>sale_days_ratio_lag_12</th>\n",
       "      <th>item_deals_month_lag_12</th>\n",
       "    </tr>\n",
       "  </thead>\n",
       "  <tbody>\n",
       "    <tr>\n",
       "      <th>0</th>\n",
       "      <td>0</td>\n",
       "      <td>2</td>\n",
       "      <td>19</td>\n",
       "      <td>0.0</td>\n",
       "      <td>0.0</td>\n",
       "      <td>/ЗОЛОТАЯ КОЛЛЕКЦИЯ м/ф-72</td>\n",
       "      <td>40</td>\n",
       "      <td>22</td>\n",
       "      <td>25</td>\n",
       "      <td>Кино - DVD</td>\n",
       "      <td>Кино</td>\n",
       "      <td>Адыгея ТЦ \"Мега\"</td>\n",
       "      <td>Краснодар</td>\n",
       "      <td>1</td>\n",
       "      <td>31</td>\n",
       "      <td>winter</td>\n",
       "      <td>14</td>\n",
       "      <td>0.0</td>\n",
       "      <td>80.15345</td>\n",
       "      <td>35.657887</td>\n",
       "      <td>0.622222</td>\n",
       "      <td>54.498623</td>\n",
       "      <td>NaN</td>\n",
       "      <td>NaN</td>\n",
       "      <td>NaN</td>\n",
       "      <td>NaN</td>\n",
       "      <td>NaN</td>\n",
       "      <td>NaN</td>\n",
       "      <td>NaN</td>\n",
       "      <td>NaN</td>\n",
       "      <td>NaN</td>\n",
       "      <td>NaN</td>\n",
       "      <td>NaN</td>\n",
       "      <td>NaN</td>\n",
       "      <td>NaN</td>\n",
       "      <td>NaN</td>\n",
       "      <td>NaN</td>\n",
       "      <td>NaN</td>\n",
       "      <td>NaN</td>\n",
       "      <td>NaN</td>\n",
       "      <td>NaN</td>\n",
       "      <td>NaN</td>\n",
       "      <td>NaN</td>\n",
       "      <td>NaN</td>\n",
       "      <td>NaN</td>\n",
       "      <td>NaN</td>\n",
       "      <td>NaN</td>\n",
       "      <td>NaN</td>\n",
       "      <td>NaN</td>\n",
       "      <td>NaN</td>\n",
       "      <td>NaN</td>\n",
       "      <td>NaN</td>\n",
       "      <td>NaN</td>\n",
       "      <td>NaN</td>\n",
       "      <td>NaN</td>\n",
       "      <td>NaN</td>\n",
       "      <td>NaN</td>\n",
       "      <td>NaN</td>\n",
       "      <td>NaN</td>\n",
       "      <td>NaN</td>\n",
       "      <td>NaN</td>\n",
       "      <td>NaN</td>\n",
       "      <td>NaN</td>\n",
       "      <td>NaN</td>\n",
       "      <td>NaN</td>\n",
       "      <td>NaN</td>\n",
       "      <td>NaN</td>\n",
       "      <td>NaN</td>\n",
       "      <td>NaN</td>\n",
       "      <td>NaN</td>\n",
       "      <td>NaN</td>\n",
       "    </tr>\n",
       "    <tr>\n",
       "      <th>1</th>\n",
       "      <td>0</td>\n",
       "      <td>2</td>\n",
       "      <td>27</td>\n",
       "      <td>1.0</td>\n",
       "      <td>2499.0</td>\n",
       "      <td>007 Legends [PS3, русская версия]</td>\n",
       "      <td>19</td>\n",
       "      <td>30</td>\n",
       "      <td>33</td>\n",
       "      <td>Игры - PS3</td>\n",
       "      <td>Игры</td>\n",
       "      <td>Адыгея ТЦ \"Мега\"</td>\n",
       "      <td>Краснодар</td>\n",
       "      <td>1</td>\n",
       "      <td>31</td>\n",
       "      <td>winter</td>\n",
       "      <td>14</td>\n",
       "      <td>0.0</td>\n",
       "      <td>80.15345</td>\n",
       "      <td>471.525421</td>\n",
       "      <td>361.666656</td>\n",
       "      <td>292.597900</td>\n",
       "      <td>NaN</td>\n",
       "      <td>NaN</td>\n",
       "      <td>NaN</td>\n",
       "      <td>NaN</td>\n",
       "      <td>NaN</td>\n",
       "      <td>NaN</td>\n",
       "      <td>NaN</td>\n",
       "      <td>NaN</td>\n",
       "      <td>NaN</td>\n",
       "      <td>NaN</td>\n",
       "      <td>NaN</td>\n",
       "      <td>NaN</td>\n",
       "      <td>NaN</td>\n",
       "      <td>NaN</td>\n",
       "      <td>NaN</td>\n",
       "      <td>NaN</td>\n",
       "      <td>NaN</td>\n",
       "      <td>NaN</td>\n",
       "      <td>NaN</td>\n",
       "      <td>NaN</td>\n",
       "      <td>NaN</td>\n",
       "      <td>NaN</td>\n",
       "      <td>NaN</td>\n",
       "      <td>NaN</td>\n",
       "      <td>NaN</td>\n",
       "      <td>NaN</td>\n",
       "      <td>NaN</td>\n",
       "      <td>NaN</td>\n",
       "      <td>NaN</td>\n",
       "      <td>NaN</td>\n",
       "      <td>NaN</td>\n",
       "      <td>NaN</td>\n",
       "      <td>NaN</td>\n",
       "      <td>NaN</td>\n",
       "      <td>NaN</td>\n",
       "      <td>NaN</td>\n",
       "      <td>NaN</td>\n",
       "      <td>NaN</td>\n",
       "      <td>NaN</td>\n",
       "      <td>NaN</td>\n",
       "      <td>NaN</td>\n",
       "      <td>NaN</td>\n",
       "      <td>NaN</td>\n",
       "      <td>NaN</td>\n",
       "      <td>NaN</td>\n",
       "      <td>NaN</td>\n",
       "      <td>NaN</td>\n",
       "      <td>NaN</td>\n",
       "      <td>NaN</td>\n",
       "    </tr>\n",
       "    <tr>\n",
       "      <th>2</th>\n",
       "      <td>0</td>\n",
       "      <td>2</td>\n",
       "      <td>28</td>\n",
       "      <td>0.0</td>\n",
       "      <td>0.0</td>\n",
       "      <td>007 Legends [PС, Jewel, русская версия]</td>\n",
       "      <td>30</td>\n",
       "      <td>35</td>\n",
       "      <td>39</td>\n",
       "      <td>Игры PC - Стандартные издания</td>\n",
       "      <td>Игры</td>\n",
       "      <td>Адыгея ТЦ \"Мега\"</td>\n",
       "      <td>Краснодар</td>\n",
       "      <td>1</td>\n",
       "      <td>31</td>\n",
       "      <td>winter</td>\n",
       "      <td>14</td>\n",
       "      <td>0.0</td>\n",
       "      <td>80.15345</td>\n",
       "      <td>127.125778</td>\n",
       "      <td>61.000000</td>\n",
       "      <td>292.597900</td>\n",
       "      <td>NaN</td>\n",
       "      <td>NaN</td>\n",
       "      <td>NaN</td>\n",
       "      <td>NaN</td>\n",
       "      <td>NaN</td>\n",
       "      <td>NaN</td>\n",
       "      <td>NaN</td>\n",
       "      <td>NaN</td>\n",
       "      <td>NaN</td>\n",
       "      <td>NaN</td>\n",
       "      <td>NaN</td>\n",
       "      <td>NaN</td>\n",
       "      <td>NaN</td>\n",
       "      <td>NaN</td>\n",
       "      <td>NaN</td>\n",
       "      <td>NaN</td>\n",
       "      <td>NaN</td>\n",
       "      <td>NaN</td>\n",
       "      <td>NaN</td>\n",
       "      <td>NaN</td>\n",
       "      <td>NaN</td>\n",
       "      <td>NaN</td>\n",
       "      <td>NaN</td>\n",
       "      <td>NaN</td>\n",
       "      <td>NaN</td>\n",
       "      <td>NaN</td>\n",
       "      <td>NaN</td>\n",
       "      <td>NaN</td>\n",
       "      <td>NaN</td>\n",
       "      <td>NaN</td>\n",
       "      <td>NaN</td>\n",
       "      <td>NaN</td>\n",
       "      <td>NaN</td>\n",
       "      <td>NaN</td>\n",
       "      <td>NaN</td>\n",
       "      <td>NaN</td>\n",
       "      <td>NaN</td>\n",
       "      <td>NaN</td>\n",
       "      <td>NaN</td>\n",
       "      <td>NaN</td>\n",
       "      <td>NaN</td>\n",
       "      <td>NaN</td>\n",
       "      <td>NaN</td>\n",
       "      <td>NaN</td>\n",
       "      <td>NaN</td>\n",
       "      <td>NaN</td>\n",
       "      <td>NaN</td>\n",
       "      <td>NaN</td>\n",
       "      <td>NaN</td>\n",
       "    </tr>\n",
       "    <tr>\n",
       "      <th>3</th>\n",
       "      <td>0</td>\n",
       "      <td>2</td>\n",
       "      <td>29</td>\n",
       "      <td>0.0</td>\n",
       "      <td>0.0</td>\n",
       "      <td>007 Legends [Xbox 360, русская версия]</td>\n",
       "      <td>23</td>\n",
       "      <td>35</td>\n",
       "      <td>38</td>\n",
       "      <td>Игры - XBOX 360</td>\n",
       "      <td>Игры</td>\n",
       "      <td>Адыгея ТЦ \"Мега\"</td>\n",
       "      <td>Краснодар</td>\n",
       "      <td>1</td>\n",
       "      <td>31</td>\n",
       "      <td>winter</td>\n",
       "      <td>14</td>\n",
       "      <td>0.0</td>\n",
       "      <td>80.15345</td>\n",
       "      <td>465.084625</td>\n",
       "      <td>208.600006</td>\n",
       "      <td>292.597900</td>\n",
       "      <td>NaN</td>\n",
       "      <td>NaN</td>\n",
       "      <td>NaN</td>\n",
       "      <td>NaN</td>\n",
       "      <td>NaN</td>\n",
       "      <td>NaN</td>\n",
       "      <td>NaN</td>\n",
       "      <td>NaN</td>\n",
       "      <td>NaN</td>\n",
       "      <td>NaN</td>\n",
       "      <td>NaN</td>\n",
       "      <td>NaN</td>\n",
       "      <td>NaN</td>\n",
       "      <td>NaN</td>\n",
       "      <td>NaN</td>\n",
       "      <td>NaN</td>\n",
       "      <td>NaN</td>\n",
       "      <td>NaN</td>\n",
       "      <td>NaN</td>\n",
       "      <td>NaN</td>\n",
       "      <td>NaN</td>\n",
       "      <td>NaN</td>\n",
       "      <td>NaN</td>\n",
       "      <td>NaN</td>\n",
       "      <td>NaN</td>\n",
       "      <td>NaN</td>\n",
       "      <td>NaN</td>\n",
       "      <td>NaN</td>\n",
       "      <td>NaN</td>\n",
       "      <td>NaN</td>\n",
       "      <td>NaN</td>\n",
       "      <td>NaN</td>\n",
       "      <td>NaN</td>\n",
       "      <td>NaN</td>\n",
       "      <td>NaN</td>\n",
       "      <td>NaN</td>\n",
       "      <td>NaN</td>\n",
       "      <td>NaN</td>\n",
       "      <td>NaN</td>\n",
       "      <td>NaN</td>\n",
       "      <td>NaN</td>\n",
       "      <td>NaN</td>\n",
       "      <td>NaN</td>\n",
       "      <td>NaN</td>\n",
       "      <td>NaN</td>\n",
       "      <td>NaN</td>\n",
       "      <td>NaN</td>\n",
       "      <td>NaN</td>\n",
       "      <td>NaN</td>\n",
       "    </tr>\n",
       "    <tr>\n",
       "      <th>4</th>\n",
       "      <td>0</td>\n",
       "      <td>2</td>\n",
       "      <td>32</td>\n",
       "      <td>0.0</td>\n",
       "      <td>0.0</td>\n",
       "      <td>1+1</td>\n",
       "      <td>40</td>\n",
       "      <td>2</td>\n",
       "      <td>3</td>\n",
       "      <td>Кино - DVD</td>\n",
       "      <td>Кино</td>\n",
       "      <td>Адыгея ТЦ \"Мега\"</td>\n",
       "      <td>Краснодар</td>\n",
       "      <td>1</td>\n",
       "      <td>31</td>\n",
       "      <td>winter</td>\n",
       "      <td>14</td>\n",
       "      <td>0.0</td>\n",
       "      <td>80.15345</td>\n",
       "      <td>35.657887</td>\n",
       "      <td>275.479248</td>\n",
       "      <td>54.498623</td>\n",
       "      <td>NaN</td>\n",
       "      <td>NaN</td>\n",
       "      <td>NaN</td>\n",
       "      <td>NaN</td>\n",
       "      <td>NaN</td>\n",
       "      <td>NaN</td>\n",
       "      <td>NaN</td>\n",
       "      <td>NaN</td>\n",
       "      <td>NaN</td>\n",
       "      <td>NaN</td>\n",
       "      <td>NaN</td>\n",
       "      <td>NaN</td>\n",
       "      <td>NaN</td>\n",
       "      <td>NaN</td>\n",
       "      <td>NaN</td>\n",
       "      <td>NaN</td>\n",
       "      <td>NaN</td>\n",
       "      <td>NaN</td>\n",
       "      <td>NaN</td>\n",
       "      <td>NaN</td>\n",
       "      <td>NaN</td>\n",
       "      <td>NaN</td>\n",
       "      <td>NaN</td>\n",
       "      <td>NaN</td>\n",
       "      <td>NaN</td>\n",
       "      <td>NaN</td>\n",
       "      <td>NaN</td>\n",
       "      <td>NaN</td>\n",
       "      <td>NaN</td>\n",
       "      <td>NaN</td>\n",
       "      <td>NaN</td>\n",
       "      <td>NaN</td>\n",
       "      <td>NaN</td>\n",
       "      <td>NaN</td>\n",
       "      <td>NaN</td>\n",
       "      <td>NaN</td>\n",
       "      <td>NaN</td>\n",
       "      <td>NaN</td>\n",
       "      <td>NaN</td>\n",
       "      <td>NaN</td>\n",
       "      <td>NaN</td>\n",
       "      <td>NaN</td>\n",
       "      <td>NaN</td>\n",
       "      <td>NaN</td>\n",
       "      <td>NaN</td>\n",
       "      <td>NaN</td>\n",
       "      <td>NaN</td>\n",
       "      <td>NaN</td>\n",
       "      <td>NaN</td>\n",
       "    </tr>\n",
       "  </tbody>\n",
       "</table>\n",
       "</div>"
      ],
      "text/plain": [
       "   date_block_num  shop_id  item_id  item_cnt_month  item_price  \\\n",
       "0               0        2       19             0.0         0.0   \n",
       "1               0        2       27             1.0      2499.0   \n",
       "2               0        2       28             0.0         0.0   \n",
       "3               0        2       29             0.0         0.0   \n",
       "4               0        2       32             0.0         0.0   \n",
       "\n",
       "                                 item_name  item_category_id  \\\n",
       "0                /ЗОЛОТАЯ КОЛЛЕКЦИЯ м/ф-72                40   \n",
       "1        007 Legends [PS3, русская версия]                19   \n",
       "2  007 Legends [PС, Jewel, русская версия]                30   \n",
       "3   007 Legends [Xbox 360, русская версия]                23   \n",
       "4                                      1+1                40   \n",
       "\n",
       "   item_name_cleaned_length  item_name_length             item_category_name  \\\n",
       "0                        22                25                     Кино - DVD   \n",
       "1                        30                33                     Игры - PS3   \n",
       "2                        35                39  Игры PC - Стандартные издания   \n",
       "3                        35                38                Игры - XBOX 360   \n",
       "4                         2                 3                     Кино - DVD   \n",
       "\n",
       "  global_category         shop_name       city  shop_type  days_in_month  \\\n",
       "0            Кино  Адыгея ТЦ \"Мега\"  Краснодар          1             31   \n",
       "1            Игры  Адыгея ТЦ \"Мега\"  Краснодар          1             31   \n",
       "2            Игры  Адыгея ТЦ \"Мега\"  Краснодар          1             31   \n",
       "3            Игры  Адыгея ТЦ \"Мега\"  Краснодар          1             31   \n",
       "4            Кино  Адыгея ТЦ \"Мега\"  Краснодар          1             31   \n",
       "\n",
       "   season  holidays_and_weekends_in_month  last_saled_days_ago  \\\n",
       "0  winter                              14                  0.0   \n",
       "1  winter                              14                  0.0   \n",
       "2  winter                              14                  0.0   \n",
       "3  winter                              14                  0.0   \n",
       "4  winter                              14                  0.0   \n",
       "\n",
       "   mean_item_price_by_shop_id  mean_item_price_by_item_category_id  \\\n",
       "0                    80.15345                            35.657887   \n",
       "1                    80.15345                           471.525421   \n",
       "2                    80.15345                           127.125778   \n",
       "3                    80.15345                           465.084625   \n",
       "4                    80.15345                            35.657887   \n",
       "\n",
       "   mean_item_price_by_item_id  mean_item_price_by_global_category  \\\n",
       "0                    0.622222                           54.498623   \n",
       "1                  361.666656                          292.597900   \n",
       "2                   61.000000                          292.597900   \n",
       "3                  208.600006                          292.597900   \n",
       "4                  275.479248                           54.498623   \n",
       "\n",
       "   sum_item_cnt_month_by_shop_id_lag_1  \\\n",
       "0                                  NaN   \n",
       "1                                  NaN   \n",
       "2                                  NaN   \n",
       "3                                  NaN   \n",
       "4                                  NaN   \n",
       "\n",
       "   sum_item_cnt_month_by_item_category_id_lag_1  \\\n",
       "0                                           NaN   \n",
       "1                                           NaN   \n",
       "2                                           NaN   \n",
       "3                                           NaN   \n",
       "4                                           NaN   \n",
       "\n",
       "   sum_item_cnt_month_by_item_id_lag_1  \\\n",
       "0                                  NaN   \n",
       "1                                  NaN   \n",
       "2                                  NaN   \n",
       "3                                  NaN   \n",
       "4                                  NaN   \n",
       "\n",
       "   sum_item_cnt_month_by_global_category_lag_1  item_cnt_month_lag_1  \\\n",
       "0                                          NaN                   NaN   \n",
       "1                                          NaN                   NaN   \n",
       "2                                          NaN                   NaN   \n",
       "3                                          NaN                   NaN   \n",
       "4                                          NaN                   NaN   \n",
       "\n",
       "   sale_days_ratio_lag_1  item_deals_month_lag_1  \\\n",
       "0                    NaN                     NaN   \n",
       "1                    NaN                     NaN   \n",
       "2                    NaN                     NaN   \n",
       "3                    NaN                     NaN   \n",
       "4                    NaN                     NaN   \n",
       "\n",
       "   sum_item_cnt_month_by_shop_id_lag_2  \\\n",
       "0                                  NaN   \n",
       "1                                  NaN   \n",
       "2                                  NaN   \n",
       "3                                  NaN   \n",
       "4                                  NaN   \n",
       "\n",
       "   sum_item_cnt_month_by_item_category_id_lag_2  \\\n",
       "0                                           NaN   \n",
       "1                                           NaN   \n",
       "2                                           NaN   \n",
       "3                                           NaN   \n",
       "4                                           NaN   \n",
       "\n",
       "   sum_item_cnt_month_by_item_id_lag_2  \\\n",
       "0                                  NaN   \n",
       "1                                  NaN   \n",
       "2                                  NaN   \n",
       "3                                  NaN   \n",
       "4                                  NaN   \n",
       "\n",
       "   sum_item_cnt_month_by_global_category_lag_2  item_cnt_month_lag_2  \\\n",
       "0                                          NaN                   NaN   \n",
       "1                                          NaN                   NaN   \n",
       "2                                          NaN                   NaN   \n",
       "3                                          NaN                   NaN   \n",
       "4                                          NaN                   NaN   \n",
       "\n",
       "   sale_days_ratio_lag_2  item_deals_month_lag_2  \\\n",
       "0                    NaN                     NaN   \n",
       "1                    NaN                     NaN   \n",
       "2                    NaN                     NaN   \n",
       "3                    NaN                     NaN   \n",
       "4                    NaN                     NaN   \n",
       "\n",
       "   sum_item_cnt_month_by_shop_id_lag_3  \\\n",
       "0                                  NaN   \n",
       "1                                  NaN   \n",
       "2                                  NaN   \n",
       "3                                  NaN   \n",
       "4                                  NaN   \n",
       "\n",
       "   sum_item_cnt_month_by_item_category_id_lag_3  \\\n",
       "0                                           NaN   \n",
       "1                                           NaN   \n",
       "2                                           NaN   \n",
       "3                                           NaN   \n",
       "4                                           NaN   \n",
       "\n",
       "   sum_item_cnt_month_by_item_id_lag_3  \\\n",
       "0                                  NaN   \n",
       "1                                  NaN   \n",
       "2                                  NaN   \n",
       "3                                  NaN   \n",
       "4                                  NaN   \n",
       "\n",
       "   sum_item_cnt_month_by_global_category_lag_3  item_cnt_month_lag_3  \\\n",
       "0                                          NaN                   NaN   \n",
       "1                                          NaN                   NaN   \n",
       "2                                          NaN                   NaN   \n",
       "3                                          NaN                   NaN   \n",
       "4                                          NaN                   NaN   \n",
       "\n",
       "   sale_days_ratio_lag_3  item_deals_month_lag_3  \\\n",
       "0                    NaN                     NaN   \n",
       "1                    NaN                     NaN   \n",
       "2                    NaN                     NaN   \n",
       "3                    NaN                     NaN   \n",
       "4                    NaN                     NaN   \n",
       "\n",
       "   sum_item_cnt_month_by_shop_id_lag_4  \\\n",
       "0                                  NaN   \n",
       "1                                  NaN   \n",
       "2                                  NaN   \n",
       "3                                  NaN   \n",
       "4                                  NaN   \n",
       "\n",
       "   sum_item_cnt_month_by_item_category_id_lag_4  \\\n",
       "0                                           NaN   \n",
       "1                                           NaN   \n",
       "2                                           NaN   \n",
       "3                                           NaN   \n",
       "4                                           NaN   \n",
       "\n",
       "   sum_item_cnt_month_by_item_id_lag_4  \\\n",
       "0                                  NaN   \n",
       "1                                  NaN   \n",
       "2                                  NaN   \n",
       "3                                  NaN   \n",
       "4                                  NaN   \n",
       "\n",
       "   sum_item_cnt_month_by_global_category_lag_4  item_cnt_month_lag_4  \\\n",
       "0                                          NaN                   NaN   \n",
       "1                                          NaN                   NaN   \n",
       "2                                          NaN                   NaN   \n",
       "3                                          NaN                   NaN   \n",
       "4                                          NaN                   NaN   \n",
       "\n",
       "   sale_days_ratio_lag_4  item_deals_month_lag_4  \\\n",
       "0                    NaN                     NaN   \n",
       "1                    NaN                     NaN   \n",
       "2                    NaN                     NaN   \n",
       "3                    NaN                     NaN   \n",
       "4                    NaN                     NaN   \n",
       "\n",
       "   sum_item_cnt_month_by_shop_id_lag_5  \\\n",
       "0                                  NaN   \n",
       "1                                  NaN   \n",
       "2                                  NaN   \n",
       "3                                  NaN   \n",
       "4                                  NaN   \n",
       "\n",
       "   sum_item_cnt_month_by_item_category_id_lag_5  \\\n",
       "0                                           NaN   \n",
       "1                                           NaN   \n",
       "2                                           NaN   \n",
       "3                                           NaN   \n",
       "4                                           NaN   \n",
       "\n",
       "   sum_item_cnt_month_by_item_id_lag_5  \\\n",
       "0                                  NaN   \n",
       "1                                  NaN   \n",
       "2                                  NaN   \n",
       "3                                  NaN   \n",
       "4                                  NaN   \n",
       "\n",
       "   sum_item_cnt_month_by_global_category_lag_5  item_cnt_month_lag_5  \\\n",
       "0                                          NaN                   NaN   \n",
       "1                                          NaN                   NaN   \n",
       "2                                          NaN                   NaN   \n",
       "3                                          NaN                   NaN   \n",
       "4                                          NaN                   NaN   \n",
       "\n",
       "   sale_days_ratio_lag_5  item_deals_month_lag_5  \\\n",
       "0                    NaN                     NaN   \n",
       "1                    NaN                     NaN   \n",
       "2                    NaN                     NaN   \n",
       "3                    NaN                     NaN   \n",
       "4                    NaN                     NaN   \n",
       "\n",
       "   sum_item_cnt_month_by_shop_id_lag_6  \\\n",
       "0                                  NaN   \n",
       "1                                  NaN   \n",
       "2                                  NaN   \n",
       "3                                  NaN   \n",
       "4                                  NaN   \n",
       "\n",
       "   sum_item_cnt_month_by_item_category_id_lag_6  \\\n",
       "0                                           NaN   \n",
       "1                                           NaN   \n",
       "2                                           NaN   \n",
       "3                                           NaN   \n",
       "4                                           NaN   \n",
       "\n",
       "   sum_item_cnt_month_by_item_id_lag_6  \\\n",
       "0                                  NaN   \n",
       "1                                  NaN   \n",
       "2                                  NaN   \n",
       "3                                  NaN   \n",
       "4                                  NaN   \n",
       "\n",
       "   sum_item_cnt_month_by_global_category_lag_6  item_cnt_month_lag_6  \\\n",
       "0                                          NaN                   NaN   \n",
       "1                                          NaN                   NaN   \n",
       "2                                          NaN                   NaN   \n",
       "3                                          NaN                   NaN   \n",
       "4                                          NaN                   NaN   \n",
       "\n",
       "   sale_days_ratio_lag_6  item_deals_month_lag_6  \\\n",
       "0                    NaN                     NaN   \n",
       "1                    NaN                     NaN   \n",
       "2                    NaN                     NaN   \n",
       "3                    NaN                     NaN   \n",
       "4                    NaN                     NaN   \n",
       "\n",
       "   sum_item_cnt_month_by_shop_id_lag_12  \\\n",
       "0                                   NaN   \n",
       "1                                   NaN   \n",
       "2                                   NaN   \n",
       "3                                   NaN   \n",
       "4                                   NaN   \n",
       "\n",
       "   sum_item_cnt_month_by_item_category_id_lag_12  \\\n",
       "0                                            NaN   \n",
       "1                                            NaN   \n",
       "2                                            NaN   \n",
       "3                                            NaN   \n",
       "4                                            NaN   \n",
       "\n",
       "   sum_item_cnt_month_by_item_id_lag_12  \\\n",
       "0                                   NaN   \n",
       "1                                   NaN   \n",
       "2                                   NaN   \n",
       "3                                   NaN   \n",
       "4                                   NaN   \n",
       "\n",
       "   sum_item_cnt_month_by_global_category_lag_12  item_cnt_month_lag_12  \\\n",
       "0                                           NaN                    NaN   \n",
       "1                                           NaN                    NaN   \n",
       "2                                           NaN                    NaN   \n",
       "3                                           NaN                    NaN   \n",
       "4                                           NaN                    NaN   \n",
       "\n",
       "   sale_days_ratio_lag_12  item_deals_month_lag_12  \n",
       "0                     NaN                      NaN  \n",
       "1                     NaN                      NaN  \n",
       "2                     NaN                      NaN  \n",
       "3                     NaN                      NaN  \n",
       "4                     NaN                      NaN  "
      ]
     },
     "execution_count": 36,
     "metadata": {},
     "output_type": "execute_result"
    }
   ],
   "source": [
    "all_data.head()"
   ]
  },
  {
   "cell_type": "markdown",
   "metadata": {},
   "source": [
    "### Add lagged item_price features"
   ]
  },
  {
   "cell_type": "code",
   "execution_count": 37,
   "metadata": {
    "execution": {
     "iopub.execute_input": "2021-07-14T20:10:52.358199Z",
     "iopub.status.busy": "2021-07-14T20:10:52.357772Z",
     "iopub.status.idle": "2021-07-14T20:11:28.805754Z",
     "shell.execute_reply": "2021-07-14T20:11:28.8042Z",
     "shell.execute_reply.started": "2021-07-14T20:10:52.358166Z"
    }
   },
   "outputs": [
    {
     "data": {
      "application/vnd.jupyter.widget-view+json": {
       "model_id": "871ee38eadd0487c96be6c562fd46321",
       "version_major": 2,
       "version_minor": 0
      },
      "text/plain": [
       "  0%|          | 0/7 [00:00<?, ?it/s]"
      ]
     },
     "metadata": {},
     "output_type": "display_data"
    },
    {
     "name": "stdout",
     "output_type": "stream",
     "text": [
      "CPU times: user 37.1 s, sys: 12.3 s, total: 49.5 s\n",
      "Wall time: 49.5 s\n"
     ]
    }
   ],
   "source": [
    "%%time\n",
    "\n",
    "target_cols = [c for c in all_data.columns if c.startswith('mean_item_price', 0, 15)]\n",
    "\n",
    "def create_item_price_lagged_features():\n",
    "    global all_data\n",
    "    win = [1, 2, 3, 4, 5, 6, 12]\n",
    "    for w in tqdm_notebook(win):\n",
    "        \n",
    "        tmp = all_data[index_cols + target_cols].copy()\n",
    "        \n",
    "        tmp.date_block_num = tmp.date_block_num + w\n",
    "        \n",
    "        foo = lambda x: f'{x}_lag_{w}' if x in target_cols else x\n",
    "        tmp.rename(columns=foo, inplace=True)\n",
    "\n",
    "        all_data = all_data.join(tmp.set_index(index_cols), on=index_cols)\n",
    "        \n",
    "        del tmp\n",
    "        gc.collect()\n",
    "\n",
    "\n",
    "create_item_price_lagged_features()\n",
    "\n",
    "all_data.drop(target_cols + ['item_price'], axis=1, inplace=True)"
   ]
  },
  {
   "cell_type": "markdown",
   "metadata": {},
   "source": [
    "### Add time statistics (mean, mode, min, max, std, EWM, difference, etc.)"
   ]
  },
  {
   "cell_type": "code",
   "execution_count": 38,
   "metadata": {
    "execution": {
     "iopub.status.busy": "2021-07-14T20:11:41.900692Z",
     "iopub.status.idle": "2021-07-14T20:11:41.901016Z"
    }
   },
   "outputs": [
    {
     "data": {
      "application/vnd.jupyter.widget-view+json": {
       "model_id": "2ae8968a5e5c4e9a8efdd569623a62ab",
       "version_major": 2,
       "version_minor": 0
      },
      "text/plain": [
       "  0%|          | 0/4 [00:00<?, ?it/s]"
      ]
     },
     "metadata": {},
     "output_type": "display_data"
    },
    {
     "name": "stderr",
     "output_type": "stream",
     "text": [
      "<timed exec>:8: RuntimeWarning: All-NaN axis encountered\n",
      "<timed exec>:9: RuntimeWarning: All-NaN axis encountered\n",
      "<timed exec>:8: RuntimeWarning: All-NaN axis encountered\n",
      "<timed exec>:9: RuntimeWarning: All-NaN axis encountered\n",
      "<timed exec>:8: RuntimeWarning: All-NaN axis encountered\n",
      "<timed exec>:9: RuntimeWarning: All-NaN axis encountered\n",
      "<timed exec>:8: RuntimeWarning: All-NaN axis encountered\n",
      "<timed exec>:9: RuntimeWarning: All-NaN axis encountered\n"
     ]
    },
    {
     "name": "stdout",
     "output_type": "stream",
     "text": [
      "CPU times: user 6min 51s, sys: 5.24 s, total: 6min 56s\n",
      "Wall time: 6min 56s\n"
     ]
    }
   ],
   "source": [
    "%%time\n",
    "\n",
    "def add_time_statistics(data):\n",
    "    for win in tqdm_notebook([3]):\n",
    "        cols = get_window(data, win)\n",
    "        tmp = data[cols]\n",
    "        \n",
    "        data[f'{win}_month_mean_cnt'] = tmp.mean(axis=1).astype(np.float32)\n",
    "        data[f'{win}_month_median_cnt'] = tmp.median(axis=1).astype(np.float32)\n",
    "        data[f'{win}_month_min_cnt'] = np.nanmin(tmp, axis=1).astype(np.float32)\n",
    "        data[f'{win}_month_max_cnt'] = np.nanmax(tmp, axis=1).astype(np.float32)\n",
    "        data[f'{win}_month_std_cnt'] = tmp.std(axis=1).astype(np.float32)\n",
    "\n",
    "        # add exponential weighted mean (EWM)\n",
    "        data[f'mean_ewm_prev_{win}'] = tmp.T.ewm(com=9.5).mean().T.mean(axis=1).astype(np.float32)\n",
    "#         data[f'last_ewm_prev_{win}'] = tmp.T.ewm(com=9.5).mean().T.iloc[:,-1].astype(np.float32)\n",
    "\n",
    "        # add difference between data points\n",
    "#         data[f'avg_diff_{win}'] = (tmp - tmp.shift(1, axis=1)).mean(axis=1).astype(np.float32)\n",
    "\n",
    "        del tmp\n",
    "        gc.collect()\n",
    "        \n",
    "            \n",
    "def get_window(data, w):\n",
    "    cols = []\n",
    "    col_num = 1\n",
    "    for i in data.columns:\n",
    "        if col_num > w:\n",
    "            break\n",
    "        if i == f'item_cnt_month_lag_{col_num}':\n",
    "            cols.append(i)\n",
    "            col_num += 1\n",
    "    return cols\n",
    "\n",
    "add_time_statistics(all_data)"
   ]
  },
  {
   "cell_type": "markdown",
   "metadata": {},
   "source": [
    "### Feature interactions: add number of sales for closest item IDs"
   ]
  },
  {
   "cell_type": "code",
   "execution_count": 39,
   "metadata": {
    "execution": {
     "iopub.status.busy": "2021-07-14T20:11:41.899737Z",
     "iopub.status.idle": "2021-07-14T20:11:41.900064Z"
    }
   },
   "outputs": [
    {
     "name": "stdout",
     "output_type": "stream",
     "text": [
      "CPU times: user 10.7 s, sys: 3.79 s, total: 14.5 s\n",
      "Wall time: 14.5 s\n"
     ]
    }
   ],
   "source": [
    "%%time\n",
    "\n",
    "index_cols = ['date_block_num', 'shop_id', 'item_id']\n",
    "\n",
    "def add_closest_ids(win):\n",
    "    global all_data\n",
    "\n",
    "    target_cols = [f'item_cnt_month_lag_{w}' for w in win]\n",
    "    \n",
    "    # add previous sales of items with next id\n",
    "    tmp = all_data[index_cols + target_cols].copy()\n",
    "\n",
    "    tmp.item_id = tmp.item_id + 1\n",
    "\n",
    "    foo = lambda x: f'{x}_prev_id' if x in target_cols else x\n",
    "    tmp.rename(columns=foo, inplace=True)\n",
    "\n",
    "    all_data = all_data.join(tmp.set_index(index_cols), on=index_cols)\n",
    "    \n",
    "    del tmp\n",
    "    gc.collect()\n",
    "    \n",
    "    # add previous sales of items with previous id\n",
    "    tmp = all_data[index_cols + target_cols].copy()\n",
    "    \n",
    "    tmp.item_id = tmp.item_id - 1\n",
    "\n",
    "    foo = lambda x: f'{x}_next_id' if x in target_cols else x\n",
    "    tmp.rename(columns=foo, inplace=True)\n",
    "\n",
    "    all_data = all_data.join(tmp.set_index(index_cols), on=index_cols)\n",
    "\n",
    "    del tmp\n",
    "    gc.collect()\n",
    "\n",
    "add_closest_ids([1, 2, 3])"
   ]
  },
  {
   "cell_type": "markdown",
   "metadata": {},
   "source": [
    "# Prepare dataset for model training\n",
    "\n",
    "### Drop unnecessary rows and columns"
   ]
  },
  {
   "cell_type": "code",
   "execution_count": 40,
   "metadata": {
    "execution": {
     "iopub.status.busy": "2021-07-14T20:11:41.886456Z",
     "iopub.status.idle": "2021-07-14T20:11:41.886758Z"
    },
    "scrolled": true
   },
   "outputs": [],
   "source": [
    "# Don't use old data from year 2013\n",
    "all_data = all_data[all_data['date_block_num'] >= 12].copy()\n",
    "\n",
    "all_data.drop(['shop_name','item_name', 'item_category_name'], axis=1, inplace=True)"
   ]
  },
  {
   "cell_type": "markdown",
   "metadata": {},
   "source": [
    "### Encode text features with label encoder."
   ]
  },
  {
   "cell_type": "code",
   "execution_count": 41,
   "metadata": {
    "execution": {
     "iopub.status.busy": "2021-07-14T20:11:41.887458Z",
     "iopub.status.idle": "2021-07-14T20:11:41.887745Z"
    },
    "scrolled": true
   },
   "outputs": [],
   "source": [
    "from sklearn.preprocessing import LabelEncoder\n",
    "\n",
    "le = LabelEncoder()\n",
    "\n",
    "cols = ['city', 'season', 'global_category']\n",
    "all_data[cols] = all_data[cols].apply(LabelEncoder().fit_transform)\n",
    "all_data[cols] = all_data[cols].astype(np.int8)"
   ]
  },
  {
   "cell_type": "markdown",
   "metadata": {},
   "source": [
    "### Clip target value, fill NaNs"
   ]
  },
  {
   "cell_type": "code",
   "execution_count": 42,
   "metadata": {
    "execution": {
     "iopub.status.busy": "2021-07-14T20:11:41.888639Z",
     "iopub.status.idle": "2021-07-14T20:11:41.888965Z"
    }
   },
   "outputs": [],
   "source": [
    "all_data.item_cnt_month.clip(0, 20, inplace=True)\n",
    "\n",
    "all_data.fillna(0, inplace=True)"
   ]
  },
  {
   "cell_type": "markdown",
   "metadata": {},
   "source": [
    "### Save file"
   ]
  },
  {
   "cell_type": "code",
   "execution_count": 43,
   "metadata": {
    "execution": {
     "iopub.execute_input": "2021-07-14T20:11:28.807306Z",
     "iopub.status.busy": "2021-07-14T20:11:28.806995Z",
     "iopub.status.idle": "2021-07-14T20:11:41.849459Z",
     "shell.execute_reply": "2021-07-14T20:11:41.848518Z",
     "shell.execute_reply.started": "2021-07-14T20:11:28.807273Z"
    },
    "scrolled": false
   },
   "outputs": [],
   "source": [
    "all_data.to_hdf('all_data.h5', key='df')"
   ]
  },
  {
   "cell_type": "markdown",
   "metadata": {},
   "source": [
    "# Train model\n",
    "\n",
    "### Load file"
   ]
  },
  {
   "cell_type": "code",
   "execution_count": 1,
   "metadata": {
    "execution": {
     "iopub.status.busy": "2021-07-14T20:11:41.884131Z",
     "iopub.status.idle": "2021-07-14T20:11:41.884449Z"
    }
   },
   "outputs": [],
   "source": [
    "import os\n",
    "import gc\n",
    "import numpy as np\n",
    "import pandas as pd\n",
    "import multiprocessing as mp\n",
    "from tqdm.notebook import tqdm as tqdm_notebook\n",
    "from sklearn.metrics import mean_squared_error\n",
    "\n",
    "from sklearn.preprocessing import StandardScaler\n",
    "from sklearn.linear_model import LinearRegression\n",
    "from sklearn.ensemble import ExtraTreesRegressor\n",
    "from sklearn.ensemble import RandomForestRegressor\n",
    "from sklearn.neighbors import KNeighborsRegressor\n",
    "from catboost import CatBoostRegressor\n",
    "import lightgbm as lgb\n",
    "\n",
    "pd.set_option('display.max_rows', 200)\n",
    "pd.set_option('display.max_columns', 200)\n",
    "\n",
    "all_data = pd.read_hdf('all_data.h5', key='df')\n",
    "submission = pd.read_csv(\"sample_submission.csv.zip\")"
   ]
  },
  {
   "cell_type": "markdown",
   "metadata": {},
   "source": [
    "# Validate model"
   ]
  },
  {
   "cell_type": "code",
   "execution_count": 8,
   "metadata": {
    "execution": {
     "iopub.status.busy": "2021-07-14T20:11:41.890612Z",
     "iopub.status.idle": "2021-07-14T20:11:41.890926Z"
    },
    "scrolled": true
   },
   "outputs": [
    {
     "name": "stderr",
     "output_type": "stream",
     "text": [
      "/home/alex/.local/lib/python3.8/site-packages/lightgbm/basic.py:1294: UserWarning: categorical_feature in Dataset is overridden.\n",
      "New categorical_feature is ['city', 'global_category', 'item_category_id', 'season', 'shop_id']\n",
      "  warnings.warn('categorical_feature in Dataset is overridden.\\n'\n"
     ]
    },
    {
     "name": "stdout",
     "output_type": "stream",
     "text": [
      "Training until validation scores don't improve for 50 rounds\n",
      "[50]\ttraining's rmse: 1.08632\tvalid_1's rmse: 1.05408\n",
      "[100]\ttraining's rmse: 1.01174\tvalid_1's rmse: 0.999538\n",
      "[150]\ttraining's rmse: 0.960584\tvalid_1's rmse: 0.96395\n",
      "[200]\ttraining's rmse: 0.925986\tvalid_1's rmse: 0.941653\n",
      "[250]\ttraining's rmse: 0.901631\tvalid_1's rmse: 0.927357\n",
      "[300]\ttraining's rmse: 0.883952\tvalid_1's rmse: 0.917984\n",
      "[350]\ttraining's rmse: 0.870783\tvalid_1's rmse: 0.911572\n",
      "[400]\ttraining's rmse: 0.860736\tvalid_1's rmse: 0.907222\n",
      "[450]\ttraining's rmse: 0.852609\tvalid_1's rmse: 0.904441\n",
      "[500]\ttraining's rmse: 0.846135\tvalid_1's rmse: 0.902066\n",
      "[550]\ttraining's rmse: 0.840862\tvalid_1's rmse: 0.900499\n",
      "[600]\ttraining's rmse: 0.836433\tvalid_1's rmse: 0.899499\n",
      "[650]\ttraining's rmse: 0.832234\tvalid_1's rmse: 0.89851\n",
      "[700]\ttraining's rmse: 0.828552\tvalid_1's rmse: 0.897818\n",
      "[750]\ttraining's rmse: 0.825277\tvalid_1's rmse: 0.89707\n",
      "[800]\ttraining's rmse: 0.822167\tvalid_1's rmse: 0.896425\n",
      "[850]\ttraining's rmse: 0.81923\tvalid_1's rmse: 0.896105\n",
      "[900]\ttraining's rmse: 0.816854\tvalid_1's rmse: 0.895835\n",
      "[950]\ttraining's rmse: 0.814482\tvalid_1's rmse: 0.895595\n",
      "Early stopping, best iteration is:\n",
      "[944]\ttraining's rmse: 0.814736\tvalid_1's rmse: 0.895573\n"
     ]
    }
   ],
   "source": [
    "cat_feats = [#'date_block_num',\n",
    "             'shop_id',\n",
    "             #'item_id',\n",
    "             'item_category_id',\n",
    "             'city',\n",
    "             'global_category', \n",
    "             'season']\n",
    "\n",
    "last_block = 33\n",
    "dates = all_data['date_block_num']\n",
    "\n",
    "cols_to_drop = ['item_cnt_month']\n",
    "\n",
    "# split dataset on train and test sets for model training\n",
    "X_train = all_data.loc[dates <  last_block].drop(cols_to_drop, axis=1)\n",
    "X_val = all_data.loc[dates ==  last_block].drop(cols_to_drop, axis=1)\n",
    "X_test = all_data.loc[dates ==  34].drop(cols_to_drop, axis=1)\n",
    "\n",
    "y_train = all_data.loc[dates <  last_block, 'item_cnt_month']\n",
    "y_val = all_data.loc[dates ==  last_block, 'item_cnt_month']\n",
    "\n",
    "lgb_params = {\n",
    "            'objective': 'mse',\n",
    "            'metric': 'rmse',\n",
    "            'num_leaves': 32,\n",
    "            'learning_rate': 0.005,\n",
    "            'feature_fraction': 0.8,\n",
    "            'bagging_fraction': 0.8,\n",
    "            'bagging_freq': 5,\n",
    "            'verbose': 1\n",
    "        }\n",
    "\n",
    "# fit LGBM\n",
    "lgb_train = lgb.Dataset(X_train, y_train)\n",
    "lgb_eval = lgb.Dataset(X_val, y_val, reference=lgb_train)\n",
    "\n",
    "gbm = lgb.train(\n",
    "        lgb_params, \n",
    "        lgb_train,\n",
    "        num_boost_round=1000,\n",
    "        valid_sets=(lgb_train, lgb_eval),\n",
    "        categorical_feature=cat_feats,\n",
    "        verbose_eval=50, \n",
    "        early_stopping_rounds = 50)\n",
    "\n",
    "test_pred_lgb = gbm.predict(X_test)"
   ]
  },
  {
   "cell_type": "code",
   "execution_count": 11,
   "metadata": {
    "execution": {
     "iopub.status.busy": "2021-07-14T20:11:41.891581Z",
     "iopub.status.idle": "2021-07-14T20:11:41.89187Z"
    },
    "scrolled": false
   },
   "outputs": [
    {
     "data": {
      "text/plain": [
       "<AxesSubplot:title={'center':'Feature importance'}, xlabel='Feature importance', ylabel='Features'>"
      ]
     },
     "execution_count": 11,
     "metadata": {},
     "output_type": "execute_result"
    },
    {
     "data": {
      "image/png": "[encoded data removed]",
      "text/plain": [
       "<Figure size 1152x864 with 1 Axes>"
      ]
     },
     "metadata": {
      "needs_background": "light"
     },
     "output_type": "display_data"
    }
   ],
   "source": [
    "lgb.plot_importance(gbm, figsize=(16, 12))"
   ]
  },
  {
   "cell_type": "code",
   "execution_count": 12,
   "metadata": {
    "execution": {
     "iopub.status.busy": "2021-07-14T20:11:41.892516Z",
     "iopub.status.idle": "2021-07-14T20:11:41.892806Z"
    },
    "scrolled": false
   },
   "outputs": [
    {
     "data": {
      "text/plain": [
       "{'item_category_id': 4440,\n",
       " 'shop_id': 3167,\n",
       " 'sum_item_cnt_month_by_item_id_lag_1': 2605,\n",
       " 'last_saled_days_ago': 1683,\n",
       " 'item_id': 958,\n",
       " 'item_name_length': 879,\n",
       " 'date_block_num': 871,\n",
       " 'item_name_cleaned_length': 827,\n",
       " 'item_cnt_month_lag_1': 742,\n",
       " 'season': 690,\n",
       " 'mean_ewm_prev_3': 653,\n",
       " 'sum_item_cnt_month_by_global_category_lag_2': 536,\n",
       " 'holidays_and_weekends_in_month': 519,\n",
       " 'item_deals_month_lag_1': 457,\n",
       " 'sum_item_cnt_month_by_global_category_lag_1': 426,\n",
       " 'sum_item_cnt_month_by_item_id_lag_2': 420,\n",
       " 'mean_item_price_by_item_id_lag_1': 417,\n",
       " 'sum_item_cnt_month_by_item_category_id_lag_2': 385,\n",
       " 'sale_days_ratio_lag_6': 315,\n",
       " 'sum_item_cnt_month_by_item_category_id_lag_1': 311,\n",
       " 'global_category': 244,\n",
       " 'item_cnt_month_lag_1_next_id': 240,\n",
       " 'sale_days_ratio_lag_1': 230,\n",
       " 'city': 225,\n",
       " 'item_cnt_month_lag_12': 220,\n",
       " 'item_cnt_month_lag_3': 216,\n",
       " 'sum_item_cnt_month_by_item_id_lag_3': 208,\n",
       " 'mean_ewm_prev_6': 200,\n",
       " 'days_in_month': 199,\n",
       " 'sum_item_cnt_month_by_global_category_lag_12': 191,\n",
       " 'mean_item_price_by_global_category_lag_1': 190,\n",
       " 'mean_ewm_prev_4': 186,\n",
       " 'item_cnt_month_lag_1_prev_id': 186,\n",
       " '6_month_mean_cnt': 175,\n",
       " '3_month_min_cnt': 162,\n",
       " 'mean_item_price_by_shop_id_lag_1': 152,\n",
       " 'mean_item_price_by_shop_id_lag_12': 152,\n",
       " 'item_deals_month_lag_5': 144,\n",
       " 'mean_item_price_by_item_category_id_lag_1': 143,\n",
       " 'item_cnt_month_lag_6': 137,\n",
       " 'sum_item_cnt_month_by_shop_id_lag_1': 136,\n",
       " 'item_deals_month_lag_6': 134,\n",
       " 'item_cnt_month_lag_5': 129,\n",
       " 'mean_ewm_prev_5': 128,\n",
       " 'sum_item_cnt_month_by_shop_id_lag_2': 125,\n",
       " '6_month_std_cnt': 119,\n",
       " 'mean_item_price_by_item_category_id_lag_2': 117,\n",
       " 'mean_item_price_by_global_category_lag_4': 117,\n",
       " 'mean_item_price_by_item_id_lag_2': 116,\n",
       " '6_month_median_cnt': 116,\n",
       " 'item_deals_month_lag_2': 108,\n",
       " 'mean_item_price_by_global_category_lag_2': 107,\n",
       " 'item_cnt_month_lag_3_prev_id': 97,\n",
       " 'sum_item_cnt_month_by_global_category_lag_3': 96,\n",
       " '5_month_mean_cnt': 96,\n",
       " 'sum_item_cnt_month_by_global_category_lag_4': 95,\n",
       " 'sum_item_cnt_month_by_shop_id_lag_12': 93,\n",
       " 'mean_item_price_by_item_id_lag_3': 81,\n",
       " '6_month_min_cnt': 78,\n",
       " '6_month_max_cnt': 77,\n",
       " 'shop_type': 76,\n",
       " 'mean_item_price_by_global_category_lag_3': 76,\n",
       " '5_month_median_cnt': 76,\n",
       " 'mean_item_price_by_shop_id_lag_2': 71,\n",
       " '4_month_mean_cnt': 71,\n",
       " 'sum_item_cnt_month_by_item_category_id_lag_4': 64,\n",
       " '3_month_median_cnt': 55,\n",
       " 'sum_item_cnt_month_by_item_id_lag_4': 54,\n",
       " 'sum_item_cnt_month_by_global_category_lag_6': 53,\n",
       " 'sum_item_cnt_month_by_item_id_lag_5': 52,\n",
       " 'mean_item_price_by_item_category_id_lag_4': 51,\n",
       " 'item_cnt_month_lag_3_next_id': 51,\n",
       " 'last_ewm_prev_6': 47,\n",
       " 'item_deals_month_lag_12': 46,\n",
       " 'mean_item_price_by_global_category_lag_5': 42,\n",
       " '5_month_max_cnt': 40,\n",
       " 'sum_item_cnt_month_by_global_category_lag_5': 39,\n",
       " '5_month_min_cnt': 39,\n",
       " 'item_deals_month_lag_4': 38,\n",
       " '3_month_std_cnt': 38,\n",
       " 'sum_item_cnt_month_by_item_id_lag_6': 36,\n",
       " '5_month_std_cnt': 35,\n",
       " 'mean_item_price_by_item_category_id_lag_3': 34,\n",
       " '4_month_max_cnt': 34,\n",
       " '4_month_std_cnt': 34,\n",
       " 'sum_item_cnt_month_by_item_category_id_lag_3': 33,\n",
       " 'sum_item_cnt_month_by_item_category_id_lag_5': 33,\n",
       " 'sum_item_cnt_month_by_item_category_id_lag_6': 32,\n",
       " 'item_cnt_month_lag_2_next_id': 32,\n",
       " '3_month_max_cnt': 31,\n",
       " 'sale_days_ratio_lag_2': 29,\n",
       " '4_month_median_cnt': 29,\n",
       " 'sum_item_cnt_month_by_item_category_id_lag_12': 28,\n",
       " 'sum_item_cnt_month_by_item_id_lag_12': 28,\n",
       " 'mean_item_price_by_global_category_lag_6': 28,\n",
       " 'mean_item_price_by_global_category_lag_12': 28,\n",
       " 'item_cnt_month_lag_2': 27,\n",
       " 'item_cnt_month_lag_2_prev_id': 26,\n",
       " 'item_cnt_month_lag_4': 25,\n",
       " 'sum_item_cnt_month_by_shop_id_lag_6': 25,\n",
       " 'mean_item_price_by_item_category_id_lag_12': 24,\n",
       " 'sum_item_cnt_month_by_shop_id_lag_3': 23,\n",
       " '4_month_min_cnt': 23,\n",
       " 'sale_days_ratio_lag_3': 19,\n",
       " 'mean_item_price_by_shop_id_lag_3': 19,\n",
       " 'item_deals_month_lag_3': 18,\n",
       " 'mean_item_price_by_item_id_lag_4': 18,\n",
       " 'sale_days_ratio_lag_12': 17,\n",
       " 'mean_item_price_by_shop_id_lag_5': 17,\n",
       " 'sale_days_ratio_lag_4': 14,\n",
       " 'sum_item_cnt_month_by_shop_id_lag_5': 14,\n",
       " '3_month_mean_cnt': 13,\n",
       " 'mean_item_price_by_item_category_id_lag_5': 12,\n",
       " 'sum_item_cnt_month_by_shop_id_lag_4': 11,\n",
       " 'mean_item_price_by_item_id_lag_5': 11,\n",
       " 'mean_item_price_by_item_category_id_lag_6': 11,\n",
       " 'last_ewm_prev_4': 11,\n",
       " 'last_ewm_prev_3': 10,\n",
       " 'mean_item_price_by_item_id_lag_12': 9,\n",
       " 'mean_item_price_by_shop_id_lag_4': 7,\n",
       " 'mean_item_price_by_item_id_lag_6': 5,\n",
       " 'mean_item_price_by_shop_id_lag_6': 3,\n",
       " 'last_ewm_prev_5': 2,\n",
       " 'sale_days_ratio_lag_5': 1}"
      ]
     },
     "execution_count": 12,
     "metadata": {},
     "output_type": "execute_result"
    }
   ],
   "source": [
    "feat_importance = dict(zip(X_train.columns, gbm.feature_importance()))\n",
    "feat_importance = {k: v for k, v in sorted(feat_importance.items(), key=lambda x: x[1], reverse=True)}\n",
    "feat_importance"
   ]
  },
  {
   "cell_type": "code",
   "execution_count": 7,
   "metadata": {
    "scrolled": true
   },
   "outputs": [
    {
     "data": {
      "text/plain": [
       "{'3_month_std_cnt': 114,\n",
       " '3_month_min_cnt': 95,\n",
       " '6_month_mean_cnt': 69,\n",
       " '4_month_std_cnt': 65,\n",
       " '6_month_min_cnt': 60,\n",
       " '6_month_std_cnt': 60,\n",
       " '3_month_median_cnt': 58,\n",
       " '5_month_min_cnt': 56,\n",
       " '6_month_median_cnt': 48,\n",
       " '4_month_min_cnt': 46,\n",
       " '6_month_max_cnt': 44,\n",
       " '3_month_mean_cnt': 41,\n",
       " '4_month_mean_cnt': 40,\n",
       " '5_month_std_cnt': 40,\n",
       " '5_month_median_cnt': 39,\n",
       " '4_month_median_cnt': 38,\n",
       " '3_month_max_cnt': 37,\n",
       " '5_month_mean_cnt': 35,\n",
       " '4_month_max_cnt': 27,\n",
       " '5_month_max_cnt': 19}"
      ]
     },
     "execution_count": 7,
     "metadata": {},
     "output_type": "execute_result"
    }
   ],
   "source": [
    "{k: v for k, v in feat_importance.items() if k[0].isdigit()}"
   ]
  },
  {
   "cell_type": "code",
   "execution_count": 19,
   "metadata": {},
   "outputs": [
    {
     "data": {
      "text/plain": [
       "{'6_month_mean_cnt': 175,\n",
       " '5_month_mean_cnt': 96,\n",
       " '4_month_mean_cnt': 71,\n",
       " '3_month_mean_cnt': 13}"
      ]
     },
     "execution_count": 19,
     "metadata": {},
     "output_type": "execute_result"
    }
   ],
   "source": [
    "{k: v for k, v in feat_importance.items() if k[2:12] == 'month_mean'}"
   ]
  },
  {
   "cell_type": "code",
   "execution_count": 20,
   "metadata": {
    "scrolled": false
   },
   "outputs": [
    {
     "data": {
      "text/plain": [
       "{'6_month_std_cnt': 119,\n",
       " '3_month_std_cnt': 38,\n",
       " '5_month_std_cnt': 35,\n",
       " '4_month_std_cnt': 34}"
      ]
     },
     "execution_count": 20,
     "metadata": {},
     "output_type": "execute_result"
    }
   ],
   "source": [
    "{k: v for k, v in feat_importance.items() if k[2:11] == 'month_std'}"
   ]
  },
  {
   "cell_type": "code",
   "execution_count": 21,
   "metadata": {
    "scrolled": true
   },
   "outputs": [
    {
     "data": {
      "text/plain": [
       "{'3_month_min_cnt': 162,\n",
       " '6_month_min_cnt': 78,\n",
       " '5_month_min_cnt': 39,\n",
       " '4_month_min_cnt': 23}"
      ]
     },
     "execution_count": 21,
     "metadata": {},
     "output_type": "execute_result"
    }
   ],
   "source": [
    "{k: v for k, v in feat_importance.items() if k[2:11] == 'month_min'}"
   ]
  },
  {
   "cell_type": "code",
   "execution_count": 22,
   "metadata": {
    "scrolled": true
   },
   "outputs": [
    {
     "data": {
      "text/plain": [
       "{'6_month_max_cnt': 77,\n",
       " '5_month_max_cnt': 40,\n",
       " '4_month_max_cnt': 34,\n",
       " '3_month_max_cnt': 31}"
      ]
     },
     "execution_count": 22,
     "metadata": {},
     "output_type": "execute_result"
    }
   ],
   "source": [
    "{k: v for k, v in feat_importance.items() if k[2:11] == 'month_max'}"
   ]
  },
  {
   "cell_type": "code",
   "execution_count": 23,
   "metadata": {
    "scrolled": false
   },
   "outputs": [
    {
     "data": {
      "text/plain": [
       "{'6_month_median_cnt': 116,\n",
       " '5_month_median_cnt': 76,\n",
       " '3_month_median_cnt': 55,\n",
       " '4_month_median_cnt': 29}"
      ]
     },
     "execution_count": 23,
     "metadata": {},
     "output_type": "execute_result"
    }
   ],
   "source": [
    "{k: v for k, v in feat_importance.items() if k[2:14] == 'month_median'}"
   ]
  },
  {
   "cell_type": "code",
   "execution_count": 29,
   "metadata": {
    "scrolled": true
   },
   "outputs": [
    {
     "data": {
      "text/plain": [
       "{'mean_item_price_by_shop_id_lag_12': 152,\n",
       " 'mean_item_price_by_global_category_lag_12': 28,\n",
       " 'mean_item_price_by_item_category_id_lag_12': 24,\n",
       " 'mean_item_price_by_item_id_lag_12': 9}"
      ]
     },
     "execution_count": 29,
     "metadata": {},
     "output_type": "execute_result"
    }
   ],
   "source": [
    "{k: v for k, v in feat_importance.items() if k.startswith('mean_item_price') and k.endswith('12')}"
   ]
  },
  {
   "cell_type": "code",
   "execution_count": 30,
   "metadata": {
    "scrolled": true
   },
   "outputs": [
    {
     "data": {
      "text/plain": [
       "{'mean_item_price_by_global_category_lag_6': 28,\n",
       " 'mean_item_price_by_item_category_id_lag_6': 11,\n",
       " 'mean_item_price_by_item_id_lag_6': 5,\n",
       " 'mean_item_price_by_shop_id_lag_6': 3}"
      ]
     },
     "execution_count": 30,
     "metadata": {},
     "output_type": "execute_result"
    }
   ],
   "source": [
    "{k: v for k, v in feat_importance.items() if k.startswith('mean_item_price') and k.endswith('6')}"
   ]
  },
  {
   "cell_type": "code",
   "execution_count": 31,
   "metadata": {
    "scrolled": true
   },
   "outputs": [
    {
     "data": {
      "text/plain": [
       "{'mean_item_price_by_global_category_lag_5': 42,\n",
       " 'mean_item_price_by_shop_id_lag_5': 17,\n",
       " 'mean_item_price_by_item_category_id_lag_5': 12,\n",
       " 'mean_item_price_by_item_id_lag_5': 11}"
      ]
     },
     "execution_count": 31,
     "metadata": {},
     "output_type": "execute_result"
    }
   ],
   "source": [
    "{k: v for k, v in feat_importance.items() if k.startswith('mean_item_price') and k.endswith('5')}"
   ]
  },
  {
   "cell_type": "code",
   "execution_count": 32,
   "metadata": {
    "scrolled": true
   },
   "outputs": [
    {
     "data": {
      "text/plain": [
       "{'mean_item_price_by_global_category_lag_4': 117,\n",
       " 'mean_item_price_by_item_category_id_lag_4': 51,\n",
       " 'mean_item_price_by_item_id_lag_4': 18,\n",
       " 'mean_item_price_by_shop_id_lag_4': 7}"
      ]
     },
     "execution_count": 32,
     "metadata": {},
     "output_type": "execute_result"
    }
   ],
   "source": [
    "{k: v for k, v in feat_importance.items() if k.startswith('mean_item_price') and k.endswith('4')}"
   ]
  },
  {
   "cell_type": "code",
   "execution_count": 33,
   "metadata": {
    "scrolled": true
   },
   "outputs": [
    {
     "data": {
      "text/plain": [
       "{'mean_item_price_by_item_id_lag_3': 81,\n",
       " 'mean_item_price_by_global_category_lag_3': 76,\n",
       " 'mean_item_price_by_item_category_id_lag_3': 34,\n",
       " 'mean_item_price_by_shop_id_lag_3': 19}"
      ]
     },
     "execution_count": 33,
     "metadata": {},
     "output_type": "execute_result"
    }
   ],
   "source": [
    "{k: v for k, v in feat_importance.items() if k.startswith('mean_item_price') and k.endswith('3')}"
   ]
  },
  {
   "cell_type": "code",
   "execution_count": 35,
   "metadata": {
    "scrolled": true
   },
   "outputs": [
    {
     "data": {
      "text/plain": [
       "{'mean_item_price_by_item_category_id_lag_2': 117,\n",
       " 'mean_item_price_by_item_id_lag_2': 116,\n",
       " 'mean_item_price_by_global_category_lag_2': 107,\n",
       " 'mean_item_price_by_shop_id_lag_2': 71}"
      ]
     },
     "execution_count": 35,
     "metadata": {},
     "output_type": "execute_result"
    }
   ],
   "source": [
    "{k: v for k, v in feat_importance.items() if k.startswith('mean_item_price') and k.endswith('_2')}"
   ]
  },
  {
   "cell_type": "code",
   "execution_count": 36,
   "metadata": {},
   "outputs": [
    {
     "data": {
      "text/plain": [
       "{'mean_item_price_by_item_id_lag_1': 417,\n",
       " 'mean_item_price_by_global_category_lag_1': 190,\n",
       " 'mean_item_price_by_shop_id_lag_1': 152,\n",
       " 'mean_item_price_by_item_category_id_lag_1': 143}"
      ]
     },
     "execution_count": 36,
     "metadata": {},
     "output_type": "execute_result"
    }
   ],
   "source": [
    "{k: v for k, v in feat_importance.items() if k.startswith('mean_item_price') and k.endswith('1')}"
   ]
  },
  {
   "cell_type": "code",
   "execution_count": 37,
   "metadata": {},
   "outputs": [
    {
     "data": {
      "text/plain": [
       "{'sum_item_cnt_month_by_global_category_lag_12': 191,\n",
       " 'sum_item_cnt_month_by_shop_id_lag_12': 93,\n",
       " 'sum_item_cnt_month_by_item_category_id_lag_12': 28,\n",
       " 'sum_item_cnt_month_by_item_id_lag_12': 28}"
      ]
     },
     "execution_count": 37,
     "metadata": {},
     "output_type": "execute_result"
    }
   ],
   "source": [
    "{k: v for k, v in feat_importance.items() if k.startswith('sum_item_cnt') and k.endswith('12')}"
   ]
  },
  {
   "cell_type": "code",
   "execution_count": 38,
   "metadata": {
    "scrolled": true
   },
   "outputs": [
    {
     "data": {
      "text/plain": [
       "{'sum_item_cnt_month_by_global_category_lag_6': 53,\n",
       " 'sum_item_cnt_month_by_item_id_lag_6': 36,\n",
       " 'sum_item_cnt_month_by_item_category_id_lag_6': 32,\n",
       " 'sum_item_cnt_month_by_shop_id_lag_6': 25}"
      ]
     },
     "execution_count": 38,
     "metadata": {},
     "output_type": "execute_result"
    }
   ],
   "source": [
    "{k: v for k, v in feat_importance.items() if k.startswith('sum_item_cnt') and k.endswith('6')}"
   ]
  },
  {
   "cell_type": "code",
   "execution_count": 39,
   "metadata": {
    "scrolled": true
   },
   "outputs": [
    {
     "data": {
      "text/plain": [
       "{'sum_item_cnt_month_by_item_id_lag_5': 52,\n",
       " 'sum_item_cnt_month_by_global_category_lag_5': 39,\n",
       " 'sum_item_cnt_month_by_item_category_id_lag_5': 33,\n",
       " 'sum_item_cnt_month_by_shop_id_lag_5': 14}"
      ]
     },
     "execution_count": 39,
     "metadata": {},
     "output_type": "execute_result"
    }
   ],
   "source": [
    "{k: v for k, v in feat_importance.items() if k.startswith('sum_item_cnt') and k.endswith('5')}"
   ]
  },
  {
   "cell_type": "code",
   "execution_count": 40,
   "metadata": {
    "scrolled": true
   },
   "outputs": [
    {
     "data": {
      "text/plain": [
       "{'sum_item_cnt_month_by_global_category_lag_4': 95,\n",
       " 'sum_item_cnt_month_by_item_category_id_lag_4': 64,\n",
       " 'sum_item_cnt_month_by_item_id_lag_4': 54,\n",
       " 'sum_item_cnt_month_by_shop_id_lag_4': 11}"
      ]
     },
     "execution_count": 40,
     "metadata": {},
     "output_type": "execute_result"
    }
   ],
   "source": [
    "{k: v for k, v in feat_importance.items() if k.startswith('sum_item_cnt') and k.endswith('4')}"
   ]
  },
  {
   "cell_type": "code",
   "execution_count": 41,
   "metadata": {
    "scrolled": true
   },
   "outputs": [
    {
     "data": {
      "text/plain": [
       "{'sum_item_cnt_month_by_item_id_lag_3': 208,\n",
       " 'sum_item_cnt_month_by_global_category_lag_3': 96,\n",
       " 'sum_item_cnt_month_by_item_category_id_lag_3': 33,\n",
       " 'sum_item_cnt_month_by_shop_id_lag_3': 23}"
      ]
     },
     "execution_count": 41,
     "metadata": {},
     "output_type": "execute_result"
    }
   ],
   "source": [
    "{k: v for k, v in feat_importance.items() if k.startswith('sum_item_cnt') and k.endswith('3')}"
   ]
  },
  {
   "cell_type": "code",
   "execution_count": 42,
   "metadata": {
    "scrolled": true
   },
   "outputs": [
    {
     "data": {
      "text/plain": [
       "{'sum_item_cnt_month_by_global_category_lag_2': 536,\n",
       " 'sum_item_cnt_month_by_item_id_lag_2': 420,\n",
       " 'sum_item_cnt_month_by_item_category_id_lag_2': 385,\n",
       " 'sum_item_cnt_month_by_shop_id_lag_2': 125}"
      ]
     },
     "execution_count": 42,
     "metadata": {},
     "output_type": "execute_result"
    }
   ],
   "source": [
    "{k: v for k, v in feat_importance.items() if k.startswith('sum_item_cnt') and k.endswith('_2')}"
   ]
  },
  {
   "cell_type": "code",
   "execution_count": 46,
   "metadata": {},
   "outputs": [
    {
     "data": {
      "text/plain": [
       "{'mean_ewm_prev_3': 653,\n",
       " 'mean_ewm_prev_6': 200,\n",
       " 'mean_ewm_prev_4': 186,\n",
       " 'mean_ewm_prev_5': 128}"
      ]
     },
     "execution_count": 46,
     "metadata": {},
     "output_type": "execute_result"
    }
   ],
   "source": [
    "{k: v for k, v in feat_importance.items() if k.startswith('mean_ewm_prev')}"
   ]
  },
  {
   "cell_type": "code",
   "execution_count": 44,
   "metadata": {
    "scrolled": false
   },
   "outputs": [
    {
     "data": {
      "text/plain": [
       "['mean_ewm_prev_3', 'mean_ewm_prev_6', 'mean_ewm_prev_4', 'mean_ewm_prev_5']"
      ]
     },
     "execution_count": 44,
     "metadata": {},
     "output_type": "execute_result"
    }
   ],
   "source": [
    "[k for k, v in feat_importance.items() if k.startswith('mean_ewm_prev')]"
   ]
  },
  {
   "cell_type": "code",
   "execution_count": 16,
   "metadata": {},
   "outputs": [],
   "source": [
    "last_ewm = [k for k, v in feat_importance.items() if k.startswith('last_ewm')]\n",
    "\n",
    "cols = [c for c in all_data.columns if c not in last_ewm]\n",
    "\n",
    "all_data = all_data[cols].copy()"
   ]
  },
  {
   "cell_type": "code",
   "execution_count": null,
   "metadata": {},
   "outputs": [],
   "source": []
  },
  {
   "cell_type": "markdown",
   "metadata": {},
   "source": [
    "mean_item_price_by_item_id is bad feature"
   ]
  },
  {
   "cell_type": "markdown",
   "metadata": {},
   "source": [
    "# Save predictions"
   ]
  },
  {
   "cell_type": "code",
   "execution_count": 18,
   "metadata": {
    "execution": {
     "iopub.status.busy": "2021-07-14T20:11:41.893493Z",
     "iopub.status.idle": "2021-07-14T20:11:41.893775Z"
    },
    "scrolled": true
   },
   "outputs": [
    {
     "data": {
      "text/html": [
       "<div>\n",
       "<style scoped>\n",
       "    .dataframe tbody tr th:only-of-type {\n",
       "        vertical-align: middle;\n",
       "    }\n",
       "\n",
       "    .dataframe tbody tr th {\n",
       "        vertical-align: top;\n",
       "    }\n",
       "\n",
       "    .dataframe thead th {\n",
       "        text-align: right;\n",
       "    }\n",
       "</style>\n",
       "<table border=\"1\" class=\"dataframe\">\n",
       "  <thead>\n",
       "    <tr style=\"text-align: right;\">\n",
       "      <th></th>\n",
       "      <th>ID</th>\n",
       "      <th>item_cnt_month</th>\n",
       "    </tr>\n",
       "  </thead>\n",
       "  <tbody>\n",
       "    <tr>\n",
       "      <th>0</th>\n",
       "      <td>0</td>\n",
       "      <td>0.390902</td>\n",
       "    </tr>\n",
       "    <tr>\n",
       "      <th>1</th>\n",
       "      <td>1</td>\n",
       "      <td>0.290989</td>\n",
       "    </tr>\n",
       "    <tr>\n",
       "      <th>2</th>\n",
       "      <td>2</td>\n",
       "      <td>0.870687</td>\n",
       "    </tr>\n",
       "    <tr>\n",
       "      <th>3</th>\n",
       "      <td>3</td>\n",
       "      <td>0.292391</td>\n",
       "    </tr>\n",
       "    <tr>\n",
       "      <th>4</th>\n",
       "      <td>4</td>\n",
       "      <td>2.890268</td>\n",
       "    </tr>\n",
       "    <tr>\n",
       "      <th>5</th>\n",
       "      <td>5</td>\n",
       "      <td>0.445098</td>\n",
       "    </tr>\n",
       "    <tr>\n",
       "      <th>6</th>\n",
       "      <td>6</td>\n",
       "      <td>0.825798</td>\n",
       "    </tr>\n",
       "    <tr>\n",
       "      <th>7</th>\n",
       "      <td>7</td>\n",
       "      <td>0.134780</td>\n",
       "    </tr>\n",
       "    <tr>\n",
       "      <th>8</th>\n",
       "      <td>8</td>\n",
       "      <td>0.702667</td>\n",
       "    </tr>\n",
       "    <tr>\n",
       "      <th>9</th>\n",
       "      <td>9</td>\n",
       "      <td>0.343170</td>\n",
       "    </tr>\n",
       "  </tbody>\n",
       "</table>\n",
       "</div>"
      ],
      "text/plain": [
       "   ID  item_cnt_month\n",
       "0   0        0.390902\n",
       "1   1        0.290989\n",
       "2   2        0.870687\n",
       "3   3        0.292391\n",
       "4   4        2.890268\n",
       "5   5        0.445098\n",
       "6   6        0.825798\n",
       "7   7        0.134780\n",
       "8   8        0.702667\n",
       "9   9        0.343170"
      ]
     },
     "execution_count": 18,
     "metadata": {},
     "output_type": "execute_result"
    }
   ],
   "source": [
    "import os\n",
    "\n",
    "submission = pd.read_csv(\"sample_submission.csv.zip\")\n",
    "submission['item_cnt_month'] = test_pred_lgb\n",
    "submission.item_cnt_month.clip(0, 20, inplace=True)\n",
    "\n",
    "submission.to_csv('submission.csv', index=False)\n",
    "\n",
    "submission.head(10)"
   ]
  },
  {
   "cell_type": "code",
   "execution_count": 15,
   "metadata": {},
   "outputs": [
    {
     "data": {
      "text/plain": [
       "(214200, 2)"
      ]
     },
     "execution_count": 15,
     "metadata": {},
     "output_type": "execute_result"
    }
   ],
   "source": [
    "submission.shape"
   ]
  },
  {
   "cell_type": "markdown",
   "metadata": {},
   "source": [
    "# Train model ensemble\n",
    "\n",
    "### Load data files"
   ]
  },
  {
   "cell_type": "markdown",
   "metadata": {},
   "source": [
    "# Predict"
   ]
  },
  {
   "cell_type": "markdown",
   "metadata": {},
   "source": [
    "### Split dataset on train, validation and test sets"
   ]
  },
  {
   "cell_type": "markdown",
   "metadata": {
    "execution": {
     "iopub.status.busy": "2021-06-08T14:29:48.638299Z",
     "iopub.status.idle": "2021-06-08T14:29:48.638719Z"
    }
   },
   "source": [
    "# Train model ensemble\n",
    "\n",
    "We decide to train LGBM and CatBoost models. We also tried to used linear regression, KNN, random forests and extra trees, but linear regression just can't produce the same quality results as boost models can and all other models are too sloooow for training. So we postpone ensembling with them and now try to ensemble two boosting models.\n",
    "\n",
    "### Create test meta-features"
   ]
  },
  {
   "cell_type": "code",
   "execution_count": null,
   "metadata": {
    "execution": {
     "iopub.status.busy": "2021-07-14T20:11:41.907616Z",
     "iopub.status.idle": "2021-07-14T20:11:41.907918Z"
    }
   },
   "outputs": [],
   "source": [
    "cat_feats = ['shop_id',\n",
    "             'item_category_id',\n",
    "             'city',\n",
    "             'global_category', \n",
    "             'platform',\n",
    "             'season']\n",
    "\n",
    "# fit CatBoost\n",
    "cbr = CatBoostRegressor(\n",
    "                      iterations=500, \n",
    "                      learning_rate=0.05, \n",
    "                      loss_function='RMSE',\n",
    "                      cat_features = cat_feats,\n",
    "                      metric_period = 50\n",
    "                    )\n",
    "cbr.fit(X_train, y_train)\n",
    "test_pred_cbr = cbr.predict(X_test)\n",
    "\n",
    "lgb_params = {\n",
    "            'objective': 'mse',\n",
    "            'metric': 'rmse',\n",
    "            'num_leaves': 32,\n",
    "            'learning_rate': 0.05,\n",
    "            'feature_fraction': 0.8,\n",
    "            'bagging_fraction': 0.8,\n",
    "            'bagging_freq': 5,\n",
    "            'verbose': 1\n",
    "        }\n",
    "\n",
    " # fit LGBM\n",
    "lgb_train = lgb.Dataset(X_train, y_train)\n",
    "\n",
    "gbm = lgb.train(\n",
    "        lgb_params, \n",
    "        lgb_train,\n",
    "        num_boost_round=500,\n",
    "        valid_sets=lgb_train, \n",
    "        categorical_feature=cat_feats,\n",
    "        verbose_eval=50, \n",
    "        early_stopping_rounds = 50)\n",
    "\n",
    "test_pred_lgb = gbm.predict(X_test)"
   ]
  },
  {
   "cell_type": "markdown",
   "metadata": {},
   "source": [
    "Concatenate two predictions to get test meta-features"
   ]
  },
  {
   "cell_type": "code",
   "execution_count": null,
   "metadata": {
    "execution": {
     "iopub.status.busy": "2021-07-14T20:11:41.908545Z",
     "iopub.status.idle": "2021-07-14T20:11:41.908826Z"
    }
   },
   "outputs": [],
   "source": [
    "X_test_level2 = np.c_[test_pred_cbr, test_pred_lgb] "
   ]
  },
  {
   "cell_type": "markdown",
   "metadata": {},
   "source": [
    "### Create train meta-features"
   ]
  },
  {
   "cell_type": "code",
   "execution_count": null,
   "metadata": {
    "execution": {
     "iopub.status.busy": "2021-07-14T20:11:41.909591Z",
     "iopub.status.idle": "2021-07-14T20:11:41.909874Z"
    }
   },
   "outputs": [],
   "source": [
    "dates_train_level2 = dates_train[dates_train.isin([30, 31, 32, 33])]\n",
    "\n",
    "# That is how we get target for the 2nd level dataset\n",
    "y_train_level2 = y_train[dates_train.isin([30, 31, 32, 33])]\n",
    "\n",
    "# And here we create 2nd level feeature matrix, init it with zeros first\n",
    "X_train_level2 = np.zeros([y_train_level2.shape[0], 2])\n",
    "\n",
    "meta_index_begin = 0\n",
    "meta_index_end = 0\n",
    "\n",
    "# Now fill `X_train_level2` with metafeatures\n",
    "for cur_block_num in tqdm_notebook([30, 31, 32, 33]):\n",
    "    \n",
    "    # split data\n",
    "    train_index = X_train.loc[dates <  cur_block_num].index\n",
    "    val_index  = X_train.loc[dates == cur_block_num].index\n",
    "    \n",
    "    x_train_ = X_train.loc[X_train.index.isin(train_index), :]\n",
    "    x_val_ =  X_train.loc[X_train.index.isin(val_index), :]\n",
    "\n",
    "    y_train_ = y_train.loc[y_train.index.isin(train_index)].values\n",
    "    y_val_ =  y_train.loc[y_train.index.isin(val_index)].values\n",
    "    \n",
    "    meta_index_end += y_val_.shape[0]\n",
    "    \n",
    "    # fit CatBoost\n",
    "    cbr = CatBoostRegressor(\n",
    "                          iterations=500, \n",
    "                          learning_rate=0.05, \n",
    "                          loss_function='RMSE',\n",
    "                          cat_features = cat_feats,\n",
    "                          metric_period = 50\n",
    "                        )\n",
    "    cbr.fit(x_train_, y_train_, eval_set=(x_val_, y_val_))\n",
    "    pred_cbr = cbr.predict(x_val_)\n",
    "    \n",
    "    X_train_level2[meta_index_begin:meta_index_end, 0] = pred_cbr\n",
    "    \n",
    "    # fit LGBM\n",
    "    lgb_train = lgb.Dataset(x_train_, y_train_)\n",
    "    lgb_eval = lgb.Dataset(x_val_, y_val_, reference=lgb_train)\n",
    "    \n",
    "    gbm = lgb.train(\n",
    "            lgb_params, \n",
    "            lgb_train,\n",
    "            num_boost_round=500,\n",
    "            valid_sets=(lgb_train, lgb_eval), \n",
    "            categorical_feature=cat_feats,\n",
    "            verbose_eval=50, \n",
    "            early_stopping_rounds = 50)\n",
    "    \n",
    "    pred_lgb = gbm.predict(x_val_)\n",
    "    \n",
    "    X_train_level2[meta_index_begin:meta_index_end, 1] = pred_lgb\n",
    "    \n",
    "    meta_index_begin = meta_index_end"
   ]
  },
  {
   "cell_type": "markdown",
   "metadata": {},
   "source": [
    "### Simple convex mix"
   ]
  },
  {
   "cell_type": "code",
   "execution_count": null,
   "metadata": {
    "execution": {
     "iopub.status.busy": "2021-07-14T20:11:41.910549Z",
     "iopub.status.idle": "2021-07-14T20:11:41.910827Z"
    }
   },
   "outputs": [],
   "source": [
    "alphas_to_try = np.linspace(0, 1, 1001)\n",
    "   \n",
    "best_alpha = 0\n",
    "mse_train_simple_mix = np.inf\n",
    "\n",
    "for alpha in alphas_to_try:\n",
    "    mse_mix = mean_squared_error(y_train_level2, alpha*X_train_level2[:, 0] + (1-alpha)*X_train_level2[:, 1])\n",
    "    if mse_mix < mse_train_simple_mix:\n",
    "        mse_train_simple_mix = mse_mix\n",
    "        best_alpha = alpha\n",
    "\n",
    "print(f'Best alpha: {best_alpha}; Corresponding MSE on train: {mse_train_simple_mix}')"
   ]
  },
  {
   "cell_type": "markdown",
   "metadata": {},
   "source": [
    "Save meta-features"
   ]
  },
  {
   "cell_type": "code",
   "execution_count": null,
   "metadata": {
    "execution": {
     "iopub.status.busy": "2021-07-14T20:11:41.911549Z",
     "iopub.status.idle": "2021-07-14T20:11:41.91183Z"
    }
   },
   "outputs": [],
   "source": [
    "np.save('X_train_level2.npy', X_train_level2)\n",
    "np.save('X_test_level2.npy', X_test_level2)\n",
    "np.save('y_train_level2.npy', y_train_level2)"
   ]
  },
  {
   "cell_type": "markdown",
   "metadata": {},
   "source": [
    "# Prediction"
   ]
  },
  {
   "cell_type": "markdown",
   "metadata": {},
   "source": [
    "### Load meta-features"
   ]
  },
  {
   "cell_type": "code",
   "execution_count": null,
   "metadata": {
    "execution": {
     "iopub.status.busy": "2021-07-14T20:11:41.912504Z",
     "iopub.status.idle": "2021-07-14T20:11:41.912787Z"
    }
   },
   "outputs": [],
   "source": [
    "import numpy as np\n",
    "import pandas as pd\n",
    "from sklearn.linear_model import LinearRegression\n",
    "\n",
    "X_train_level2 = np.load('X_train_level2.npy')\n",
    "X_test_level2 = np.load('X_test_level2.npy')\n",
    "y_train_level2 = np.load('y_train_level2.npy')"
   ]
  },
  {
   "cell_type": "markdown",
   "metadata": {},
   "source": [
    "### Predict for the test set with convex mix"
   ]
  },
  {
   "cell_type": "code",
   "execution_count": null,
   "metadata": {
    "execution": {
     "iopub.status.busy": "2021-07-14T20:11:41.913534Z",
     "iopub.status.idle": "2021-07-14T20:11:41.91382Z"
    }
   },
   "outputs": [],
   "source": [
    "best_alpha = 0.324\n",
    "\n",
    "test_preds = best_alpha*X_test_level2[:, 0] + (1-best_alpha)*X_test_level2[:, 1]"
   ]
  },
  {
   "cell_type": "markdown",
   "metadata": {},
   "source": [
    "### Save predictions to the submission file"
   ]
  },
  {
   "cell_type": "code",
   "execution_count": null,
   "metadata": {
    "execution": {
     "iopub.status.busy": "2021-07-14T20:11:41.914532Z",
     "iopub.status.idle": "2021-07-14T20:11:41.914816Z"
    }
   },
   "outputs": [],
   "source": [
    "submission = pd.read_csv(\"sample_submission.csv.zip\")\n",
    "submission['item_cnt_month'] = test_preds\n",
    "submission.item_cnt_month.clip(0, 20, inplace=True)\n",
    "\n",
    "submission.head(10)"
   ]
  },
  {
   "cell_type": "code",
   "execution_count": null,
   "metadata": {
    "execution": {
     "iopub.status.busy": "2021-07-14T20:11:41.915523Z",
     "iopub.status.idle": "2021-07-14T20:11:41.915804Z"
    }
   },
   "outputs": [],
   "source": [
    "submission.to_csv('submission_simple_convex_mix.csv', index=False)"
   ]
  },
  {
   "cell_type": "markdown",
   "metadata": {},
   "source": [
    "### Stacking"
   ]
  },
  {
   "cell_type": "code",
   "execution_count": null,
   "metadata": {
    "execution": {
     "iopub.status.busy": "2021-07-14T20:11:41.916477Z",
     "iopub.status.idle": "2021-07-14T20:11:41.916796Z"
    }
   },
   "outputs": [],
   "source": [
    "X_train_level2.shape"
   ]
  },
  {
   "cell_type": "code",
   "execution_count": null,
   "metadata": {
    "execution": {
     "iopub.status.busy": "2021-07-14T20:11:41.917516Z",
     "iopub.status.idle": "2021-07-14T20:11:41.917805Z"
    }
   },
   "outputs": [],
   "source": [
    "y_train_level2.shape"
   ]
  },
  {
   "cell_type": "code",
   "execution_count": null,
   "metadata": {
    "execution": {
     "iopub.status.busy": "2021-07-14T20:11:41.9185Z",
     "iopub.status.idle": "2021-07-14T20:11:41.918784Z"
    }
   },
   "outputs": [],
   "source": [
    "# fit linear regression\n",
    "lr = LinearRegression()\n",
    "lr.fit(X_train_level2, y_train_level2)\n",
    "\n",
    "test_preds = lr.predict(X_test_level2)"
   ]
  },
  {
   "cell_type": "markdown",
   "metadata": {},
   "source": [
    "### Save stacking predictions to file"
   ]
  },
  {
   "cell_type": "code",
   "execution_count": null,
   "metadata": {
    "execution": {
     "iopub.status.busy": "2021-07-14T20:11:41.919456Z",
     "iopub.status.idle": "2021-07-14T20:11:41.919742Z"
    }
   },
   "outputs": [],
   "source": [
    "submission['item_cnt_month'] = test_preds\n",
    "submission.item_cnt_month.clip(0, 20, inplace=True)\n",
    "\n",
    "submission.to_csv('submission_stacking.csv', index=False)\n",
    "\n",
    "submission.head(10)"
   ]
  },
  {
   "cell_type": "markdown",
   "metadata": {},
   "source": [
    "- Simple convex combination gives us 0.9022 LB score.\n",
    "- Stacking gives us 0.9023 LB score.\n",
    "- One finely tuned LGBM model gives us 0.9068 score.\n",
    "\n",
    "So, even simple stacking with similar model gives us performance boost. \n",
    "\n",
    "But there are a lot of space to work with: generate additional features; more complex ensembles with KNN, SVD, RF, ET, NN; additional hyperparameter optimization, etc. We definitely try all of this to imrove the LB score and hit the top."
   ]
  },
  {
   "cell_type": "markdown",
   "metadata": {},
   "source": [
    "# Optimize with Optuna"
   ]
  },
  {
   "cell_type": "code",
   "execution_count": null,
   "metadata": {
    "execution": {
     "iopub.status.busy": "2021-07-14T20:11:41.921444Z",
     "iopub.status.idle": "2021-07-14T20:11:41.921857Z"
    }
   },
   "outputs": [],
   "source": [
    "import optuna.integration.lightgbm as lgb\n",
    "\n",
    "params = {\n",
    "    'objective': 'mse',\n",
    "    'learning_rate': 0.005,\n",
    "    'metric': 'rmse',\n",
    "    'verbose': 1\n",
    "}\n",
    "cat_feats = ['item_category_id',\n",
    "             'city',\n",
    "             'global_category', \n",
    "             'platform',\n",
    "             'season']\n",
    "\n",
    "# lgb_train = lgb.Dataset(x[feature_name], y)\n",
    "lgb_train = lgb.Dataset(X_train, y_train)\n",
    "\n",
    "lgb_eval = lgb.Dataset(X_val, y_val, reference=lgb_train)\n",
    "\n",
    "evals_result = dict()\n",
    "\n",
    "gbm = lgb.train(\n",
    "        params, \n",
    "        lgb_train,\n",
    "        valid_sets=(lgb_train, lgb_eval), \n",
    "#         valid_sets=lgb_train,\n",
    "        categorical_feature = cat_feats,\n",
    "        verbose_eval=50, \n",
    "        evals_result = evals_result,\n",
    "        early_stopping_rounds = 50)"
   ]
  },
  {
   "cell_type": "code",
   "execution_count": null,
   "metadata": {
    "execution": {
     "iopub.status.busy": "2021-07-14T20:11:41.922668Z",
     "iopub.status.idle": "2021-07-14T20:11:41.923083Z"
    }
   },
   "outputs": [],
   "source": [
    "gbm.params"
   ]
  },
  {
   "cell_type": "markdown",
   "metadata": {},
   "source": [
    "Feature importance"
   ]
  },
  {
   "cell_type": "code",
   "execution_count": null,
   "metadata": {
    "execution": {
     "iopub.status.busy": "2021-07-14T20:11:41.923959Z",
     "iopub.status.idle": "2021-07-14T20:11:41.924357Z"
    }
   },
   "outputs": [],
   "source": [
    "lgb.plot_importance(gbm, figsize=(16, 12))"
   ]
  },
  {
   "cell_type": "markdown",
   "metadata": {},
   "source": [
    "Model learning curve"
   ]
  },
  {
   "cell_type": "code",
   "execution_count": null,
   "metadata": {
    "execution": {
     "iopub.status.busy": "2021-07-14T20:11:41.925134Z",
     "iopub.status.idle": "2021-07-14T20:11:41.925529Z"
    }
   },
   "outputs": [],
   "source": [
    "lgb.plot_metric(evals_result)"
   ]
  },
  {
   "cell_type": "markdown",
   "metadata": {},
   "source": [
    "# Make prediction"
   ]
  },
  {
   "cell_type": "code",
   "execution_count": null,
   "metadata": {
    "execution": {
     "iopub.status.busy": "2021-07-14T20:11:41.926372Z",
     "iopub.status.idle": "2021-07-14T20:11:41.926779Z"
    }
   },
   "outputs": [],
   "source": [
    "y = gbm.predict(X_test)\n",
    "\n",
    "submission = pd.read_csv(\"sample_submission.csv.zip\")\n",
    "submission['item_cnt_month'] = y\n",
    "submission.item_cnt_month.clip(0, 20, inplace=True)\n",
    "\n",
    "submission.head(10)"
   ]
  },
  {
   "cell_type": "markdown",
   "metadata": {},
   "source": [
    "# Save to file"
   ]
  },
  {
   "cell_type": "code",
   "execution_count": null,
   "metadata": {
    "execution": {
     "iopub.status.busy": "2021-07-14T20:11:41.927714Z",
     "iopub.status.idle": "2021-07-14T20:11:41.928145Z"
    }
   },
   "outputs": [],
   "source": [
    "submission.to_csv('submission_lgb_tuned.csv', index=False)"
   ]
  },
  {
   "cell_type": "markdown",
   "metadata": {},
   "source": [
    "# Futher ideas\n",
    "\n",
    "- add text description\n",
    "- replace NaN number of days from the last sale by 9999\n",
    "- train only for shops that are presented in the test set\n",
    "\n"
   ]
  },
  {
   "cell_type": "markdown",
   "metadata": {},
   "source": [
    "# Use LightAutoML to predict sales"
   ]
  },
  {
   "cell_type": "code",
   "execution_count": null,
   "metadata": {
    "execution": {
     "iopub.status.busy": "2021-07-14T20:11:41.929009Z",
     "iopub.status.idle": "2021-07-14T20:11:41.929421Z"
    }
   },
   "outputs": [],
   "source": [
    "import os\n",
    "import logging\n",
    "\n",
    "from lightautoml.automl.presets.tabular_presets import TabularAutoML, TabularUtilizedAutoML\n",
    "from lightautoml.tasks import Task\n",
    "import multiprocessing as mp\n",
    "\n",
    "from sklearn.metrics import mean_squared_error\n",
    "from sklearn.model_selection import train_test_split\n",
    "\n",
    "logging.basicConfig(format='[%(asctime)s] (%(levelname)s): %(message)s', level=logging.INFO)"
   ]
  },
  {
   "cell_type": "code",
   "execution_count": null,
   "metadata": {
    "execution": {
     "iopub.status.busy": "2021-07-14T20:11:41.930232Z",
     "iopub.status.idle": "2021-07-14T20:11:41.930642Z"
    }
   },
   "outputs": [],
   "source": [
    "N_THREADS = mp.cpu_count()\n",
    "N_FOLDS = 10\n",
    "RANDOM_STATE = 42\n",
    "TIMEOUT = 2*3600\n",
    "TARGET_NAME = 'item_price'\n",
    "\n",
    "\n",
    "task = Task('reg', loss='mse', metric='mse')\n",
    "roles = {\n",
    "    'target': TARGET_NAME\n",
    "}\n"
   ]
  },
  {
   "cell_type": "code",
   "execution_count": null,
   "metadata": {
    "execution": {
     "iopub.status.busy": "2021-07-14T20:11:41.931553Z",
     "iopub.status.idle": "2021-07-14T20:11:41.93202Z"
    }
   },
   "outputs": [],
   "source": [
    "automl = TabularUtilizedAutoML(task=task,\n",
    "                               timeout=TIMEOUT,\n",
    "                               cpu_limit=N_THREADS,\n",
    "                               general_params={'use_algos':\n",
    "                                                  [['lgb', 'linear_l2', 'cb'],\n",
    "                                                   ['lgb_tuned'],\n",
    "                                                   ]},\n",
    "                               reader_params={'cv': N_FOLDS,\n",
    "                                             'random_state': RANDOM_STATE,\n",
    "                                             'n_jobs': N_THREADS},\n",
    "                               timing_params = {'mode': 0}\n",
    "                          ) \n",
    "\n",
    "\n",
    "oof_pred = automl.fit_predict(X_train, roles=roles)\n"
   ]
  },
  {
   "cell_type": "code",
   "execution_count": null,
   "metadata": {
    "execution": {
     "iopub.status.busy": "2021-07-14T20:11:41.932882Z",
     "iopub.status.idle": "2021-07-14T20:11:41.93331Z"
    }
   },
   "outputs": [],
   "source": [
    "y = automl.predict(sales_test2)\n",
    "\n",
    "submission['item_cnt_month'] = y\n",
    "submission.item_cnt_month.clip(0, 20, inplace=True)\n",
    "\n",
    "submission.head(10)"
   ]
  },
  {
   "cell_type": "code",
   "execution_count": null,
   "metadata": {
    "execution": {
     "iopub.status.busy": "2021-07-14T20:11:41.934174Z",
     "iopub.status.idle": "2021-07-14T20:11:41.934574Z"
    }
   },
   "outputs": [],
   "source": [
    "submission.to_csv('submission.csv', index=False)"
   ]
  },
  {
   "cell_type": "markdown",
   "metadata": {},
   "source": [
    "Fit KNN"
   ]
  },
  {
   "cell_type": "code",
   "execution_count": null,
   "metadata": {
    "execution": {
     "iopub.status.busy": "2021-07-14T20:11:41.935479Z",
     "iopub.status.idle": "2021-07-14T20:11:41.935997Z"
    }
   },
   "outputs": [],
   "source": [
    "# %%time\n",
    "\n",
    "# knn = KNeighborsRegressor(n_jobs=mp.cpu_count())\n",
    "# knn.fit(X_train.values, y_train.values)\n",
    "# pred_knn = knn.predict(X_val.values) # there was X_test, restart this string\n",
    "\n",
    "# # save file \n",
    "# np.save('pred_knn.npy', pred_knn)"
   ]
  },
  {
   "cell_type": "markdown",
   "metadata": {},
   "source": [
    "Fit extra trees"
   ]
  },
  {
   "cell_type": "code",
   "execution_count": null,
   "metadata": {
    "execution": {
     "iopub.status.busy": "2021-07-14T20:11:41.936839Z",
     "iopub.status.idle": "2021-07-14T20:11:41.937272Z"
    }
   },
   "outputs": [],
   "source": [
    "# %%time\n",
    "\n",
    "# etr = ExtraTreesRegressor(verbose=1, n_jobs=mp.cpu_count())\n",
    "# etr.fit(X_train.values, y_train.values)\n",
    "# pred_etr = etr.predict(X_val.values)\n",
    "\n",
    "# # save file \n",
    "# np.save('pred_etr.npy', pred_etr)"
   ]
  },
  {
   "cell_type": "markdown",
   "metadata": {},
   "source": [
    "Fit random forest"
   ]
  },
  {
   "cell_type": "code",
   "execution_count": null,
   "metadata": {
    "execution": {
     "iopub.status.busy": "2021-07-14T20:11:41.938209Z",
     "iopub.status.idle": "2021-07-14T20:11:41.93864Z"
    }
   },
   "outputs": [],
   "source": [
    "# %%time\n",
    "\n",
    "# rfr = RandomForestRegressor(verbose=1, n_jobs=mp.cpu_count())\n",
    "# rfr.fit(X_train.values, y_train.values)\n",
    "# pred_rfr = rfr.predict(X_val.values)\n",
    "\n",
    "# # save file \n",
    "# np.save('pred_rfr.npy', pred_rfr)"
   ]
  }
 ],
 "metadata": {
  "kernelspec": {
   "display_name": "Python 3",
   "language": "python",
   "name": "python3"
  },
  "language_info": {
   "codemirror_mode": {
    "name": "ipython",
    "version": 3
   },
   "file_extension": ".py",
   "mimetype": "text/x-python",
   "name": "python",
   "nbconvert_exporter": "python",
   "pygments_lexer": "ipython3",
   "version": "3.8.10"
  }
 },
 "nbformat": 4,
 "nbformat_minor": 4
}
