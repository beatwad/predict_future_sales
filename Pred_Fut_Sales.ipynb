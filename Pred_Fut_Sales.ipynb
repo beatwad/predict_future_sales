{
 "cells": [
  {
   "cell_type": "markdown",
   "metadata": {},
   "source": [
    "# Import libraries"
   ]
  },
  {
   "cell_type": "code",
   "execution_count": 1,
   "metadata": {
    "execution": {
     "iopub.execute_input": "2021-06-09T15:39:11.367189Z",
     "iopub.status.busy": "2021-06-09T15:39:11.366741Z",
     "iopub.status.idle": "2021-06-09T15:39:11.370725Z",
     "shell.execute_reply": "2021-06-09T15:39:11.369985Z",
     "shell.execute_reply.started": "2021-06-09T15:39:11.367083Z"
    }
   },
   "outputs": [],
   "source": [
    "# for Kaggle\n",
    "# !pip install -U lightautoml"
   ]
  },
  {
   "cell_type": "code",
   "execution_count": 2,
   "metadata": {
    "execution": {
     "iopub.execute_input": "2021-06-09T15:39:11.404394Z",
     "iopub.status.busy": "2021-06-09T15:39:11.403839Z",
     "iopub.status.idle": "2021-06-09T15:39:11.418670Z",
     "shell.execute_reply": "2021-06-09T15:39:11.417552Z",
     "shell.execute_reply.started": "2021-06-09T15:39:11.404362Z"
    }
   },
   "outputs": [],
   "source": [
    "# This Python 3 environment comes with many helpful analytics libraries installed\n",
    "# It is defined by the kaggle/python Docker image: https://github.com/kaggle/docker-python\n",
    "# For example, here's several helpful packages to load\n",
    "# edited by Mayur\n",
    "\n",
    "import gc\n",
    "import scipy\n",
    "import numpy as np # linear algebra\n",
    "import pandas as pd # data processing, CSV file I/O (e.g. pd.read_csv)\n",
    "import matplotlib.pyplot as plt\n",
    "import seaborn as sns\n",
    "\n",
    "# Input data files are available in the read-only \"../input/\" directory\n",
    "# For example, running this (by clicking run or pressing Shift+Enter) will list all files under the input directory\n",
    "\n",
    "import os\n",
    "for dirname, _, filenames in os.walk('/kaggle/input'):\n",
    "    for filename in filenames:\n",
    "        print(os.path.join(dirname, filename))\n",
    "\n",
    "pd.set_option('display.max_rows', 200)\n",
    "pd.set_option('display.max_columns', 200)"
   ]
  },
  {
   "cell_type": "markdown",
   "metadata": {},
   "source": [
    "# Load necessary files"
   ]
  },
  {
   "cell_type": "code",
   "execution_count": 3,
   "metadata": {
    "execution": {
     "iopub.execute_input": "2021-06-09T15:39:11.420750Z",
     "iopub.status.busy": "2021-06-09T15:39:11.420294Z",
     "iopub.status.idle": "2021-06-09T15:39:14.644292Z",
     "shell.execute_reply": "2021-06-09T15:39:14.643523Z",
     "shell.execute_reply.started": "2021-06-09T15:39:11.420708Z"
    }
   },
   "outputs": [],
   "source": [
    "items = pd.read_csv(\"items.csv.zip\")\n",
    "item_categories = pd.read_csv(\"item_categories.csv\")\n",
    "sales_train = pd.read_csv(\"sales_train.csv.zip\", parse_dates=['date'])\n",
    "shops = pd.read_csv(\"shops.csv\")\n",
    "sales_test = pd.read_csv(\"test.csv.zip\")\n",
    "submission = pd.read_csv(\"sample_submission.csv.zip\")\n",
    "\n",
    "# for Kaggle\n",
    "\n",
    "# PATH = '../input/competitive-data-science-predict-future-sales'\n",
    "\n",
    "# items           = pd.read_csv(os.path.join(PATH,'items.csv'))\n",
    "# item_categories = pd.read_csv(os.path.join(PATH,'item_categories.csv'))\n",
    "# sales_train     = pd.read_csv(os.path.join(PATH,'sales_train.csv'), parse_dates=['date'])\n",
    "# shops           = pd.read_csv(os.path.join(PATH,'shops.csv'))\n",
    "# sales_test      = pd.read_csv(os.path.join(PATH,'test.csv'))\n",
    "# submission      = pd.read_csv(os.path.join(PATH,'sample_submission.csv'))"
   ]
  },
  {
   "cell_type": "markdown",
   "metadata": {},
   "source": [
    "# Research dataset"
   ]
  },
  {
   "cell_type": "code",
   "execution_count": 4,
   "metadata": {
    "execution": {
     "iopub.execute_input": "2021-06-09T15:39:14.647027Z",
     "iopub.status.busy": "2021-06-09T15:39:14.646363Z",
     "iopub.status.idle": "2021-06-09T15:39:14.670551Z",
     "shell.execute_reply": "2021-06-09T15:39:14.669834Z",
     "shell.execute_reply.started": "2021-06-09T15:39:14.646981Z"
    }
   },
   "outputs": [
    {
     "data": {
      "text/html": [
       "<div>\n",
       "<style scoped>\n",
       "    .dataframe tbody tr th:only-of-type {\n",
       "        vertical-align: middle;\n",
       "    }\n",
       "\n",
       "    .dataframe tbody tr th {\n",
       "        vertical-align: top;\n",
       "    }\n",
       "\n",
       "    .dataframe thead th {\n",
       "        text-align: right;\n",
       "    }\n",
       "</style>\n",
       "<table border=\"1\" class=\"dataframe\">\n",
       "  <thead>\n",
       "    <tr style=\"text-align: right;\">\n",
       "      <th></th>\n",
       "      <th>date</th>\n",
       "      <th>date_block_num</th>\n",
       "      <th>shop_id</th>\n",
       "      <th>item_id</th>\n",
       "      <th>item_price</th>\n",
       "      <th>item_cnt_day</th>\n",
       "    </tr>\n",
       "  </thead>\n",
       "  <tbody>\n",
       "    <tr>\n",
       "      <th>0</th>\n",
       "      <td>2013-02-01</td>\n",
       "      <td>0</td>\n",
       "      <td>59</td>\n",
       "      <td>22154</td>\n",
       "      <td>999.00</td>\n",
       "      <td>1.0</td>\n",
       "    </tr>\n",
       "    <tr>\n",
       "      <th>1</th>\n",
       "      <td>2013-03-01</td>\n",
       "      <td>0</td>\n",
       "      <td>25</td>\n",
       "      <td>2552</td>\n",
       "      <td>899.00</td>\n",
       "      <td>1.0</td>\n",
       "    </tr>\n",
       "    <tr>\n",
       "      <th>2</th>\n",
       "      <td>2013-05-01</td>\n",
       "      <td>0</td>\n",
       "      <td>25</td>\n",
       "      <td>2552</td>\n",
       "      <td>899.00</td>\n",
       "      <td>-1.0</td>\n",
       "    </tr>\n",
       "    <tr>\n",
       "      <th>3</th>\n",
       "      <td>2013-06-01</td>\n",
       "      <td>0</td>\n",
       "      <td>25</td>\n",
       "      <td>2554</td>\n",
       "      <td>1709.05</td>\n",
       "      <td>1.0</td>\n",
       "    </tr>\n",
       "    <tr>\n",
       "      <th>4</th>\n",
       "      <td>2013-01-15</td>\n",
       "      <td>0</td>\n",
       "      <td>25</td>\n",
       "      <td>2555</td>\n",
       "      <td>1099.00</td>\n",
       "      <td>1.0</td>\n",
       "    </tr>\n",
       "  </tbody>\n",
       "</table>\n",
       "</div>"
      ],
      "text/plain": [
       "        date  date_block_num  shop_id  item_id  item_price  item_cnt_day\n",
       "0 2013-02-01               0       59    22154      999.00           1.0\n",
       "1 2013-03-01               0       25     2552      899.00           1.0\n",
       "2 2013-05-01               0       25     2552      899.00          -1.0\n",
       "3 2013-06-01               0       25     2554     1709.05           1.0\n",
       "4 2013-01-15               0       25     2555     1099.00           1.0"
      ]
     },
     "execution_count": 4,
     "metadata": {},
     "output_type": "execute_result"
    }
   ],
   "source": [
    "sales_train.head()"
   ]
  },
  {
   "cell_type": "markdown",
   "metadata": {},
   "source": [
    "Correlation between dataset features"
   ]
  },
  {
   "cell_type": "code",
   "execution_count": 5,
   "metadata": {
    "execution": {
     "iopub.execute_input": "2021-06-09T15:39:14.672123Z",
     "iopub.status.busy": "2021-06-09T15:39:14.671737Z",
     "iopub.status.idle": "2021-06-09T15:39:15.576222Z",
     "shell.execute_reply": "2021-06-09T15:39:15.575166Z",
     "shell.execute_reply.started": "2021-06-09T15:39:14.672095Z"
    }
   },
   "outputs": [
    {
     "data": {
      "text/html": [
       "<div>\n",
       "<style scoped>\n",
       "    .dataframe tbody tr th:only-of-type {\n",
       "        vertical-align: middle;\n",
       "    }\n",
       "\n",
       "    .dataframe tbody tr th {\n",
       "        vertical-align: top;\n",
       "    }\n",
       "\n",
       "    .dataframe thead th {\n",
       "        text-align: right;\n",
       "    }\n",
       "</style>\n",
       "<table border=\"1\" class=\"dataframe\">\n",
       "  <thead>\n",
       "    <tr style=\"text-align: right;\">\n",
       "      <th></th>\n",
       "      <th>date_block_num</th>\n",
       "      <th>shop_id</th>\n",
       "      <th>item_id</th>\n",
       "      <th>item_price</th>\n",
       "      <th>item_cnt_day</th>\n",
       "      <th>item_category_id</th>\n",
       "    </tr>\n",
       "  </thead>\n",
       "  <tbody>\n",
       "    <tr>\n",
       "      <th>date_block_num</th>\n",
       "      <td>1.000000</td>\n",
       "      <td>0.019273</td>\n",
       "      <td>0.009356</td>\n",
       "      <td>0.095010</td>\n",
       "      <td>0.009402</td>\n",
       "      <td>0.029128</td>\n",
       "    </tr>\n",
       "    <tr>\n",
       "      <th>shop_id</th>\n",
       "      <td>0.019273</td>\n",
       "      <td>1.000000</td>\n",
       "      <td>0.029396</td>\n",
       "      <td>-0.024034</td>\n",
       "      <td>-0.005230</td>\n",
       "      <td>0.019380</td>\n",
       "    </tr>\n",
       "    <tr>\n",
       "      <th>item_id</th>\n",
       "      <td>0.009356</td>\n",
       "      <td>0.029396</td>\n",
       "      <td>1.000000</td>\n",
       "      <td>-0.134104</td>\n",
       "      <td>0.016650</td>\n",
       "      <td>0.369431</td>\n",
       "    </tr>\n",
       "    <tr>\n",
       "      <th>item_price</th>\n",
       "      <td>0.095010</td>\n",
       "      <td>-0.024034</td>\n",
       "      <td>-0.134104</td>\n",
       "      <td>1.000000</td>\n",
       "      <td>0.011197</td>\n",
       "      <td>-0.253554</td>\n",
       "    </tr>\n",
       "    <tr>\n",
       "      <th>item_cnt_day</th>\n",
       "      <td>0.009402</td>\n",
       "      <td>-0.005230</td>\n",
       "      <td>0.016650</td>\n",
       "      <td>0.011197</td>\n",
       "      <td>1.000000</td>\n",
       "      <td>0.014768</td>\n",
       "    </tr>\n",
       "    <tr>\n",
       "      <th>item_category_id</th>\n",
       "      <td>0.029128</td>\n",
       "      <td>0.019380</td>\n",
       "      <td>0.369431</td>\n",
       "      <td>-0.253554</td>\n",
       "      <td>0.014768</td>\n",
       "      <td>1.000000</td>\n",
       "    </tr>\n",
       "  </tbody>\n",
       "</table>\n",
       "</div>"
      ],
      "text/plain": [
       "                  date_block_num   shop_id   item_id  item_price  \\\n",
       "date_block_num          1.000000  0.019273  0.009356    0.095010   \n",
       "shop_id                 0.019273  1.000000  0.029396   -0.024034   \n",
       "item_id                 0.009356  0.029396  1.000000   -0.134104   \n",
       "item_price              0.095010 -0.024034 -0.134104    1.000000   \n",
       "item_cnt_day            0.009402 -0.005230  0.016650    0.011197   \n",
       "item_category_id        0.029128  0.019380  0.369431   -0.253554   \n",
       "\n",
       "                  item_cnt_day  item_category_id  \n",
       "date_block_num        0.009402          0.029128  \n",
       "shop_id              -0.005230          0.019380  \n",
       "item_id               0.016650          0.369431  \n",
       "item_price            0.011197         -0.253554  \n",
       "item_cnt_day          1.000000          0.014768  \n",
       "item_category_id      0.014768          1.000000  "
      ]
     },
     "execution_count": 5,
     "metadata": {},
     "output_type": "execute_result"
    }
   ],
   "source": [
    "sales_train.join(items.set_index('item_id'), on='item_id').corr()"
   ]
  },
  {
   "cell_type": "code",
   "execution_count": 6,
   "metadata": {
    "execution": {
     "iopub.execute_input": "2021-06-09T15:39:15.577727Z",
     "iopub.status.busy": "2021-06-09T15:39:15.577437Z",
     "iopub.status.idle": "2021-06-09T15:39:16.630597Z",
     "shell.execute_reply": "2021-06-09T15:39:16.629463Z",
     "shell.execute_reply.started": "2021-06-09T15:39:15.577699Z"
    },
    "scrolled": true
   },
   "outputs": [
    {
     "data": {
      "text/plain": [
       "<matplotlib.image.AxesImage at 0x7fe44e163610>"
      ]
     },
     "execution_count": 6,
     "metadata": {},
     "output_type": "execute_result"
    },
    {
     "data": {
      "image/png": "[encoded data removed]",
      "text/plain": [
       "<Figure size 288x288 with 1 Axes>"
      ]
     },
     "metadata": {
      "needs_background": "light"
     },
     "output_type": "display_data"
    }
   ],
   "source": [
    "plt.matshow(sales_train.join(items.set_index('item_id'), on='item_id').corr())"
   ]
  },
  {
   "cell_type": "markdown",
   "metadata": {},
   "source": [
    "Does train dataset contains zeros?"
   ]
  },
  {
   "cell_type": "code",
   "execution_count": 7,
   "metadata": {
    "execution": {
     "iopub.execute_input": "2021-06-09T15:39:16.632892Z",
     "iopub.status.busy": "2021-06-09T15:39:16.632225Z",
     "iopub.status.idle": "2021-06-09T15:39:16.674446Z",
     "shell.execute_reply": "2021-06-09T15:39:16.673352Z",
     "shell.execute_reply.started": "2021-06-09T15:39:16.632840Z"
    }
   },
   "outputs": [
    {
     "data": {
      "text/plain": [
       "date              0\n",
       "date_block_num    0\n",
       "shop_id           0\n",
       "item_id           0\n",
       "item_price        0\n",
       "item_cnt_day      0\n",
       "dtype: int64"
      ]
     },
     "execution_count": 7,
     "metadata": {},
     "output_type": "execute_result"
    }
   ],
   "source": [
    "sales_train.isnull().sum()"
   ]
  },
  {
   "cell_type": "markdown",
   "metadata": {},
   "source": [
    "Research features\n",
    "\n",
    "# item_cnt_day"
   ]
  },
  {
   "cell_type": "code",
   "execution_count": 8,
   "metadata": {
    "execution": {
     "iopub.execute_input": "2021-06-09T15:39:16.676520Z",
     "iopub.status.busy": "2021-06-09T15:39:16.676072Z",
     "iopub.status.idle": "2021-06-09T15:39:16.798090Z",
     "shell.execute_reply": "2021-06-09T15:39:16.797264Z",
     "shell.execute_reply.started": "2021-06-09T15:39:16.676479Z"
    }
   },
   "outputs": [
    {
     "data": {
      "text/plain": [
       "count    2.935849e+06\n",
       "mean     1.242641e+00\n",
       "std      2.618834e+00\n",
       "min     -2.200000e+01\n",
       "25%      1.000000e+00\n",
       "50%      1.000000e+00\n",
       "75%      1.000000e+00\n",
       "max      2.169000e+03\n",
       "Name: item_cnt_day, dtype: float64"
      ]
     },
     "execution_count": 8,
     "metadata": {},
     "output_type": "execute_result"
    }
   ],
   "source": [
    "sales_train.item_cnt_day.describe()"
   ]
  },
  {
   "cell_type": "code",
   "execution_count": 9,
   "metadata": {
    "execution": {
     "iopub.execute_input": "2021-06-09T15:39:16.800669Z",
     "iopub.status.busy": "2021-06-09T15:39:16.800398Z",
     "iopub.status.idle": "2021-06-09T15:39:17.651094Z",
     "shell.execute_reply": "2021-06-09T15:39:17.650278Z",
     "shell.execute_reply.started": "2021-06-09T15:39:16.800643Z"
    }
   },
   "outputs": [
    {
     "data": {
      "text/plain": [
       "(array([2.934464e+06, 1.204000e+03, 1.110000e+02, 3.100000e+01,\n",
       "        1.100000e+01, 5.000000e+00, 4.000000e+00, 4.000000e+00,\n",
       "        0.000000e+00, 8.000000e+00, 2.000000e+00, 1.000000e+00,\n",
       "        2.000000e+00, 0.000000e+00, 0.000000e+00, 0.000000e+00,\n",
       "        0.000000e+00, 0.000000e+00, 1.000000e+00, 0.000000e+00,\n",
       "        0.000000e+00, 0.000000e+00, 0.000000e+00, 0.000000e+00,\n",
       "        0.000000e+00, 0.000000e+00, 0.000000e+00, 0.000000e+00,\n",
       "        0.000000e+00, 0.000000e+00, 0.000000e+00, 0.000000e+00,\n",
       "        0.000000e+00, 0.000000e+00, 0.000000e+00, 0.000000e+00,\n",
       "        0.000000e+00, 0.000000e+00, 0.000000e+00, 1.000000e+00]),\n",
       " array([ -22.   ,   32.775,   87.55 ,  142.325,  197.1  ,  251.875,\n",
       "         306.65 ,  361.425,  416.2  ,  470.975,  525.75 ,  580.525,\n",
       "         635.3  ,  690.075,  744.85 ,  799.625,  854.4  ,  909.175,\n",
       "         963.95 , 1018.725, 1073.5  , 1128.275, 1183.05 , 1237.825,\n",
       "        1292.6  , 1347.375, 1402.15 , 1456.925, 1511.7  , 1566.475,\n",
       "        1621.25 , 1676.025, 1730.8  , 1785.575, 1840.35 , 1895.125,\n",
       "        1949.9  , 2004.675, 2059.45 , 2114.225, 2169.   ]),\n",
       " <BarContainer object of 40 artists>)"
      ]
     },
     "execution_count": 9,
     "metadata": {},
     "output_type": "execute_result"
    },
    {
     "data": {
      "image/png": "[encoded data removed]",
      "text/plain": [
       "<Figure size 864x432 with 1 Axes>"
      ]
     },
     "metadata": {
      "needs_background": "light"
     },
     "output_type": "display_data"
    }
   ],
   "source": [
    "plt.figure(figsize=(12,6))\n",
    "plt.xlabel('Number of sold items for a day')\n",
    "plt.ylabel('Number of occurencies in dataset')\n",
    "plt.yscale('log')\n",
    "plt.hist(sales_train.item_cnt_day, bins=40)"
   ]
  },
  {
   "cell_type": "markdown",
   "metadata": {},
   "source": [
    "Group number of sold items by date_block and plot."
   ]
  },
  {
   "cell_type": "code",
   "execution_count": 10,
   "metadata": {
    "execution": {
     "iopub.execute_input": "2021-06-09T15:39:17.653309Z",
     "iopub.status.busy": "2021-06-09T15:39:17.652998Z",
     "iopub.status.idle": "2021-06-09T15:39:17.864858Z",
     "shell.execute_reply": "2021-06-09T15:39:17.864005Z",
     "shell.execute_reply.started": "2021-06-09T15:39:17.653280Z"
    }
   },
   "outputs": [
    {
     "data": {
      "text/plain": [
       "[<matplotlib.lines.Line2D at 0x7fe44ddf9dc0>]"
      ]
     },
     "execution_count": 10,
     "metadata": {},
     "output_type": "execute_result"
    },
    {
     "data": {
      "image/png": "[encoded data removed]",
      "text/plain": [
       "<Figure size 432x288 with 1 Axes>"
      ]
     },
     "metadata": {
      "needs_background": "light"
     },
     "output_type": "display_data"
    }
   ],
   "source": [
    "plt.xlabel('date_block_num (month)')\n",
    "plt.ylabel('Total number of sold items for a month')\n",
    "plt.plot(sales_train.groupby(['date_block_num']).agg({'item_cnt_day': 'sum'}).reset_index()['item_cnt_day'])"
   ]
  },
  {
   "cell_type": "code",
   "execution_count": 11,
   "metadata": {
    "execution": {
     "iopub.execute_input": "2021-06-09T15:39:17.866383Z",
     "iopub.status.busy": "2021-06-09T15:39:17.866101Z",
     "iopub.status.idle": "2021-06-09T15:39:18.893128Z",
     "shell.execute_reply": "2021-06-09T15:39:18.892222Z",
     "shell.execute_reply.started": "2021-06-09T15:39:17.866357Z"
    }
   },
   "outputs": [
    {
     "data": {
      "text/plain": [
       "<matplotlib.image.AxesImage at 0x7fe44dd60af0>"
      ]
     },
     "execution_count": 11,
     "metadata": {},
     "output_type": "execute_result"
    },
    {
     "data": {
      "image/png": "[encoded data removed]",
      "text/plain": [
       "<Figure size 288x288 with 1 Axes>"
      ]
     },
     "metadata": {
      "needs_background": "light"
     },
     "output_type": "display_data"
    }
   ],
   "source": [
    "plt.matshow(sales_train.join(items.set_index('item_id'), on='item_id').corr())"
   ]
  },
  {
   "cell_type": "markdown",
   "metadata": {},
   "source": [
    "There is an obvious trend with peaks at New Year holidays.\n",
    "\n",
    "# item_price"
   ]
  },
  {
   "cell_type": "code",
   "execution_count": 12,
   "metadata": {
    "execution": {
     "iopub.execute_input": "2021-06-09T15:39:18.895062Z",
     "iopub.status.busy": "2021-06-09T15:39:18.894650Z",
     "iopub.status.idle": "2021-06-09T15:39:19.034713Z",
     "shell.execute_reply": "2021-06-09T15:39:19.033616Z",
     "shell.execute_reply.started": "2021-06-09T15:39:18.895022Z"
    }
   },
   "outputs": [
    {
     "data": {
      "text/plain": [
       "count    2.935849e+06\n",
       "mean     8.908532e+02\n",
       "std      1.729800e+03\n",
       "min     -1.000000e+00\n",
       "25%      2.490000e+02\n",
       "50%      3.990000e+02\n",
       "75%      9.990000e+02\n",
       "max      3.079800e+05\n",
       "Name: item_price, dtype: float64"
      ]
     },
     "execution_count": 12,
     "metadata": {},
     "output_type": "execute_result"
    }
   ],
   "source": [
    "sales_train.item_price.describe()"
   ]
  },
  {
   "cell_type": "code",
   "execution_count": 13,
   "metadata": {
    "execution": {
     "iopub.execute_input": "2021-06-09T15:39:19.036282Z",
     "iopub.status.busy": "2021-06-09T15:39:19.035969Z",
     "iopub.status.idle": "2021-06-09T15:39:19.919103Z",
     "shell.execute_reply": "2021-06-09T15:39:19.917982Z",
     "shell.execute_reply.started": "2021-06-09T15:39:19.036253Z"
    }
   },
   "outputs": [
    {
     "data": {
      "text/plain": [
       "(array([2.902174e+06, 1.402500e+04, 9.814000e+03, 3.163000e+03,\n",
       "        4.418000e+03, 2.038000e+03, 1.930000e+02, 1.200000e+01,\n",
       "        8.000000e+00, 2.000000e+00, 0.000000e+00, 1.000000e+00,\n",
       "        0.000000e+00, 0.000000e+00, 0.000000e+00, 0.000000e+00,\n",
       "        0.000000e+00, 0.000000e+00, 0.000000e+00, 0.000000e+00,\n",
       "        0.000000e+00, 0.000000e+00, 0.000000e+00, 0.000000e+00,\n",
       "        0.000000e+00, 0.000000e+00, 0.000000e+00, 0.000000e+00,\n",
       "        0.000000e+00, 0.000000e+00, 0.000000e+00, 0.000000e+00,\n",
       "        0.000000e+00, 0.000000e+00, 0.000000e+00, 0.000000e+00,\n",
       "        0.000000e+00, 0.000000e+00, 0.000000e+00, 0.000000e+00,\n",
       "        0.000000e+00, 0.000000e+00, 0.000000e+00, 0.000000e+00,\n",
       "        0.000000e+00, 0.000000e+00, 0.000000e+00, 0.000000e+00,\n",
       "        0.000000e+00, 0.000000e+00, 0.000000e+00, 0.000000e+00,\n",
       "        0.000000e+00, 0.000000e+00, 0.000000e+00, 0.000000e+00,\n",
       "        0.000000e+00, 0.000000e+00, 0.000000e+00, 1.000000e+00]),\n",
       " array([-1.00000000e+00,  5.13201667e+03,  1.02650333e+04,  1.53980500e+04,\n",
       "         2.05310667e+04,  2.56640833e+04,  3.07971000e+04,  3.59301167e+04,\n",
       "         4.10631333e+04,  4.61961500e+04,  5.13291667e+04,  5.64621833e+04,\n",
       "         6.15952000e+04,  6.67282167e+04,  7.18612333e+04,  7.69942500e+04,\n",
       "         8.21272667e+04,  8.72602833e+04,  9.23933000e+04,  9.75263167e+04,\n",
       "         1.02659333e+05,  1.07792350e+05,  1.12925367e+05,  1.18058383e+05,\n",
       "         1.23191400e+05,  1.28324417e+05,  1.33457433e+05,  1.38590450e+05,\n",
       "         1.43723467e+05,  1.48856483e+05,  1.53989500e+05,  1.59122517e+05,\n",
       "         1.64255533e+05,  1.69388550e+05,  1.74521567e+05,  1.79654583e+05,\n",
       "         1.84787600e+05,  1.89920617e+05,  1.95053633e+05,  2.00186650e+05,\n",
       "         2.05319667e+05,  2.10452683e+05,  2.15585700e+05,  2.20718717e+05,\n",
       "         2.25851733e+05,  2.30984750e+05,  2.36117767e+05,  2.41250783e+05,\n",
       "         2.46383800e+05,  2.51516817e+05,  2.56649833e+05,  2.61782850e+05,\n",
       "         2.66915867e+05,  2.72048883e+05,  2.77181900e+05,  2.82314917e+05,\n",
       "         2.87447933e+05,  2.92580950e+05,  2.97713967e+05,  3.02846983e+05,\n",
       "         3.07980000e+05]),\n",
       " <BarContainer object of 60 artists>)"
      ]
     },
     "execution_count": 13,
     "metadata": {},
     "output_type": "execute_result"
    },
    {
     "data": {
      "image/png": "[encoded data removed]",
      "text/plain": [
       "<Figure size 864x432 with 1 Axes>"
      ]
     },
     "metadata": {
      "needs_background": "light"
     },
     "output_type": "display_data"
    }
   ],
   "source": [
    "plt.figure(figsize=(12,6))\n",
    "plt.xlabel('Number items with that price')\n",
    "plt.xlim(-2, 55000)\n",
    "plt.ylabel('Price')\n",
    "plt.yscale('log')\n",
    "plt.hist(sales_train.item_price, bins=60)"
   ]
  },
  {
   "cell_type": "markdown",
   "metadata": {},
   "source": [
    "Majority of items has price lower than 5000.\n",
    "\n",
    "# date_block_num"
   ]
  },
  {
   "cell_type": "code",
   "execution_count": 14,
   "metadata": {
    "execution": {
     "iopub.execute_input": "2021-06-09T15:39:19.920633Z",
     "iopub.status.busy": "2021-06-09T15:39:19.920327Z",
     "iopub.status.idle": "2021-06-09T15:39:20.008071Z",
     "shell.execute_reply": "2021-06-09T15:39:20.007085Z",
     "shell.execute_reply.started": "2021-06-09T15:39:19.920607Z"
    },
    "scrolled": true
   },
   "outputs": [
    {
     "data": {
      "text/plain": [
       "count    2.935849e+06\n",
       "mean     1.456991e+01\n",
       "std      9.422988e+00\n",
       "min      0.000000e+00\n",
       "25%      7.000000e+00\n",
       "50%      1.400000e+01\n",
       "75%      2.300000e+01\n",
       "max      3.300000e+01\n",
       "Name: date_block_num, dtype: float64"
      ]
     },
     "execution_count": 14,
     "metadata": {},
     "output_type": "execute_result"
    }
   ],
   "source": [
    "sales_train.date_block_num.describe()"
   ]
  },
  {
   "cell_type": "code",
   "execution_count": 15,
   "metadata": {
    "execution": {
     "iopub.execute_input": "2021-06-09T15:39:20.009421Z",
     "iopub.status.busy": "2021-06-09T15:39:20.009143Z",
     "iopub.status.idle": "2021-06-09T15:39:22.849093Z",
     "shell.execute_reply": "2021-06-09T15:39:22.848017Z",
     "shell.execute_reply.started": "2021-06-09T15:39:20.009397Z"
    }
   },
   "outputs": [
    {
     "data": {
      "text/plain": [
       "[<matplotlib.lines.Line2D at 0x7fe44dc2d520>]"
      ]
     },
     "execution_count": 15,
     "metadata": {},
     "output_type": "execute_result"
    },
    {
     "data": {
      "image/png": "[encoded data removed]",
      "text/plain": [
       "<Figure size 864x432 with 1 Axes>"
      ]
     },
     "metadata": {
      "needs_background": "light"
     },
     "output_type": "display_data"
    }
   ],
   "source": [
    "plt.figure(figsize=(12,6))\n",
    "plt.xlabel('Index')\n",
    "plt.ylabel('date_block_num')\n",
    "plt.plot(sales_train.date_block_num, '.')"
   ]
  },
  {
   "cell_type": "markdown",
   "metadata": {},
   "source": [
    "We can suppose, that dataset was built by concatenating of smaller datasets for each date block"
   ]
  },
  {
   "cell_type": "code",
   "execution_count": 16,
   "metadata": {
    "execution": {
     "iopub.execute_input": "2021-06-09T15:39:22.851078Z",
     "iopub.status.busy": "2021-06-09T15:39:22.850651Z",
     "iopub.status.idle": "2021-06-09T15:39:27.992597Z",
     "shell.execute_reply": "2021-06-09T15:39:27.991777Z",
     "shell.execute_reply.started": "2021-06-09T15:39:22.851036Z"
    }
   },
   "outputs": [
    {
     "data": {
      "text/plain": [
       "<matplotlib.collections.PathCollection at 0x7fe44daf52e0>"
      ]
     },
     "execution_count": 16,
     "metadata": {},
     "output_type": "execute_result"
    },
    {
     "data": {
      "image/png": "[encoded data removed]",
      "text/plain": [
       "<Figure size 1152x432 with 1 Axes>"
      ]
     },
     "metadata": {
      "needs_background": "light"
     },
     "output_type": "display_data"
    }
   ],
   "source": [
    "plt.figure(figsize=(16, 6))\n",
    "plt.xlabel('date_block_num')\n",
    "plt.ylabel('shop_id')\n",
    "plt.scatter(sales_train.date_block_num, sales_train.shop_id)"
   ]
  },
  {
   "cell_type": "markdown",
   "metadata": {},
   "source": [
    "We can see strong vertical pattern. This means that data wasn't shaffled for shops. We also can see, that data for some shops and date blocks are missing."
   ]
  },
  {
   "cell_type": "markdown",
   "metadata": {},
   "source": [
    "# Fix item_price feature\n",
    "\n",
    "Some of prices may be wrong. Let's find them. At first we look for prices with big difference for each item and find for them the most frequent normal prices."
   ]
  },
  {
   "cell_type": "code",
   "execution_count": 17,
   "metadata": {
    "execution": {
     "iopub.execute_input": "2021-06-09T15:39:27.994033Z",
     "iopub.status.busy": "2021-06-09T15:39:27.993768Z",
     "iopub.status.idle": "2021-06-09T15:39:28.417379Z",
     "shell.execute_reply": "2021-06-09T15:39:28.416574Z",
     "shell.execute_reply.started": "2021-06-09T15:39:27.994007Z"
    },
    "scrolled": true
   },
   "outputs": [
    {
     "data": {
      "text/plain": [
       "28"
      ]
     },
     "execution_count": 17,
     "metadata": {},
     "output_type": "execute_result"
    }
   ],
   "source": [
    "sales_train.duplicated(subset=['date', 'shop_id', 'item_id']).sum()"
   ]
  },
  {
   "cell_type": "code",
   "execution_count": 18,
   "metadata": {
    "execution": {
     "iopub.execute_input": "2021-06-09T15:39:28.418693Z",
     "iopub.status.busy": "2021-06-09T15:39:28.418421Z",
     "iopub.status.idle": "2021-06-09T15:39:36.877408Z",
     "shell.execute_reply": "2021-06-09T15:39:36.876401Z",
     "shell.execute_reply.started": "2021-06-09T15:39:28.418668Z"
    }
   },
   "outputs": [
    {
     "data": {
      "text/html": [
       "<div>\n",
       "<style scoped>\n",
       "    .dataframe tbody tr th:only-of-type {\n",
       "        vertical-align: middle;\n",
       "    }\n",
       "\n",
       "    .dataframe tbody tr th {\n",
       "        vertical-align: top;\n",
       "    }\n",
       "\n",
       "    .dataframe thead tr th {\n",
       "        text-align: left;\n",
       "    }\n",
       "\n",
       "    .dataframe thead tr:last-of-type th {\n",
       "        text-align: right;\n",
       "    }\n",
       "</style>\n",
       "<table border=\"1\" class=\"dataframe\">\n",
       "  <thead>\n",
       "    <tr>\n",
       "      <th></th>\n",
       "      <th colspan=\"3\" halign=\"left\">item_price</th>\n",
       "      <th>price_diff</th>\n",
       "    </tr>\n",
       "    <tr>\n",
       "      <th></th>\n",
       "      <th>amin</th>\n",
       "      <th>amax</th>\n",
       "      <th>amode</th>\n",
       "      <th></th>\n",
       "    </tr>\n",
       "    <tr>\n",
       "      <th>item_id</th>\n",
       "      <th></th>\n",
       "      <th></th>\n",
       "      <th></th>\n",
       "      <th></th>\n",
       "    </tr>\n",
       "  </thead>\n",
       "  <tbody>\n",
       "    <tr>\n",
       "      <th>11865</th>\n",
       "      <td>0.07</td>\n",
       "      <td>729.0</td>\n",
       "      <td>329.0</td>\n",
       "      <td>10414.285714</td>\n",
       "    </tr>\n",
       "    <tr>\n",
       "      <th>11857</th>\n",
       "      <td>0.10</td>\n",
       "      <td>729.0</td>\n",
       "      <td>319.0</td>\n",
       "      <td>7290.000000</td>\n",
       "    </tr>\n",
       "    <tr>\n",
       "      <th>11864</th>\n",
       "      <td>0.07</td>\n",
       "      <td>469.0</td>\n",
       "      <td>269.0</td>\n",
       "      <td>6700.000000</td>\n",
       "    </tr>\n",
       "    <tr>\n",
       "      <th>1836</th>\n",
       "      <td>0.50</td>\n",
       "      <td>2599.0</td>\n",
       "      <td>1999.0</td>\n",
       "      <td>5198.000000</td>\n",
       "    </tr>\n",
       "    <tr>\n",
       "      <th>1837</th>\n",
       "      <td>0.50</td>\n",
       "      <td>2599.0</td>\n",
       "      <td>1999.0</td>\n",
       "      <td>5198.000000</td>\n",
       "    </tr>\n",
       "  </tbody>\n",
       "</table>\n",
       "</div>"
      ],
      "text/plain": [
       "        item_price                    price_diff\n",
       "              amin    amax   amode              \n",
       "item_id                                         \n",
       "11865         0.07   729.0   329.0  10414.285714\n",
       "11857         0.10   729.0   319.0   7290.000000\n",
       "11864         0.07   469.0   269.0   6700.000000\n",
       "1836          0.50  2599.0  1999.0   5198.000000\n",
       "1837          0.50  2599.0  1999.0   5198.000000"
      ]
     },
     "execution_count": 18,
     "metadata": {},
     "output_type": "execute_result"
    }
   ],
   "source": [
    "# for each item get price mode which more than 5\n",
    "def amode(col):\n",
    "    i = 0\n",
    "    res = 0\n",
    "    count = col.value_counts().index\n",
    "    while res <= 5 and i < len(count):\n",
    "        res = count[i]\n",
    "        i += 1\n",
    "    return res\n",
    "\n",
    "def alast(col):\n",
    "    return res\n",
    "    \n",
    "# group train dataset by prices, aggregate by price mode\n",
    "item_prices = sales_train[['item_id', 'item_price']].groupby('item_id').agg({'item_price': [np.min, \n",
    "                                                                                            np.max, \n",
    "                                                                                            amode]})\n",
    "# add feature for difference between min and max prices\n",
    "item_prices['price_diff'] = abs(item_prices.item_price.amax/item_prices.item_price.amin)\n",
    "# get all prices with the difference between min and max prices more than 15 and min price less than 5\n",
    "# save indexes of these prices\n",
    "wrong_prices = item_prices[(item_prices.item_price.amin <= 5) & \n",
    "                           (item_prices.price_diff >= 15)].sort_values('price_diff', ascending=False)\n",
    "\n",
    "wrong_prices.head()"
   ]
  },
  {
   "cell_type": "markdown",
   "metadata": {},
   "source": [
    "Fix wrong prices"
   ]
  },
  {
   "cell_type": "code",
   "execution_count": 19,
   "metadata": {
    "execution": {
     "iopub.execute_input": "2021-06-09T15:39:36.878859Z",
     "iopub.status.busy": "2021-06-09T15:39:36.878581Z",
     "iopub.status.idle": "2021-06-09T15:39:38.986943Z",
     "shell.execute_reply": "2021-06-09T15:39:38.986059Z",
     "shell.execute_reply.started": "2021-06-09T15:39:36.878833Z"
    },
    "scrolled": true
   },
   "outputs": [],
   "source": [
    "for i_id in list(wrong_prices.index):\n",
    "    sales_train.loc[(sales_train.item_id == i_id) & \n",
    "                    (sales_train.item_price <= 5), 'item_price'] = wrong_prices.loc[i_id, 'item_price'].amode\n",
    "    \n",
    "shops_last_prices = sales_train[['shop_id', 'item_id', 'item_price']].groupby(['shop_id', \n",
    "                                                                               'item_id']).agg('last')\n",
    "\n",
    "sales_test = sales_test.join(shops_last_prices, on=['shop_id', 'item_id'])\n",
    "sales_test.drop('ID', axis=1, inplace=True)"
   ]
  },
  {
   "cell_type": "markdown",
   "metadata": {},
   "source": [
    "Group dataset by shop, item and date number.\n",
    "\n",
    "# Group train dataset, investigate data distribution for train and test datasets."
   ]
  },
  {
   "cell_type": "code",
   "execution_count": 20,
   "metadata": {
    "execution": {
     "iopub.execute_input": "2021-06-09T15:39:38.988474Z",
     "iopub.status.busy": "2021-06-09T15:39:38.988171Z",
     "iopub.status.idle": "2021-06-09T15:39:39.950497Z",
     "shell.execute_reply": "2021-06-09T15:39:39.949692Z",
     "shell.execute_reply.started": "2021-06-09T15:39:38.988445Z"
    }
   },
   "outputs": [],
   "source": [
    "#drop date feature, it's erratic\n",
    "sales_train.drop('date', axis=1, inplace=True)\n",
    "\n",
    "sales_train_gr = sales_train.groupby(['date_block_num', \n",
    "                                      'shop_id', 'item_id'], as_index=False).agg({'item_price': 'mean', \n",
    "                                                                                  'item_cnt_day': 'sum'})\n",
    "\n",
    "sales_train_gr.rename({'item_cnt_day': 'item_cnt_month'}, axis=1, inplace=True)\n"
   ]
  },
  {
   "cell_type": "markdown",
   "metadata": {},
   "source": [
    "Let's investigate distribution of items and shops according to mean date block number.\n",
    "\n",
    "Train dataset."
   ]
  },
  {
   "cell_type": "code",
   "execution_count": 21,
   "metadata": {
    "execution": {
     "iopub.execute_input": "2021-06-09T15:39:39.952015Z",
     "iopub.status.busy": "2021-06-09T15:39:39.951583Z",
     "iopub.status.idle": "2021-06-09T15:39:42.198733Z",
     "shell.execute_reply": "2021-06-09T15:39:42.198038Z",
     "shell.execute_reply.started": "2021-06-09T15:39:39.951973Z"
    }
   },
   "outputs": [
    {
     "data": {
      "image/png": "[encoded data removed]",
      "text/plain": [
       "<Figure size 864x1008 with 1 Axes>"
      ]
     },
     "metadata": {
      "needs_background": "light"
     },
     "output_type": "display_data"
    }
   ],
   "source": [
    "from matplotlib import pyplot as plt\n",
    "\n",
    "g = sales_train_gr.groupby(['shop_id', 'item_id'])\n",
    "\n",
    "plt.figure(figsize=(12,14))\n",
    "plt.scatter(g.date_block_num.mean(), g.size(), edgecolor = 'none', alpha = 0.2, s=20, c='b')\n",
    "plt.xlabel('Group mean date')\n",
    "plt.ylabel('Group size')\n",
    "plt.ylim(-2, 37)\n",
    "plt.xlim(-5, 40)\n",
    "plt.title('Train');"
   ]
  },
  {
   "cell_type": "markdown",
   "metadata": {},
   "source": [
    "Test dataset"
   ]
  },
  {
   "cell_type": "code",
   "execution_count": 22,
   "metadata": {
    "execution": {
     "iopub.execute_input": "2021-06-09T15:39:42.215670Z",
     "iopub.status.busy": "2021-06-09T15:39:42.215211Z",
     "iopub.status.idle": "2021-06-09T15:39:43.312024Z",
     "shell.execute_reply": "2021-06-09T15:39:43.311033Z",
     "shell.execute_reply.started": "2021-06-09T15:39:42.215624Z"
    }
   },
   "outputs": [
    {
     "data": {
      "image/png": "[encoded data removed]",
      "text/plain": [
       "<Figure size 864x576 with 1 Axes>"
      ]
     },
     "metadata": {
      "needs_background": "light"
     },
     "output_type": "display_data"
    }
   ],
   "source": [
    "sales_test['date_block_num'] = 34\n",
    "g = sales_test.groupby(['shop_id', 'item_id'])\n",
    "\n",
    "plt.figure(figsize=(12,8))\n",
    "plt.scatter(g.date_block_num.mean(),g.size(),edgecolor = 'none',alpha = 0.2, s=20, c='b')\n",
    "plt.xlabel('Group mean relative date')\n",
    "plt.ylabel('Group size')\n",
    "plt.ylim(-2, 5)\n",
    "plt.title('Test');"
   ]
  },
  {
   "cell_type": "markdown",
   "metadata": {},
   "source": [
    "What does that mean? That mean that all groups in test dataset have size of one and labeled by 34th date block num, but that's not surprise for us.\n",
    "\n",
    "But train dataset has groups with completely different sizes and completely different data. For top groups in top of our triangle we have information about all days, so, that's why their mean date is 16.5. For other groups we don't have full information, that's why their mean date becomes volatile.\n",
    "\n",
    "Why does this happen? Let's investigate item_cnt_month feature in our dataset. "
   ]
  },
  {
   "cell_type": "code",
   "execution_count": 23,
   "metadata": {
    "execution": {
     "iopub.execute_input": "2021-06-09T15:39:43.316329Z",
     "iopub.status.busy": "2021-06-09T15:39:43.316015Z",
     "iopub.status.idle": "2021-06-09T15:39:43.369788Z",
     "shell.execute_reply": "2021-06-09T15:39:43.368724Z",
     "shell.execute_reply.started": "2021-06-09T15:39:43.316301Z"
    },
    "scrolled": false
   },
   "outputs": [
    {
     "data": {
      "text/plain": [
       "-22.0          1\n",
       "-16.0          1\n",
       "-9.0           1\n",
       "-6.0           2\n",
       "-5.0           4\n",
       "-4.0           3\n",
       "-3.0          14\n",
       "-2.0          78\n",
       "-1.0        7252\n",
       " 1.0     2629372\n",
       "Name: item_cnt_day, dtype: int64"
      ]
     },
     "execution_count": 23,
     "metadata": {},
     "output_type": "execute_result"
    }
   ],
   "source": [
    "sales_train.item_cnt_day.value_counts().sort_index().head(10)"
   ]
  },
  {
   "cell_type": "markdown",
   "metadata": {},
   "source": [
    "So, in train dataset we find positive and negative values, but don't find zero. Our train dataset just doesn't include data with item_cnt_day equals to zero. So, we most add this combinations to our dataset and set item_cnt_month value for them to zero."
   ]
  },
  {
   "cell_type": "markdown",
   "metadata": {},
   "source": [
    "Add new dataset to train dataset"
   ]
  },
  {
   "cell_type": "code",
   "execution_count": 24,
   "metadata": {
    "execution": {
     "iopub.execute_input": "2021-06-09T15:39:43.371875Z",
     "iopub.status.busy": "2021-06-09T15:39:43.371576Z",
     "iopub.status.idle": "2021-06-09T15:39:43.744779Z",
     "shell.execute_reply": "2021-06-09T15:39:43.743377Z",
     "shell.execute_reply.started": "2021-06-09T15:39:43.371845Z"
    },
    "scrolled": false
   },
   "outputs": [],
   "source": [
    "sales_test_gr1 = sales_test.loc[~sales_test.item_id.isin(sales_train_gr.item_id)].copy()\n",
    "sales_test_gr1.loc[:, 'item_cnt_month'] = 0\n",
    "\n",
    "# uncomment, if you want to add test set\n",
    "# sales_train_gr = pd.concat([sales_train_gr, sales_test_gr1]).sort_values(['shop_id', \n",
    "#                                                                           'item_id']).reset_index(drop=True)\n",
    "# sales_train_gr.loc[sales_train_gr.date_block_num == 34, 'date_block_num'] = 33"
   ]
  },
  {
   "cell_type": "code",
   "execution_count": 25,
   "metadata": {
    "execution": {
     "iopub.execute_input": "2021-06-09T15:39:43.752550Z",
     "iopub.status.busy": "2021-06-09T15:39:43.752261Z",
     "iopub.status.idle": "2021-06-09T15:39:45.635710Z",
     "shell.execute_reply": "2021-06-09T15:39:45.634820Z",
     "shell.execute_reply.started": "2021-06-09T15:39:43.752521Z"
    }
   },
   "outputs": [],
   "source": [
    "# add all possible combinations for existing shop_id/item_id pair and date_block_num\n",
    "sales_train_gr1 = sales_train_gr.groupby(['shop_id', \n",
    "                                          'item_id']).agg('max').reset_index()\n",
    "\n",
    "sales_train_gr1 = sales_train_gr1.set_index(['shop_id', \n",
    "                                             'item_id', \n",
    "                                             'date_block_num']).unstack().stack(dropna=False).reset_index()\n",
    "\n",
    "# fill NaN values of item_cnt_month feature with zeros\n",
    "sales_train_gr1.item_cnt_month.fillna(0, inplace=True)"
   ]
  },
  {
   "cell_type": "code",
   "execution_count": 26,
   "metadata": {
    "execution": {
     "iopub.execute_input": "2021-06-09T15:39:45.637693Z",
     "iopub.status.busy": "2021-06-09T15:39:45.637258Z",
     "iopub.status.idle": "2021-06-09T15:39:48.780887Z",
     "shell.execute_reply": "2021-06-09T15:39:48.779999Z",
     "shell.execute_reply.started": "2021-06-09T15:39:45.637652Z"
    },
    "scrolled": false
   },
   "outputs": [
    {
     "data": {
      "text/html": [
       "<div>\n",
       "<style scoped>\n",
       "    .dataframe tbody tr th:only-of-type {\n",
       "        vertical-align: middle;\n",
       "    }\n",
       "\n",
       "    .dataframe tbody tr th {\n",
       "        vertical-align: top;\n",
       "    }\n",
       "\n",
       "    .dataframe thead th {\n",
       "        text-align: right;\n",
       "    }\n",
       "</style>\n",
       "<table border=\"1\" class=\"dataframe\">\n",
       "  <thead>\n",
       "    <tr style=\"text-align: right;\">\n",
       "      <th></th>\n",
       "      <th>date_block_num</th>\n",
       "      <th>shop_id</th>\n",
       "      <th>item_id</th>\n",
       "      <th>item_price</th>\n",
       "      <th>item_cnt_month</th>\n",
       "    </tr>\n",
       "  </thead>\n",
       "  <tbody>\n",
       "    <tr>\n",
       "      <th>0</th>\n",
       "      <td>0</td>\n",
       "      <td>0</td>\n",
       "      <td>30</td>\n",
       "      <td>NaN</td>\n",
       "      <td>0.0</td>\n",
       "    </tr>\n",
       "    <tr>\n",
       "      <th>1</th>\n",
       "      <td>0</td>\n",
       "      <td>0</td>\n",
       "      <td>31</td>\n",
       "      <td>NaN</td>\n",
       "      <td>0.0</td>\n",
       "    </tr>\n",
       "    <tr>\n",
       "      <th>2</th>\n",
       "      <td>0</td>\n",
       "      <td>0</td>\n",
       "      <td>32</td>\n",
       "      <td>221.0</td>\n",
       "      <td>6.0</td>\n",
       "    </tr>\n",
       "    <tr>\n",
       "      <th>4</th>\n",
       "      <td>0</td>\n",
       "      <td>0</td>\n",
       "      <td>33</td>\n",
       "      <td>347.0</td>\n",
       "      <td>3.0</td>\n",
       "    </tr>\n",
       "    <tr>\n",
       "      <th>6</th>\n",
       "      <td>0</td>\n",
       "      <td>0</td>\n",
       "      <td>35</td>\n",
       "      <td>247.0</td>\n",
       "      <td>1.0</td>\n",
       "    </tr>\n",
       "  </tbody>\n",
       "</table>\n",
       "</div>"
      ],
      "text/plain": [
       "   date_block_num  shop_id  item_id  item_price  item_cnt_month\n",
       "0               0        0       30         NaN             0.0\n",
       "1               0        0       31         NaN             0.0\n",
       "2               0        0       32       221.0             6.0\n",
       "4               0        0       33       347.0             3.0\n",
       "6               0        0       35       247.0             1.0"
      ]
     },
     "execution_count": 26,
     "metadata": {},
     "output_type": "execute_result"
    }
   ],
   "source": [
    "sales_train_gr2 = pd.concat([sales_train_gr, \n",
    "                             sales_train_gr1[sales_train_gr1.item_price.isnull()]]).sort_values(['date_block_num', \n",
    "                                                                                                 'shop_id', \n",
    "                                                                                                 'item_id']).reset_index(drop=True)\n",
    "\n",
    "sales_train_gr2.drop_duplicates(subset = ['date_block_num', 'shop_id', 'item_id'], inplace=True)\n",
    "sales_train_gr2.head()"
   ]
  },
  {
   "cell_type": "markdown",
   "metadata": {},
   "source": [
    "Distribution of items for each shop"
   ]
  },
  {
   "cell_type": "code",
   "execution_count": 27,
   "metadata": {
    "execution": {
     "iopub.execute_input": "2021-06-09T15:39:48.783637Z",
     "iopub.status.busy": "2021-06-09T15:39:48.783227Z",
     "iopub.status.idle": "2021-06-09T15:39:49.896365Z",
     "shell.execute_reply": "2021-06-09T15:39:49.895299Z",
     "shell.execute_reply.started": "2021-06-09T15:39:48.783596Z"
    },
    "scrolled": false
   },
   "outputs": [
    {
     "data": {
      "text/plain": [
       "<AxesSubplot:xlabel='shop_id'>"
      ]
     },
     "execution_count": 27,
     "metadata": {},
     "output_type": "execute_result"
    },
    {
     "data": {
      "image/png": "[encoded data removed]",
      "text/plain": [
       "<Figure size 1152x720 with 1 Axes>"
      ]
     },
     "metadata": {
      "needs_background": "light"
     },
     "output_type": "display_data"
    }
   ],
   "source": [
    "sales_train_gr2.groupby('shop_id').agg({'item_id': 'count'}).plot.bar(figsize=(16, 10))"
   ]
  },
  {
   "cell_type": "markdown",
   "metadata": {},
   "source": [
    "# Add data from files to train and test datasets"
   ]
  },
  {
   "cell_type": "markdown",
   "metadata": {},
   "source": [
    "Train dataset"
   ]
  },
  {
   "cell_type": "code",
   "execution_count": 28,
   "metadata": {
    "execution": {
     "iopub.execute_input": "2021-06-09T15:39:49.897929Z",
     "iopub.status.busy": "2021-06-09T15:39:49.897616Z",
     "iopub.status.idle": "2021-06-09T15:39:56.127250Z",
     "shell.execute_reply": "2021-06-09T15:39:56.126125Z",
     "shell.execute_reply.started": "2021-06-09T15:39:49.897899Z"
    },
    "scrolled": false
   },
   "outputs": [
    {
     "data": {
      "text/html": [
       "<div>\n",
       "<style scoped>\n",
       "    .dataframe tbody tr th:only-of-type {\n",
       "        vertical-align: middle;\n",
       "    }\n",
       "\n",
       "    .dataframe tbody tr th {\n",
       "        vertical-align: top;\n",
       "    }\n",
       "\n",
       "    .dataframe thead th {\n",
       "        text-align: right;\n",
       "    }\n",
       "</style>\n",
       "<table border=\"1\" class=\"dataframe\">\n",
       "  <thead>\n",
       "    <tr style=\"text-align: right;\">\n",
       "      <th></th>\n",
       "      <th>date_block_num</th>\n",
       "      <th>shop_id</th>\n",
       "      <th>item_id</th>\n",
       "      <th>item_price</th>\n",
       "      <th>item_cnt_month</th>\n",
       "      <th>item_name</th>\n",
       "      <th>item_category_id</th>\n",
       "      <th>item_category_name</th>\n",
       "      <th>shop_name</th>\n",
       "    </tr>\n",
       "  </thead>\n",
       "  <tbody>\n",
       "    <tr>\n",
       "      <th>0</th>\n",
       "      <td>0</td>\n",
       "      <td>0</td>\n",
       "      <td>30</td>\n",
       "      <td>NaN</td>\n",
       "      <td>0.0</td>\n",
       "      <td>007: КООРДИНАТЫ «СКАЙФОЛЛ»</td>\n",
       "      <td>40</td>\n",
       "      <td>Кино - DVD</td>\n",
       "      <td>!Якутск Орджоникидзе, 56 фран</td>\n",
       "    </tr>\n",
       "    <tr>\n",
       "      <th>1</th>\n",
       "      <td>0</td>\n",
       "      <td>0</td>\n",
       "      <td>31</td>\n",
       "      <td>NaN</td>\n",
       "      <td>0.0</td>\n",
       "      <td>007: КООРДИНАТЫ «СКАЙФОЛЛ» (BD)</td>\n",
       "      <td>37</td>\n",
       "      <td>Кино - Blu-Ray</td>\n",
       "      <td>!Якутск Орджоникидзе, 56 фран</td>\n",
       "    </tr>\n",
       "    <tr>\n",
       "      <th>2</th>\n",
       "      <td>0</td>\n",
       "      <td>0</td>\n",
       "      <td>32</td>\n",
       "      <td>221.0</td>\n",
       "      <td>6.0</td>\n",
       "      <td>1+1</td>\n",
       "      <td>40</td>\n",
       "      <td>Кино - DVD</td>\n",
       "      <td>!Якутск Орджоникидзе, 56 фран</td>\n",
       "    </tr>\n",
       "    <tr>\n",
       "      <th>4</th>\n",
       "      <td>0</td>\n",
       "      <td>0</td>\n",
       "      <td>33</td>\n",
       "      <td>347.0</td>\n",
       "      <td>3.0</td>\n",
       "      <td>1+1 (BD)</td>\n",
       "      <td>37</td>\n",
       "      <td>Кино - Blu-Ray</td>\n",
       "      <td>!Якутск Орджоникидзе, 56 фран</td>\n",
       "    </tr>\n",
       "    <tr>\n",
       "      <th>6</th>\n",
       "      <td>0</td>\n",
       "      <td>0</td>\n",
       "      <td>35</td>\n",
       "      <td>247.0</td>\n",
       "      <td>1.0</td>\n",
       "      <td>10 ЛЕТ СПУСТЯ</td>\n",
       "      <td>40</td>\n",
       "      <td>Кино - DVD</td>\n",
       "      <td>!Якутск Орджоникидзе, 56 фран</td>\n",
       "    </tr>\n",
       "  </tbody>\n",
       "</table>\n",
       "</div>"
      ],
      "text/plain": [
       "   date_block_num  shop_id  item_id  item_price  item_cnt_month  \\\n",
       "0               0        0       30         NaN             0.0   \n",
       "1               0        0       31         NaN             0.0   \n",
       "2               0        0       32       221.0             6.0   \n",
       "4               0        0       33       347.0             3.0   \n",
       "6               0        0       35       247.0             1.0   \n",
       "\n",
       "                         item_name  item_category_id item_category_name  \\\n",
       "0       007: КООРДИНАТЫ «СКАЙФОЛЛ»                40         Кино - DVD   \n",
       "1  007: КООРДИНАТЫ «СКАЙФОЛЛ» (BD)                37     Кино - Blu-Ray   \n",
       "2                              1+1                40         Кино - DVD   \n",
       "4                         1+1 (BD)                37     Кино - Blu-Ray   \n",
       "6                    10 ЛЕТ СПУСТЯ                40         Кино - DVD   \n",
       "\n",
       "                       shop_name  \n",
       "0  !Якутск Орджоникидзе, 56 фран  \n",
       "1  !Якутск Орджоникидзе, 56 фран  \n",
       "2  !Якутск Орджоникидзе, 56 фран  \n",
       "4  !Якутск Орджоникидзе, 56 фран  \n",
       "6  !Якутск Орджоникидзе, 56 фран  "
      ]
     },
     "execution_count": 28,
     "metadata": {},
     "output_type": "execute_result"
    }
   ],
   "source": [
    "sales_train2 = sales_train_gr2.join(items.set_index('item_id'), on='item_id')\n",
    "sales_train2 = sales_train2.join(item_categories.set_index('item_category_id'), on='item_category_id')\n",
    "sales_train2 = sales_train2.join(shops.set_index('shop_id'), on='shop_id')\n",
    "\n",
    "sales_train2.head()"
   ]
  },
  {
   "cell_type": "markdown",
   "metadata": {},
   "source": [
    "Test dataset"
   ]
  },
  {
   "cell_type": "code",
   "execution_count": 29,
   "metadata": {
    "execution": {
     "iopub.execute_input": "2021-06-09T15:39:56.129267Z",
     "iopub.status.busy": "2021-06-09T15:39:56.128810Z",
     "iopub.status.idle": "2021-06-09T15:39:56.203615Z",
     "shell.execute_reply": "2021-06-09T15:39:56.202471Z",
     "shell.execute_reply.started": "2021-06-09T15:39:56.129221Z"
    },
    "scrolled": true
   },
   "outputs": [
    {
     "data": {
      "text/html": [
       "<div>\n",
       "<style scoped>\n",
       "    .dataframe tbody tr th:only-of-type {\n",
       "        vertical-align: middle;\n",
       "    }\n",
       "\n",
       "    .dataframe tbody tr th {\n",
       "        vertical-align: top;\n",
       "    }\n",
       "\n",
       "    .dataframe thead th {\n",
       "        text-align: right;\n",
       "    }\n",
       "</style>\n",
       "<table border=\"1\" class=\"dataframe\">\n",
       "  <thead>\n",
       "    <tr style=\"text-align: right;\">\n",
       "      <th></th>\n",
       "      <th>shop_id</th>\n",
       "      <th>item_id</th>\n",
       "      <th>item_price</th>\n",
       "      <th>date_block_num</th>\n",
       "      <th>item_name</th>\n",
       "      <th>item_category_id</th>\n",
       "      <th>item_category_name</th>\n",
       "      <th>shop_name</th>\n",
       "    </tr>\n",
       "  </thead>\n",
       "  <tbody>\n",
       "    <tr>\n",
       "      <th>0</th>\n",
       "      <td>5</td>\n",
       "      <td>5037</td>\n",
       "      <td>749.5</td>\n",
       "      <td>34</td>\n",
       "      <td>NHL 15 [PS3, русские субтитры]</td>\n",
       "      <td>19</td>\n",
       "      <td>Игры - PS3</td>\n",
       "      <td>Вологда ТРЦ \"Мармелад\"</td>\n",
       "    </tr>\n",
       "    <tr>\n",
       "      <th>1</th>\n",
       "      <td>5</td>\n",
       "      <td>5320</td>\n",
       "      <td>NaN</td>\n",
       "      <td>34</td>\n",
       "      <td>ONE DIRECTION  Made In The A.M.</td>\n",
       "      <td>55</td>\n",
       "      <td>Музыка - CD локального производства</td>\n",
       "      <td>Вологда ТРЦ \"Мармелад\"</td>\n",
       "    </tr>\n",
       "    <tr>\n",
       "      <th>2</th>\n",
       "      <td>5</td>\n",
       "      <td>5233</td>\n",
       "      <td>1199.0</td>\n",
       "      <td>34</td>\n",
       "      <td>Need for Speed Rivals (Essentials) [PS3, русск...</td>\n",
       "      <td>19</td>\n",
       "      <td>Игры - PS3</td>\n",
       "      <td>Вологда ТРЦ \"Мармелад\"</td>\n",
       "    </tr>\n",
       "    <tr>\n",
       "      <th>3</th>\n",
       "      <td>5</td>\n",
       "      <td>5232</td>\n",
       "      <td>599.0</td>\n",
       "      <td>34</td>\n",
       "      <td>Need for Speed Rivals (Classics) [Xbox 360, ру...</td>\n",
       "      <td>23</td>\n",
       "      <td>Игры - XBOX 360</td>\n",
       "      <td>Вологда ТРЦ \"Мармелад\"</td>\n",
       "    </tr>\n",
       "    <tr>\n",
       "      <th>4</th>\n",
       "      <td>5</td>\n",
       "      <td>5268</td>\n",
       "      <td>NaN</td>\n",
       "      <td>34</td>\n",
       "      <td>Need for Speed [PS4, русская версия]</td>\n",
       "      <td>20</td>\n",
       "      <td>Игры - PS4</td>\n",
       "      <td>Вологда ТРЦ \"Мармелад\"</td>\n",
       "    </tr>\n",
       "  </tbody>\n",
       "</table>\n",
       "</div>"
      ],
      "text/plain": [
       "   shop_id  item_id  item_price  date_block_num  \\\n",
       "0        5     5037       749.5              34   \n",
       "1        5     5320         NaN              34   \n",
       "2        5     5233      1199.0              34   \n",
       "3        5     5232       599.0              34   \n",
       "4        5     5268         NaN              34   \n",
       "\n",
       "                                           item_name  item_category_id  \\\n",
       "0                     NHL 15 [PS3, русские субтитры]                19   \n",
       "1                    ONE DIRECTION  Made In The A.M.                55   \n",
       "2  Need for Speed Rivals (Essentials) [PS3, русск...                19   \n",
       "3  Need for Speed Rivals (Classics) [Xbox 360, ру...                23   \n",
       "4               Need for Speed [PS4, русская версия]                20   \n",
       "\n",
       "                    item_category_name               shop_name  \n",
       "0                           Игры - PS3  Вологда ТРЦ \"Мармелад\"  \n",
       "1  Музыка - CD локального производства  Вологда ТРЦ \"Мармелад\"  \n",
       "2                           Игры - PS3  Вологда ТРЦ \"Мармелад\"  \n",
       "3                      Игры - XBOX 360  Вологда ТРЦ \"Мармелад\"  \n",
       "4                           Игры - PS4  Вологда ТРЦ \"Мармелад\"  "
      ]
     },
     "execution_count": 29,
     "metadata": {},
     "output_type": "execute_result"
    }
   ],
   "source": [
    "sales_test2 = sales_test.join(items.set_index('item_id'), on='item_id')\n",
    "sales_test2 = sales_test2.join(item_categories.set_index('item_category_id'), on='item_category_id')\n",
    "sales_test2 = sales_test2.join(shops.set_index('shop_id'), on='shop_id')\n",
    "\n",
    "sales_test2.head()"
   ]
  },
  {
   "cell_type": "markdown",
   "metadata": {},
   "source": [
    "Clear memory"
   ]
  },
  {
   "cell_type": "code",
   "execution_count": 30,
   "metadata": {
    "scrolled": true
   },
   "outputs": [
    {
     "data": {
      "text/plain": [
       "92"
      ]
     },
     "execution_count": 30,
     "metadata": {},
     "output_type": "execute_result"
    }
   ],
   "source": [
    "del sales_train, sales_train_gr, sales_train_gr1, sales_train_gr2, sales_test\n",
    "del shops_last_prices, item_prices, wrong_prices\n",
    "gc.collect()"
   ]
  },
  {
   "cell_type": "markdown",
   "metadata": {},
   "source": [
    "Add expert features"
   ]
  },
  {
   "cell_type": "code",
   "execution_count": 31,
   "metadata": {
    "execution": {
     "iopub.execute_input": "2021-06-09T15:39:56.205174Z",
     "iopub.status.busy": "2021-06-09T15:39:56.204812Z",
     "iopub.status.idle": "2021-06-09T15:39:56.223874Z",
     "shell.execute_reply": "2021-06-09T15:39:56.222565Z",
     "shell.execute_reply.started": "2021-06-09T15:39:56.205123Z"
    },
    "scrolled": true
   },
   "outputs": [],
   "source": [
    "def add_month(col):\n",
    "    return int(divmod(col, 12)[1] + 1)\n",
    "\n",
    "def add_year(col):\n",
    "    return int(2013 + divmod(col+1, 12)[0])\n",
    "\n",
    "def add_city(col):\n",
    "    city = col.split(' ')\n",
    "    if city[0][0] == '!':\n",
    "        return city[0][1:]\n",
    "    if city[0] == 'Цифровой':\n",
    "        return 'Цифровой склад'\n",
    "    if city[0] == 'Выездная':\n",
    "        return 'Выездная Торговля'\n",
    "    return city[0]\n",
    "\n",
    "def add_season(col):\n",
    "    if 0 < col <= 2 or col == 12:\n",
    "        return 'winter'\n",
    "    if 3 <= col < 6:\n",
    "        return 'spring'\n",
    "    if 6 <= col < 9:\n",
    "        return 'summer'\n",
    "    if 9 <= col < 12:\n",
    "        return 'autumn'\n",
    "    return np.nan\n",
    "\n",
    "def add_holidays(col):\n",
    "    if np.isnan(col):\n",
    "        -1\n",
    "    if col == 1 or col == 5:\n",
    "        return 1\n",
    "    return 0\n",
    "\n",
    "def add_int_part(col):\n",
    "    if np.isnan(col):\n",
    "        return np.nan\n",
    "    return divmod(col, 100)[0]\n",
    "\n",
    "def add_fract_part(col):\n",
    "    if np.isnan(col):\n",
    "        return np.nan\n",
    "    return divmod(col, 100)[1]\n",
    "\n",
    "def add_global_category(col):\n",
    "    cat = col.split(' ')\n",
    "    if cat[0] == 'Игровые':\n",
    "        return 'Игровые консоли'\n",
    "    if cat[0] == 'Карты':\n",
    "        return 'Карты оплаты'\n",
    "    if cat[0] == 'Чистые':\n",
    "        return 'Чистые носители'\n",
    "    if cat[0] == 'Элементы':\n",
    "        return 'Элементы питания'\n",
    "    if cat[0] == 'Доставка':\n",
    "        return 'Доставка товара'\n",
    "    return cat[0]\n",
    "\n",
    "# define if item is material thing\n",
    "def is_material(col):\n",
    "    material_list = ['Развитие', 'Аксессуары', 'Гаджеты', 'консоли', 'Открытки', 'Cувениры', \n",
    "                     'Настольные игры', 'Мягкие игрушки', 'Гарнитуры', 'Элементы','Комиксы',\n",
    "                     'Фигурки', 'Атрибутика', 'Сумки', 'литература', 'Путеводители', 'Артбуки']\n",
    "    for i in material_list:\n",
    "        if i in col:\n",
    "            return 1\n",
    "    return 0\n",
    "        \n",
    " # define if item is service\n",
    "def is_service(col):\n",
    "    service_list = ['Доставка товара', 'Служебные', 'Подарки - Сертификаты, услуги']\n",
    "    if col in service_list:\n",
    "        return 1\n",
    "    return 0   \n",
    "    \n",
    "month_dict = {1: 31, 2:28, 3:31, 4:30, 5:31, 6:30, 7:31, 8:31, 9:30, 10:31, 11:30, 12:31}\n",
    "\n",
    "    \n",
    "def create_expert_features(data):\n",
    "    # add expert features\n",
    "    data['price_int'] = data.item_price.apply(add_int_part) \n",
    "    data['price_fract'] = data.item_price.apply(add_fract_part) \n",
    "    data['month'] = data.date_block_num.apply(add_month) \n",
    "    data['year'] = data.date_block_num.apply(add_year) \n",
    "    data['city'] = data.shop_name.apply(add_city) \n",
    "    data['season'] = data.month.apply(add_season) \n",
    "    data['global_category'] = data.item_category_name.apply(add_global_category)\n",
    "#     data['has_holidays'] = data.month.apply(add_holidays) \n",
    "#     data['is_material'] = data.item_category_name.apply(is_material)\n",
    "#     data['is_service'] = data.item_category_name.apply(is_service)\n",
    "    # add number of days in each month\n",
    "    data['days_in_month'] = np.nan\n",
    "    for m in month_dict.keys():\n",
    "        data.loc[data.month == m, 'days_in_month'] = month_dict[m]"
   ]
  },
  {
   "cell_type": "markdown",
   "metadata": {},
   "source": [
    "Additional features"
   ]
  },
  {
   "cell_type": "code",
   "execution_count": 32,
   "metadata": {
    "execution": {
     "iopub.execute_input": "2021-06-09T15:39:56.225507Z",
     "iopub.status.busy": "2021-06-09T15:39:56.225187Z",
     "iopub.status.idle": "2021-06-09T15:39:56.241377Z",
     "shell.execute_reply": "2021-06-09T15:39:56.240224Z",
     "shell.execute_reply.started": "2021-06-09T15:39:56.225478Z"
    }
   },
   "outputs": [],
   "source": [
    "def create_time_features():\n",
    "    global sales_train2, sales_test2\n",
    "    for feat in ['item_cnt_month']:\n",
    "        win = [i for i in range(1, 13)]\n",
    "        for w in win:\n",
    "            tmp = sales_train2[['date_block_num', 'shop_id', 'item_id', feat]].copy()\n",
    "            tmp.date_block_num = tmp.date_block_num + w\n",
    "            tmp.rename({feat: feat + str(w)}, axis=1, inplace=True)\n",
    "\n",
    "            sales_train2 = sales_train2.join(tmp.set_index(['date_block_num', 'shop_id', 'item_id']), \n",
    "                                             on=['date_block_num', 'shop_id', 'item_id'])\n",
    "            sales_test2 = sales_test2.join(tmp.set_index(['date_block_num', 'shop_id', 'item_id']), \n",
    "                                           on=['date_block_num', 'shop_id', 'item_id'])\n",
    "            del tmp\n",
    "            gc.collect()\n",
    "            \n",
    "def get_window(data, w):\n",
    "    cols = []\n",
    "    col_num = 1\n",
    "    for i in data.columns:\n",
    "        if col_num > w:\n",
    "            break\n",
    "        if i == f'item_cnt_month{col_num}':\n",
    "            cols.append(i)\n",
    "            col_num += 1\n",
    "    return cols\n",
    "            \n",
    "def create_time_statistics(data):\n",
    "    for win in [2, 3, 6, 12]:\n",
    "        cols = get_window(data, win)\n",
    "        tmp = data[cols]\n",
    "        \n",
    "        data[f'{win}_month_mean_cnt'] = tmp.mean(axis=1)\n",
    "        data[f'{win}_month_median_cnt'] = tmp.median(axis=1)\n",
    "        data[f'{win}_month_min_cnt'] = np.nanmin(tmp, axis=1)\n",
    "        data[f'{win}_month_max_cnt'] = np.nanmax(tmp, axis=1)\n",
    "        data[f'{win}_month_std_cnt'] = tmp.std(axis=1)\n",
    "            \n",
    "\n",
    "def create_col_with_min_freq(data, col, min_freq=10):\n",
    "    # replace rare values (less than min_freq rows) in feature by RARE_VALUE\n",
    "    data[col + '_fixed'] = data[col].astype(str)\n",
    "    data.loc[sales_train2[col].value_counts()[data[col + '_fixed']].values < min_freq, col + \n",
    "             '_fixed'] = \"RARE_VALUE\"\n",
    "\n",
    "            \n",
    "def create_gr_feats(data):\n",
    "    # create aggregation feats for numeric features based on categorical ones\n",
    "    for cat_col in ['shop_id', 'item_category_id', 'city', 'global_category', 'item_id']:\n",
    "#         create_col_with_min_freq(data, cat_col, 15,)\n",
    "        for num_col in ['item_price']:\n",
    "            for n, f in [('mean', np.mean), ('min', np.nanmin), ('max', np.nanmax)]:\n",
    "                data[n + '_' + num_col + '_by_' + cat_col] = sales_train2.groupby(cat_col)[num_col].transform(f)\n",
    "                \n",
    "    # create features with counts\n",
    "    for col in ['shop_id', 'item_id', 'item_category_id', 'city', 'global_category', 'item_price']:\n",
    "        data[col + '_cnt'] = data[col].map(sales_train2[col].value_counts(dropna = False))"
   ]
  },
  {
   "cell_type": "markdown",
   "metadata": {},
   "source": [
    "Add expert features"
   ]
  },
  {
   "cell_type": "code",
   "execution_count": 33,
   "metadata": {
    "execution": {
     "iopub.execute_input": "2021-06-09T15:39:56.243635Z",
     "iopub.status.busy": "2021-06-09T15:39:56.243128Z",
     "iopub.status.idle": "2021-06-09T15:42:26.907616Z",
     "shell.execute_reply": "2021-06-09T15:42:26.906361Z",
     "shell.execute_reply.started": "2021-06-09T15:39:56.243585Z"
    },
    "scrolled": true
   },
   "outputs": [
    {
     "name": "stdout",
     "output_type": "stream",
     "text": [
      "CPU times: user 45.1 s, sys: 2.02 s, total: 47.2 s\n",
      "Wall time: 47.1 s\n"
     ]
    }
   ],
   "source": [
    "%%time\n",
    "\n",
    "create_expert_features(sales_train2)\n",
    "create_expert_features(sales_test2)\n",
    "\n",
    "# create_gr_feats(sales_train2)\n",
    "# create_gr_feats(sales_test2)\n",
    "\n",
    "# # some values of item_name feature in test dataset can't be met in train dataset\n",
    "# # so we need to add them in values_count for test dataset to prevent error\n",
    "# train_vc = pd.concat([sales_train2['item_name_fixed'].value_counts(), \n",
    "#            sales_test2.loc[~sales_test2['item_name_fixed'].isin(sales_train2['item_name_fixed']), \n",
    "#                           'item_name_fixed'].value_counts()])\n",
    "# train_vc[len(sales_train2['item_name_fixed'].value_counts()):] = 0\n",
    "\n",
    "# sales_test2.loc[train_vc[sales_test2['item_name_fixed']].values < 15, 'item_name_fixed'] = 'RARE_VALUE'"
   ]
  },
  {
   "cell_type": "markdown",
   "metadata": {},
   "source": [
    "Drop unnecessary columns"
   ]
  },
  {
   "cell_type": "code",
   "execution_count": null,
   "metadata": {},
   "outputs": [],
   "source": []
  },
  {
   "cell_type": "code",
   "execution_count": 34,
   "metadata": {
    "execution": {
     "iopub.execute_input": "2021-06-09T15:42:26.933328Z",
     "iopub.status.busy": "2021-06-09T15:42:26.932909Z",
     "iopub.status.idle": "2021-06-09T15:42:33.641306Z",
     "shell.execute_reply": "2021-06-09T15:42:33.640251Z",
     "shell.execute_reply.started": "2021-06-09T15:42:26.933296Z"
    }
   },
   "outputs": [],
   "source": [
    "sales_train2.drop(['shop_name', 'item_name', 'item_category_name'], axis=1, inplace=True)\n",
    "sales_test2.drop(['shop_name', 'item_name', 'item_category_name'], axis=1, inplace=True)"
   ]
  },
  {
   "cell_type": "markdown",
   "metadata": {},
   "source": [
    "Encode text features with label encoder."
   ]
  },
  {
   "cell_type": "code",
   "execution_count": 35,
   "metadata": {
    "execution": {
     "iopub.execute_input": "2021-06-09T15:42:33.642916Z",
     "iopub.status.busy": "2021-06-09T15:42:33.642613Z",
     "iopub.status.idle": "2021-06-09T15:42:55.992761Z",
     "shell.execute_reply": "2021-06-09T15:42:55.991785Z",
     "shell.execute_reply.started": "2021-06-09T15:42:33.642887Z"
    }
   },
   "outputs": [],
   "source": [
    "from sklearn.preprocessing import LabelEncoder\n",
    "\n",
    "le = LabelEncoder()\n",
    "\n",
    "cols = ['city', 'season', 'global_category']\n",
    "sales_train2[cols] = sales_train2[cols].apply(LabelEncoder().fit_transform)\n",
    "sales_test2[cols] = sales_test2[cols].apply(LabelEncoder().fit_transform)"
   ]
  },
  {
   "cell_type": "markdown",
   "metadata": {},
   "source": [
    "Add time features"
   ]
  },
  {
   "cell_type": "code",
   "execution_count": null,
   "metadata": {},
   "outputs": [],
   "source": [
    "%%time\n",
    "\n",
    "create_time_features()\n",
    "\n",
    "cols = [c for c in sales_train2.columns if 'item_cnt_month' in c and c != 'item_cnt_month']\n",
    "\n",
    "sales_train2[cols].fillna(0, inplace=True)\n",
    "sales_test2[cols].fillna(0, inplace=True)\n",
    "\n",
    "create_time_statistics(sales_train2)\n",
    "create_time_statistics(sales_test2)"
   ]
  },
  {
   "cell_type": "code",
   "execution_count": null,
   "metadata": {
    "scrolled": false
   },
   "outputs": [],
   "source": [
    "sales_train2.head()"
   ]
  },
  {
   "cell_type": "code",
   "execution_count": null,
   "metadata": {
    "execution": {
     "iopub.execute_input": "2021-06-09T15:42:55.994283Z",
     "iopub.status.busy": "2021-06-09T15:42:55.993989Z",
     "iopub.status.idle": "2021-06-09T15:42:57.903262Z",
     "shell.execute_reply": "2021-06-09T15:42:57.902351Z",
     "shell.execute_reply.started": "2021-06-09T15:42:55.994256Z"
    }
   },
   "outputs": [],
   "source": [
    "# sales_train2.date_block_num.fillna(-1, inplace=True)\n",
    "# sales_train2.month.fillna(-1, inplace=True)\n",
    "# sales_train2.year.fillna(-1, inplace=True)\n",
    "# sales_train2.days_in_month.fillna(-1, inplace=True)\n",
    "\n",
    "# sales_train2.date_block_num = sales_train2.date_block_num.astype('int')\n",
    "# sales_train2.month = sales_train2.month.astype('int')\n",
    "# sales_train2.year = sales_train2.year.astype('int')\n",
    "# sales_train2.days_in_month = sales_train2.days_in_month.astype('int')\n",
    "# sales_train2.item_cnt_month = sales_train2.item_cnt_month.astype('int')\n",
    "\n",
    "# sales_test2.days_in_month = sales_test2.days_in_month.astype('int')"
   ]
  },
  {
   "cell_type": "code",
   "execution_count": null,
   "metadata": {
    "execution": {
     "iopub.execute_input": "2021-06-09T15:42:57.904648Z",
     "iopub.status.busy": "2021-06-09T15:42:57.904363Z",
     "iopub.status.idle": "2021-06-09T15:42:58.272111Z",
     "shell.execute_reply": "2021-06-09T15:42:58.271163Z",
     "shell.execute_reply.started": "2021-06-09T15:42:57.904621Z"
    },
    "scrolled": false
   },
   "outputs": [],
   "source": [
    "sales_train2.isnull().sum()"
   ]
  },
  {
   "cell_type": "code",
   "execution_count": null,
   "metadata": {
    "execution": {
     "iopub.execute_input": "2021-06-09T15:42:58.273639Z",
     "iopub.status.busy": "2021-06-09T15:42:58.273355Z",
     "iopub.status.idle": "2021-06-09T15:42:58.285324Z",
     "shell.execute_reply": "2021-06-09T15:42:58.284298Z",
     "shell.execute_reply.started": "2021-06-09T15:42:58.273613Z"
    }
   },
   "outputs": [],
   "source": [
    "sales_test2.isnull().sum()"
   ]
  },
  {
   "cell_type": "code",
   "execution_count": null,
   "metadata": {
    "execution": {
     "iopub.execute_input": "2021-06-09T15:42:58.287080Z",
     "iopub.status.busy": "2021-06-09T15:42:58.286803Z",
     "iopub.status.idle": "2021-06-09T15:42:58.308671Z",
     "shell.execute_reply": "2021-06-09T15:42:58.307651Z",
     "shell.execute_reply.started": "2021-06-09T15:42:58.287053Z"
    }
   },
   "outputs": [],
   "source": [
    "sales_train2.head()"
   ]
  },
  {
   "cell_type": "code",
   "execution_count": null,
   "metadata": {
    "execution": {
     "iopub.execute_input": "2021-06-09T15:42:58.310758Z",
     "iopub.status.busy": "2021-06-09T15:42:58.310166Z",
     "iopub.status.idle": "2021-06-09T15:42:58.331938Z",
     "shell.execute_reply": "2021-06-09T15:42:58.330977Z",
     "shell.execute_reply.started": "2021-06-09T15:42:58.310709Z"
    }
   },
   "outputs": [],
   "source": [
    "sales_test2.head()"
   ]
  },
  {
   "cell_type": "markdown",
   "metadata": {
    "execution": {
     "iopub.status.busy": "2021-06-08T14:29:48.638299Z",
     "iopub.status.idle": "2021-06-08T14:29:48.638719Z"
    }
   },
   "source": [
    "# Use Light GBM to predict sales\n",
    "\n",
    "Split datasets by train and validation parts, make them sparse"
   ]
  },
  {
   "cell_type": "code",
   "execution_count": null,
   "metadata": {},
   "outputs": [],
   "source": [
    "sales_train2"
   ]
  },
  {
   "cell_type": "code",
   "execution_count": null,
   "metadata": {},
   "outputs": [],
   "source": [
    "cols = [col for col in sales_train2.columns if col not in ['item_cnt_month']]\n",
    "\n",
    "x = sales_train2[cols]\n",
    "y = sales_train2['item_cnt_month']\n",
    "\n",
    "train_index = x[(x.date_block_num < 33)].index\n",
    "valid_index = x[x.date_block_num == 33].index\n",
    "\n",
    "X_train, X_valid = x.loc[train_index], x.loc[valid_index]\n",
    "\n",
    "del x\n",
    "gc.collect()\n",
    "\n",
    "# X_train = scipy.sparse.csr_matrix(X_train.values)\n",
    "# X_valid = scipy.sparse.csr_matrix(X_valid.values)\n",
    "\n",
    "y_train, y_valid = y.loc[train_index], y.loc[valid_index]"
   ]
  },
  {
   "cell_type": "code",
   "execution_count": null,
   "metadata": {
    "execution": {
     "iopub.execute_input": "2021-06-09T15:44:41.317299Z",
     "iopub.status.busy": "2021-06-09T15:44:41.316921Z",
     "iopub.status.idle": "2021-06-09T15:44:41.321940Z",
     "shell.execute_reply": "2021-06-09T15:44:41.320902Z",
     "shell.execute_reply.started": "2021-06-09T15:44:41.317267Z"
    }
   },
   "outputs": [],
   "source": [
    "# parameters = {\n",
    "#     'objective': 'regression',\n",
    "#     'metric': 'rmse',\n",
    "#     'boosting': 'gbdt',\n",
    "#     'num_leaves': 64,\n",
    "#     'feature_fraction': 0.9,\n",
    "#     'bagging_fraction': 0.9,\n",
    "#     'bagging_freq': 20,\n",
    "#     'learning_rate': 0.06,\n",
    "#     'verbose': -1,\n",
    "#     'random_state': 42,\n",
    "# }"
   ]
  },
  {
   "cell_type": "markdown",
   "metadata": {},
   "source": [
    "Use time split series for LGBM"
   ]
  },
  {
   "cell_type": "code",
   "execution_count": null,
   "metadata": {
    "execution": {
     "iopub.execute_input": "2021-06-09T15:46:56.820005Z",
     "iopub.status.busy": "2021-06-09T15:46:56.819642Z"
    },
    "scrolled": true
   },
   "outputs": [],
   "source": [
    "import lightgbm as lgb\n",
    "from sklearn.model_selection import TimeSeriesSplit\n",
    "from sklearn.metrics import mean_squared_error\n",
    "from sklearn.pipeline import make_pipeline\n",
    "\n",
    "y_preds = np.zeros(sales_test2.shape[0])\n",
    "\n",
    "feature_importances = pd.DataFrame()\n",
    "feature_importances['feature'] = sales_test2.columns\n",
    "mean_score = []\n",
    "\n",
    "cat_feats = ['shop_id', 'item_id', 'item_category_id', 'city', 'global_category']\n",
    "\n",
    "# dtrain = lgb.Dataset(X_train, label=y_train, categorical_feature=cat_feats)\n",
    "# dvalid = lgb.Dataset(X_valid, label=y_valid)\n",
    "\n",
    "lgb_model = lgb.LGBMRegressor(max_depth=-1,\n",
    "                              n_estimators=30000,\n",
    "                              learning_rate=0.05,\n",
    "                              num_leaves=64,\n",
    "                              colsample_bytree=0.7,\n",
    "                              objective='regression', \n",
    "                              n_jobs=-1)\n",
    "\n",
    "lgb_model.fit(X_train, y_train, eval_metric='rmse', eval_set=[(X_valid, y_valid)], \n",
    "              verbose=100, early_stopping_rounds=100, categorical_feature=cat_feats)\n",
    "\n",
    "feature_importances['1'] = lgb_model.feature_importances_\n",
    "\n",
    "y_pred_valid = lgb_model.predict(X_valid, num_iteration=lgb_model.best_iteration_)\n",
    "\n",
    "val_score = mean_squared_error(y_pred_valid, y_valid, squared=False)\n",
    "print(f'val rmse score is {val_score}')"
   ]
  },
  {
   "cell_type": "markdown",
   "metadata": {},
   "source": [
    "Training until validation scores don't improve for 100 rounds\n",
    "[100]\tvalid_0's rmse: 3.25999\tvalid_0's l2: 10.6275\n",
    "[200]\tvalid_0's rmse: 3.24935\tvalid_0's l2: 10.5583\n",
    "Early stopping, best iteration is:\n",
    "[146]\tvalid_0's rmse: 3.23644\tvalid_0's l2: 10.4746\n",
    "val rmse score is 3.2364431906220275"
   ]
  },
  {
   "cell_type": "markdown",
   "metadata": {},
   "source": [
    "Features importance"
   ]
  },
  {
   "cell_type": "code",
   "execution_count": null,
   "metadata": {
    "scrolled": false
   },
   "outputs": [],
   "source": [
    "plt.figure(figsize=(16, 12))\n",
    "sns.barplot(data=feature_importances.sort_values(by='1', ascending=False), x='1', y='feature');\n",
    "plt.title('Feature importances');"
   ]
  },
  {
   "cell_type": "markdown",
   "metadata": {},
   "source": [
    "# Make prediction"
   ]
  },
  {
   "cell_type": "code",
   "execution_count": null,
   "metadata": {
    "execution": {
     "iopub.status.busy": "2021-06-09T15:43:05.889665Z",
     "iopub.status.idle": "2021-06-09T15:43:05.890066Z"
    }
   },
   "outputs": [],
   "source": [
    "# y = clf.predict(sales_test2, num_iteration=clf.best_iteration)\n",
    "\n",
    "# submission['item_cnt_month'] = y\n",
    "# submission.head()"
   ]
  },
  {
   "cell_type": "markdown",
   "metadata": {},
   "source": [
    "# Save to file"
   ]
  },
  {
   "cell_type": "code",
   "execution_count": null,
   "metadata": {
    "execution": {
     "iopub.status.busy": "2021-06-09T15:43:05.890993Z",
     "iopub.status.idle": "2021-06-09T15:43:05.891417Z"
    }
   },
   "outputs": [],
   "source": [
    "# submission.to_csv('submission.csv', index=False)"
   ]
  },
  {
   "cell_type": "markdown",
   "metadata": {},
   "source": [
    "# Futher ideas\n",
    "\n",
    "- drop duplicates\n",
    "\n",
    "- try TabularAutoML\n",
    "\n",
    "- replace nan values with -1\n",
    "\n",
    "- split dataset according to most important feature(s)\n"
   ]
  }
 ],
 "metadata": {
  "kernelspec": {
   "display_name": "Python 3",
   "language": "python",
   "name": "python3"
  },
  "language_info": {
   "codemirror_mode": {
    "name": "ipython",
    "version": 3
   },
   "file_extension": ".py",
   "mimetype": "text/x-python",
   "name": "python",
   "nbconvert_exporter": "python",
   "pygments_lexer": "ipython3",
   "version": "3.8.5"
  }
 },
 "nbformat": 4,
 "nbformat_minor": 4
}
