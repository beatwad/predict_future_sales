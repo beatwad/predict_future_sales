{
 "cells": [
  {
   "cell_type": "markdown",
   "metadata": {},
   "source": [
    "# Import libraries"
   ]
  },
  {
   "cell_type": "code",
   "execution_count": 1,
   "metadata": {
    "execution": {
     "iopub.execute_input": "2021-06-09T15:39:11.367189Z",
     "iopub.status.busy": "2021-06-09T15:39:11.366741Z",
     "iopub.status.idle": "2021-06-09T15:39:11.370725Z",
     "shell.execute_reply": "2021-06-09T15:39:11.369985Z",
     "shell.execute_reply.started": "2021-06-09T15:39:11.367083Z"
    }
   },
   "outputs": [],
   "source": [
    "# for Kaggle\n",
    "# !pip install -U lightautoml"
   ]
  },
  {
   "cell_type": "code",
   "execution_count": 2,
   "metadata": {
    "execution": {
     "iopub.execute_input": "2021-06-09T15:39:11.404394Z",
     "iopub.status.busy": "2021-06-09T15:39:11.403839Z",
     "iopub.status.idle": "2021-06-09T15:39:11.418670Z",
     "shell.execute_reply": "2021-06-09T15:39:11.417552Z",
     "shell.execute_reply.started": "2021-06-09T15:39:11.404362Z"
    }
   },
   "outputs": [],
   "source": [
    "# This Python 3 environment comes with many helpful analytics libraries installed\n",
    "# It is defined by the kaggle/python Docker image: https://github.com/kaggle/docker-python\n",
    "# For example, here's several helpful packages to load\n",
    "# edited by Mayur\n",
    "\n",
    "import gc\n",
    "import scipy\n",
    "import numpy as np\n",
    "import pandas as pd\n",
    "import matplotlib.pyplot as plt\n",
    "import seaborn as sns\n",
    "\n",
    "pd.set_option('display.max_rows', 200)\n",
    "pd.set_option('display.max_columns', 200)"
   ]
  },
  {
   "cell_type": "markdown",
   "metadata": {},
   "source": [
    "# Load necessary files"
   ]
  },
  {
   "cell_type": "code",
   "execution_count": 3,
   "metadata": {
    "execution": {
     "iopub.execute_input": "2021-06-09T15:39:11.420750Z",
     "iopub.status.busy": "2021-06-09T15:39:11.420294Z",
     "iopub.status.idle": "2021-06-09T15:39:14.644292Z",
     "shell.execute_reply": "2021-06-09T15:39:14.643523Z",
     "shell.execute_reply.started": "2021-06-09T15:39:11.420708Z"
    }
   },
   "outputs": [],
   "source": [
    "items = pd.read_csv(\"items.csv.zip\")\n",
    "item_categories = pd.read_csv(\"item_categories.csv\")\n",
    "sales_train = pd.read_csv(\"sales_train.csv.zip\", parse_dates=['date'])\n",
    "shops = pd.read_csv(\"shops.csv\")\n",
    "sales_test = pd.read_csv(\"test.csv.zip\")\n",
    "submission = pd.read_csv(\"sample_submission.csv.zip\")\n",
    "\n",
    "# for Kaggle\n",
    "\n",
    "# PATH = '../input/competitive-data-science-predict-future-sales'\n",
    "\n",
    "# items           = pd.read_csv(os.path.join(PATH,'items.csv'))\n",
    "# item_categories = pd.read_csv(os.path.join(PATH,'item_categories.csv'))\n",
    "# sales_train     = pd.read_csv(os.path.join(PATH,'sales_train.csv'), parse_dates=['date'])\n",
    "# shops           = pd.read_csv(os.path.join(PATH,'shops.csv'))\n",
    "# sales_test      = pd.read_csv(os.path.join(PATH,'test.csv'))\n",
    "# submission      = pd.read_csv(os.path.join(PATH,'sample_submission.csv'))"
   ]
  },
  {
   "cell_type": "markdown",
   "metadata": {},
   "source": [
    "# Research dataset"
   ]
  },
  {
   "cell_type": "code",
   "execution_count": 4,
   "metadata": {
    "execution": {
     "iopub.execute_input": "2021-06-09T15:39:14.647027Z",
     "iopub.status.busy": "2021-06-09T15:39:14.646363Z",
     "iopub.status.idle": "2021-06-09T15:39:14.670551Z",
     "shell.execute_reply": "2021-06-09T15:39:14.669834Z",
     "shell.execute_reply.started": "2021-06-09T15:39:14.646981Z"
    },
    "scrolled": false
   },
   "outputs": [
    {
     "data": {
      "text/html": [
       "<div>\n",
       "<style scoped>\n",
       "    .dataframe tbody tr th:only-of-type {\n",
       "        vertical-align: middle;\n",
       "    }\n",
       "\n",
       "    .dataframe tbody tr th {\n",
       "        vertical-align: top;\n",
       "    }\n",
       "\n",
       "    .dataframe thead th {\n",
       "        text-align: right;\n",
       "    }\n",
       "</style>\n",
       "<table border=\"1\" class=\"dataframe\">\n",
       "  <thead>\n",
       "    <tr style=\"text-align: right;\">\n",
       "      <th></th>\n",
       "      <th>date</th>\n",
       "      <th>date_block_num</th>\n",
       "      <th>shop_id</th>\n",
       "      <th>item_id</th>\n",
       "      <th>item_price</th>\n",
       "      <th>item_cnt_day</th>\n",
       "    </tr>\n",
       "  </thead>\n",
       "  <tbody>\n",
       "    <tr>\n",
       "      <th>0</th>\n",
       "      <td>2013-02-01</td>\n",
       "      <td>0</td>\n",
       "      <td>59</td>\n",
       "      <td>22154</td>\n",
       "      <td>999.00</td>\n",
       "      <td>1.0</td>\n",
       "    </tr>\n",
       "    <tr>\n",
       "      <th>1</th>\n",
       "      <td>2013-03-01</td>\n",
       "      <td>0</td>\n",
       "      <td>25</td>\n",
       "      <td>2552</td>\n",
       "      <td>899.00</td>\n",
       "      <td>1.0</td>\n",
       "    </tr>\n",
       "    <tr>\n",
       "      <th>2</th>\n",
       "      <td>2013-05-01</td>\n",
       "      <td>0</td>\n",
       "      <td>25</td>\n",
       "      <td>2552</td>\n",
       "      <td>899.00</td>\n",
       "      <td>-1.0</td>\n",
       "    </tr>\n",
       "    <tr>\n",
       "      <th>3</th>\n",
       "      <td>2013-06-01</td>\n",
       "      <td>0</td>\n",
       "      <td>25</td>\n",
       "      <td>2554</td>\n",
       "      <td>1709.05</td>\n",
       "      <td>1.0</td>\n",
       "    </tr>\n",
       "    <tr>\n",
       "      <th>4</th>\n",
       "      <td>2013-01-15</td>\n",
       "      <td>0</td>\n",
       "      <td>25</td>\n",
       "      <td>2555</td>\n",
       "      <td>1099.00</td>\n",
       "      <td>1.0</td>\n",
       "    </tr>\n",
       "  </tbody>\n",
       "</table>\n",
       "</div>"
      ],
      "text/plain": [
       "        date  date_block_num  shop_id  item_id  item_price  item_cnt_day\n",
       "0 2013-02-01               0       59    22154      999.00           1.0\n",
       "1 2013-03-01               0       25     2552      899.00           1.0\n",
       "2 2013-05-01               0       25     2552      899.00          -1.0\n",
       "3 2013-06-01               0       25     2554     1709.05           1.0\n",
       "4 2013-01-15               0       25     2555     1099.00           1.0"
      ]
     },
     "execution_count": 4,
     "metadata": {},
     "output_type": "execute_result"
    }
   ],
   "source": [
    "sales_train.head()"
   ]
  },
  {
   "cell_type": "markdown",
   "metadata": {},
   "source": [
    "Does train dataset contains zeros?"
   ]
  },
  {
   "cell_type": "code",
   "execution_count": 5,
   "metadata": {
    "execution": {
     "iopub.execute_input": "2021-06-09T15:39:16.632892Z",
     "iopub.status.busy": "2021-06-09T15:39:16.632225Z",
     "iopub.status.idle": "2021-06-09T15:39:16.674446Z",
     "shell.execute_reply": "2021-06-09T15:39:16.673352Z",
     "shell.execute_reply.started": "2021-06-09T15:39:16.632840Z"
    }
   },
   "outputs": [
    {
     "data": {
      "text/plain": [
       "date              0\n",
       "date_block_num    0\n",
       "shop_id           0\n",
       "item_id           0\n",
       "item_price        0\n",
       "item_cnt_day      0\n",
       "dtype: int64"
      ]
     },
     "execution_count": 5,
     "metadata": {},
     "output_type": "execute_result"
    }
   ],
   "source": [
    "sales_train.isnull().sum()"
   ]
  },
  {
   "cell_type": "markdown",
   "metadata": {},
   "source": [
    "Research features\n",
    "\n",
    "# item_cnt_day"
   ]
  },
  {
   "cell_type": "code",
   "execution_count": 6,
   "metadata": {
    "execution": {
     "iopub.execute_input": "2021-06-09T15:39:16.800669Z",
     "iopub.status.busy": "2021-06-09T15:39:16.800398Z",
     "iopub.status.idle": "2021-06-09T15:39:17.651094Z",
     "shell.execute_reply": "2021-06-09T15:39:17.650278Z",
     "shell.execute_reply.started": "2021-06-09T15:39:16.800643Z"
    }
   },
   "outputs": [
    {
     "data": {
      "text/plain": [
       "(array([2.934464e+06, 1.204000e+03, 1.110000e+02, 3.100000e+01,\n",
       "        1.100000e+01, 5.000000e+00, 4.000000e+00, 4.000000e+00,\n",
       "        0.000000e+00, 8.000000e+00, 2.000000e+00, 1.000000e+00,\n",
       "        2.000000e+00, 0.000000e+00, 0.000000e+00, 0.000000e+00,\n",
       "        0.000000e+00, 0.000000e+00, 1.000000e+00, 0.000000e+00,\n",
       "        0.000000e+00, 0.000000e+00, 0.000000e+00, 0.000000e+00,\n",
       "        0.000000e+00, 0.000000e+00, 0.000000e+00, 0.000000e+00,\n",
       "        0.000000e+00, 0.000000e+00, 0.000000e+00, 0.000000e+00,\n",
       "        0.000000e+00, 0.000000e+00, 0.000000e+00, 0.000000e+00,\n",
       "        0.000000e+00, 0.000000e+00, 0.000000e+00, 1.000000e+00]),\n",
       " array([ -22.   ,   32.775,   87.55 ,  142.325,  197.1  ,  251.875,\n",
       "         306.65 ,  361.425,  416.2  ,  470.975,  525.75 ,  580.525,\n",
       "         635.3  ,  690.075,  744.85 ,  799.625,  854.4  ,  909.175,\n",
       "         963.95 , 1018.725, 1073.5  , 1128.275, 1183.05 , 1237.825,\n",
       "        1292.6  , 1347.375, 1402.15 , 1456.925, 1511.7  , 1566.475,\n",
       "        1621.25 , 1676.025, 1730.8  , 1785.575, 1840.35 , 1895.125,\n",
       "        1949.9  , 2004.675, 2059.45 , 2114.225, 2169.   ]),\n",
       " <BarContainer object of 40 artists>)"
      ]
     },
     "execution_count": 6,
     "metadata": {},
     "output_type": "execute_result"
    },
    {
     "data": {
      "image/png": "[encoded data removed]",
      "text/plain": [
       "<Figure size 864x432 with 1 Axes>"
      ]
     },
     "metadata": {
      "needs_background": "light"
     },
     "output_type": "display_data"
    }
   ],
   "source": [
    "plt.figure(figsize=(12,6))\n",
    "plt.xlabel('Number of sold items for a day')\n",
    "plt.ylabel('Number of occurencies in dataset')\n",
    "plt.yscale('log')\n",
    "plt.hist(sales_train.item_cnt_day, bins=40)"
   ]
  },
  {
   "cell_type": "code",
   "execution_count": 7,
   "metadata": {
    "execution": {
     "iopub.execute_input": "2021-06-09T15:39:16.676520Z",
     "iopub.status.busy": "2021-06-09T15:39:16.676072Z",
     "iopub.status.idle": "2021-06-09T15:39:16.798090Z",
     "shell.execute_reply": "2021-06-09T15:39:16.797264Z",
     "shell.execute_reply.started": "2021-06-09T15:39:16.676479Z"
    }
   },
   "outputs": [
    {
     "data": {
      "text/plain": [
       "count    2.935849e+06\n",
       "mean     1.242641e+00\n",
       "std      2.618834e+00\n",
       "min     -2.200000e+01\n",
       "25%      1.000000e+00\n",
       "50%      1.000000e+00\n",
       "75%      1.000000e+00\n",
       "max      2.169000e+03\n",
       "Name: item_cnt_day, dtype: float64"
      ]
     },
     "execution_count": 7,
     "metadata": {},
     "output_type": "execute_result"
    }
   ],
   "source": [
    "sales_train.item_cnt_day.describe()"
   ]
  },
  {
   "cell_type": "markdown",
   "metadata": {},
   "source": [
    "Group number of sold items by date_block and plot."
   ]
  },
  {
   "cell_type": "code",
   "execution_count": 8,
   "metadata": {
    "execution": {
     "iopub.execute_input": "2021-06-09T15:39:17.653309Z",
     "iopub.status.busy": "2021-06-09T15:39:17.652998Z",
     "iopub.status.idle": "2021-06-09T15:39:17.864858Z",
     "shell.execute_reply": "2021-06-09T15:39:17.864005Z",
     "shell.execute_reply.started": "2021-06-09T15:39:17.653280Z"
    },
    "scrolled": true
   },
   "outputs": [
    {
     "data": {
      "text/plain": [
       "[<matplotlib.lines.Line2D at 0x7ff5da218c40>]"
      ]
     },
     "execution_count": 8,
     "metadata": {},
     "output_type": "execute_result"
    },
    {
     "data": {
      "image/png": "[encoded data removed]",
      "text/plain": [
       "<Figure size 432x288 with 1 Axes>"
      ]
     },
     "metadata": {
      "needs_background": "light"
     },
     "output_type": "display_data"
    }
   ],
   "source": [
    "plt.xlabel('date_block_num (month)')\n",
    "plt.ylabel('Total number of sold items for a month')\n",
    "plt.plot(sales_train.groupby(['date_block_num']).agg({'item_cnt_day': 'sum'}).reset_index()['item_cnt_day'])"
   ]
  },
  {
   "cell_type": "markdown",
   "metadata": {},
   "source": [
    "There is an obvious trend with peaks at New Year holidays.\n",
    "\n",
    "# item_price\n",
    "\n",
    "Distribution of items price and outliers"
   ]
  },
  {
   "cell_type": "code",
   "execution_count": 9,
   "metadata": {
    "execution": {
     "iopub.execute_input": "2021-06-09T15:39:18.895062Z",
     "iopub.status.busy": "2021-06-09T15:39:18.894650Z",
     "iopub.status.idle": "2021-06-09T15:39:19.034713Z",
     "shell.execute_reply": "2021-06-09T15:39:19.033616Z",
     "shell.execute_reply.started": "2021-06-09T15:39:18.895022Z"
    },
    "scrolled": false
   },
   "outputs": [
    {
     "data": {
      "text/plain": [
       "count    2.935849e+06\n",
       "mean     8.908532e+02\n",
       "std      1.729800e+03\n",
       "min     -1.000000e+00\n",
       "25%      2.490000e+02\n",
       "50%      3.990000e+02\n",
       "75%      9.990000e+02\n",
       "max      3.079800e+05\n",
       "Name: item_price, dtype: float64"
      ]
     },
     "execution_count": 9,
     "metadata": {},
     "output_type": "execute_result"
    }
   ],
   "source": [
    "sales_train.item_price.describe()"
   ]
  },
  {
   "cell_type": "code",
   "execution_count": 10,
   "metadata": {
    "scrolled": false
   },
   "outputs": [
    {
     "data": {
      "text/plain": [
       "<AxesSubplot:xlabel='item_price'>"
      ]
     },
     "execution_count": 10,
     "metadata": {},
     "output_type": "execute_result"
    },
    {
     "data": {
      "image/png": "[encoded data removed]",
      "text/plain": [
       "<Figure size 432x288 with 1 Axes>"
      ]
     },
     "metadata": {
      "needs_background": "light"
     },
     "output_type": "display_data"
    }
   ],
   "source": [
    "sns.boxplot(x='item_price', data=sales_train)"
   ]
  },
  {
   "cell_type": "markdown",
   "metadata": {},
   "source": [
    "Majority of items has price lower than 5000.\n",
    "\n",
    "# date_block_num"
   ]
  },
  {
   "cell_type": "code",
   "execution_count": 11,
   "metadata": {
    "execution": {
     "iopub.execute_input": "2021-06-09T15:39:19.920633Z",
     "iopub.status.busy": "2021-06-09T15:39:19.920327Z",
     "iopub.status.idle": "2021-06-09T15:39:20.008071Z",
     "shell.execute_reply": "2021-06-09T15:39:20.007085Z",
     "shell.execute_reply.started": "2021-06-09T15:39:19.920607Z"
    },
    "scrolled": true
   },
   "outputs": [
    {
     "data": {
      "text/plain": [
       "count    2.935849e+06\n",
       "mean     1.456991e+01\n",
       "std      9.422988e+00\n",
       "min      0.000000e+00\n",
       "25%      7.000000e+00\n",
       "50%      1.400000e+01\n",
       "75%      2.300000e+01\n",
       "max      3.300000e+01\n",
       "Name: date_block_num, dtype: float64"
      ]
     },
     "execution_count": 11,
     "metadata": {},
     "output_type": "execute_result"
    }
   ],
   "source": [
    "sales_train.date_block_num.describe()"
   ]
  },
  {
   "cell_type": "code",
   "execution_count": 12,
   "metadata": {
    "execution": {
     "iopub.execute_input": "2021-06-09T15:39:20.009421Z",
     "iopub.status.busy": "2021-06-09T15:39:20.009143Z",
     "iopub.status.idle": "2021-06-09T15:39:22.849093Z",
     "shell.execute_reply": "2021-06-09T15:39:22.848017Z",
     "shell.execute_reply.started": "2021-06-09T15:39:20.009397Z"
    }
   },
   "outputs": [
    {
     "data": {
      "text/plain": [
       "[<matplotlib.lines.Line2D at 0x7ff5da0f4d30>]"
      ]
     },
     "execution_count": 12,
     "metadata": {},
     "output_type": "execute_result"
    },
    {
     "data": {
      "image/png": "[encoded data removed]",
      "text/plain": [
       "<Figure size 864x432 with 1 Axes>"
      ]
     },
     "metadata": {
      "needs_background": "light"
     },
     "output_type": "display_data"
    }
   ],
   "source": [
    "plt.figure(figsize=(12,6))\n",
    "plt.xlabel('Index')\n",
    "plt.ylabel('date_block_num')\n",
    "plt.plot(sales_train.date_block_num, '.')"
   ]
  },
  {
   "cell_type": "markdown",
   "metadata": {},
   "source": [
    "We can suppose, that dataset was built by concatenating of smaller datasets for each date block"
   ]
  },
  {
   "cell_type": "code",
   "execution_count": 13,
   "metadata": {
    "execution": {
     "iopub.execute_input": "2021-06-09T15:39:22.851078Z",
     "iopub.status.busy": "2021-06-09T15:39:22.850651Z",
     "iopub.status.idle": "2021-06-09T15:39:27.992597Z",
     "shell.execute_reply": "2021-06-09T15:39:27.991777Z",
     "shell.execute_reply.started": "2021-06-09T15:39:22.851036Z"
    }
   },
   "outputs": [
    {
     "data": {
      "text/plain": [
       "<matplotlib.collections.PathCollection at 0x7ff5da09d6a0>"
      ]
     },
     "execution_count": 13,
     "metadata": {},
     "output_type": "execute_result"
    },
    {
     "data": {
      "image/png": "[encoded data removed]",
      "text/plain": [
       "<Figure size 1152x432 with 1 Axes>"
      ]
     },
     "metadata": {
      "needs_background": "light"
     },
     "output_type": "display_data"
    }
   ],
   "source": [
    "plt.figure(figsize=(16, 6))\n",
    "plt.xlabel('date_block_num')\n",
    "plt.ylabel('shop_id')\n",
    "plt.scatter(sales_train.date_block_num, sales_train.shop_id)"
   ]
  },
  {
   "cell_type": "markdown",
   "metadata": {},
   "source": [
    "# shop_id\n",
    "\n",
    "What shops are presented in train set but aren't presented in the test set?"
   ]
  },
  {
   "cell_type": "code",
   "execution_count": 14,
   "metadata": {
    "scrolled": false
   },
   "outputs": [
    {
     "data": {
      "text/plain": [
       "<AxesSubplot:>"
      ]
     },
     "execution_count": 14,
     "metadata": {},
     "output_type": "execute_result"
    },
    {
     "data": {
      "image/png": "[encoded data removed]",
      "text/plain": [
       "<Figure size 864x576 with 1 Axes>"
      ]
     },
     "metadata": {
      "needs_background": "light"
     },
     "output_type": "display_data"
    }
   ],
   "source": [
    "missed_ind = sorted([c for c in sales_train.shop_id.unique() if c not in sales_test.shop_id.unique()])\n",
    "sales_train.shop_id.value_counts().sort_index().iloc[missed_ind].plot.bar(figsize=(12, 8))"
   ]
  },
  {
   "cell_type": "markdown",
   "metadata": {},
   "source": [
    "Me may don't need shops with id's 8, 9, 11, 20 and 40. \n",
    "\n",
    "We can see strong vertical pattern. This means that data wasn't shaffled for shops. We also can see, that data for some shops and date blocks are missing.\n",
    "\n",
    "# Fix wrong shops id's\n",
    "\n",
    "Some shop names look similar"
   ]
  },
  {
   "cell_type": "code",
   "execution_count": 15,
   "metadata": {
    "scrolled": true
   },
   "outputs": [
    {
     "name": "stdout",
     "output_type": "stream",
     "text": [
      "0     !Якутск Орджоникидзе, 56 фран\n",
      "57          Якутск Орджоникидзе, 56\n",
      "Name: shop_name, dtype: object\n",
      "1     !Якутск ТЦ \"Центральный\" фран\n",
      "58          Якутск ТЦ \"Центральный\"\n",
      "Name: shop_name, dtype: object\n",
      "10    Жуковский ул. Чкалова 39м?\n",
      "11    Жуковский ул. Чкалова 39м²\n",
      "Name: shop_name, dtype: object\n",
      "39              РостовНаДону ТРК \"Мегацентр Горизонт\"\n",
      "40    РостовНаДону ТРК \"Мегацентр Горизонт\" Островной\n",
      "Name: shop_name, dtype: object\n"
     ]
    }
   ],
   "source": [
    "print(shops.loc[shops.shop_id.isin([0, 57]), 'shop_name'])\n",
    "print(shops.loc[shops.shop_id.isin([1, 58]), 'shop_name'])\n",
    "print(shops.loc[shops.shop_id.isin([10, 11]), 'shop_name'])\n",
    "print(shops.loc[shops.shop_id.isin([39, 40]), 'shop_name'])"
   ]
  },
  {
   "cell_type": "markdown",
   "metadata": {},
   "source": [
    "Let's correct this"
   ]
  },
  {
   "cell_type": "code",
   "execution_count": 16,
   "metadata": {},
   "outputs": [],
   "source": [
    "sales_train.loc[sales_train.shop_id == 0, 'shop_id'] = 57\n",
    "sales_test.loc[sales_test.shop_id == 0, 'shop_id'] = 57\n",
    "\n",
    "sales_train.loc[sales_train.shop_id == 1, 'shop_id'] = 58\n",
    "sales_test.loc[sales_test.shop_id == 1, 'shop_id'] = 58\n",
    "\n",
    "sales_train.loc[sales_train.shop_id == 11, 'shop_id'] = 10 # shop_id 11 isn't presented in the test set\n",
    "sales_test.loc[sales_test.shop_id == 11, 'shop_id'] = 10\n",
    "\n",
    "sales_train.loc[sales_train.shop_id == 40, 'shop_id'] = 39\n",
    "sales_test.loc[sales_test.shop_id == 40, 'shop_id'] = 39"
   ]
  },
  {
   "cell_type": "markdown",
   "metadata": {},
   "source": [
    "# Fix wrong prices\n",
    "\n",
    "Some of prices may be wrong. Let's find them. At first we look for prices with big difference between min and max price for each item and find the most frequent normal prices for them."
   ]
  },
  {
   "cell_type": "code",
   "execution_count": 17,
   "metadata": {
    "execution": {
     "iopub.execute_input": "2021-06-09T15:39:28.418693Z",
     "iopub.status.busy": "2021-06-09T15:39:28.418421Z",
     "iopub.status.idle": "2021-06-09T15:39:36.877408Z",
     "shell.execute_reply": "2021-06-09T15:39:36.876401Z",
     "shell.execute_reply.started": "2021-06-09T15:39:28.418668Z"
    }
   },
   "outputs": [
    {
     "data": {
      "text/html": [
       "<div>\n",
       "<style scoped>\n",
       "    .dataframe tbody tr th:only-of-type {\n",
       "        vertical-align: middle;\n",
       "    }\n",
       "\n",
       "    .dataframe tbody tr th {\n",
       "        vertical-align: top;\n",
       "    }\n",
       "\n",
       "    .dataframe thead tr th {\n",
       "        text-align: left;\n",
       "    }\n",
       "\n",
       "    .dataframe thead tr:last-of-type th {\n",
       "        text-align: right;\n",
       "    }\n",
       "</style>\n",
       "<table border=\"1\" class=\"dataframe\">\n",
       "  <thead>\n",
       "    <tr>\n",
       "      <th></th>\n",
       "      <th colspan=\"3\" halign=\"left\">item_price</th>\n",
       "      <th>price_diff</th>\n",
       "    </tr>\n",
       "    <tr>\n",
       "      <th></th>\n",
       "      <th>amin</th>\n",
       "      <th>amax</th>\n",
       "      <th>amode</th>\n",
       "      <th></th>\n",
       "    </tr>\n",
       "    <tr>\n",
       "      <th>item_id</th>\n",
       "      <th></th>\n",
       "      <th></th>\n",
       "      <th></th>\n",
       "      <th></th>\n",
       "    </tr>\n",
       "  </thead>\n",
       "  <tbody>\n",
       "    <tr>\n",
       "      <th>11865</th>\n",
       "      <td>0.07</td>\n",
       "      <td>729.0</td>\n",
       "      <td>329.0</td>\n",
       "      <td>10414.285714</td>\n",
       "    </tr>\n",
       "    <tr>\n",
       "      <th>11857</th>\n",
       "      <td>0.10</td>\n",
       "      <td>729.0</td>\n",
       "      <td>319.0</td>\n",
       "      <td>7290.000000</td>\n",
       "    </tr>\n",
       "    <tr>\n",
       "      <th>11864</th>\n",
       "      <td>0.07</td>\n",
       "      <td>469.0</td>\n",
       "      <td>269.0</td>\n",
       "      <td>6700.000000</td>\n",
       "    </tr>\n",
       "    <tr>\n",
       "      <th>1836</th>\n",
       "      <td>0.50</td>\n",
       "      <td>2599.0</td>\n",
       "      <td>1999.0</td>\n",
       "      <td>5198.000000</td>\n",
       "    </tr>\n",
       "    <tr>\n",
       "      <th>1837</th>\n",
       "      <td>0.50</td>\n",
       "      <td>2599.0</td>\n",
       "      <td>1999.0</td>\n",
       "      <td>5198.000000</td>\n",
       "    </tr>\n",
       "  </tbody>\n",
       "</table>\n",
       "</div>"
      ],
      "text/plain": [
       "        item_price                    price_diff\n",
       "              amin    amax   amode              \n",
       "item_id                                         \n",
       "11865         0.07   729.0   329.0  10414.285714\n",
       "11857         0.10   729.0   319.0   7290.000000\n",
       "11864         0.07   469.0   269.0   6700.000000\n",
       "1836          0.50  2599.0  1999.0   5198.000000\n",
       "1837          0.50  2599.0  1999.0   5198.000000"
      ]
     },
     "execution_count": 17,
     "metadata": {},
     "output_type": "execute_result"
    }
   ],
   "source": [
    "# for each item get price with mode value > 5\n",
    "def amode(col):\n",
    "    i = 0\n",
    "    res = 0\n",
    "    count = col.value_counts().index\n",
    "    while res <= 5 and i < len(count):\n",
    "        res = count[i]\n",
    "        i += 1\n",
    "    return res\n",
    "\n",
    "def alast(col):\n",
    "    return res\n",
    "    \n",
    "# group train dataset by prices, aggregate by price mode\n",
    "item_prices = sales_train[['item_id', 'item_price']].groupby('item_id').agg({'item_price': [np.min, \n",
    "                                                                                            np.max, \n",
    "                                                                                            amode]})\n",
    "# add feature for difference between min and max prices\n",
    "item_prices['price_diff'] = abs(item_prices.item_price.amax/item_prices.item_price.amin)\n",
    "\n",
    "# get all prices with the difference between min and max prices more than 15 and min price less than 5\n",
    "# save indexes of these prices\n",
    "wrong_prices = item_prices[(item_prices.item_price.amin <= 5) & \n",
    "                           (item_prices.price_diff >= 15)].sort_values('price_diff', ascending=False)\n",
    "\n",
    "wrong_prices.head()"
   ]
  },
  {
   "cell_type": "markdown",
   "metadata": {},
   "source": [
    "Fix wrong prices"
   ]
  },
  {
   "cell_type": "code",
   "execution_count": 18,
   "metadata": {
    "execution": {
     "iopub.execute_input": "2021-06-09T15:39:36.878859Z",
     "iopub.status.busy": "2021-06-09T15:39:36.878581Z",
     "iopub.status.idle": "2021-06-09T15:39:38.986943Z",
     "shell.execute_reply": "2021-06-09T15:39:38.986059Z",
     "shell.execute_reply.started": "2021-06-09T15:39:36.878833Z"
    },
    "scrolled": true
   },
   "outputs": [],
   "source": [
    "for i_id in list(wrong_prices.index):\n",
    "    sales_train.loc[(sales_train.item_id == i_id) & \n",
    "                    (sales_train.item_price <= 5), 'item_price'] = wrong_prices.loc[i_id, 'item_price'].amode\n",
    "    \n",
    "# shops_last_prices = sales_train[['shop_id', 'item_id', 'item_price']].groupby(['shop_id', \n",
    "#                                                                                'item_id']).agg('last')\n",
    "\n",
    "# sales_test = sales_test.join(shops_last_prices, on=['shop_id', 'item_id'])\n",
    "# sales_test.drop('ID', axis=1, inplace=True)"
   ]
  },
  {
   "cell_type": "markdown",
   "metadata": {},
   "source": [
    "Group dataset by shop, item and date number.\n",
    "\n",
    "# Group train dataset, investigate data distribution for train and test datasets."
   ]
  },
  {
   "cell_type": "code",
   "execution_count": 19,
   "metadata": {
    "execution": {
     "iopub.execute_input": "2021-06-09T15:39:38.988474Z",
     "iopub.status.busy": "2021-06-09T15:39:38.988171Z",
     "iopub.status.idle": "2021-06-09T15:39:39.950497Z",
     "shell.execute_reply": "2021-06-09T15:39:39.949692Z",
     "shell.execute_reply.started": "2021-06-09T15:39:38.988445Z"
    },
    "scrolled": true
   },
   "outputs": [],
   "source": [
    "#drop date feature, it's erratic, month and day are sometime confused\n",
    "sales_train.drop('date', axis=1, inplace=True)\n",
    "\n",
    "sales_train_gr = sales_train.groupby(['date_block_num', \n",
    "                                      'shop_id', 'item_id'], as_index=False).agg({'item_price': 'mean', \n",
    "                                                                                  'item_cnt_day': 'sum'})\n",
    "\n",
    "sales_train_gr.rename({'item_cnt_day': 'item_cnt_month'}, axis=1, inplace=True)"
   ]
  },
  {
   "cell_type": "markdown",
   "metadata": {},
   "source": [
    "Let's investigate distribution of items and shops according to mean date block number.\n",
    "\n",
    "Train dataset."
   ]
  },
  {
   "cell_type": "code",
   "execution_count": 20,
   "metadata": {
    "execution": {
     "iopub.execute_input": "2021-06-09T15:39:39.952015Z",
     "iopub.status.busy": "2021-06-09T15:39:39.951583Z",
     "iopub.status.idle": "2021-06-09T15:39:42.198733Z",
     "shell.execute_reply": "2021-06-09T15:39:42.198038Z",
     "shell.execute_reply.started": "2021-06-09T15:39:39.951973Z"
    }
   },
   "outputs": [
    {
     "data": {
      "image/png": "[encoded data removed]",
      "text/plain": [
       "<Figure size 864x1008 with 1 Axes>"
      ]
     },
     "metadata": {
      "needs_background": "light"
     },
     "output_type": "display_data"
    }
   ],
   "source": [
    "from matplotlib import pyplot as plt\n",
    "\n",
    "g = sales_train_gr.groupby(['shop_id', 'item_id'])\n",
    "\n",
    "plt.figure(figsize=(12,14))\n",
    "plt.scatter(g.date_block_num.mean(), g.size(), edgecolor = 'none', alpha = 0.2, s=20, c='b')\n",
    "plt.xlabel('Group mean date')\n",
    "plt.ylabel('Group size')\n",
    "plt.ylim(-2, 37)\n",
    "plt.xlim(-5, 40)\n",
    "plt.title('Train');"
   ]
  },
  {
   "cell_type": "markdown",
   "metadata": {},
   "source": [
    "Test dataset"
   ]
  },
  {
   "cell_type": "code",
   "execution_count": 21,
   "metadata": {
    "execution": {
     "iopub.execute_input": "2021-06-09T15:39:42.215670Z",
     "iopub.status.busy": "2021-06-09T15:39:42.215211Z",
     "iopub.status.idle": "2021-06-09T15:39:43.312024Z",
     "shell.execute_reply": "2021-06-09T15:39:43.311033Z",
     "shell.execute_reply.started": "2021-06-09T15:39:42.215624Z"
    }
   },
   "outputs": [
    {
     "data": {
      "image/png": "[encoded data removed]",
      "text/plain": [
       "<Figure size 864x576 with 1 Axes>"
      ]
     },
     "metadata": {
      "needs_background": "light"
     },
     "output_type": "display_data"
    }
   ],
   "source": [
    "sales_test['date_block_num'] = 34\n",
    "sales_test.date_block_num = sales_test.date_block_num.astype(np.int8)\n",
    "\n",
    "g = sales_test.groupby(['shop_id', 'item_id'])\n",
    "\n",
    "plt.figure(figsize=(12,8))\n",
    "plt.scatter(g.date_block_num.mean(),g.size(),edgecolor = 'none',alpha = 0.2, s=20, c='b')\n",
    "plt.xlabel('Group mean relative date')\n",
    "plt.ylabel('Group size')\n",
    "plt.ylim(-2, 5)\n",
    "plt.title('Test');"
   ]
  },
  {
   "cell_type": "markdown",
   "metadata": {},
   "source": [
    "What does that mean? That mean that all groups in test dataset have size of one and labeled by 34th date block num, but that's not surprise for us.\n",
    "\n",
    "But train dataset has groups with completely different sizes and completely different data. For groups in the top of our triangle we have information about all days, so, that's why their mean date is 16.5. For other groups we don't have full information, that's why their mean date becomes volatile.\n",
    "\n",
    "Why does this happen? Let's investigate item_cnt_day feature in our dataset. "
   ]
  },
  {
   "cell_type": "code",
   "execution_count": 22,
   "metadata": {
    "execution": {
     "iopub.execute_input": "2021-06-09T15:39:43.316329Z",
     "iopub.status.busy": "2021-06-09T15:39:43.316015Z",
     "iopub.status.idle": "2021-06-09T15:39:43.369788Z",
     "shell.execute_reply": "2021-06-09T15:39:43.368724Z",
     "shell.execute_reply.started": "2021-06-09T15:39:43.316301Z"
    },
    "scrolled": false
   },
   "outputs": [
    {
     "data": {
      "text/plain": [
       "-22.0          1\n",
       "-16.0          1\n",
       "-9.0           1\n",
       "-6.0           2\n",
       "-5.0           4\n",
       "-4.0           3\n",
       "-3.0          14\n",
       "-2.0          78\n",
       "-1.0        7252\n",
       " 1.0     2629372\n",
       "Name: item_cnt_day, dtype: int64"
      ]
     },
     "execution_count": 22,
     "metadata": {},
     "output_type": "execute_result"
    }
   ],
   "source": [
    "sales_train.item_cnt_day.value_counts().sort_index().head(10)"
   ]
  },
  {
   "cell_type": "markdown",
   "metadata": {},
   "source": [
    "So, in the train dataset we find positive and negative values, but don't find zero. Our train dataset just doesn't include data with item_cnt_day equals to zero. So, we most add this combinations to our dataset and set item_cnt_month value for them to zero.\n",
    "\n",
    "We should also add to our dataset item ids that are presented in the test dataset but aren't presented in the train."
   ]
  },
  {
   "cell_type": "code",
   "execution_count": 23,
   "metadata": {
    "execution": {
     "iopub.execute_input": "2021-06-09T15:39:43.371875Z",
     "iopub.status.busy": "2021-06-09T15:39:43.371576Z",
     "iopub.status.idle": "2021-06-09T15:39:43.744779Z",
     "shell.execute_reply": "2021-06-09T15:39:43.743377Z",
     "shell.execute_reply.started": "2021-06-09T15:39:43.371845Z"
    },
    "scrolled": true
   },
   "outputs": [],
   "source": [
    "# # find all items, that are presented in the test dataset, but aren't presented in the train dataset\n",
    "# sales_test1 = sales_test.loc[~sales_test.item_id.isin(sales_train.item_id.unique())].copy()\n",
    "# sales_test1.loc[:, 'item_cnt_day'] = 0\n",
    "\n",
    "# # for each \n",
    "# for i in range(1, 34):\n",
    "#     # add these items to the train dataset\n",
    "#     sales_train = pd.concat([sales_train, sales_test1])\n",
    "#     # set date_block_num values that equal to 34, to 33, fill NaN item_cnt_day values with zeros\n",
    "#     sales_train.loc[sales_train.date_block_num == 34, 'date_block_num'] = i\n",
    "# sales_train.item_cnt_day.fillna(0, inplace=True)"
   ]
  },
  {
   "cell_type": "markdown",
   "metadata": {},
   "source": [
    "# Create all unique combinations of shop_id, item_id and date_block_num"
   ]
  },
  {
   "cell_type": "code",
   "execution_count": 24,
   "metadata": {
    "execution": {
     "iopub.execute_input": "2021-06-09T15:39:43.752550Z",
     "iopub.status.busy": "2021-06-09T15:39:43.752261Z",
     "iopub.status.idle": "2021-06-09T15:39:45.635710Z",
     "shell.execute_reply": "2021-06-09T15:39:45.634820Z",
     "shell.execute_reply.started": "2021-06-09T15:39:43.752521Z"
    }
   },
   "outputs": [
    {
     "name": "stdout",
     "output_type": "stream",
     "text": [
      "CPU times: user 9.55 s, sys: 977 ms, total: 10.5 s\n",
      "Wall time: 10.1 s\n"
     ]
    }
   ],
   "source": [
    "%%time\n",
    "\n",
    "from itertools import product\n",
    "\n",
    "index_cols = ['shop_id', 'item_id', 'date_block_num']\n",
    "\n",
    "# For every month we create a grid from all shops/items combinations from that month\n",
    "grid = [] \n",
    "for block_num in sales_train['date_block_num'].unique():\n",
    "    cur_shops = sales_train[sales_train['date_block_num']==block_num]['shop_id'].unique()\n",
    "    cur_items = sales_train[sales_train['date_block_num']==block_num]['item_id'].unique()\n",
    "    grid.append(np.array(list(product(*[cur_shops, cur_items, [block_num]])),dtype='int32'))\n",
    "\n",
    "#turn the grid into pandas dataframe\n",
    "grid = pd.DataFrame(np.vstack(grid), columns = index_cols, dtype=np.int32)\n",
    "\n",
    "#get aggregated values for (shop_id, item_id, month)\n",
    "gb = sales_train.groupby(index_cols, as_index=False).agg({'item_cnt_day': 'sum', 'item_price': 'mean'})\n",
    "\n",
    "#join aggregated data to the grid\n",
    "sales_train2 = pd.merge(grid, gb, how='left', on=index_cols)\n",
    "\n",
    "#sort the data\n",
    "sales_train2.sort_values(['date_block_num', 'shop_id', 'item_id'],inplace=True)\n",
    "\n",
    "# rename target column name\n",
    "sales_train2.rename({'item_cnt_day': 'item_cnt_month'}, axis=1, inplace=True)\n",
    "\n",
    "# reset index for new train dataset\n",
    "sales_train2.reset_index(inplace=True)\n",
    "\n",
    "# drop index column\n",
    "sales_train2.drop('index', axis=1, inplace=True)\n",
    "\n",
    "# flll NaN item_cnt_month values\n",
    "sales_train2.item_cnt_month.fillna(0, inplace=True)\n",
    "\n",
    "sales_test2 = sales_test.copy()\n",
    "\n",
    "# uncomment if need to fill prices\n",
    "# # fill NaN item prices, if possible\n",
    "# sales_prices = sales_train2.dropna().groupby(['date_block_num', 'item_id']).agg({'item_price': lambda x: x.iloc[-1]})\n",
    "# sales_train2 = sales_train2.join(sales_prices, on=['date_block_num', 'item_id'], rsuffix='_r')\n",
    "# sales_train2.loc[(sales_train2.item_price.isnull()) & (~sales_train2.item_price_r.isnull()), \n",
    "#                  'item_price'] = sales_train2.item_price_r\n",
    "# sales_train2.drop('item_price_r', axis=1, inplace=True)"
   ]
  },
  {
   "cell_type": "markdown",
   "metadata": {},
   "source": [
    "Distribution of items for each shop"
   ]
  },
  {
   "cell_type": "code",
   "execution_count": 25,
   "metadata": {
    "execution": {
     "iopub.execute_input": "2021-06-09T15:39:48.783637Z",
     "iopub.status.busy": "2021-06-09T15:39:48.783227Z",
     "iopub.status.idle": "2021-06-09T15:39:49.896365Z",
     "shell.execute_reply": "2021-06-09T15:39:49.895299Z",
     "shell.execute_reply.started": "2021-06-09T15:39:48.783596Z"
    },
    "scrolled": false
   },
   "outputs": [
    {
     "data": {
      "text/plain": [
       "<AxesSubplot:xlabel='shop_id'>"
      ]
     },
     "execution_count": 25,
     "metadata": {},
     "output_type": "execute_result"
    },
    {
     "data": {
      "image/png": "[encoded data removed]",
      "text/plain": [
       "<Figure size 1152x720 with 1 Axes>"
      ]
     },
     "metadata": {
      "needs_background": "light"
     },
     "output_type": "display_data"
    }
   ],
   "source": [
    "sales_train2.groupby('shop_id').agg({'item_id': 'count'}).plot.bar(figsize=(16, 10))"
   ]
  },
  {
   "cell_type": "markdown",
   "metadata": {},
   "source": [
    "# Add calendar features"
   ]
  },
  {
   "cell_type": "code",
   "execution_count": 26,
   "metadata": {
    "scrolled": true
   },
   "outputs": [
    {
     "data": {
      "text/html": [
       "<div>\n",
       "<style scoped>\n",
       "    .dataframe tbody tr th:only-of-type {\n",
       "        vertical-align: middle;\n",
       "    }\n",
       "\n",
       "    .dataframe tbody tr th {\n",
       "        vertical-align: top;\n",
       "    }\n",
       "\n",
       "    .dataframe thead th {\n",
       "        text-align: right;\n",
       "    }\n",
       "</style>\n",
       "<table border=\"1\" class=\"dataframe\">\n",
       "  <thead>\n",
       "    <tr style=\"text-align: right;\">\n",
       "      <th></th>\n",
       "      <th>date_block_num</th>\n",
       "      <th>month</th>\n",
       "      <th>season</th>\n",
       "    </tr>\n",
       "  </thead>\n",
       "  <tbody>\n",
       "    <tr>\n",
       "      <th>0</th>\n",
       "      <td>0</td>\n",
       "      <td>1</td>\n",
       "      <td>winter</td>\n",
       "    </tr>\n",
       "    <tr>\n",
       "      <th>1</th>\n",
       "      <td>1</td>\n",
       "      <td>2</td>\n",
       "      <td>winter</td>\n",
       "    </tr>\n",
       "    <tr>\n",
       "      <th>2</th>\n",
       "      <td>2</td>\n",
       "      <td>3</td>\n",
       "      <td>spring</td>\n",
       "    </tr>\n",
       "    <tr>\n",
       "      <th>3</th>\n",
       "      <td>3</td>\n",
       "      <td>4</td>\n",
       "      <td>spring</td>\n",
       "    </tr>\n",
       "    <tr>\n",
       "      <th>4</th>\n",
       "      <td>4</td>\n",
       "      <td>5</td>\n",
       "      <td>spring</td>\n",
       "    </tr>\n",
       "  </tbody>\n",
       "</table>\n",
       "</div>"
      ],
      "text/plain": [
       "   date_block_num  month  season\n",
       "0               0      1  winter\n",
       "1               1      2  winter\n",
       "2               2      3  spring\n",
       "3               3      4  spring\n",
       "4               4      5  spring"
      ]
     },
     "execution_count": 26,
     "metadata": {},
     "output_type": "execute_result"
    }
   ],
   "source": [
    "import math\n",
    "import calendar\n",
    "import holidays\n",
    "import datetime\n",
    "\n",
    "date_blocks = pd.DataFrame(sales_train2.date_block_num.drop_duplicates())\n",
    "date_blocks = date_blocks.append({'date_block_num': 34}, ignore_index=True)\n",
    "\n",
    "def add_month(col):\n",
    "    return int(divmod(col, 12)[1] + 1)\n",
    "\n",
    "def add_year(col):\n",
    "    return int(2013 + divmod(col+1, 12)[0])\n",
    "\n",
    "def add_year_month(row):\n",
    "    return f'{row.year}-{row.month}'\n",
    "\n",
    "def add_season(col):\n",
    "    if 0 < col <= 2 or col == 12:\n",
    "        return 'winter'\n",
    "    if 3 <= col < 6:\n",
    "        return 'spring'\n",
    "    if 6 <= col < 9:\n",
    "        return 'summer'\n",
    "    if 9 <= col < 12:\n",
    "        return 'autumn'\n",
    "    return np.nan\n",
    "\n",
    "# get number of holidays + weekend in each month    \n",
    "ru_holidays = []\n",
    "\n",
    "for date, name in sorted(holidays.RU(years=[2013, 2014, 2015]).items()):\n",
    "    ru_holidays.append(date)\n",
    "    \n",
    "def add_holidays_and_weekends(row):\n",
    "    busines_dates = pd.bdate_range(f\"{row.year}-{row.month}-01\", f\"{row.year}-{row.month}-{row.days_in_month}\")\n",
    "    busines_dates = [b for b in busines_dates if b not in ru_holidays]\n",
    "    return row.days_in_month - len(busines_dates)\n",
    "    \n",
    "def add_weeks_in_month(row):\n",
    "    for i in range(1, row.days_in_month+1):\n",
    "        d = datetime.datetime(row.year, row.month, i)\n",
    "        if d.day > d.weekday():\n",
    "            startdate = d\n",
    "            break\n",
    "    return ((datetime.datetime(row.year, row.month, row.days_in_month) - startdate).days) //7 + 1 \n",
    "    \n",
    "def create_calendar_features(data):\n",
    "    data['month'] = data.date_block_num.apply(add_month).astype(np.int8) \n",
    "#     data['year'] = data.date_block_num.apply(add_year).astype(np.int16) \n",
    "#     data['year_month'] = data.apply(add_year_month, axis=1)\n",
    "#     data.year_month = pd.to_datetime(data.year_month, format='%Y-%m')\n",
    "#     data['days_in_month'] = data.year_month.dt.daysinmonth.astype(np.int8) \n",
    "#     data['weeks_in_month'] = data.apply(add_weeks_in_month, axis=1).astype(np.int8) \n",
    "    data['season'] = data.month.apply(add_season)\n",
    "#     data['holidays_and_weekends_in_month'] = data.apply(add_holidays_and_weekends, axis=1)\n",
    "#     data.drop('year_month', axis=1, inplace=True)\n",
    "\n",
    "\n",
    "create_calendar_features(date_blocks)\n",
    "date_blocks.head()"
   ]
  },
  {
   "cell_type": "markdown",
   "metadata": {},
   "source": [
    "# Add geographical features"
   ]
  },
  {
   "cell_type": "code",
   "execution_count": 27,
   "metadata": {},
   "outputs": [],
   "source": [
    "def add_city(col):\n",
    "    city = col.split(' ')\n",
    "    if city[0][0] == '!':\n",
    "        return city[0][1:]\n",
    "    if city[0] == 'Адыгея':\n",
    "        return 'Краснодар'\n",
    "    return city[0]\n",
    "\n",
    "\n",
    "def add_shop_type(col):\n",
    "    if 'ТЦ' in col:\n",
    "        return 1\n",
    "    if 'ТРЦ' in col or 'МТРЦ' in col:\n",
    "        return 2\n",
    "    if 'ТК' in col:\n",
    "        return 3\n",
    "    if 'ТРК' in col:\n",
    "        return 4\n",
    "    for c in ['Якутск Орджоникидзе', 'Жуковский', 'Воронеж (Плехановская, 13)', 'Магазин С21']:\n",
    "        if c in col:\n",
    "            return 5\n",
    "    return 0\n",
    "\n",
    "# coordinates of cities and regions of Russia \n",
    "city_coords = dict()\n",
    "\n",
    "city_coords['Балашиха'] = (55.797007, 37.938118, 1)       # Moscow area\n",
    "city_coords['Волжский'] = (48.786127, 44.751229, 3)       # South\n",
    "city_coords['Вологда'] = (59.220501, 39.891523, 2)        # North\n",
    "city_coords['Воронеж'] = (51.660786, 39.200269, 3)        # South\n",
    "city_coords['Выездная'] = (0, 0, 0)\n",
    "city_coords['Жуковский'] = (55.597480, 38.119811, 1)      # Moscow area\n",
    "city_coords['Интернет-магазин'] = (0, 0, 0)\n",
    "city_coords['Казань'] = (55.796127, 49.106414, 4)         # East\n",
    "city_coords['Калуга'] = (54.513845, 36.261224, 1)         # Moscow area\n",
    "city_coords['Коломна'] = (55.103034, 38.752809, 1)        # Moscow area\n",
    "city_coords['Краснодар'] = (45.035470, 38.975313, 3)      # South\n",
    "city_coords['Красноярск'] = (56.010569, 92.852572, 5)     # Syberia\n",
    "city_coords['Курск'] = (51.730846, 36.193015, 3)          # South\n",
    "city_coords['Москва'] = (55.753220, 37.622513, 1)         # Moscow area\n",
    "city_coords['Мытищи'] = (55.909665, 37.736132, 1)         # Moscow area\n",
    "city_coords['Н.Новгород'] = (56.326797, 44.006516, 4)     # East\n",
    "city_coords['Новосибирск'] = (55.030204, 82.920430, 5)    # Syberia\n",
    "city_coords['Омск'] = (54.989347, 73.368221, 5)           # Syberia\n",
    "city_coords['РостовНаДону'] = (47.222078, 39.720358, 3)   # South\n",
    "city_coords['СПб'] = (59.938955, 30.315644, 2)            # North\n",
    "city_coords['Самара'] = (53.195878, 50.100202, 4)         # East\n",
    "city_coords['Сергиев'] = (56.315311, 38.135972, 1)        # Moscow area\n",
    "city_coords['Сургут'] = (61.254035, 73.396230, 5)         # Syberia\n",
    "city_coords['Томск'] = (56.484645, 84.947649, 5)          # Syberia\n",
    "city_coords['Тюмень'] = (57.152985, 65.541227, 5)         # Syberia\n",
    "city_coords['Уфа'] = (54.735152, 55.958736, 5)            # Syberia\n",
    "city_coords['Химки'] = (55.888740, 37.430390, 1)          # Moscow area \n",
    "city_coords['Цифровой'] = (0, 0, 0)\n",
    "city_coords['Чехов'] = (55.142350, 37.454357, 1)          # Moscow area\n",
    "city_coords['Якутск'] = (62.027221, 129.732178, 4)        # Syberia\n",
    "city_coords['Ярославль'] = (57.626559, 39.893813, 2)      # North\n",
    "\n",
    "# districts of Moscow\n",
    "moscow_dist = dict()\n",
    "\n",
    "moscow_dist[20] = 0\n",
    "moscow_dist['Москва \"Распродажа\"'] = 0                   # Center\n",
    "moscow_dist['Балашиха ТРК \"Октябрь-Киномир\"'] = 2        # East\n",
    "moscow_dist['Москва МТРЦ \"Афи Молл\"'] = 1                # Center\n",
    "moscow_dist['Москва Магазин С21'] = 1                    # Center\n",
    "moscow_dist['Москва ТК \"Буденовский\" (пав.А2)'] = 2      # East\n",
    "moscow_dist['Москва ТК \"Буденовский\" (пав.К7)'] = 2      # East\n",
    "moscow_dist['Москва ТРК \"Атриум\"'] = 1                   # Center\n",
    "moscow_dist['Москва ТЦ \"Ареал\" (Беляево)'] = 3           # South\n",
    "moscow_dist['Москва ТЦ \"МЕГА Белая Дача II\"'] = 2        # East\n",
    "moscow_dist['Москва ТЦ \"МЕГА Теплый Стан\" II'] = 3       # South\n",
    "moscow_dist['Москва ТЦ \"Новый век\" (Новокосино)'] = 2    # East\n",
    "moscow_dist['Москва ТЦ \"Перловский\"'] = 4                # North\n",
    "moscow_dist['Москва ТЦ \"Семеновский\"'] = 1               # Center\n",
    "moscow_dist['Москва ТЦ \"Серебряный Дом\"'] = 1            # Center\n",
    "moscow_dist['Мытищи ТРК \"XL-3\"'] = 4                     # North\n",
    "moscow_dist['Химки ТЦ \"Мега\"'] = 4                       # North\n",
    "\n",
    "\n",
    "\n",
    "shops['city'] = shops.shop_name.apply(add_city)\n",
    "\n",
    "# shops['city_lat'] = shops.city.map(lambda x: city_coords[x][0]) \n",
    "# shops['city_lon'] = shops.city.map(lambda x: city_coords[x][1]) \n",
    "# shops['region'] = shops.city.map(lambda x: city_coords[x][2]) \n",
    "\n",
    "# shops['moscow_district'] = 0\n",
    "# shops['moscow_district'] = shops['moscow_district'].astype(np.int8)\n",
    "\n",
    "# shops.loc[shops.city.isin(['Балашиха',\n",
    "#                            'Москва', \n",
    "#                            'Мытищи', \n",
    "#                            'Химки']), \n",
    "#           'moscow_district'] = shops.loc[shops.city.isin(['Балашиха', \n",
    "#                                                           'Москва', \n",
    "#                                                           'Мытищи', \n",
    "#                                                           'Химки']), \n",
    "#                                          'shop_name'].map(moscow_dist)\n",
    "\n",
    "shops['shop_type'] = shops.shop_name.apply(add_shop_type)\n",
    "shops.shop_type = shops.shop_type.astype(np.int8)\n",
    "\n",
    "shops.head()"
   ]
  },
  {
   "cell_type": "markdown",
   "metadata": {},
   "source": [
    "# Add expert features for items and shops"
   ]
  },
  {
   "cell_type": "code",
   "execution_count": 28,
   "metadata": {
    "execution": {
     "iopub.execute_input": "2021-06-09T15:39:56.205174Z",
     "iopub.status.busy": "2021-06-09T15:39:56.204812Z",
     "iopub.status.idle": "2021-06-09T15:39:56.223874Z",
     "shell.execute_reply": "2021-06-09T15:39:56.222565Z",
     "shell.execute_reply.started": "2021-06-09T15:39:56.205123Z"
    },
    "scrolled": false
   },
   "outputs": [
    {
     "data": {
      "text/html": [
       "<div>\n",
       "<style scoped>\n",
       "    .dataframe tbody tr th:only-of-type {\n",
       "        vertical-align: middle;\n",
       "    }\n",
       "\n",
       "    .dataframe tbody tr th {\n",
       "        vertical-align: top;\n",
       "    }\n",
       "\n",
       "    .dataframe thead th {\n",
       "        text-align: right;\n",
       "    }\n",
       "</style>\n",
       "<table border=\"1\" class=\"dataframe\">\n",
       "  <thead>\n",
       "    <tr style=\"text-align: right;\">\n",
       "      <th></th>\n",
       "      <th>shop_name</th>\n",
       "      <th>shop_id</th>\n",
       "      <th>city</th>\n",
       "      <th>moscow_district</th>\n",
       "      <th>shop_type</th>\n",
       "    </tr>\n",
       "  </thead>\n",
       "  <tbody>\n",
       "    <tr>\n",
       "      <th>0</th>\n",
       "      <td>!Якутск Орджоникидзе, 56 фран</td>\n",
       "      <td>0</td>\n",
       "      <td>Якутск</td>\n",
       "      <td>0</td>\n",
       "      <td>5</td>\n",
       "    </tr>\n",
       "    <tr>\n",
       "      <th>1</th>\n",
       "      <td>!Якутск ТЦ \"Центральный\" фран</td>\n",
       "      <td>1</td>\n",
       "      <td>Якутск</td>\n",
       "      <td>0</td>\n",
       "      <td>1</td>\n",
       "    </tr>\n",
       "    <tr>\n",
       "      <th>2</th>\n",
       "      <td>Адыгея ТЦ \"Мега\"</td>\n",
       "      <td>2</td>\n",
       "      <td>Краснодар</td>\n",
       "      <td>0</td>\n",
       "      <td>1</td>\n",
       "    </tr>\n",
       "    <tr>\n",
       "      <th>3</th>\n",
       "      <td>Балашиха ТРК \"Октябрь-Киномир\"</td>\n",
       "      <td>3</td>\n",
       "      <td>Балашиха</td>\n",
       "      <td>2</td>\n",
       "      <td>4</td>\n",
       "    </tr>\n",
       "    <tr>\n",
       "      <th>4</th>\n",
       "      <td>Волжский ТЦ \"Волга Молл\"</td>\n",
       "      <td>4</td>\n",
       "      <td>Волжский</td>\n",
       "      <td>0</td>\n",
       "      <td>1</td>\n",
       "    </tr>\n",
       "  </tbody>\n",
       "</table>\n",
       "</div>"
      ],
      "text/plain": [
       "                        shop_name  shop_id       city  moscow_district  \\\n",
       "0   !Якутск Орджоникидзе, 56 фран        0     Якутск                0   \n",
       "1   !Якутск ТЦ \"Центральный\" фран        1     Якутск                0   \n",
       "2                Адыгея ТЦ \"Мега\"        2  Краснодар                0   \n",
       "3  Балашиха ТРК \"Октябрь-Киномир\"        3   Балашиха                2   \n",
       "4        Волжский ТЦ \"Волга Молл\"        4   Волжский                0   \n",
       "\n",
       "   shop_type  \n",
       "0          5  \n",
       "1          1  \n",
       "2          1  \n",
       "3          4  \n",
       "4          1  "
      ]
     },
     "execution_count": 28,
     "metadata": {},
     "output_type": "execute_result"
    }
   ],
   "source": [
    "def add_global_category(col):\n",
    "    cat = col.split(' ')\n",
    "    if cat[0] == 'Игровые':\n",
    "        return 'Игровые консоли'\n",
    "    if cat[0] == 'Карты':\n",
    "        return 'Карты оплаты'\n",
    "    if cat[0] == 'Чистые':\n",
    "        return 'Чистые носители'\n",
    "    if cat[0] == 'Элементы':\n",
    "        return 'Элементы питания'\n",
    "    if cat[0] == 'Доставка':\n",
    "        return 'Доставка товара'\n",
    "    return cat[0]\n",
    "\n",
    "def add_platform(col):\n",
    "    platform_list = ['PS', 'XBOX', 'PC', 'Android', 'MAC', 'Windows', '1С', 'Blu-Ray',\n",
    "                    'CD', 'DVD', 'MP3']\n",
    "    for platform in platform_list:\n",
    "        if platform in col:\n",
    "            return platform\n",
    "    return 'None'\n",
    "\n",
    "def add_digital(col):\n",
    "    if 'Цифра' in col:\n",
    "        return 1\n",
    "    return 0\n",
    "\n",
    "item_categories['global_category'] = item_categories.item_category_name.apply(add_global_category)\n",
    "item_categories['platform'] = item_categories.item_category_name.apply(add_platform)\n",
    "# item_categories['is_digital'] = item_categories.item_category_name.apply(add_digital)\n",
    "\n",
    "item_categories.head()"
   ]
  },
  {
   "cell_type": "code",
   "execution_count": 29,
   "metadata": {},
   "outputs": [
    {
     "data": {
      "text/html": [
       "<div>\n",
       "<style scoped>\n",
       "    .dataframe tbody tr th:only-of-type {\n",
       "        vertical-align: middle;\n",
       "    }\n",
       "\n",
       "    .dataframe tbody tr th {\n",
       "        vertical-align: top;\n",
       "    }\n",
       "\n",
       "    .dataframe thead th {\n",
       "        text-align: right;\n",
       "    }\n",
       "</style>\n",
       "<table border=\"1\" class=\"dataframe\">\n",
       "  <thead>\n",
       "    <tr style=\"text-align: right;\">\n",
       "      <th></th>\n",
       "      <th>item_category_name</th>\n",
       "      <th>item_category_id</th>\n",
       "      <th>global_category</th>\n",
       "      <th>platform</th>\n",
       "    </tr>\n",
       "  </thead>\n",
       "  <tbody>\n",
       "    <tr>\n",
       "      <th>0</th>\n",
       "      <td>PC - Гарнитуры/Наушники</td>\n",
       "      <td>0</td>\n",
       "      <td>PC</td>\n",
       "      <td>PC</td>\n",
       "    </tr>\n",
       "    <tr>\n",
       "      <th>1</th>\n",
       "      <td>Аксессуары - PS2</td>\n",
       "      <td>1</td>\n",
       "      <td>Аксессуары</td>\n",
       "      <td>PS</td>\n",
       "    </tr>\n",
       "    <tr>\n",
       "      <th>2</th>\n",
       "      <td>Аксессуары - PS3</td>\n",
       "      <td>2</td>\n",
       "      <td>Аксессуары</td>\n",
       "      <td>PS</td>\n",
       "    </tr>\n",
       "    <tr>\n",
       "      <th>3</th>\n",
       "      <td>Аксессуары - PS4</td>\n",
       "      <td>3</td>\n",
       "      <td>Аксессуары</td>\n",
       "      <td>PS</td>\n",
       "    </tr>\n",
       "    <tr>\n",
       "      <th>4</th>\n",
       "      <td>Аксессуары - PSP</td>\n",
       "      <td>4</td>\n",
       "      <td>Аксессуары</td>\n",
       "      <td>PS</td>\n",
       "    </tr>\n",
       "  </tbody>\n",
       "</table>\n",
       "</div>"
      ],
      "text/plain": [
       "        item_category_name  item_category_id global_category platform\n",
       "0  PC - Гарнитуры/Наушники                 0              PC       PC\n",
       "1         Аксессуары - PS2                 1      Аксессуары       PS\n",
       "2         Аксессуары - PS3                 2      Аксессуары       PS\n",
       "3         Аксессуары - PS4                 3      Аксессуары       PS\n",
       "4         Аксессуары - PSP                 4      Аксессуары       PS"
      ]
     },
     "execution_count": 29,
     "metadata": {},
     "output_type": "execute_result"
    }
   ],
   "source": []
  },
  {
   "cell_type": "markdown",
   "metadata": {},
   "source": [
    "# Add data from other datasets to train and test datasets"
   ]
  },
  {
   "cell_type": "markdown",
   "metadata": {},
   "source": [
    "Train dataset"
   ]
  },
  {
   "cell_type": "code",
   "execution_count": 30,
   "metadata": {
    "execution": {
     "iopub.execute_input": "2021-06-09T15:39:49.897929Z",
     "iopub.status.busy": "2021-06-09T15:39:49.897616Z",
     "iopub.status.idle": "2021-06-09T15:39:56.127250Z",
     "shell.execute_reply": "2021-06-09T15:39:56.126125Z",
     "shell.execute_reply.started": "2021-06-09T15:39:49.897899Z"
    },
    "scrolled": false
   },
   "outputs": [
    {
     "data": {
      "text/html": [
       "<div>\n",
       "<style scoped>\n",
       "    .dataframe tbody tr th:only-of-type {\n",
       "        vertical-align: middle;\n",
       "    }\n",
       "\n",
       "    .dataframe tbody tr th {\n",
       "        vertical-align: top;\n",
       "    }\n",
       "\n",
       "    .dataframe thead th {\n",
       "        text-align: right;\n",
       "    }\n",
       "</style>\n",
       "<table border=\"1\" class=\"dataframe\">\n",
       "  <thead>\n",
       "    <tr style=\"text-align: right;\">\n",
       "      <th></th>\n",
       "      <th>shop_id</th>\n",
       "      <th>item_id</th>\n",
       "      <th>date_block_num</th>\n",
       "      <th>item_cnt_month</th>\n",
       "      <th>item_price</th>\n",
       "      <th>item_name</th>\n",
       "      <th>item_category_id</th>\n",
       "      <th>item_category_name</th>\n",
       "      <th>global_category</th>\n",
       "      <th>platform</th>\n",
       "      <th>shop_name</th>\n",
       "      <th>city</th>\n",
       "      <th>moscow_district</th>\n",
       "      <th>shop_type</th>\n",
       "      <th>month</th>\n",
       "      <th>season</th>\n",
       "    </tr>\n",
       "  </thead>\n",
       "  <tbody>\n",
       "    <tr>\n",
       "      <th>0</th>\n",
       "      <td>2</td>\n",
       "      <td>19</td>\n",
       "      <td>0</td>\n",
       "      <td>0.0</td>\n",
       "      <td>NaN</td>\n",
       "      <td>/ЗОЛОТАЯ КОЛЛЕКЦИЯ м/ф-72</td>\n",
       "      <td>40</td>\n",
       "      <td>Кино - DVD</td>\n",
       "      <td>Кино</td>\n",
       "      <td>DVD</td>\n",
       "      <td>Адыгея ТЦ \"Мега\"</td>\n",
       "      <td>Краснодар</td>\n",
       "      <td>0</td>\n",
       "      <td>1</td>\n",
       "      <td>1</td>\n",
       "      <td>winter</td>\n",
       "    </tr>\n",
       "    <tr>\n",
       "      <th>1</th>\n",
       "      <td>2</td>\n",
       "      <td>27</td>\n",
       "      <td>0</td>\n",
       "      <td>1.0</td>\n",
       "      <td>2499.0</td>\n",
       "      <td>007 Legends [PS3, русская версия]</td>\n",
       "      <td>19</td>\n",
       "      <td>Игры - PS3</td>\n",
       "      <td>Игры</td>\n",
       "      <td>PS</td>\n",
       "      <td>Адыгея ТЦ \"Мега\"</td>\n",
       "      <td>Краснодар</td>\n",
       "      <td>0</td>\n",
       "      <td>1</td>\n",
       "      <td>1</td>\n",
       "      <td>winter</td>\n",
       "    </tr>\n",
       "    <tr>\n",
       "      <th>2</th>\n",
       "      <td>2</td>\n",
       "      <td>28</td>\n",
       "      <td>0</td>\n",
       "      <td>0.0</td>\n",
       "      <td>NaN</td>\n",
       "      <td>007 Legends [PС, Jewel, русская версия]</td>\n",
       "      <td>30</td>\n",
       "      <td>Игры PC - Стандартные издания</td>\n",
       "      <td>Игры</td>\n",
       "      <td>PC</td>\n",
       "      <td>Адыгея ТЦ \"Мега\"</td>\n",
       "      <td>Краснодар</td>\n",
       "      <td>0</td>\n",
       "      <td>1</td>\n",
       "      <td>1</td>\n",
       "      <td>winter</td>\n",
       "    </tr>\n",
       "    <tr>\n",
       "      <th>3</th>\n",
       "      <td>2</td>\n",
       "      <td>29</td>\n",
       "      <td>0</td>\n",
       "      <td>0.0</td>\n",
       "      <td>NaN</td>\n",
       "      <td>007 Legends [Xbox 360, русская версия]</td>\n",
       "      <td>23</td>\n",
       "      <td>Игры - XBOX 360</td>\n",
       "      <td>Игры</td>\n",
       "      <td>XBOX</td>\n",
       "      <td>Адыгея ТЦ \"Мега\"</td>\n",
       "      <td>Краснодар</td>\n",
       "      <td>0</td>\n",
       "      <td>1</td>\n",
       "      <td>1</td>\n",
       "      <td>winter</td>\n",
       "    </tr>\n",
       "    <tr>\n",
       "      <th>4</th>\n",
       "      <td>2</td>\n",
       "      <td>32</td>\n",
       "      <td>0</td>\n",
       "      <td>0.0</td>\n",
       "      <td>NaN</td>\n",
       "      <td>1+1</td>\n",
       "      <td>40</td>\n",
       "      <td>Кино - DVD</td>\n",
       "      <td>Кино</td>\n",
       "      <td>DVD</td>\n",
       "      <td>Адыгея ТЦ \"Мега\"</td>\n",
       "      <td>Краснодар</td>\n",
       "      <td>0</td>\n",
       "      <td>1</td>\n",
       "      <td>1</td>\n",
       "      <td>winter</td>\n",
       "    </tr>\n",
       "  </tbody>\n",
       "</table>\n",
       "</div>"
      ],
      "text/plain": [
       "   shop_id  item_id  date_block_num  item_cnt_month  item_price  \\\n",
       "0        2       19               0             0.0         NaN   \n",
       "1        2       27               0             1.0      2499.0   \n",
       "2        2       28               0             0.0         NaN   \n",
       "3        2       29               0             0.0         NaN   \n",
       "4        2       32               0             0.0         NaN   \n",
       "\n",
       "                                 item_name  item_category_id  \\\n",
       "0                /ЗОЛОТАЯ КОЛЛЕКЦИЯ м/ф-72                40   \n",
       "1        007 Legends [PS3, русская версия]                19   \n",
       "2  007 Legends [PС, Jewel, русская версия]                30   \n",
       "3   007 Legends [Xbox 360, русская версия]                23   \n",
       "4                                      1+1                40   \n",
       "\n",
       "              item_category_name global_category platform         shop_name  \\\n",
       "0                     Кино - DVD            Кино      DVD  Адыгея ТЦ \"Мега\"   \n",
       "1                     Игры - PS3            Игры       PS  Адыгея ТЦ \"Мега\"   \n",
       "2  Игры PC - Стандартные издания            Игры       PC  Адыгея ТЦ \"Мега\"   \n",
       "3                Игры - XBOX 360            Игры     XBOX  Адыгея ТЦ \"Мега\"   \n",
       "4                     Кино - DVD            Кино      DVD  Адыгея ТЦ \"Мега\"   \n",
       "\n",
       "        city  moscow_district  shop_type  month  season  \n",
       "0  Краснодар                0          1      1  winter  \n",
       "1  Краснодар                0          1      1  winter  \n",
       "2  Краснодар                0          1      1  winter  \n",
       "3  Краснодар                0          1      1  winter  \n",
       "4  Краснодар                0          1      1  winter  "
      ]
     },
     "execution_count": 30,
     "metadata": {},
     "output_type": "execute_result"
    }
   ],
   "source": [
    "sales_train2 = sales_train2.join(items.set_index('item_id'), on='item_id')\n",
    "sales_train2 = sales_train2.join(item_categories.set_index('item_category_id'), on='item_category_id')\n",
    "sales_train2 = sales_train2.join(shops.set_index('shop_id'), on='shop_id')\n",
    "sales_train2 = sales_train2.join(date_blocks.set_index('date_block_num'), on='date_block_num')\n",
    "\n",
    "sales_train2.head()"
   ]
  },
  {
   "cell_type": "markdown",
   "metadata": {},
   "source": [
    "Test dataset"
   ]
  },
  {
   "cell_type": "code",
   "execution_count": 31,
   "metadata": {
    "execution": {
     "iopub.execute_input": "2021-06-09T15:39:56.129267Z",
     "iopub.status.busy": "2021-06-09T15:39:56.128810Z",
     "iopub.status.idle": "2021-06-09T15:39:56.203615Z",
     "shell.execute_reply": "2021-06-09T15:39:56.202471Z",
     "shell.execute_reply.started": "2021-06-09T15:39:56.129221Z"
    },
    "scrolled": false
   },
   "outputs": [
    {
     "data": {
      "text/html": [
       "<div>\n",
       "<style scoped>\n",
       "    .dataframe tbody tr th:only-of-type {\n",
       "        vertical-align: middle;\n",
       "    }\n",
       "\n",
       "    .dataframe tbody tr th {\n",
       "        vertical-align: top;\n",
       "    }\n",
       "\n",
       "    .dataframe thead th {\n",
       "        text-align: right;\n",
       "    }\n",
       "</style>\n",
       "<table border=\"1\" class=\"dataframe\">\n",
       "  <thead>\n",
       "    <tr style=\"text-align: right;\">\n",
       "      <th></th>\n",
       "      <th>shop_id</th>\n",
       "      <th>item_id</th>\n",
       "      <th>date_block_num</th>\n",
       "      <th>item_name</th>\n",
       "      <th>item_category_id</th>\n",
       "      <th>item_category_name</th>\n",
       "      <th>global_category</th>\n",
       "      <th>platform</th>\n",
       "      <th>shop_name</th>\n",
       "      <th>city</th>\n",
       "      <th>moscow_district</th>\n",
       "      <th>shop_type</th>\n",
       "      <th>month</th>\n",
       "      <th>season</th>\n",
       "    </tr>\n",
       "  </thead>\n",
       "  <tbody>\n",
       "    <tr>\n",
       "      <th>0</th>\n",
       "      <td>5</td>\n",
       "      <td>5037</td>\n",
       "      <td>34</td>\n",
       "      <td>NHL 15 [PS3, русские субтитры]</td>\n",
       "      <td>19</td>\n",
       "      <td>Игры - PS3</td>\n",
       "      <td>Игры</td>\n",
       "      <td>PS</td>\n",
       "      <td>Вологда ТРЦ \"Мармелад\"</td>\n",
       "      <td>Вологда</td>\n",
       "      <td>0</td>\n",
       "      <td>2</td>\n",
       "      <td>11</td>\n",
       "      <td>autumn</td>\n",
       "    </tr>\n",
       "    <tr>\n",
       "      <th>1</th>\n",
       "      <td>5</td>\n",
       "      <td>5320</td>\n",
       "      <td>34</td>\n",
       "      <td>ONE DIRECTION  Made In The A.M.</td>\n",
       "      <td>55</td>\n",
       "      <td>Музыка - CD локального производства</td>\n",
       "      <td>Музыка</td>\n",
       "      <td>CD</td>\n",
       "      <td>Вологда ТРЦ \"Мармелад\"</td>\n",
       "      <td>Вологда</td>\n",
       "      <td>0</td>\n",
       "      <td>2</td>\n",
       "      <td>11</td>\n",
       "      <td>autumn</td>\n",
       "    </tr>\n",
       "    <tr>\n",
       "      <th>2</th>\n",
       "      <td>5</td>\n",
       "      <td>5233</td>\n",
       "      <td>34</td>\n",
       "      <td>Need for Speed Rivals (Essentials) [PS3, русск...</td>\n",
       "      <td>19</td>\n",
       "      <td>Игры - PS3</td>\n",
       "      <td>Игры</td>\n",
       "      <td>PS</td>\n",
       "      <td>Вологда ТРЦ \"Мармелад\"</td>\n",
       "      <td>Вологда</td>\n",
       "      <td>0</td>\n",
       "      <td>2</td>\n",
       "      <td>11</td>\n",
       "      <td>autumn</td>\n",
       "    </tr>\n",
       "    <tr>\n",
       "      <th>3</th>\n",
       "      <td>5</td>\n",
       "      <td>5232</td>\n",
       "      <td>34</td>\n",
       "      <td>Need for Speed Rivals (Classics) [Xbox 360, ру...</td>\n",
       "      <td>23</td>\n",
       "      <td>Игры - XBOX 360</td>\n",
       "      <td>Игры</td>\n",
       "      <td>XBOX</td>\n",
       "      <td>Вологда ТРЦ \"Мармелад\"</td>\n",
       "      <td>Вологда</td>\n",
       "      <td>0</td>\n",
       "      <td>2</td>\n",
       "      <td>11</td>\n",
       "      <td>autumn</td>\n",
       "    </tr>\n",
       "    <tr>\n",
       "      <th>4</th>\n",
       "      <td>5</td>\n",
       "      <td>5268</td>\n",
       "      <td>34</td>\n",
       "      <td>Need for Speed [PS4, русская версия]</td>\n",
       "      <td>20</td>\n",
       "      <td>Игры - PS4</td>\n",
       "      <td>Игры</td>\n",
       "      <td>PS</td>\n",
       "      <td>Вологда ТРЦ \"Мармелад\"</td>\n",
       "      <td>Вологда</td>\n",
       "      <td>0</td>\n",
       "      <td>2</td>\n",
       "      <td>11</td>\n",
       "      <td>autumn</td>\n",
       "    </tr>\n",
       "  </tbody>\n",
       "</table>\n",
       "</div>"
      ],
      "text/plain": [
       "   shop_id  item_id  date_block_num  \\\n",
       "0        5     5037              34   \n",
       "1        5     5320              34   \n",
       "2        5     5233              34   \n",
       "3        5     5232              34   \n",
       "4        5     5268              34   \n",
       "\n",
       "                                           item_name  item_category_id  \\\n",
       "0                     NHL 15 [PS3, русские субтитры]                19   \n",
       "1                    ONE DIRECTION  Made In The A.M.                55   \n",
       "2  Need for Speed Rivals (Essentials) [PS3, русск...                19   \n",
       "3  Need for Speed Rivals (Classics) [Xbox 360, ру...                23   \n",
       "4               Need for Speed [PS4, русская версия]                20   \n",
       "\n",
       "                    item_category_name global_category platform  \\\n",
       "0                           Игры - PS3            Игры       PS   \n",
       "1  Музыка - CD локального производства          Музыка       CD   \n",
       "2                           Игры - PS3            Игры       PS   \n",
       "3                      Игры - XBOX 360            Игры     XBOX   \n",
       "4                           Игры - PS4            Игры       PS   \n",
       "\n",
       "                shop_name     city  moscow_district  shop_type  month  season  \n",
       "0  Вологда ТРЦ \"Мармелад\"  Вологда                0          2     11  autumn  \n",
       "1  Вологда ТРЦ \"Мармелад\"  Вологда                0          2     11  autumn  \n",
       "2  Вологда ТРЦ \"Мармелад\"  Вологда                0          2     11  autumn  \n",
       "3  Вологда ТРЦ \"Мармелад\"  Вологда                0          2     11  autumn  \n",
       "4  Вологда ТРЦ \"Мармелад\"  Вологда                0          2     11  autumn  "
      ]
     },
     "execution_count": 31,
     "metadata": {},
     "output_type": "execute_result"
    }
   ],
   "source": [
    "sales_test2 = sales_test.join(items.set_index('item_id'), on='item_id')\n",
    "sales_test2 = sales_test2.join(item_categories.set_index('item_category_id'), on='item_category_id')\n",
    "sales_test2 = sales_test2.join(shops.set_index('shop_id'), on='shop_id')\n",
    "sales_test2['date_block_num'] = 34\n",
    "sales_test2.drop('ID', axis=1, inplace=True)\n",
    "sales_test2 = sales_test2.join(date_blocks.set_index('date_block_num'), on='date_block_num')\n",
    "\n",
    "sales_test2.head()"
   ]
  },
  {
   "cell_type": "markdown",
   "metadata": {},
   "source": [
    "# Create mean encoded features"
   ]
  },
  {
   "cell_type": "code",
   "execution_count": 32,
   "metadata": {
    "scrolled": true
   },
   "outputs": [
    {
     "name": "stdout",
     "output_type": "stream",
     "text": [
      "CPU times: user 3.92 s, sys: 757 ms, total: 4.68 s\n",
      "Wall time: 4.67 s\n"
     ]
    }
   ],
   "source": [
    "%%time\n",
    "\n",
    "def create_gr_feats(data):\n",
    "    # create aggregation feats for numeric features based on categorical ones\n",
    "    for cat_col in ['shop_id', 'item_category_id', 'item_id']: # 'city', 'global_category'\n",
    "        # create_col_with_min_freq(data, cat_col, 15,)\n",
    "        for num_col in ['item_cnt_month', 'item_price']:\n",
    "            for n, f in [('mean', np.mean)]:\n",
    "                data[n + '_' + num_col + \n",
    "                     '_by_' + cat_col] = sales_train2.groupby(['date_block_num', \n",
    "                                                               cat_col])[num_col].transform(f).astype(np.float16)\n",
    "                \n",
    "create_gr_feats(sales_train2)\n",
    "create_gr_feats(sales_test2)"
   ]
  },
  {
   "cell_type": "markdown",
   "metadata": {},
   "source": [
    "# Add item_price features"
   ]
  },
  {
   "cell_type": "code",
   "execution_count": 33,
   "metadata": {
    "scrolled": true
   },
   "outputs": [],
   "source": [
    "# %%time\n",
    "\n",
    "# def add_int_part(col):\n",
    "#     if np.isnan(col):\n",
    "#         return np.nan\n",
    "#     return divmod(col, 100)[0]\n",
    "\n",
    "# def add_fract_part(col):\n",
    "#     if np.isnan(col):\n",
    "#         return np.nan\n",
    "#     return divmod(col, 100)[1]\n",
    "\n",
    "# def create_price_features(data):\n",
    "#     data['price_int'] = data.item_price.apply(add_int_part) \n",
    "#     data['price_fract'] = data.item_price.apply(add_fract_part) \n",
    "\n",
    "# create_price_features(sales_train2)\n",
    "# create_price_features(sales_test2)   \n",
    "\n",
    "# sales_train2.head()"
   ]
  },
  {
   "cell_type": "markdown",
   "metadata": {},
   "source": [
    "# Add mean encoded features from previous months"
   ]
  },
  {
   "cell_type": "code",
   "execution_count": 34,
   "metadata": {
    "execution": {
     "iopub.execute_input": "2021-06-09T15:39:56.225507Z",
     "iopub.status.busy": "2021-06-09T15:39:56.225187Z",
     "iopub.status.idle": "2021-06-09T15:39:56.241377Z",
     "shell.execute_reply": "2021-06-09T15:39:56.240224Z",
     "shell.execute_reply.started": "2021-06-09T15:39:56.225478Z"
    },
    "scrolled": true
   },
   "outputs": [
    {
     "name": "stdout",
     "output_type": "stream",
     "text": [
      "CPU times: user 21.7 s, sys: 6.65 s, total: 28.3 s\n",
      "Wall time: 27.9 s\n"
     ]
    }
   ],
   "source": [
    "%%time\n",
    "\n",
    "mean_cols = [c for c in sales_train2.columns if c.startswith('mean_item_cnt', 0, 13)] + ['item_cnt_month']\n",
    "mean_cols += [c for c in sales_train2.columns if c.startswith('mean_item_price', 0, 15)]\n",
    "\n",
    "def create_time_features():\n",
    "    global sales_train2, sales_test2\n",
    "    win = [i for i in range(1, 4)]\n",
    "    for w in win:\n",
    "        tmp = sales_train2[['date_block_num', 'shop_id', 'item_id'] + mean_cols].copy()\n",
    "        tmp.date_block_num = tmp.date_block_num + w\n",
    "        for c in mean_cols:\n",
    "            tmp.rename({c: c + str(w)}, axis=1, inplace=True)\n",
    "\n",
    "        sales_train2 = sales_train2.join(tmp.set_index(['date_block_num', 'shop_id', 'item_id']), \n",
    "                                         on=['date_block_num', 'shop_id', 'item_id'])\n",
    "        sales_test2 = sales_test2.join(tmp.set_index(['date_block_num', 'shop_id', 'item_id']), \n",
    "                                       on=['date_block_num', 'shop_id', 'item_id'])\n",
    "        del tmp\n",
    "        gc.collect()\n",
    "\n",
    "# drop all mean encoded columns, except item_cnt_month\n",
    "create_time_features()\n",
    "mean_cols.remove('item_cnt_month')\n",
    "sales_train2.drop(mean_cols, axis=1, inplace=True)\n",
    "sales_test2.drop(mean_cols, axis=1, inplace=True)"
   ]
  },
  {
   "cell_type": "markdown",
   "metadata": {},
   "source": [
    "# Add mean lagged revenue by shop, item_id and item_category"
   ]
  },
  {
   "cell_type": "code",
   "execution_count": 35,
   "metadata": {
    "scrolled": true
   },
   "outputs": [],
   "source": [
    "# lagged_counts = [c for c in sales_train2.columns if c.startswith('mean_item_cnt_month', 0, 19)] \n",
    "# lagged_prices = [c for c in sales_train2.columns if c.startswith('mean_item_price', 0, 15)]\n",
    "\n",
    "# for i in range(len(lagged_counts)):\n",
    "#     suffix = lagged_counts[i][len('mean_item_cnt_month'):]\n",
    "#     sales_train2[f'mean_revenue{suffix}'] = sales_train2[lagged_counts[i]]*sales_train2[lagged_prices[i]]\n",
    "#     sales_test2[f'mean_revenue{suffix}'] = sales_train2[lagged_counts[i]]*sales_train2[lagged_prices[i]]"
   ]
  },
  {
   "cell_type": "markdown",
   "metadata": {},
   "source": [
    "# Add time statistics (mean, mode, min, max, std)"
   ]
  },
  {
   "cell_type": "code",
   "execution_count": 36,
   "metadata": {
    "scrolled": true
   },
   "outputs": [
    {
     "name": "stderr",
     "output_type": "stream",
     "text": [
      "<ipython-input-36-6fac0e3badd6>:8: RuntimeWarning: All-NaN axis encountered\n",
      "  data[f'{win}_month_min_cnt'] = np.nanmin(tmp, axis=1).astype(np.float16)\n",
      "<ipython-input-36-6fac0e3badd6>:8: RuntimeWarning: All-NaN axis encountered\n",
      "  data[f'{win}_month_min_cnt'] = np.nanmin(tmp, axis=1).astype(np.float16)\n"
     ]
    }
   ],
   "source": [
    "def create_time_statistics(data):\n",
    "    for win in [3]:\n",
    "        cols = get_window(data, win)\n",
    "        tmp = data[cols]\n",
    "        \n",
    "        data[f'{win}_month_mean_cnt'] = tmp.mean(axis=1).astype(np.float16)\n",
    "        data[f'{win}_month_median_cnt'] = tmp.median(axis=1).astype(np.float16)\n",
    "        data[f'{win}_month_min_cnt'] = np.nanmin(tmp, axis=1).astype(np.float16)\n",
    "#         data[f'{win}_month_max_cnt'] = np.nanmax(tmp, axis=1).astype(np.float16)\n",
    "#         data[f'{win}_month_std_cnt'] = tmp.std(axis=1).astype(np.float16)\n",
    "        \n",
    "            \n",
    "def get_window(data, w):\n",
    "    cols = []\n",
    "    col_num = 1\n",
    "    for i in data.columns:\n",
    "        if col_num > w:\n",
    "            break\n",
    "        if i == f'item_cnt_month{col_num}':\n",
    "            cols.append(i)\n",
    "            col_num += 1\n",
    "    return cols\n",
    "\n",
    "create_time_statistics(sales_train2)\n",
    "create_time_statistics(sales_test2)"
   ]
  },
  {
   "cell_type": "markdown",
   "metadata": {},
   "source": [
    "# Drop unnecessary columns and rows"
   ]
  },
  {
   "cell_type": "code",
   "execution_count": 37,
   "metadata": {
    "execution": {
     "iopub.execute_input": "2021-06-09T15:42:26.933328Z",
     "iopub.status.busy": "2021-06-09T15:42:26.932909Z",
     "iopub.status.idle": "2021-06-09T15:42:33.641306Z",
     "shell.execute_reply": "2021-06-09T15:42:33.640251Z",
     "shell.execute_reply.started": "2021-06-09T15:42:26.933296Z"
    }
   },
   "outputs": [],
   "source": [
    "sales_train2.drop(['shop_name', 'item_name', 'item_price', 'item_category_name'], axis=1, inplace=True)\n",
    "sales_test2.drop(['shop_name', 'item_name', 'item_category_name'], axis=1, inplace=True)\n",
    "\n",
    "# drop rows with shop id 20 (small size and aren't presented in the test set)\n",
    "sales_train2 = sales_train2[(sales_train2.shop_id != 20)]\n",
    "\n",
    "# drop rows from first 3 months\n",
    "sales_train2 = sales_train2[sales_train2.date_block_num > 2]"
   ]
  },
  {
   "cell_type": "markdown",
   "metadata": {},
   "source": [
    "# Encode text features with label encoder."
   ]
  },
  {
   "cell_type": "code",
   "execution_count": 38,
   "metadata": {
    "execution": {
     "iopub.execute_input": "2021-06-09T15:42:33.642916Z",
     "iopub.status.busy": "2021-06-09T15:42:33.642613Z",
     "iopub.status.idle": "2021-06-09T15:42:55.992761Z",
     "shell.execute_reply": "2021-06-09T15:42:55.991785Z",
     "shell.execute_reply.started": "2021-06-09T15:42:33.642887Z"
    }
   },
   "outputs": [],
   "source": [
    "from sklearn.preprocessing import LabelEncoder\n",
    "\n",
    "le = LabelEncoder()\n",
    "\n",
    "cols = ['city', 'platform', 'season', 'global_category']\n",
    "sales_train2[cols] = sales_train2[cols].apply(LabelEncoder().fit_transform)\n",
    "sales_test2[cols] = sales_test2[cols].apply(LabelEncoder().fit_transform)"
   ]
  },
  {
   "cell_type": "markdown",
   "metadata": {},
   "source": [
    "Save data to files"
   ]
  },
  {
   "cell_type": "code",
   "execution_count": 39,
   "metadata": {},
   "outputs": [],
   "source": [
    "# sales_train2.to_hdf('sales_train2', key='df')\n",
    "# sales_test2.to_hdf('sales_test2', key='df')"
   ]
  },
  {
   "cell_type": "code",
   "execution_count": 40,
   "metadata": {
    "execution": {
     "iopub.execute_input": "2021-06-09T15:42:58.287080Z",
     "iopub.status.busy": "2021-06-09T15:42:58.286803Z",
     "iopub.status.idle": "2021-06-09T15:42:58.308671Z",
     "shell.execute_reply": "2021-06-09T15:42:58.307651Z",
     "shell.execute_reply.started": "2021-06-09T15:42:58.287053Z"
    },
    "scrolled": true
   },
   "outputs": [
    {
     "data": {
      "text/html": [
       "<div>\n",
       "<style scoped>\n",
       "    .dataframe tbody tr th:only-of-type {\n",
       "        vertical-align: middle;\n",
       "    }\n",
       "\n",
       "    .dataframe tbody tr th {\n",
       "        vertical-align: top;\n",
       "    }\n",
       "\n",
       "    .dataframe thead th {\n",
       "        text-align: right;\n",
       "    }\n",
       "</style>\n",
       "<table border=\"1\" class=\"dataframe\">\n",
       "  <thead>\n",
       "    <tr style=\"text-align: right;\">\n",
       "      <th></th>\n",
       "      <th>shop_id</th>\n",
       "      <th>item_id</th>\n",
       "      <th>date_block_num</th>\n",
       "      <th>item_cnt_month</th>\n",
       "      <th>item_category_id</th>\n",
       "      <th>global_category</th>\n",
       "      <th>platform</th>\n",
       "      <th>city</th>\n",
       "      <th>moscow_district</th>\n",
       "      <th>shop_type</th>\n",
       "      <th>month</th>\n",
       "      <th>season</th>\n",
       "      <th>mean_item_cnt_month_by_shop_id1</th>\n",
       "      <th>mean_item_cnt_month_by_item_category_id1</th>\n",
       "      <th>mean_item_cnt_month_by_item_id1</th>\n",
       "      <th>item_cnt_month1</th>\n",
       "      <th>mean_item_price_by_shop_id1</th>\n",
       "      <th>mean_item_price_by_item_category_id1</th>\n",
       "      <th>mean_item_price_by_item_id1</th>\n",
       "      <th>mean_item_cnt_month_by_shop_id2</th>\n",
       "      <th>mean_item_cnt_month_by_item_category_id2</th>\n",
       "      <th>mean_item_cnt_month_by_item_id2</th>\n",
       "      <th>item_cnt_month2</th>\n",
       "      <th>mean_item_price_by_shop_id2</th>\n",
       "      <th>mean_item_price_by_item_category_id2</th>\n",
       "      <th>mean_item_price_by_item_id2</th>\n",
       "      <th>mean_item_cnt_month_by_shop_id3</th>\n",
       "      <th>mean_item_cnt_month_by_item_category_id3</th>\n",
       "      <th>mean_item_cnt_month_by_item_id3</th>\n",
       "      <th>item_cnt_month3</th>\n",
       "      <th>mean_item_price_by_shop_id3</th>\n",
       "      <th>mean_item_price_by_item_category_id3</th>\n",
       "      <th>mean_item_price_by_item_id3</th>\n",
       "      <th>3_month_mean_cnt</th>\n",
       "      <th>3_month_median_cnt</th>\n",
       "      <th>3_month_min_cnt</th>\n",
       "    </tr>\n",
       "  </thead>\n",
       "  <tbody>\n",
       "    <tr>\n",
       "      <th>1122795</th>\n",
       "      <td>2</td>\n",
       "      <td>27</td>\n",
       "      <td>3</td>\n",
       "      <td>0.0</td>\n",
       "      <td>19</td>\n",
       "      <td>5</td>\n",
       "      <td>9</td>\n",
       "      <td>10</td>\n",
       "      <td>0</td>\n",
       "      <td>1</td>\n",
       "      <td>4</td>\n",
       "      <td>1</td>\n",
       "      <td>0.090698</td>\n",
       "      <td>1.145508</td>\n",
       "      <td>0.086975</td>\n",
       "      <td>0.0</td>\n",
       "      <td>894.0</td>\n",
       "      <td>1486.000</td>\n",
       "      <td>1998.00</td>\n",
       "      <td>0.059753</td>\n",
       "      <td>0.918457</td>\n",
       "      <td>0.065247</td>\n",
       "      <td>0.0</td>\n",
       "      <td>1071.0</td>\n",
       "      <td>1452.000</td>\n",
       "      <td>1998.00</td>\n",
       "      <td>0.141235</td>\n",
       "      <td>0.849609</td>\n",
       "      <td>0.155518</td>\n",
       "      <td>1.0</td>\n",
       "      <td>893.5</td>\n",
       "      <td>1475.000</td>\n",
       "      <td>2324.0</td>\n",
       "      <td>0.333252</td>\n",
       "      <td>0.0</td>\n",
       "      <td>0.0</td>\n",
       "    </tr>\n",
       "    <tr>\n",
       "      <th>1122796</th>\n",
       "      <td>2</td>\n",
       "      <td>28</td>\n",
       "      <td>3</td>\n",
       "      <td>0.0</td>\n",
       "      <td>30</td>\n",
       "      <td>5</td>\n",
       "      <td>8</td>\n",
       "      <td>10</td>\n",
       "      <td>0</td>\n",
       "      <td>1</td>\n",
       "      <td>4</td>\n",
       "      <td>1</td>\n",
       "      <td>0.090698</td>\n",
       "      <td>1.606445</td>\n",
       "      <td>0.152222</td>\n",
       "      <td>0.0</td>\n",
       "      <td>894.0</td>\n",
       "      <td>377.750</td>\n",
       "      <td>398.00</td>\n",
       "      <td>0.059753</td>\n",
       "      <td>1.087891</td>\n",
       "      <td>0.173950</td>\n",
       "      <td>0.0</td>\n",
       "      <td>1071.0</td>\n",
       "      <td>364.250</td>\n",
       "      <td>410.50</td>\n",
       "      <td>0.141235</td>\n",
       "      <td>1.189453</td>\n",
       "      <td>0.177734</td>\n",
       "      <td>0.0</td>\n",
       "      <td>893.5</td>\n",
       "      <td>369.500</td>\n",
       "      <td>549.0</td>\n",
       "      <td>0.000000</td>\n",
       "      <td>0.0</td>\n",
       "      <td>0.0</td>\n",
       "    </tr>\n",
       "    <tr>\n",
       "      <th>1122797</th>\n",
       "      <td>2</td>\n",
       "      <td>30</td>\n",
       "      <td>3</td>\n",
       "      <td>0.0</td>\n",
       "      <td>40</td>\n",
       "      <td>7</td>\n",
       "      <td>4</td>\n",
       "      <td>10</td>\n",
       "      <td>0</td>\n",
       "      <td>1</td>\n",
       "      <td>4</td>\n",
       "      <td>1</td>\n",
       "      <td>0.090698</td>\n",
       "      <td>0.310547</td>\n",
       "      <td>11.046875</td>\n",
       "      <td>1.0</td>\n",
       "      <td>894.0</td>\n",
       "      <td>222.875</td>\n",
       "      <td>388.75</td>\n",
       "      <td>0.059753</td>\n",
       "      <td>0.287598</td>\n",
       "      <td>18.718750</td>\n",
       "      <td>0.0</td>\n",
       "      <td>1071.0</td>\n",
       "      <td>215.875</td>\n",
       "      <td>382.75</td>\n",
       "      <td>NaN</td>\n",
       "      <td>NaN</td>\n",
       "      <td>NaN</td>\n",
       "      <td>NaN</td>\n",
       "      <td>NaN</td>\n",
       "      <td>NaN</td>\n",
       "      <td>NaN</td>\n",
       "      <td>0.500000</td>\n",
       "      <td>0.5</td>\n",
       "      <td>0.0</td>\n",
       "    </tr>\n",
       "    <tr>\n",
       "      <th>1122798</th>\n",
       "      <td>2</td>\n",
       "      <td>31</td>\n",
       "      <td>3</td>\n",
       "      <td>1.0</td>\n",
       "      <td>37</td>\n",
       "      <td>7</td>\n",
       "      <td>2</td>\n",
       "      <td>10</td>\n",
       "      <td>0</td>\n",
       "      <td>1</td>\n",
       "      <td>4</td>\n",
       "      <td>1</td>\n",
       "      <td>0.090698</td>\n",
       "      <td>0.198975</td>\n",
       "      <td>4.761719</td>\n",
       "      <td>1.0</td>\n",
       "      <td>894.0</td>\n",
       "      <td>474.250</td>\n",
       "      <td>679.00</td>\n",
       "      <td>0.059753</td>\n",
       "      <td>0.199829</td>\n",
       "      <td>13.648438</td>\n",
       "      <td>4.0</td>\n",
       "      <td>1071.0</td>\n",
       "      <td>460.000</td>\n",
       "      <td>659.00</td>\n",
       "      <td>NaN</td>\n",
       "      <td>NaN</td>\n",
       "      <td>NaN</td>\n",
       "      <td>NaN</td>\n",
       "      <td>NaN</td>\n",
       "      <td>NaN</td>\n",
       "      <td>NaN</td>\n",
       "      <td>2.500000</td>\n",
       "      <td>2.5</td>\n",
       "      <td>1.0</td>\n",
       "    </tr>\n",
       "    <tr>\n",
       "      <th>1122799</th>\n",
       "      <td>2</td>\n",
       "      <td>32</td>\n",
       "      <td>3</td>\n",
       "      <td>0.0</td>\n",
       "      <td>40</td>\n",
       "      <td>7</td>\n",
       "      <td>4</td>\n",
       "      <td>10</td>\n",
       "      <td>0</td>\n",
       "      <td>1</td>\n",
       "      <td>4</td>\n",
       "      <td>1</td>\n",
       "      <td>0.090698</td>\n",
       "      <td>0.310547</td>\n",
       "      <td>3.869141</td>\n",
       "      <td>0.0</td>\n",
       "      <td>894.0</td>\n",
       "      <td>222.875</td>\n",
       "      <td>339.25</td>\n",
       "      <td>0.059753</td>\n",
       "      <td>0.287598</td>\n",
       "      <td>4.523438</td>\n",
       "      <td>0.0</td>\n",
       "      <td>1071.0</td>\n",
       "      <td>215.875</td>\n",
       "      <td>335.25</td>\n",
       "      <td>0.141235</td>\n",
       "      <td>0.310791</td>\n",
       "      <td>6.644531</td>\n",
       "      <td>0.0</td>\n",
       "      <td>893.5</td>\n",
       "      <td>213.875</td>\n",
       "      <td>335.0</td>\n",
       "      <td>0.000000</td>\n",
       "      <td>0.0</td>\n",
       "      <td>0.0</td>\n",
       "    </tr>\n",
       "  </tbody>\n",
       "</table>\n",
       "</div>"
      ],
      "text/plain": [
       "         shop_id  item_id  date_block_num  item_cnt_month  item_category_id  \\\n",
       "1122795        2       27               3             0.0                19   \n",
       "1122796        2       28               3             0.0                30   \n",
       "1122797        2       30               3             0.0                40   \n",
       "1122798        2       31               3             1.0                37   \n",
       "1122799        2       32               3             0.0                40   \n",
       "\n",
       "         global_category  platform  city  moscow_district  shop_type  month  \\\n",
       "1122795                5         9    10                0          1      4   \n",
       "1122796                5         8    10                0          1      4   \n",
       "1122797                7         4    10                0          1      4   \n",
       "1122798                7         2    10                0          1      4   \n",
       "1122799                7         4    10                0          1      4   \n",
       "\n",
       "         season  mean_item_cnt_month_by_shop_id1  \\\n",
       "1122795       1                         0.090698   \n",
       "1122796       1                         0.090698   \n",
       "1122797       1                         0.090698   \n",
       "1122798       1                         0.090698   \n",
       "1122799       1                         0.090698   \n",
       "\n",
       "         mean_item_cnt_month_by_item_category_id1  \\\n",
       "1122795                                  1.145508   \n",
       "1122796                                  1.606445   \n",
       "1122797                                  0.310547   \n",
       "1122798                                  0.198975   \n",
       "1122799                                  0.310547   \n",
       "\n",
       "         mean_item_cnt_month_by_item_id1  item_cnt_month1  \\\n",
       "1122795                         0.086975              0.0   \n",
       "1122796                         0.152222              0.0   \n",
       "1122797                        11.046875              1.0   \n",
       "1122798                         4.761719              1.0   \n",
       "1122799                         3.869141              0.0   \n",
       "\n",
       "         mean_item_price_by_shop_id1  mean_item_price_by_item_category_id1  \\\n",
       "1122795                        894.0                              1486.000   \n",
       "1122796                        894.0                               377.750   \n",
       "1122797                        894.0                               222.875   \n",
       "1122798                        894.0                               474.250   \n",
       "1122799                        894.0                               222.875   \n",
       "\n",
       "         mean_item_price_by_item_id1  mean_item_cnt_month_by_shop_id2  \\\n",
       "1122795                      1998.00                         0.059753   \n",
       "1122796                       398.00                         0.059753   \n",
       "1122797                       388.75                         0.059753   \n",
       "1122798                       679.00                         0.059753   \n",
       "1122799                       339.25                         0.059753   \n",
       "\n",
       "         mean_item_cnt_month_by_item_category_id2  \\\n",
       "1122795                                  0.918457   \n",
       "1122796                                  1.087891   \n",
       "1122797                                  0.287598   \n",
       "1122798                                  0.199829   \n",
       "1122799                                  0.287598   \n",
       "\n",
       "         mean_item_cnt_month_by_item_id2  item_cnt_month2  \\\n",
       "1122795                         0.065247              0.0   \n",
       "1122796                         0.173950              0.0   \n",
       "1122797                        18.718750              0.0   \n",
       "1122798                        13.648438              4.0   \n",
       "1122799                         4.523438              0.0   \n",
       "\n",
       "         mean_item_price_by_shop_id2  mean_item_price_by_item_category_id2  \\\n",
       "1122795                       1071.0                              1452.000   \n",
       "1122796                       1071.0                               364.250   \n",
       "1122797                       1071.0                               215.875   \n",
       "1122798                       1071.0                               460.000   \n",
       "1122799                       1071.0                               215.875   \n",
       "\n",
       "         mean_item_price_by_item_id2  mean_item_cnt_month_by_shop_id3  \\\n",
       "1122795                      1998.00                         0.141235   \n",
       "1122796                       410.50                         0.141235   \n",
       "1122797                       382.75                              NaN   \n",
       "1122798                       659.00                              NaN   \n",
       "1122799                       335.25                         0.141235   \n",
       "\n",
       "         mean_item_cnt_month_by_item_category_id3  \\\n",
       "1122795                                  0.849609   \n",
       "1122796                                  1.189453   \n",
       "1122797                                       NaN   \n",
       "1122798                                       NaN   \n",
       "1122799                                  0.310791   \n",
       "\n",
       "         mean_item_cnt_month_by_item_id3  item_cnt_month3  \\\n",
       "1122795                         0.155518              1.0   \n",
       "1122796                         0.177734              0.0   \n",
       "1122797                              NaN              NaN   \n",
       "1122798                              NaN              NaN   \n",
       "1122799                         6.644531              0.0   \n",
       "\n",
       "         mean_item_price_by_shop_id3  mean_item_price_by_item_category_id3  \\\n",
       "1122795                        893.5                              1475.000   \n",
       "1122796                        893.5                               369.500   \n",
       "1122797                          NaN                                   NaN   \n",
       "1122798                          NaN                                   NaN   \n",
       "1122799                        893.5                               213.875   \n",
       "\n",
       "         mean_item_price_by_item_id3  3_month_mean_cnt  3_month_median_cnt  \\\n",
       "1122795                       2324.0          0.333252                 0.0   \n",
       "1122796                        549.0          0.000000                 0.0   \n",
       "1122797                          NaN          0.500000                 0.5   \n",
       "1122798                          NaN          2.500000                 2.5   \n",
       "1122799                        335.0          0.000000                 0.0   \n",
       "\n",
       "         3_month_min_cnt  \n",
       "1122795              0.0  \n",
       "1122796              0.0  \n",
       "1122797              0.0  \n",
       "1122798              1.0  \n",
       "1122799              0.0  "
      ]
     },
     "execution_count": 40,
     "metadata": {},
     "output_type": "execute_result"
    }
   ],
   "source": [
    "sales_train2.head()"
   ]
  },
  {
   "cell_type": "code",
   "execution_count": 41,
   "metadata": {
    "execution": {
     "iopub.execute_input": "2021-06-09T15:42:58.310758Z",
     "iopub.status.busy": "2021-06-09T15:42:58.310166Z",
     "iopub.status.idle": "2021-06-09T15:42:58.331938Z",
     "shell.execute_reply": "2021-06-09T15:42:58.330977Z",
     "shell.execute_reply.started": "2021-06-09T15:42:58.310709Z"
    },
    "scrolled": true
   },
   "outputs": [
    {
     "data": {
      "text/html": [
       "<div>\n",
       "<style scoped>\n",
       "    .dataframe tbody tr th:only-of-type {\n",
       "        vertical-align: middle;\n",
       "    }\n",
       "\n",
       "    .dataframe tbody tr th {\n",
       "        vertical-align: top;\n",
       "    }\n",
       "\n",
       "    .dataframe thead th {\n",
       "        text-align: right;\n",
       "    }\n",
       "</style>\n",
       "<table border=\"1\" class=\"dataframe\">\n",
       "  <thead>\n",
       "    <tr style=\"text-align: right;\">\n",
       "      <th></th>\n",
       "      <th>shop_id</th>\n",
       "      <th>item_id</th>\n",
       "      <th>date_block_num</th>\n",
       "      <th>item_category_id</th>\n",
       "      <th>global_category</th>\n",
       "      <th>platform</th>\n",
       "      <th>city</th>\n",
       "      <th>moscow_district</th>\n",
       "      <th>shop_type</th>\n",
       "      <th>month</th>\n",
       "      <th>season</th>\n",
       "      <th>mean_item_cnt_month_by_shop_id1</th>\n",
       "      <th>mean_item_cnt_month_by_item_category_id1</th>\n",
       "      <th>mean_item_cnt_month_by_item_id1</th>\n",
       "      <th>item_cnt_month1</th>\n",
       "      <th>mean_item_price_by_shop_id1</th>\n",
       "      <th>mean_item_price_by_item_category_id1</th>\n",
       "      <th>mean_item_price_by_item_id1</th>\n",
       "      <th>mean_item_cnt_month_by_shop_id2</th>\n",
       "      <th>mean_item_cnt_month_by_item_category_id2</th>\n",
       "      <th>mean_item_cnt_month_by_item_id2</th>\n",
       "      <th>item_cnt_month2</th>\n",
       "      <th>mean_item_price_by_shop_id2</th>\n",
       "      <th>mean_item_price_by_item_category_id2</th>\n",
       "      <th>mean_item_price_by_item_id2</th>\n",
       "      <th>mean_item_cnt_month_by_shop_id3</th>\n",
       "      <th>mean_item_cnt_month_by_item_category_id3</th>\n",
       "      <th>mean_item_cnt_month_by_item_id3</th>\n",
       "      <th>item_cnt_month3</th>\n",
       "      <th>mean_item_price_by_shop_id3</th>\n",
       "      <th>mean_item_price_by_item_category_id3</th>\n",
       "      <th>mean_item_price_by_item_id3</th>\n",
       "      <th>3_month_mean_cnt</th>\n",
       "      <th>3_month_median_cnt</th>\n",
       "      <th>3_month_min_cnt</th>\n",
       "    </tr>\n",
       "  </thead>\n",
       "  <tbody>\n",
       "    <tr>\n",
       "      <th>0</th>\n",
       "      <td>5</td>\n",
       "      <td>5037</td>\n",
       "      <td>34</td>\n",
       "      <td>19</td>\n",
       "      <td>4</td>\n",
       "      <td>9</td>\n",
       "      <td>2</td>\n",
       "      <td>0</td>\n",
       "      <td>2</td>\n",
       "      <td>11</td>\n",
       "      <td>0</td>\n",
       "      <td>0.194336</td>\n",
       "      <td>0.380371</td>\n",
       "      <td>0.568359</td>\n",
       "      <td>0.0</td>\n",
       "      <td>979.0</td>\n",
       "      <td>1544.0</td>\n",
       "      <td>1499.0</td>\n",
       "      <td>0.214722</td>\n",
       "      <td>0.585449</td>\n",
       "      <td>2.558594</td>\n",
       "      <td>1.0</td>\n",
       "      <td>1012.0</td>\n",
       "      <td>1299.0</td>\n",
       "      <td>931.0</td>\n",
       "      <td>0.253418</td>\n",
       "      <td>0.673340</td>\n",
       "      <td>2.833984</td>\n",
       "      <td>3.0</td>\n",
       "      <td>890.0</td>\n",
       "      <td>1189.0</td>\n",
       "      <td>918.5</td>\n",
       "      <td>1.333008</td>\n",
       "      <td>1.0</td>\n",
       "      <td>0.0</td>\n",
       "    </tr>\n",
       "    <tr>\n",
       "      <th>1</th>\n",
       "      <td>5</td>\n",
       "      <td>5320</td>\n",
       "      <td>34</td>\n",
       "      <td>55</td>\n",
       "      <td>8</td>\n",
       "      <td>3</td>\n",
       "      <td>2</td>\n",
       "      <td>0</td>\n",
       "      <td>2</td>\n",
       "      <td>11</td>\n",
       "      <td>0</td>\n",
       "      <td>NaN</td>\n",
       "      <td>NaN</td>\n",
       "      <td>NaN</td>\n",
       "      <td>NaN</td>\n",
       "      <td>NaN</td>\n",
       "      <td>NaN</td>\n",
       "      <td>NaN</td>\n",
       "      <td>NaN</td>\n",
       "      <td>NaN</td>\n",
       "      <td>NaN</td>\n",
       "      <td>NaN</td>\n",
       "      <td>NaN</td>\n",
       "      <td>NaN</td>\n",
       "      <td>NaN</td>\n",
       "      <td>NaN</td>\n",
       "      <td>NaN</td>\n",
       "      <td>NaN</td>\n",
       "      <td>NaN</td>\n",
       "      <td>NaN</td>\n",
       "      <td>NaN</td>\n",
       "      <td>NaN</td>\n",
       "      <td>NaN</td>\n",
       "      <td>NaN</td>\n",
       "      <td>NaN</td>\n",
       "    </tr>\n",
       "    <tr>\n",
       "      <th>2</th>\n",
       "      <td>5</td>\n",
       "      <td>5233</td>\n",
       "      <td>34</td>\n",
       "      <td>19</td>\n",
       "      <td>4</td>\n",
       "      <td>9</td>\n",
       "      <td>2</td>\n",
       "      <td>0</td>\n",
       "      <td>2</td>\n",
       "      <td>11</td>\n",
       "      <td>0</td>\n",
       "      <td>0.194336</td>\n",
       "      <td>0.380371</td>\n",
       "      <td>0.954590</td>\n",
       "      <td>1.0</td>\n",
       "      <td>979.0</td>\n",
       "      <td>1544.0</td>\n",
       "      <td>1199.0</td>\n",
       "      <td>0.214722</td>\n",
       "      <td>0.585449</td>\n",
       "      <td>1.860352</td>\n",
       "      <td>3.0</td>\n",
       "      <td>1012.0</td>\n",
       "      <td>1299.0</td>\n",
       "      <td>702.5</td>\n",
       "      <td>0.253418</td>\n",
       "      <td>0.673340</td>\n",
       "      <td>3.572266</td>\n",
       "      <td>1.0</td>\n",
       "      <td>890.0</td>\n",
       "      <td>1189.0</td>\n",
       "      <td>698.0</td>\n",
       "      <td>1.666992</td>\n",
       "      <td>1.0</td>\n",
       "      <td>1.0</td>\n",
       "    </tr>\n",
       "    <tr>\n",
       "      <th>3</th>\n",
       "      <td>5</td>\n",
       "      <td>5232</td>\n",
       "      <td>34</td>\n",
       "      <td>23</td>\n",
       "      <td>4</td>\n",
       "      <td>11</td>\n",
       "      <td>2</td>\n",
       "      <td>0</td>\n",
       "      <td>2</td>\n",
       "      <td>11</td>\n",
       "      <td>0</td>\n",
       "      <td>0.194336</td>\n",
       "      <td>0.340576</td>\n",
       "      <td>0.636230</td>\n",
       "      <td>0.0</td>\n",
       "      <td>979.0</td>\n",
       "      <td>1638.0</td>\n",
       "      <td>1185.0</td>\n",
       "      <td>0.214722</td>\n",
       "      <td>0.587891</td>\n",
       "      <td>1.116211</td>\n",
       "      <td>0.0</td>\n",
       "      <td>1012.0</td>\n",
       "      <td>1217.0</td>\n",
       "      <td>696.0</td>\n",
       "      <td>0.253418</td>\n",
       "      <td>0.557129</td>\n",
       "      <td>1.547852</td>\n",
       "      <td>1.0</td>\n",
       "      <td>890.0</td>\n",
       "      <td>1177.0</td>\n",
       "      <td>632.5</td>\n",
       "      <td>0.333252</td>\n",
       "      <td>0.0</td>\n",
       "      <td>0.0</td>\n",
       "    </tr>\n",
       "    <tr>\n",
       "      <th>4</th>\n",
       "      <td>5</td>\n",
       "      <td>5268</td>\n",
       "      <td>34</td>\n",
       "      <td>20</td>\n",
       "      <td>4</td>\n",
       "      <td>9</td>\n",
       "      <td>2</td>\n",
       "      <td>0</td>\n",
       "      <td>2</td>\n",
       "      <td>11</td>\n",
       "      <td>0</td>\n",
       "      <td>NaN</td>\n",
       "      <td>NaN</td>\n",
       "      <td>NaN</td>\n",
       "      <td>NaN</td>\n",
       "      <td>NaN</td>\n",
       "      <td>NaN</td>\n",
       "      <td>NaN</td>\n",
       "      <td>NaN</td>\n",
       "      <td>NaN</td>\n",
       "      <td>NaN</td>\n",
       "      <td>NaN</td>\n",
       "      <td>NaN</td>\n",
       "      <td>NaN</td>\n",
       "      <td>NaN</td>\n",
       "      <td>NaN</td>\n",
       "      <td>NaN</td>\n",
       "      <td>NaN</td>\n",
       "      <td>NaN</td>\n",
       "      <td>NaN</td>\n",
       "      <td>NaN</td>\n",
       "      <td>NaN</td>\n",
       "      <td>NaN</td>\n",
       "      <td>NaN</td>\n",
       "      <td>NaN</td>\n",
       "    </tr>\n",
       "  </tbody>\n",
       "</table>\n",
       "</div>"
      ],
      "text/plain": [
       "   shop_id  item_id  date_block_num  item_category_id  global_category  \\\n",
       "0        5     5037              34                19                4   \n",
       "1        5     5320              34                55                8   \n",
       "2        5     5233              34                19                4   \n",
       "3        5     5232              34                23                4   \n",
       "4        5     5268              34                20                4   \n",
       "\n",
       "   platform  city  moscow_district  shop_type  month  season  \\\n",
       "0         9     2                0          2     11       0   \n",
       "1         3     2                0          2     11       0   \n",
       "2         9     2                0          2     11       0   \n",
       "3        11     2                0          2     11       0   \n",
       "4         9     2                0          2     11       0   \n",
       "\n",
       "   mean_item_cnt_month_by_shop_id1  mean_item_cnt_month_by_item_category_id1  \\\n",
       "0                         0.194336                                  0.380371   \n",
       "1                              NaN                                       NaN   \n",
       "2                         0.194336                                  0.380371   \n",
       "3                         0.194336                                  0.340576   \n",
       "4                              NaN                                       NaN   \n",
       "\n",
       "   mean_item_cnt_month_by_item_id1  item_cnt_month1  \\\n",
       "0                         0.568359              0.0   \n",
       "1                              NaN              NaN   \n",
       "2                         0.954590              1.0   \n",
       "3                         0.636230              0.0   \n",
       "4                              NaN              NaN   \n",
       "\n",
       "   mean_item_price_by_shop_id1  mean_item_price_by_item_category_id1  \\\n",
       "0                        979.0                                1544.0   \n",
       "1                          NaN                                   NaN   \n",
       "2                        979.0                                1544.0   \n",
       "3                        979.0                                1638.0   \n",
       "4                          NaN                                   NaN   \n",
       "\n",
       "   mean_item_price_by_item_id1  mean_item_cnt_month_by_shop_id2  \\\n",
       "0                       1499.0                         0.214722   \n",
       "1                          NaN                              NaN   \n",
       "2                       1199.0                         0.214722   \n",
       "3                       1185.0                         0.214722   \n",
       "4                          NaN                              NaN   \n",
       "\n",
       "   mean_item_cnt_month_by_item_category_id2  mean_item_cnt_month_by_item_id2  \\\n",
       "0                                  0.585449                         2.558594   \n",
       "1                                       NaN                              NaN   \n",
       "2                                  0.585449                         1.860352   \n",
       "3                                  0.587891                         1.116211   \n",
       "4                                       NaN                              NaN   \n",
       "\n",
       "   item_cnt_month2  mean_item_price_by_shop_id2  \\\n",
       "0              1.0                       1012.0   \n",
       "1              NaN                          NaN   \n",
       "2              3.0                       1012.0   \n",
       "3              0.0                       1012.0   \n",
       "4              NaN                          NaN   \n",
       "\n",
       "   mean_item_price_by_item_category_id2  mean_item_price_by_item_id2  \\\n",
       "0                                1299.0                        931.0   \n",
       "1                                   NaN                          NaN   \n",
       "2                                1299.0                        702.5   \n",
       "3                                1217.0                        696.0   \n",
       "4                                   NaN                          NaN   \n",
       "\n",
       "   mean_item_cnt_month_by_shop_id3  mean_item_cnt_month_by_item_category_id3  \\\n",
       "0                         0.253418                                  0.673340   \n",
       "1                              NaN                                       NaN   \n",
       "2                         0.253418                                  0.673340   \n",
       "3                         0.253418                                  0.557129   \n",
       "4                              NaN                                       NaN   \n",
       "\n",
       "   mean_item_cnt_month_by_item_id3  item_cnt_month3  \\\n",
       "0                         2.833984              3.0   \n",
       "1                              NaN              NaN   \n",
       "2                         3.572266              1.0   \n",
       "3                         1.547852              1.0   \n",
       "4                              NaN              NaN   \n",
       "\n",
       "   mean_item_price_by_shop_id3  mean_item_price_by_item_category_id3  \\\n",
       "0                        890.0                                1189.0   \n",
       "1                          NaN                                   NaN   \n",
       "2                        890.0                                1189.0   \n",
       "3                        890.0                                1177.0   \n",
       "4                          NaN                                   NaN   \n",
       "\n",
       "   mean_item_price_by_item_id3  3_month_mean_cnt  3_month_median_cnt  \\\n",
       "0                        918.5          1.333008                 1.0   \n",
       "1                          NaN               NaN                 NaN   \n",
       "2                        698.0          1.666992                 1.0   \n",
       "3                        632.5          0.333252                 0.0   \n",
       "4                          NaN               NaN                 NaN   \n",
       "\n",
       "   3_month_min_cnt  \n",
       "0              0.0  \n",
       "1              NaN  \n",
       "2              1.0  \n",
       "3              0.0  \n",
       "4              NaN  "
      ]
     },
     "execution_count": 41,
     "metadata": {},
     "output_type": "execute_result"
    }
   ],
   "source": [
    "sales_test2.head()"
   ]
  },
  {
   "cell_type": "markdown",
   "metadata": {},
   "source": [
    "# Clip train target value"
   ]
  },
  {
   "cell_type": "code",
   "execution_count": 42,
   "metadata": {
    "scrolled": true
   },
   "outputs": [],
   "source": [
    "sales_train2.item_cnt_month.clip(0, 20, inplace=True)\n",
    "\n",
    "sales_train2.fillna(0, inplace=True)\n",
    "sales_test2.fillna(0, inplace=True)"
   ]
  },
  {
   "cell_type": "markdown",
   "metadata": {
    "execution": {
     "iopub.status.busy": "2021-06-08T14:29:48.638299Z",
     "iopub.status.idle": "2021-06-08T14:29:48.638719Z"
    }
   },
   "source": [
    "# Train model\n",
    "\n",
    "Split datasets by train and validation parts"
   ]
  },
  {
   "cell_type": "code",
   "execution_count": 43,
   "metadata": {},
   "outputs": [],
   "source": [
    "# sales_train2.to_hdf('sales_train2', key='df')\n",
    "# sales_test2.to_hdf('sales_test2', key='df')"
   ]
  },
  {
   "cell_type": "code",
   "execution_count": 44,
   "metadata": {},
   "outputs": [],
   "source": [
    "cols = [col for col in sales_train2.columns if col not in ['item_cnt_month']]\n",
    "\n",
    "x = sales_train2[cols]\n",
    "y = sales_train2['item_cnt_month']\n",
    "\n",
    "train_index = x[(x.date_block_num < 33)].index\n",
    "valid_index = x[x.date_block_num == 33].index\n",
    "\n",
    "X_train, X_valid = x.loc[train_index], x.loc[valid_index]\n",
    "\n",
    "# del x\n",
    "# gc.collect()\n",
    "\n",
    "y_train, y_valid = y.loc[train_index], y.loc[valid_index]"
   ]
  },
  {
   "cell_type": "markdown",
   "metadata": {},
   "source": [
    "Train LGBM"
   ]
  },
  {
   "cell_type": "code",
   "execution_count": 45,
   "metadata": {
    "scrolled": false
   },
   "outputs": [
    {
     "name": "stderr",
     "output_type": "stream",
     "text": [
      "/home/alex/.local/lib/python3.8/site-packages/lightgbm/basic.py:1294: UserWarning: categorical_feature in Dataset is overridden.\n",
      "New categorical_feature is ['city', 'global_category', 'item_category_id', 'moscow_district', 'platform', 'season', 'shop_id']\n",
      "  warnings.warn('categorical_feature in Dataset is overridden.\\n'\n"
     ]
    },
    {
     "name": "stdout",
     "output_type": "stream",
     "text": [
      "Training until validation scores don't improve for 10 rounds\n",
      "[10]\ttraining's rmse: 1.19012\n",
      "[20]\ttraining's rmse: 1.1687\n",
      "[30]\ttraining's rmse: 1.14879\n",
      "[40]\ttraining's rmse: 1.13049\n",
      "[50]\ttraining's rmse: 1.11358\n",
      "[60]\ttraining's rmse: 1.09783\n",
      "[70]\ttraining's rmse: 1.08322\n",
      "[80]\ttraining's rmse: 1.06964\n",
      "[90]\ttraining's rmse: 1.0571\n",
      "[100]\ttraining's rmse: 1.04547\n",
      "[110]\ttraining's rmse: 1.03468\n",
      "[120]\ttraining's rmse: 1.02477\n",
      "[130]\ttraining's rmse: 1.01552\n",
      "[140]\ttraining's rmse: 1.00705\n",
      "[150]\ttraining's rmse: 0.999166\n",
      "[160]\ttraining's rmse: 0.991884\n",
      "[170]\ttraining's rmse: 0.985013\n",
      "[180]\ttraining's rmse: 0.978611\n",
      "[190]\ttraining's rmse: 0.972722\n",
      "[200]\ttraining's rmse: 0.967256\n",
      "[210]\ttraining's rmse: 0.962208\n",
      "[220]\ttraining's rmse: 0.957405\n",
      "[230]\ttraining's rmse: 0.95301\n",
      "[240]\ttraining's rmse: 0.948875\n",
      "[250]\ttraining's rmse: 0.945041\n",
      "[260]\ttraining's rmse: 0.941447\n",
      "[270]\ttraining's rmse: 0.938143\n",
      "[280]\ttraining's rmse: 0.934908\n",
      "[290]\ttraining's rmse: 0.932004\n",
      "[300]\ttraining's rmse: 0.929245\n",
      "[310]\ttraining's rmse: 0.926645\n",
      "[320]\ttraining's rmse: 0.924192\n",
      "[330]\ttraining's rmse: 0.921848\n",
      "[340]\ttraining's rmse: 0.919725\n",
      "[350]\ttraining's rmse: 0.917674\n",
      "[360]\ttraining's rmse: 0.915778\n",
      "[370]\ttraining's rmse: 0.913979\n",
      "[380]\ttraining's rmse: 0.912274\n",
      "[390]\ttraining's rmse: 0.910586\n",
      "[400]\ttraining's rmse: 0.909057\n",
      "[410]\ttraining's rmse: 0.907562\n",
      "[420]\ttraining's rmse: 0.906211\n",
      "[430]\ttraining's rmse: 0.904883\n",
      "[440]\ttraining's rmse: 0.903623\n",
      "[450]\ttraining's rmse: 0.902294\n",
      "[460]\ttraining's rmse: 0.901017\n",
      "[470]\ttraining's rmse: 0.899856\n",
      "[480]\ttraining's rmse: 0.898716\n",
      "[490]\ttraining's rmse: 0.897551\n",
      "[500]\ttraining's rmse: 0.896538\n",
      "[510]\ttraining's rmse: 0.895562\n",
      "[520]\ttraining's rmse: 0.894601\n",
      "[530]\ttraining's rmse: 0.893678\n",
      "[540]\ttraining's rmse: 0.89283\n",
      "[550]\ttraining's rmse: 0.892042\n",
      "[560]\ttraining's rmse: 0.89125\n",
      "[570]\ttraining's rmse: 0.890484\n",
      "[580]\ttraining's rmse: 0.889719\n",
      "[590]\ttraining's rmse: 0.888947\n",
      "[600]\ttraining's rmse: 0.888246\n",
      "[610]\ttraining's rmse: 0.887563\n",
      "[620]\ttraining's rmse: 0.886862\n",
      "[630]\ttraining's rmse: 0.886231\n",
      "[640]\ttraining's rmse: 0.885583\n",
      "[650]\ttraining's rmse: 0.884949\n",
      "[660]\ttraining's rmse: 0.884305\n",
      "[670]\ttraining's rmse: 0.883732\n",
      "[680]\ttraining's rmse: 0.883081\n",
      "[690]\ttraining's rmse: 0.882544\n",
      "[700]\ttraining's rmse: 0.881942\n",
      "[710]\ttraining's rmse: 0.881461\n",
      "[720]\ttraining's rmse: 0.880981\n",
      "[730]\ttraining's rmse: 0.88045\n",
      "[740]\ttraining's rmse: 0.879968\n",
      "[750]\ttraining's rmse: 0.879471\n",
      "[760]\ttraining's rmse: 0.878909\n",
      "[770]\ttraining's rmse: 0.878454\n",
      "[780]\ttraining's rmse: 0.878026\n",
      "[790]\ttraining's rmse: 0.877584\n",
      "[800]\ttraining's rmse: 0.87715\n",
      "[810]\ttraining's rmse: 0.876719\n",
      "[820]\ttraining's rmse: 0.876291\n",
      "[830]\ttraining's rmse: 0.875851\n",
      "[840]\ttraining's rmse: 0.875424\n",
      "[850]\ttraining's rmse: 0.875003\n",
      "[860]\ttraining's rmse: 0.874533\n",
      "[870]\ttraining's rmse: 0.874082\n",
      "[880]\ttraining's rmse: 0.87365\n",
      "[890]\ttraining's rmse: 0.873199\n",
      "[900]\ttraining's rmse: 0.872796\n",
      "[910]\ttraining's rmse: 0.872441\n",
      "[920]\ttraining's rmse: 0.872053\n",
      "[930]\ttraining's rmse: 0.871703\n",
      "[940]\ttraining's rmse: 0.871324\n",
      "[950]\ttraining's rmse: 0.870932\n",
      "[960]\ttraining's rmse: 0.870606\n",
      "[970]\ttraining's rmse: 0.870232\n",
      "[980]\ttraining's rmse: 0.869866\n",
      "[990]\ttraining's rmse: 0.869558\n",
      "[1000]\ttraining's rmse: 0.869203\n",
      "Did not meet early stopping. Best iteration is:\n",
      "[1000]\ttraining's rmse: 0.869203\n"
     ]
    }
   ],
   "source": [
    "import lightgbm as lgb\n",
    "from sklearn.metrics import mean_squared_error\n",
    "\n",
    "mean_score = []\n",
    "\n",
    "feature_name = X_train.columns.tolist()\n",
    "\n",
    "params = {\n",
    "    'objective': 'mse',\n",
    "    'metric': 'rmse',\n",
    "    'num_leaves': 32,\n",
    "    'learning_rate': 0.005,\n",
    "    'feature_fraction': 0.8,\n",
    "    'bagging_fraction': 0.8,\n",
    "#     'min_data_in_leaf': 5,\n",
    "#     'lambda_l1': 0.1,\n",
    "#     'lambda_l2': 0.1,\n",
    "    'bagging_freq': 5,\n",
    "    'verbose': 1\n",
    "}\n",
    "cat_feats = ['shop_id',\n",
    "             'item_category_id',\n",
    "             'city',\n",
    "             'moscow_district',\n",
    "             'global_category', \n",
    "             'platform',\n",
    "             'season']\n",
    "\n",
    "# lgb_train = lgb.Dataset(X_train[feature_name], y_train)\n",
    "lgb_train = lgb.Dataset(x[feature_name], y)\n",
    "\n",
    "lgb_eval = lgb.Dataset(X_valid[feature_name], y_valid, reference=lgb_train)\n",
    "\n",
    "evals_result = {}\n",
    "gbm = lgb.train(\n",
    "        params, \n",
    "        lgb_train,\n",
    "        num_boost_round=1000,\n",
    "#         valid_sets=(lgb_train, lgb_eval), \n",
    "        valid_sets=lgb_train,\n",
    "        feature_name = feature_name,\n",
    "        categorical_feature = cat_feats,\n",
    "        verbose_eval=10, \n",
    "        evals_result = evals_result,\n",
    "        early_stopping_rounds = 10)"
   ]
  },
  {
   "cell_type": "markdown",
   "metadata": {},
   "source": [
    "Feature importance"
   ]
  },
  {
   "cell_type": "code",
   "execution_count": 46,
   "metadata": {
    "scrolled": false
   },
   "outputs": [
    {
     "data": {
      "text/plain": [
       "<AxesSubplot:title={'center':'Feature importance'}, xlabel='Feature importance', ylabel='Features'>"
      ]
     },
     "execution_count": 46,
     "metadata": {},
     "output_type": "execute_result"
    },
    {
     "data": {
      "image/png": "[encoded data removed]",
      "text/plain": [
       "<Figure size 1152x864 with 1 Axes>"
      ]
     },
     "metadata": {
      "needs_background": "light"
     },
     "output_type": "display_data"
    }
   ],
   "source": [
    "lgb.plot_importance(gbm, figsize=(16, 12))"
   ]
  },
  {
   "cell_type": "markdown",
   "metadata": {},
   "source": [
    "Model learning curve"
   ]
  },
  {
   "cell_type": "code",
   "execution_count": 47,
   "metadata": {
    "scrolled": false
   },
   "outputs": [
    {
     "data": {
      "text/plain": [
       "<AxesSubplot:title={'center':'Metric during training'}, xlabel='Iterations', ylabel='rmse'>"
      ]
     },
     "execution_count": 47,
     "metadata": {},
     "output_type": "execute_result"
    },
    {
     "data": {
      "image/png": "[encoded data removed]",
      "text/plain": [
       "<Figure size 432x288 with 1 Axes>"
      ]
     },
     "metadata": {
      "needs_background": "light"
     },
     "output_type": "display_data"
    }
   ],
   "source": [
    "lgb.plot_metric(evals_result)"
   ]
  },
  {
   "cell_type": "markdown",
   "metadata": {},
   "source": [
    "# Make prediction"
   ]
  },
  {
   "cell_type": "code",
   "execution_count": 48,
   "metadata": {
    "execution": {
     "iopub.status.busy": "2021-06-09T15:43:05.889665Z",
     "iopub.status.idle": "2021-06-09T15:43:05.890066Z"
    },
    "scrolled": false
   },
   "outputs": [
    {
     "data": {
      "text/html": [
       "<div>\n",
       "<style scoped>\n",
       "    .dataframe tbody tr th:only-of-type {\n",
       "        vertical-align: middle;\n",
       "    }\n",
       "\n",
       "    .dataframe tbody tr th {\n",
       "        vertical-align: top;\n",
       "    }\n",
       "\n",
       "    .dataframe thead th {\n",
       "        text-align: right;\n",
       "    }\n",
       "</style>\n",
       "<table border=\"1\" class=\"dataframe\">\n",
       "  <thead>\n",
       "    <tr style=\"text-align: right;\">\n",
       "      <th></th>\n",
       "      <th>ID</th>\n",
       "      <th>item_cnt_month</th>\n",
       "    </tr>\n",
       "  </thead>\n",
       "  <tbody>\n",
       "    <tr>\n",
       "      <th>0</th>\n",
       "      <td>0</td>\n",
       "      <td>0.389637</td>\n",
       "    </tr>\n",
       "    <tr>\n",
       "      <th>1</th>\n",
       "      <td>1</td>\n",
       "      <td>0.147341</td>\n",
       "    </tr>\n",
       "    <tr>\n",
       "      <th>2</th>\n",
       "      <td>2</td>\n",
       "      <td>0.691567</td>\n",
       "    </tr>\n",
       "    <tr>\n",
       "      <th>3</th>\n",
       "      <td>3</td>\n",
       "      <td>0.339735</td>\n",
       "    </tr>\n",
       "    <tr>\n",
       "      <th>4</th>\n",
       "      <td>4</td>\n",
       "      <td>2.349296</td>\n",
       "    </tr>\n",
       "    <tr>\n",
       "      <th>5</th>\n",
       "      <td>5</td>\n",
       "      <td>0.415244</td>\n",
       "    </tr>\n",
       "    <tr>\n",
       "      <th>6</th>\n",
       "      <td>6</td>\n",
       "      <td>0.838858</td>\n",
       "    </tr>\n",
       "    <tr>\n",
       "      <th>7</th>\n",
       "      <td>7</td>\n",
       "      <td>0.112099</td>\n",
       "    </tr>\n",
       "    <tr>\n",
       "      <th>8</th>\n",
       "      <td>8</td>\n",
       "      <td>0.603657</td>\n",
       "    </tr>\n",
       "    <tr>\n",
       "      <th>9</th>\n",
       "      <td>9</td>\n",
       "      <td>0.496825</td>\n",
       "    </tr>\n",
       "  </tbody>\n",
       "</table>\n",
       "</div>"
      ],
      "text/plain": [
       "   ID  item_cnt_month\n",
       "0   0        0.389637\n",
       "1   1        0.147341\n",
       "2   2        0.691567\n",
       "3   3        0.339735\n",
       "4   4        2.349296\n",
       "5   5        0.415244\n",
       "6   6        0.838858\n",
       "7   7        0.112099\n",
       "8   8        0.603657\n",
       "9   9        0.496825"
      ]
     },
     "execution_count": 48,
     "metadata": {},
     "output_type": "execute_result"
    }
   ],
   "source": [
    "y = gbm.predict(sales_test2)\n",
    "\n",
    "null_ind = sales_test.loc[~sales_test.item_id.isin(sales_train.item_id.unique())].index\n",
    "\n",
    "submission['item_cnt_month'] = y\n",
    "submission.item_cnt_month.clip(0, 20, inplace=True)\n",
    "\n",
    "submission.head(10)"
   ]
  },
  {
   "cell_type": "markdown",
   "metadata": {},
   "source": [
    "# Save to file"
   ]
  },
  {
   "cell_type": "code",
   "execution_count": 49,
   "metadata": {
    "execution": {
     "iopub.status.busy": "2021-06-09T15:43:05.890993Z",
     "iopub.status.idle": "2021-06-09T15:43:05.891417Z"
    }
   },
   "outputs": [],
   "source": [
    "submission.to_csv('submission.csv', index=False)"
   ]
  },
  {
   "cell_type": "markdown",
   "metadata": {},
   "source": [
    "# Futher ideas\n",
    "\n",
    "\n",
    "- increase number of estimators to 3000\n",
    "\n",
    "- add seasonal trends\n",
    "\n",
    "- add num_cnt month for items with closest id's\n",
    "\n",
    "- add text description\n",
    "\n",
    "- increase number of months\n",
    "\n",
    "\n",
    "\n",
    "\n",
    "\n",
    "- try AutoML\n",
    "\n",
    "- split dataset according to the most important feature(s)\n",
    "\n",
    "- are item_id, shop_id have to be categorical values?"
   ]
  }
 ],
 "metadata": {
  "kernelspec": {
   "display_name": "Python 3",
   "language": "python",
   "name": "python3"
  },
  "language_info": {
   "codemirror_mode": {
    "name": "ipython",
    "version": 3
   },
   "file_extension": ".py",
   "mimetype": "text/x-python",
   "name": "python",
   "nbconvert_exporter": "python",
   "pygments_lexer": "ipython3",
   "version": "3.8.5"
  }
 },
 "nbformat": 4,
 "nbformat_minor": 4
}
